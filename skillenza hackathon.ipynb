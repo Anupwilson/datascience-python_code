{
 "cells": [
  {
   "cell_type": "code",
   "execution_count": 1,
   "metadata": {
    "ExecuteTime": {
     "end_time": "2021-03-18T06:19:14.173063Z",
     "start_time": "2021-03-18T06:19:12.496968Z"
    }
   },
   "outputs": [],
   "source": [
    "import pandas as pd\n",
    "import numpy as np \n",
    "from matplotlib import pyplot as plt \n"
   ]
  },
  {
   "cell_type": "code",
   "execution_count": 2,
   "metadata": {
    "ExecuteTime": {
     "end_time": "2021-03-18T06:19:41.281289Z",
     "start_time": "2021-03-18T06:19:14.178979Z"
    }
   },
   "outputs": [],
   "source": [
    "train = pd.read_excel(\"train_fashion.xlsx\")"
   ]
  },
  {
   "cell_type": "code",
   "execution_count": 3,
   "metadata": {
    "ExecuteTime": {
     "end_time": "2021-03-18T06:19:41.314125Z",
     "start_time": "2021-03-18T06:19:41.284805Z"
    }
   },
   "outputs": [
    {
     "data": {
      "text/plain": [
       "(75000, 14)"
      ]
     },
     "execution_count": 3,
     "metadata": {},
     "output_type": "execute_result"
    }
   ],
   "source": [
    "train.shape"
   ]
  },
  {
   "cell_type": "code",
   "execution_count": 4,
   "metadata": {
    "ExecuteTime": {
     "end_time": "2021-03-18T06:19:41.537129Z",
     "start_time": "2021-03-18T06:19:41.315122Z"
    }
   },
   "outputs": [],
   "source": [
    "test = pd.read_csv(\"test_fashion.csv\")"
   ]
  },
  {
   "cell_type": "code",
   "execution_count": 5,
   "metadata": {
    "ExecuteTime": {
     "end_time": "2021-03-18T06:19:41.566220Z",
     "start_time": "2021-03-18T06:19:41.540639Z"
    }
   },
   "outputs": [
    {
     "data": {
      "text/plain": [
       "(25000, 13)"
      ]
     },
     "execution_count": 5,
     "metadata": {},
     "output_type": "execute_result"
    }
   ],
   "source": [
    "test.shape"
   ]
  },
  {
   "cell_type": "code",
   "execution_count": 6,
   "metadata": {
    "ExecuteTime": {
     "end_time": "2021-03-18T06:19:41.690275Z",
     "start_time": "2021-03-18T06:19:41.571516Z"
    }
   },
   "outputs": [],
   "source": [
    "totaldf =pd.concat([train,test])"
   ]
  },
  {
   "cell_type": "code",
   "execution_count": 7,
   "metadata": {
    "ExecuteTime": {
     "end_time": "2021-03-18T06:19:41.792228Z",
     "start_time": "2021-03-18T06:19:41.697152Z"
    }
   },
   "outputs": [
    {
     "data": {
      "text/html": [
       "<div>\n",
       "<style scoped>\n",
       "    .dataframe tbody tr th:only-of-type {\n",
       "        vertical-align: middle;\n",
       "    }\n",
       "\n",
       "    .dataframe tbody tr th {\n",
       "        vertical-align: top;\n",
       "    }\n",
       "\n",
       "    .dataframe thead th {\n",
       "        text-align: right;\n",
       "    }\n",
       "</style>\n",
       "<table border=\"1\" class=\"dataframe\">\n",
       "  <thead>\n",
       "    <tr style=\"text-align: right;\">\n",
       "      <th></th>\n",
       "      <th>Order_Ref_Number</th>\n",
       "      <th>Order_Placed_AT</th>\n",
       "      <th>Order_Delivered_Date</th>\n",
       "      <th>Product_Ref_ID</th>\n",
       "      <th>Size</th>\n",
       "      <th>Color_Code</th>\n",
       "      <th>Product_Category_Reference</th>\n",
       "      <th>Cost_to_Customer(USD)</th>\n",
       "      <th>Customer_ID</th>\n",
       "      <th>Gender</th>\n",
       "      <th>Customer_BirthDate</th>\n",
       "      <th>Customer_Location</th>\n",
       "      <th>Customer_Joining_Date</th>\n",
       "      <th>Order_Repeat_Chance</th>\n",
       "    </tr>\n",
       "  </thead>\n",
       "  <tbody>\n",
       "    <tr>\n",
       "      <th>0</th>\n",
       "      <td>98981</td>\n",
       "      <td>2016-09-10</td>\n",
       "      <td>2016-09-11</td>\n",
       "      <td>897</td>\n",
       "      <td>l</td>\n",
       "      <td>grey</td>\n",
       "      <td>33</td>\n",
       "      <td>19.9</td>\n",
       "      <td>48040</td>\n",
       "      <td>Mrs</td>\n",
       "      <td>1960-05-30</td>\n",
       "      <td>Hamburg</td>\n",
       "      <td>2015-02-17</td>\n",
       "      <td>0.0</td>\n",
       "    </tr>\n",
       "    <tr>\n",
       "      <th>1</th>\n",
       "      <td>69825</td>\n",
       "      <td>2016-08-15</td>\n",
       "      <td>2016-08-20</td>\n",
       "      <td>1557</td>\n",
       "      <td>xl</td>\n",
       "      <td>petrol</td>\n",
       "      <td>31</td>\n",
       "      <td>89.9</td>\n",
       "      <td>42892</td>\n",
       "      <td>Mrs</td>\n",
       "      <td>1958-09-23</td>\n",
       "      <td>Lower Saxony</td>\n",
       "      <td>2015-11-14</td>\n",
       "      <td>1.0</td>\n",
       "    </tr>\n",
       "    <tr>\n",
       "      <th>2</th>\n",
       "      <td>9929</td>\n",
       "      <td>2016-06-27</td>\n",
       "      <td>2016-07-02</td>\n",
       "      <td>292</td>\n",
       "      <td>4+</td>\n",
       "      <td>grey</td>\n",
       "      <td>4</td>\n",
       "      <td>64.9</td>\n",
       "      <td>32479</td>\n",
       "      <td>Mrs</td>\n",
       "      <td>1961-09-19</td>\n",
       "      <td>Hesse</td>\n",
       "      <td>2016-06-28</td>\n",
       "      <td>0.0</td>\n",
       "    </tr>\n",
       "    <tr>\n",
       "      <th>3</th>\n",
       "      <td>75600</td>\n",
       "      <td>2016-08-21</td>\n",
       "      <td>2016-08-22</td>\n",
       "      <td>1445</td>\n",
       "      <td>xxl</td>\n",
       "      <td>grey</td>\n",
       "      <td>29</td>\n",
       "      <td>59.9</td>\n",
       "      <td>4216</td>\n",
       "      <td>Mrs</td>\n",
       "      <td>1952-10-01</td>\n",
       "      <td>Lower Saxony</td>\n",
       "      <td>2015-02-17</td>\n",
       "      <td>0.0</td>\n",
       "    </tr>\n",
       "    <tr>\n",
       "      <th>4</th>\n",
       "      <td>95622</td>\n",
       "      <td>2016-09-06</td>\n",
       "      <td>2016-09-07</td>\n",
       "      <td>1415</td>\n",
       "      <td>m</td>\n",
       "      <td>mahagoni</td>\n",
       "      <td>3</td>\n",
       "      <td>21.9</td>\n",
       "      <td>39571</td>\n",
       "      <td>Mrs</td>\n",
       "      <td>1963-10-30</td>\n",
       "      <td>North Rhine-Westphalia</td>\n",
       "      <td>2015-10-02</td>\n",
       "      <td>0.0</td>\n",
       "    </tr>\n",
       "  </tbody>\n",
       "</table>\n",
       "</div>"
      ],
      "text/plain": [
       "   Order_Ref_Number Order_Placed_AT Order_Delivered_Date  Product_Ref_ID Size  \\\n",
       "0             98981      2016-09-10           2016-09-11             897    l   \n",
       "1             69825      2016-08-15           2016-08-20            1557   xl   \n",
       "2              9929      2016-06-27           2016-07-02             292   4+   \n",
       "3             75600      2016-08-21           2016-08-22            1445  xxl   \n",
       "4             95622      2016-09-06           2016-09-07            1415    m   \n",
       "\n",
       "  Color_Code  Product_Category_Reference  Cost_to_Customer(USD)  Customer_ID  \\\n",
       "0       grey                          33                   19.9        48040   \n",
       "1     petrol                          31                   89.9        42892   \n",
       "2       grey                           4                   64.9        32479   \n",
       "3       grey                          29                   59.9         4216   \n",
       "4   mahagoni                           3                   21.9        39571   \n",
       "\n",
       "  Gender Customer_BirthDate       Customer_Location Customer_Joining_Date  \\\n",
       "0    Mrs         1960-05-30                 Hamburg            2015-02-17   \n",
       "1    Mrs         1958-09-23            Lower Saxony            2015-11-14   \n",
       "2    Mrs         1961-09-19                   Hesse            2016-06-28   \n",
       "3    Mrs         1952-10-01            Lower Saxony            2015-02-17   \n",
       "4    Mrs         1963-10-30  North Rhine-Westphalia            2015-10-02   \n",
       "\n",
       "   Order_Repeat_Chance  \n",
       "0                  0.0  \n",
       "1                  1.0  \n",
       "2                  0.0  \n",
       "3                  0.0  \n",
       "4                  0.0  "
      ]
     },
     "execution_count": 7,
     "metadata": {},
     "output_type": "execute_result"
    }
   ],
   "source": [
    "totaldf.head()"
   ]
  },
  {
   "cell_type": "code",
   "execution_count": 8,
   "metadata": {
    "ExecuteTime": {
     "end_time": "2021-03-18T06:19:41.841185Z",
     "start_time": "2021-03-18T06:19:41.802710Z"
    }
   },
   "outputs": [
    {
     "data": {
      "text/plain": [
       "(100000, 14)"
      ]
     },
     "execution_count": 8,
     "metadata": {},
     "output_type": "execute_result"
    }
   ],
   "source": [
    "totaldf.shape"
   ]
  },
  {
   "cell_type": "code",
   "execution_count": 9,
   "metadata": {
    "ExecuteTime": {
     "end_time": "2021-03-18T06:19:41.997608Z",
     "start_time": "2021-03-18T06:19:41.849006Z"
    }
   },
   "outputs": [
    {
     "data": {
      "text/html": [
       "<div>\n",
       "<style scoped>\n",
       "    .dataframe tbody tr th:only-of-type {\n",
       "        vertical-align: middle;\n",
       "    }\n",
       "\n",
       "    .dataframe tbody tr th {\n",
       "        vertical-align: top;\n",
       "    }\n",
       "\n",
       "    .dataframe thead th {\n",
       "        text-align: right;\n",
       "    }\n",
       "</style>\n",
       "<table border=\"1\" class=\"dataframe\">\n",
       "  <thead>\n",
       "    <tr style=\"text-align: right;\">\n",
       "      <th></th>\n",
       "      <th>Order_Ref_Number</th>\n",
       "      <th>Order_Placed_AT</th>\n",
       "      <th>Order_Delivered_Date</th>\n",
       "      <th>Product_Ref_ID</th>\n",
       "      <th>Size</th>\n",
       "      <th>Color_Code</th>\n",
       "      <th>Product_Category_Reference</th>\n",
       "      <th>Cost_to_Customer(USD)</th>\n",
       "      <th>Customer_ID</th>\n",
       "      <th>Gender</th>\n",
       "      <th>Customer_BirthDate</th>\n",
       "      <th>Customer_Location</th>\n",
       "      <th>Customer_Joining_Date</th>\n",
       "      <th>Order_Repeat_Chance</th>\n",
       "    </tr>\n",
       "  </thead>\n",
       "  <tbody>\n",
       "    <tr>\n",
       "      <th>24995</th>\n",
       "      <td>21272</td>\n",
       "      <td>2016-07-01</td>\n",
       "      <td>2016-07-03</td>\n",
       "      <td>454</td>\n",
       "      <td>39</td>\n",
       "      <td>grey</td>\n",
       "      <td>1</td>\n",
       "      <td>69.9</td>\n",
       "      <td>31977</td>\n",
       "      <td>Mrs</td>\n",
       "      <td>1966-10-17</td>\n",
       "      <td>North Rhine-Westphalia</td>\n",
       "      <td>2015-02-17</td>\n",
       "      <td>NaN</td>\n",
       "    </tr>\n",
       "    <tr>\n",
       "      <th>24996</th>\n",
       "      <td>34015</td>\n",
       "      <td>2016-07-13</td>\n",
       "      <td>2016-07-16</td>\n",
       "      <td>194</td>\n",
       "      <td>xl</td>\n",
       "      <td>orange</td>\n",
       "      <td>5</td>\n",
       "      <td>39.9</td>\n",
       "      <td>22100</td>\n",
       "      <td>Mrs</td>\n",
       "      <td>1968-09-20</td>\n",
       "      <td>Saxony-Anhalt</td>\n",
       "      <td>2015-08-18</td>\n",
       "      <td>NaN</td>\n",
       "    </tr>\n",
       "    <tr>\n",
       "      <th>24997</th>\n",
       "      <td>81356</td>\n",
       "      <td>2016-08-25</td>\n",
       "      <td>2016-08-29</td>\n",
       "      <td>1634</td>\n",
       "      <td>xxl</td>\n",
       "      <td>black</td>\n",
       "      <td>11</td>\n",
       "      <td>119.9</td>\n",
       "      <td>2567</td>\n",
       "      <td>Mrs</td>\n",
       "      <td>1968-03-29</td>\n",
       "      <td>Mecklenburg-Western Pomerania</td>\n",
       "      <td>2015-02-17</td>\n",
       "      <td>NaN</td>\n",
       "    </tr>\n",
       "    <tr>\n",
       "      <th>24998</th>\n",
       "      <td>65721</td>\n",
       "      <td>2016-08-13</td>\n",
       "      <td>2016-08-15</td>\n",
       "      <td>212</td>\n",
       "      <td>l</td>\n",
       "      <td>petrol</td>\n",
       "      <td>5</td>\n",
       "      <td>39.9</td>\n",
       "      <td>42190</td>\n",
       "      <td>Mrs</td>\n",
       "      <td>1962-11-20</td>\n",
       "      <td>Lower Saxony</td>\n",
       "      <td>2016-08-14</td>\n",
       "      <td>NaN</td>\n",
       "    </tr>\n",
       "    <tr>\n",
       "      <th>24999</th>\n",
       "      <td>11628</td>\n",
       "      <td>2016-06-28</td>\n",
       "      <td>2016-07-02</td>\n",
       "      <td>73</td>\n",
       "      <td>l</td>\n",
       "      <td>red</td>\n",
       "      <td>35</td>\n",
       "      <td>79.9</td>\n",
       "      <td>18912</td>\n",
       "      <td>Mrs</td>\n",
       "      <td>1965-06-10</td>\n",
       "      <td>Bavaria</td>\n",
       "      <td>2015-02-17</td>\n",
       "      <td>NaN</td>\n",
       "    </tr>\n",
       "  </tbody>\n",
       "</table>\n",
       "</div>"
      ],
      "text/plain": [
       "       Order_Ref_Number Order_Placed_AT Order_Delivered_Date  Product_Ref_ID  \\\n",
       "24995             21272      2016-07-01           2016-07-03             454   \n",
       "24996             34015      2016-07-13           2016-07-16             194   \n",
       "24997             81356      2016-08-25           2016-08-29            1634   \n",
       "24998             65721      2016-08-13           2016-08-15             212   \n",
       "24999             11628      2016-06-28           2016-07-02              73   \n",
       "\n",
       "      Size Color_Code  Product_Category_Reference  Cost_to_Customer(USD)  \\\n",
       "24995   39       grey                           1                   69.9   \n",
       "24996   xl     orange                           5                   39.9   \n",
       "24997  xxl      black                          11                  119.9   \n",
       "24998    l     petrol                           5                   39.9   \n",
       "24999    l        red                          35                   79.9   \n",
       "\n",
       "       Customer_ID Gender Customer_BirthDate              Customer_Location  \\\n",
       "24995        31977    Mrs         1966-10-17         North Rhine-Westphalia   \n",
       "24996        22100    Mrs         1968-09-20                  Saxony-Anhalt   \n",
       "24997         2567    Mrs         1968-03-29  Mecklenburg-Western Pomerania   \n",
       "24998        42190    Mrs         1962-11-20                   Lower Saxony   \n",
       "24999        18912    Mrs         1965-06-10                        Bavaria   \n",
       "\n",
       "      Customer_Joining_Date  Order_Repeat_Chance  \n",
       "24995            2015-02-17                  NaN  \n",
       "24996            2015-08-18                  NaN  \n",
       "24997            2015-02-17                  NaN  \n",
       "24998            2016-08-14                  NaN  \n",
       "24999            2015-02-17                  NaN  "
      ]
     },
     "execution_count": 9,
     "metadata": {},
     "output_type": "execute_result"
    }
   ],
   "source": [
    "totaldf.tail()"
   ]
  },
  {
   "cell_type": "code",
   "execution_count": 10,
   "metadata": {
    "ExecuteTime": {
     "end_time": "2021-03-18T06:19:42.086960Z",
     "start_time": "2021-03-18T06:19:42.004766Z"
    }
   },
   "outputs": [
    {
     "data": {
      "text/plain": [
       "Index(['Order_Ref_Number', 'Order_Placed_AT', 'Order_Delivered_Date',\n",
       "       'Product_Ref_ID', 'Size', 'Color_Code', 'Product_Category_Reference',\n",
       "       'Cost_to_Customer(USD)', 'Customer_ID', 'Gender', 'Customer_BirthDate',\n",
       "       'Customer_Location', 'Customer_Joining_Date', 'Order_Repeat_Chance'],\n",
       "      dtype='object')"
      ]
     },
     "execution_count": 10,
     "metadata": {},
     "output_type": "execute_result"
    }
   ],
   "source": [
    "totaldf.columns"
   ]
  },
  {
   "cell_type": "code",
   "execution_count": 11,
   "metadata": {
    "ExecuteTime": {
     "end_time": "2021-03-18T06:19:42.701070Z",
     "start_time": "2021-03-18T06:19:42.088957Z"
    }
   },
   "outputs": [
    {
     "name": "stdout",
     "output_type": "stream",
     "text": [
      "\n",
      "Frequency of Categories for varible Order_Ref_Number\n",
      "2047     1\n",
      "60104    1\n",
      "80562    1\n",
      "78515    1\n",
      "68276    1\n",
      "        ..\n",
      "5480     1\n",
      "7529     1\n",
      "1386     1\n",
      "3435     1\n",
      "2049     1\n",
      "Name: Order_Ref_Number, Length: 100000, dtype: int64\n",
      "\n",
      "Frequency of Categories for varible Order_Placed_AT\n",
      "2016-06-27    5577\n",
      "2016-06-29    4215\n",
      "2016-06-28    3360\n",
      "2016-06-30    2737\n",
      "2016-07-01    2209\n",
      "              ... \n",
      "2016-07-09     311\n",
      "2016-07-08     298\n",
      "2016-07-18     288\n",
      "2016-09-11     277\n",
      "2016-06-22      97\n",
      "Name: Order_Placed_AT, Length: 82, dtype: int64\n",
      "\n",
      "Frequency of Categories for varible Order_Delivered_Date\n",
      "2016-07-03    5061\n",
      "2016-07-04    2899\n",
      "2016-06-28    2636\n",
      "2016-07-18    2587\n",
      "2016-08-07    2495\n",
      "              ... \n",
      "2016-09-08       2\n",
      "2017-01-24       1\n",
      "2017-01-23       1\n",
      "2016-09-22       1\n",
      "2017-01-16       1\n",
      "Name: Order_Delivered_Date, Length: 123, dtype: int64\n",
      "\n",
      "Frequency of Categories for varible Product_Ref_ID\n",
      "1415    1046\n",
      "1532     993\n",
      "22       815\n",
      "1401     712\n",
      "100      699\n",
      "        ... \n",
      "1246       1\n",
      "1118       1\n",
      "2207       1\n",
      "398        1\n",
      "590        1\n",
      "Name: Product_Ref_ID, Length: 1943, dtype: int64\n",
      "\n",
      "Frequency of Categories for varible Size\n",
      "l       12347\n",
      "xl      10979\n",
      "m       10190\n",
      "xxl      8966\n",
      "40       7693\n",
      "        ...  \n",
      "3132        1\n",
      "105         1\n",
      "3834        1\n",
      "4034        1\n",
      "3634        1\n",
      "Name: Size, Length: 102, dtype: int64\n",
      "\n",
      "Frequency of Categories for varible Color_Code\n",
      "black          18640\n",
      "blue           10625\n",
      "brown           8734\n",
      "grey            8708\n",
      "red             7264\n",
      "               ...  \n",
      "copper coin        7\n",
      "amethyst           5\n",
      "creme              4\n",
      "avocado            4\n",
      "opal               2\n",
      "Name: Color_Code, Length: 77, dtype: int64\n",
      "\n",
      "Frequency of Categories for varible Product_Category_Reference\n",
      "3      11389\n",
      "1       8381\n",
      "5       5039\n",
      "37      4716\n",
      "11      4236\n",
      "       ...  \n",
      "109        1\n",
      "129        1\n",
      "115        1\n",
      "121        1\n",
      "100        1\n",
      "Name: Product_Category_Reference, Length: 135, dtype: int64\n",
      "\n",
      "Frequency of Categories for varible Cost_to_Customer(USD)\n",
      "39.90     9231\n",
      "49.90     9085\n",
      "59.90     8514\n",
      "69.90     7218\n",
      "29.90     5255\n",
      "          ... \n",
      "73.91        1\n",
      "36.91        1\n",
      "167.98       1\n",
      "55.41        1\n",
      "62.45        1\n",
      "Name: Cost_to_Customer(USD), Length: 252, dtype: int64\n",
      "\n",
      "Frequency of Categories for varible Customer_ID\n",
      "18912    175\n",
      "5006     107\n",
      "9366      97\n",
      "36824     88\n",
      "31185     87\n",
      "        ... \n",
      "22718      1\n",
      "18620      1\n",
      "45374      1\n",
      "37031      1\n",
      "44534      1\n",
      "Name: Customer_ID, Length: 19205, dtype: int64\n",
      "\n",
      "Frequency of Categories for varible Gender\n",
      "Mrs             95429\n",
      "Mr               3915\n",
      "Family            414\n",
      "Company           128\n",
      "not reported      114\n",
      "Name: Gender, dtype: int64\n",
      "\n",
      "Frequency of Categories for varible Customer_BirthDate\n",
      "1900-11-21    919\n",
      "1949-11-21    517\n",
      "1965-06-10    186\n",
      "1980-12-11    107\n",
      "1968-09-20    101\n",
      "             ... \n",
      "1958-07-14      1\n",
      "1974-08-14      1\n",
      "1949-11-26      1\n",
      "1990-02-13      1\n",
      "1976-04-21      1\n",
      "Name: Customer_BirthDate, Length: 9247, dtype: int64\n",
      "\n",
      "Frequency of Categories for varible Customer_Location\n",
      "North Rhine-Westphalia           22825\n",
      "Lower Saxony                     15149\n",
      "Bavaria                          13672\n",
      "Baden-Wuerttemberg               11981\n",
      "Hesse                             7586\n",
      "Schleswig-Holstein                5531\n",
      "Rhineland-Palatinate              4784\n",
      "Berlin                            4093\n",
      "Saxony                            3147\n",
      "Hamburg                           2535\n",
      "Brandenburg                       2231\n",
      "Mecklenburg-Western Pomerania     1640\n",
      "Thuringia                         1550\n",
      "Bremen                            1258\n",
      "Saxony-Anhalt                     1122\n",
      "Saarland                           896\n",
      "Name: Customer_Location, dtype: int64\n",
      "\n",
      "Frequency of Categories for varible Customer_Joining_Date\n",
      "2015-02-17    33966\n",
      "2016-06-28     1325\n",
      "2016-06-30     1064\n",
      "2016-06-29      951\n",
      "2016-07-01      821\n",
      "              ...  \n",
      "2015-06-23        4\n",
      "2015-12-25        3\n",
      "2015-07-26        2\n",
      "2015-07-20        1\n",
      "2015-12-24        1\n",
      "Name: Customer_Joining_Date, Length: 573, dtype: int64\n",
      "\n",
      "Frequency of Categories for varible Order_Repeat_Chance\n",
      "0.0    40505\n",
      "1.0    34495\n",
      "Name: Order_Repeat_Chance, dtype: int64\n"
     ]
    }
   ],
   "source": [
    "variable=['Order_Ref_Number', 'Order_Placed_AT', 'Order_Delivered_Date',\n",
    "       'Product_Ref_ID', 'Size', 'Color_Code', 'Product_Category_Reference',\n",
    "       'Cost_to_Customer(USD)', 'Customer_ID', 'Gender', 'Customer_BirthDate',\n",
    "       'Customer_Location', 'Customer_Joining_Date', 'Order_Repeat_Chance']\n",
    "\n",
    "for variable in totaldf:\n",
    "    print ('\\nFrequency of Categories for varible %s'%variable)\n",
    "    print (totaldf[variable].value_counts())\n",
    "    "
   ]
  },
  {
   "cell_type": "code",
   "execution_count": 12,
   "metadata": {
    "ExecuteTime": {
     "end_time": "2021-03-18T06:19:42.813584Z",
     "start_time": "2021-03-18T06:19:42.705452Z"
    }
   },
   "outputs": [
    {
     "data": {
      "text/plain": [
       "Order_Ref_Number                  0\n",
       "Order_Placed_AT                   0\n",
       "Order_Delivered_Date           9318\n",
       "Product_Ref_ID                    0\n",
       "Size                              0\n",
       "Color_Code                        0\n",
       "Product_Category_Reference        0\n",
       "Cost_to_Customer(USD)             0\n",
       "Customer_ID                       0\n",
       "Gender                            0\n",
       "Customer_BirthDate             8725\n",
       "Customer_Location                 0\n",
       "Customer_Joining_Date             0\n",
       "Order_Repeat_Chance           25000\n",
       "dtype: int64"
      ]
     },
     "execution_count": 12,
     "metadata": {},
     "output_type": "execute_result"
    }
   ],
   "source": [
    "totaldf.isnull().sum()"
   ]
  },
  {
   "cell_type": "code",
   "execution_count": 13,
   "metadata": {
    "ExecuteTime": {
     "end_time": "2021-03-18T06:19:44.668895Z",
     "start_time": "2021-03-18T06:19:42.814625Z"
    }
   },
   "outputs": [],
   "source": [
    "import seaborn as sns "
   ]
  },
  {
   "cell_type": "code",
   "execution_count": 14,
   "metadata": {
    "ExecuteTime": {
     "end_time": "2021-03-18T06:19:47.901092Z",
     "start_time": "2021-03-18T06:19:44.673398Z"
    }
   },
   "outputs": [
    {
     "data": {
      "text/plain": [
       "<matplotlib.axes._subplots.AxesSubplot at 0x1cbbacd84f0>"
      ]
     },
     "execution_count": 14,
     "metadata": {},
     "output_type": "execute_result"
    },
    {
     "data": {
      "image/png": "[encoded data removed]",
      "text/plain": [
       "<Figure size 432x288 with 1 Axes>"
      ]
     },
     "metadata": {
      "needs_background": "light"
     },
     "output_type": "display_data"
    }
   ],
   "source": [
    "sns.heatmap(totaldf.isnull(),yticklabels=False,cbar=False,cmap='viridis')"
   ]
  },
  {
   "cell_type": "code",
   "execution_count": 15,
   "metadata": {
    "ExecuteTime": {
     "end_time": "2021-03-18T06:19:48.019498Z",
     "start_time": "2021-03-18T06:19:47.907365Z"
    }
   },
   "outputs": [],
   "source": [
    "for col in ['Order_Delivered_Date','Customer_BirthDate']:\n",
    "    totaldf[col].fillna(totaldf[col].mode()[0],inplace=True)"
   ]
  },
  {
   "cell_type": "code",
   "execution_count": 16,
   "metadata": {
    "ExecuteTime": {
     "end_time": "2021-03-18T06:19:48.207038Z",
     "start_time": "2021-03-18T06:19:48.030436Z"
    }
   },
   "outputs": [
    {
     "data": {
      "text/plain": [
       "Order_Ref_Number                  0\n",
       "Order_Placed_AT                   0\n",
       "Order_Delivered_Date              0\n",
       "Product_Ref_ID                    0\n",
       "Size                              0\n",
       "Color_Code                        0\n",
       "Product_Category_Reference        0\n",
       "Cost_to_Customer(USD)             0\n",
       "Customer_ID                       0\n",
       "Gender                            0\n",
       "Customer_BirthDate                0\n",
       "Customer_Location                 0\n",
       "Customer_Joining_Date             0\n",
       "Order_Repeat_Chance           25000\n",
       "dtype: int64"
      ]
     },
     "execution_count": 16,
     "metadata": {},
     "output_type": "execute_result"
    }
   ],
   "source": [
    "totaldf.isnull().sum()"
   ]
  },
  {
   "cell_type": "code",
   "execution_count": 17,
   "metadata": {
    "ExecuteTime": {
     "end_time": "2021-03-18T06:19:48.568617Z",
     "start_time": "2021-03-18T06:19:48.208037Z"
    }
   },
   "outputs": [],
   "source": [
    "orderplaced= pd.Series(totaldf.Order_Placed_AT)\n",
    "orderdelivered= pd.Series(totaldf.Order_Delivered_Date)\n",
    "birthdate= pd.Series(totaldf.Customer_BirthDate)\n",
    "joiningdate= pd.Series(totaldf.Customer_Joining_Date)\n",
    "\n",
    "Order_Placed_AT= pd.to_datetime(orderplaced)\n",
    "Order_Delivered_Date= pd.to_datetime(orderdelivered)\n",
    "Customer_BirthDate= pd.to_datetime(birthdate)\n",
    "Customer_Joining_Date=pd.to_datetime(joiningdate)"
   ]
  },
  {
   "cell_type": "code",
   "execution_count": 18,
   "metadata": {
    "ExecuteTime": {
     "end_time": "2021-03-18T06:19:48.618175Z",
     "start_time": "2021-03-18T06:19:48.576257Z"
    }
   },
   "outputs": [],
   "source": [
    "totaldf.drop(['Order_Placed_AT','Order_Delivered_Date','Customer_BirthDate','Customer_Joining_Date'],axis=1,inplace=True)"
   ]
  },
  {
   "cell_type": "code",
   "execution_count": 19,
   "metadata": {
    "ExecuteTime": {
     "end_time": "2021-03-18T06:19:48.771181Z",
     "start_time": "2021-03-18T06:19:48.626579Z"
    }
   },
   "outputs": [
    {
     "data": {
      "text/html": [
       "<div>\n",
       "<style scoped>\n",
       "    .dataframe tbody tr th:only-of-type {\n",
       "        vertical-align: middle;\n",
       "    }\n",
       "\n",
       "    .dataframe tbody tr th {\n",
       "        vertical-align: top;\n",
       "    }\n",
       "\n",
       "    .dataframe thead th {\n",
       "        text-align: right;\n",
       "    }\n",
       "</style>\n",
       "<table border=\"1\" class=\"dataframe\">\n",
       "  <thead>\n",
       "    <tr style=\"text-align: right;\">\n",
       "      <th></th>\n",
       "      <th>Order_Ref_Number</th>\n",
       "      <th>Product_Ref_ID</th>\n",
       "      <th>Size</th>\n",
       "      <th>Color_Code</th>\n",
       "      <th>Product_Category_Reference</th>\n",
       "      <th>Cost_to_Customer(USD)</th>\n",
       "      <th>Customer_ID</th>\n",
       "      <th>Gender</th>\n",
       "      <th>Customer_Location</th>\n",
       "      <th>Order_Repeat_Chance</th>\n",
       "    </tr>\n",
       "  </thead>\n",
       "  <tbody>\n",
       "    <tr>\n",
       "      <th>0</th>\n",
       "      <td>98981</td>\n",
       "      <td>897</td>\n",
       "      <td>l</td>\n",
       "      <td>grey</td>\n",
       "      <td>33</td>\n",
       "      <td>19.9</td>\n",
       "      <td>48040</td>\n",
       "      <td>Mrs</td>\n",
       "      <td>Hamburg</td>\n",
       "      <td>0.0</td>\n",
       "    </tr>\n",
       "    <tr>\n",
       "      <th>1</th>\n",
       "      <td>69825</td>\n",
       "      <td>1557</td>\n",
       "      <td>xl</td>\n",
       "      <td>petrol</td>\n",
       "      <td>31</td>\n",
       "      <td>89.9</td>\n",
       "      <td>42892</td>\n",
       "      <td>Mrs</td>\n",
       "      <td>Lower Saxony</td>\n",
       "      <td>1.0</td>\n",
       "    </tr>\n",
       "    <tr>\n",
       "      <th>2</th>\n",
       "      <td>9929</td>\n",
       "      <td>292</td>\n",
       "      <td>4+</td>\n",
       "      <td>grey</td>\n",
       "      <td>4</td>\n",
       "      <td>64.9</td>\n",
       "      <td>32479</td>\n",
       "      <td>Mrs</td>\n",
       "      <td>Hesse</td>\n",
       "      <td>0.0</td>\n",
       "    </tr>\n",
       "    <tr>\n",
       "      <th>3</th>\n",
       "      <td>75600</td>\n",
       "      <td>1445</td>\n",
       "      <td>xxl</td>\n",
       "      <td>grey</td>\n",
       "      <td>29</td>\n",
       "      <td>59.9</td>\n",
       "      <td>4216</td>\n",
       "      <td>Mrs</td>\n",
       "      <td>Lower Saxony</td>\n",
       "      <td>0.0</td>\n",
       "    </tr>\n",
       "    <tr>\n",
       "      <th>4</th>\n",
       "      <td>95622</td>\n",
       "      <td>1415</td>\n",
       "      <td>m</td>\n",
       "      <td>mahagoni</td>\n",
       "      <td>3</td>\n",
       "      <td>21.9</td>\n",
       "      <td>39571</td>\n",
       "      <td>Mrs</td>\n",
       "      <td>North Rhine-Westphalia</td>\n",
       "      <td>0.0</td>\n",
       "    </tr>\n",
       "  </tbody>\n",
       "</table>\n",
       "</div>"
      ],
      "text/plain": [
       "   Order_Ref_Number  Product_Ref_ID Size Color_Code  \\\n",
       "0             98981             897    l       grey   \n",
       "1             69825            1557   xl     petrol   \n",
       "2              9929             292   4+       grey   \n",
       "3             75600            1445  xxl       grey   \n",
       "4             95622            1415    m   mahagoni   \n",
       "\n",
       "   Product_Category_Reference  Cost_to_Customer(USD)  Customer_ID Gender  \\\n",
       "0                          33                   19.9        48040    Mrs   \n",
       "1                          31                   89.9        42892    Mrs   \n",
       "2                           4                   64.9        32479    Mrs   \n",
       "3                          29                   59.9         4216    Mrs   \n",
       "4                           3                   21.9        39571    Mrs   \n",
       "\n",
       "        Customer_Location  Order_Repeat_Chance  \n",
       "0                 Hamburg                  0.0  \n",
       "1            Lower Saxony                  1.0  \n",
       "2                   Hesse                  0.0  \n",
       "3            Lower Saxony                  0.0  \n",
       "4  North Rhine-Westphalia                  0.0  "
      ]
     },
     "execution_count": 19,
     "metadata": {},
     "output_type": "execute_result"
    }
   ],
   "source": [
    "totaldf.head()"
   ]
  },
  {
   "cell_type": "code",
   "execution_count": 20,
   "metadata": {
    "ExecuteTime": {
     "end_time": "2021-03-18T06:19:48.858912Z",
     "start_time": "2021-03-18T06:19:48.776380Z"
    }
   },
   "outputs": [
    {
     "data": {
      "text/plain": [
       "(100000, 10)"
      ]
     },
     "execution_count": 20,
     "metadata": {},
     "output_type": "execute_result"
    }
   ],
   "source": [
    "totaldf.shape"
   ]
  },
  {
   "cell_type": "code",
   "execution_count": 21,
   "metadata": {
    "ExecuteTime": {
     "end_time": "2021-03-18T06:19:48.967752Z",
     "start_time": "2021-03-18T06:19:48.859895Z"
    }
   },
   "outputs": [],
   "source": [
    "df=pd.concat([totaldf,Order_Placed_AT,Order_Delivered_Date,Customer_BirthDate,Customer_Joining_Date],axis=1)\n"
   ]
  },
  {
   "cell_type": "code",
   "execution_count": 22,
   "metadata": {
    "ExecuteTime": {
     "end_time": "2021-03-18T06:19:49.058493Z",
     "start_time": "2021-03-18T06:19:48.975462Z"
    }
   },
   "outputs": [
    {
     "data": {
      "text/html": [
       "<div>\n",
       "<style scoped>\n",
       "    .dataframe tbody tr th:only-of-type {\n",
       "        vertical-align: middle;\n",
       "    }\n",
       "\n",
       "    .dataframe tbody tr th {\n",
       "        vertical-align: top;\n",
       "    }\n",
       "\n",
       "    .dataframe thead th {\n",
       "        text-align: right;\n",
       "    }\n",
       "</style>\n",
       "<table border=\"1\" class=\"dataframe\">\n",
       "  <thead>\n",
       "    <tr style=\"text-align: right;\">\n",
       "      <th></th>\n",
       "      <th>Order_Ref_Number</th>\n",
       "      <th>Product_Ref_ID</th>\n",
       "      <th>Size</th>\n",
       "      <th>Color_Code</th>\n",
       "      <th>Product_Category_Reference</th>\n",
       "      <th>Cost_to_Customer(USD)</th>\n",
       "      <th>Customer_ID</th>\n",
       "      <th>Gender</th>\n",
       "      <th>Customer_Location</th>\n",
       "      <th>Order_Repeat_Chance</th>\n",
       "      <th>Order_Placed_AT</th>\n",
       "      <th>Order_Delivered_Date</th>\n",
       "      <th>Customer_BirthDate</th>\n",
       "      <th>Customer_Joining_Date</th>\n",
       "    </tr>\n",
       "  </thead>\n",
       "  <tbody>\n",
       "    <tr>\n",
       "      <th>0</th>\n",
       "      <td>98981</td>\n",
       "      <td>897</td>\n",
       "      <td>l</td>\n",
       "      <td>grey</td>\n",
       "      <td>33</td>\n",
       "      <td>19.9</td>\n",
       "      <td>48040</td>\n",
       "      <td>Mrs</td>\n",
       "      <td>Hamburg</td>\n",
       "      <td>0.0</td>\n",
       "      <td>2016-09-10</td>\n",
       "      <td>2016-09-11</td>\n",
       "      <td>1960-05-30</td>\n",
       "      <td>2015-02-17</td>\n",
       "    </tr>\n",
       "    <tr>\n",
       "      <th>1</th>\n",
       "      <td>69825</td>\n",
       "      <td>1557</td>\n",
       "      <td>xl</td>\n",
       "      <td>petrol</td>\n",
       "      <td>31</td>\n",
       "      <td>89.9</td>\n",
       "      <td>42892</td>\n",
       "      <td>Mrs</td>\n",
       "      <td>Lower Saxony</td>\n",
       "      <td>1.0</td>\n",
       "      <td>2016-08-15</td>\n",
       "      <td>2016-08-20</td>\n",
       "      <td>1958-09-23</td>\n",
       "      <td>2015-11-14</td>\n",
       "    </tr>\n",
       "    <tr>\n",
       "      <th>2</th>\n",
       "      <td>9929</td>\n",
       "      <td>292</td>\n",
       "      <td>4+</td>\n",
       "      <td>grey</td>\n",
       "      <td>4</td>\n",
       "      <td>64.9</td>\n",
       "      <td>32479</td>\n",
       "      <td>Mrs</td>\n",
       "      <td>Hesse</td>\n",
       "      <td>0.0</td>\n",
       "      <td>2016-06-27</td>\n",
       "      <td>2016-07-02</td>\n",
       "      <td>1961-09-19</td>\n",
       "      <td>2016-06-28</td>\n",
       "    </tr>\n",
       "    <tr>\n",
       "      <th>3</th>\n",
       "      <td>75600</td>\n",
       "      <td>1445</td>\n",
       "      <td>xxl</td>\n",
       "      <td>grey</td>\n",
       "      <td>29</td>\n",
       "      <td>59.9</td>\n",
       "      <td>4216</td>\n",
       "      <td>Mrs</td>\n",
       "      <td>Lower Saxony</td>\n",
       "      <td>0.0</td>\n",
       "      <td>2016-08-21</td>\n",
       "      <td>2016-08-22</td>\n",
       "      <td>1952-10-01</td>\n",
       "      <td>2015-02-17</td>\n",
       "    </tr>\n",
       "    <tr>\n",
       "      <th>4</th>\n",
       "      <td>95622</td>\n",
       "      <td>1415</td>\n",
       "      <td>m</td>\n",
       "      <td>mahagoni</td>\n",
       "      <td>3</td>\n",
       "      <td>21.9</td>\n",
       "      <td>39571</td>\n",
       "      <td>Mrs</td>\n",
       "      <td>North Rhine-Westphalia</td>\n",
       "      <td>0.0</td>\n",
       "      <td>2016-09-06</td>\n",
       "      <td>2016-09-07</td>\n",
       "      <td>1963-10-30</td>\n",
       "      <td>2015-10-02</td>\n",
       "    </tr>\n",
       "  </tbody>\n",
       "</table>\n",
       "</div>"
      ],
      "text/plain": [
       "   Order_Ref_Number  Product_Ref_ID Size Color_Code  \\\n",
       "0             98981             897    l       grey   \n",
       "1             69825            1557   xl     petrol   \n",
       "2              9929             292   4+       grey   \n",
       "3             75600            1445  xxl       grey   \n",
       "4             95622            1415    m   mahagoni   \n",
       "\n",
       "   Product_Category_Reference  Cost_to_Customer(USD)  Customer_ID Gender  \\\n",
       "0                          33                   19.9        48040    Mrs   \n",
       "1                          31                   89.9        42892    Mrs   \n",
       "2                           4                   64.9        32479    Mrs   \n",
       "3                          29                   59.9         4216    Mrs   \n",
       "4                           3                   21.9        39571    Mrs   \n",
       "\n",
       "        Customer_Location  Order_Repeat_Chance Order_Placed_AT  \\\n",
       "0                 Hamburg                  0.0      2016-09-10   \n",
       "1            Lower Saxony                  1.0      2016-08-15   \n",
       "2                   Hesse                  0.0      2016-06-27   \n",
       "3            Lower Saxony                  0.0      2016-08-21   \n",
       "4  North Rhine-Westphalia                  0.0      2016-09-06   \n",
       "\n",
       "  Order_Delivered_Date Customer_BirthDate Customer_Joining_Date  \n",
       "0           2016-09-11         1960-05-30            2015-02-17  \n",
       "1           2016-08-20         1958-09-23            2015-11-14  \n",
       "2           2016-07-02         1961-09-19            2016-06-28  \n",
       "3           2016-08-22         1952-10-01            2015-02-17  \n",
       "4           2016-09-07         1963-10-30            2015-10-02  "
      ]
     },
     "execution_count": 22,
     "metadata": {},
     "output_type": "execute_result"
    }
   ],
   "source": [
    "df.head()"
   ]
  },
  {
   "cell_type": "code",
   "execution_count": 23,
   "metadata": {
    "ExecuteTime": {
     "end_time": "2021-03-18T06:19:49.617002Z",
     "start_time": "2021-03-18T06:19:49.074950Z"
    }
   },
   "outputs": [],
   "source": [
    "\n",
    "\n",
    "df[\"placed_day\"]=pd.to_datetime(df.Order_Placed_AT).dt.day\n",
    "df[\"placed_month\"]=pd.to_datetime(df.Order_Placed_AT).dt.month\n",
    "df[\"placed_year\"]=pd.to_datetime(df.Order_Placed_AT).dt.year\n",
    "\n",
    "\n",
    "df[\"delivered_day\"]=pd.to_datetime(df.Order_Delivered_Date).dt.day\n",
    "df[\"delivered_month\"]=pd.to_datetime(df.Order_Delivered_Date).dt.month\n",
    "df[\"delivered_year\"]=pd.to_datetime(df.Order_Delivered_Date).dt.year\n",
    "\n",
    "\n",
    "df[\"birth_day\"]=pd.to_datetime(df.Customer_BirthDate).dt.day\n",
    "df[\"birth_month\"]=pd.to_datetime(df.Customer_BirthDate).dt.month\n",
    "df[\"birth_year\"]=pd.to_datetime(df.Customer_BirthDate).dt.year\n",
    "\n",
    "\n",
    "df[\"joining_day\"]=pd.to_datetime(df.Customer_Joining_Date).dt.day\n",
    "df[\"joining_month\"]=pd.to_datetime(df.Customer_Joining_Date).dt.month\n",
    "df[\"joining_year\"]=pd.to_datetime(df.Customer_Joining_Date).dt.year\n",
    "\n",
    "\n",
    "\n"
   ]
  },
  {
   "cell_type": "code",
   "execution_count": 24,
   "metadata": {
    "ExecuteTime": {
     "end_time": "2021-03-18T06:19:49.650424Z",
     "start_time": "2021-03-18T06:19:49.624470Z"
    }
   },
   "outputs": [
    {
     "data": {
      "text/plain": [
       "Index(['Order_Ref_Number', 'Product_Ref_ID', 'Size', 'Color_Code',\n",
       "       'Product_Category_Reference', 'Cost_to_Customer(USD)', 'Customer_ID',\n",
       "       'Gender', 'Customer_Location', 'Order_Repeat_Chance', 'Order_Placed_AT',\n",
       "       'Order_Delivered_Date', 'Customer_BirthDate', 'Customer_Joining_Date',\n",
       "       'placed_day', 'placed_month', 'placed_year', 'delivered_day',\n",
       "       'delivered_month', 'delivered_year', 'birth_day', 'birth_month',\n",
       "       'birth_year', 'joining_day', 'joining_month', 'joining_year'],\n",
       "      dtype='object')"
      ]
     },
     "execution_count": 24,
     "metadata": {},
     "output_type": "execute_result"
    }
   ],
   "source": [
    "df.columns"
   ]
  },
  {
   "cell_type": "code",
   "execution_count": 25,
   "metadata": {
    "ExecuteTime": {
     "end_time": "2021-03-18T06:19:49.825372Z",
     "start_time": "2021-03-18T06:19:49.658589Z"
    }
   },
   "outputs": [
    {
     "data": {
      "text/html": [
       "<div>\n",
       "<style scoped>\n",
       "    .dataframe tbody tr th:only-of-type {\n",
       "        vertical-align: middle;\n",
       "    }\n",
       "\n",
       "    .dataframe tbody tr th {\n",
       "        vertical-align: top;\n",
       "    }\n",
       "\n",
       "    .dataframe thead th {\n",
       "        text-align: right;\n",
       "    }\n",
       "</style>\n",
       "<table border=\"1\" class=\"dataframe\">\n",
       "  <thead>\n",
       "    <tr style=\"text-align: right;\">\n",
       "      <th></th>\n",
       "      <th>Order_Ref_Number</th>\n",
       "      <th>Product_Ref_ID</th>\n",
       "      <th>Size</th>\n",
       "      <th>Color_Code</th>\n",
       "      <th>Product_Category_Reference</th>\n",
       "      <th>Cost_to_Customer(USD)</th>\n",
       "      <th>Customer_ID</th>\n",
       "      <th>Gender</th>\n",
       "      <th>Customer_Location</th>\n",
       "      <th>Order_Repeat_Chance</th>\n",
       "      <th>...</th>\n",
       "      <th>placed_year</th>\n",
       "      <th>delivered_day</th>\n",
       "      <th>delivered_month</th>\n",
       "      <th>delivered_year</th>\n",
       "      <th>birth_day</th>\n",
       "      <th>birth_month</th>\n",
       "      <th>birth_year</th>\n",
       "      <th>joining_day</th>\n",
       "      <th>joining_month</th>\n",
       "      <th>joining_year</th>\n",
       "    </tr>\n",
       "  </thead>\n",
       "  <tbody>\n",
       "    <tr>\n",
       "      <th>0</th>\n",
       "      <td>98981</td>\n",
       "      <td>897</td>\n",
       "      <td>l</td>\n",
       "      <td>grey</td>\n",
       "      <td>33</td>\n",
       "      <td>19.9</td>\n",
       "      <td>48040</td>\n",
       "      <td>Mrs</td>\n",
       "      <td>Hamburg</td>\n",
       "      <td>0.0</td>\n",
       "      <td>...</td>\n",
       "      <td>2016</td>\n",
       "      <td>11</td>\n",
       "      <td>9</td>\n",
       "      <td>2016</td>\n",
       "      <td>30</td>\n",
       "      <td>5</td>\n",
       "      <td>1960</td>\n",
       "      <td>17</td>\n",
       "      <td>2</td>\n",
       "      <td>2015</td>\n",
       "    </tr>\n",
       "    <tr>\n",
       "      <th>1</th>\n",
       "      <td>69825</td>\n",
       "      <td>1557</td>\n",
       "      <td>xl</td>\n",
       "      <td>petrol</td>\n",
       "      <td>31</td>\n",
       "      <td>89.9</td>\n",
       "      <td>42892</td>\n",
       "      <td>Mrs</td>\n",
       "      <td>Lower Saxony</td>\n",
       "      <td>1.0</td>\n",
       "      <td>...</td>\n",
       "      <td>2016</td>\n",
       "      <td>20</td>\n",
       "      <td>8</td>\n",
       "      <td>2016</td>\n",
       "      <td>23</td>\n",
       "      <td>9</td>\n",
       "      <td>1958</td>\n",
       "      <td>14</td>\n",
       "      <td>11</td>\n",
       "      <td>2015</td>\n",
       "    </tr>\n",
       "    <tr>\n",
       "      <th>2</th>\n",
       "      <td>9929</td>\n",
       "      <td>292</td>\n",
       "      <td>4+</td>\n",
       "      <td>grey</td>\n",
       "      <td>4</td>\n",
       "      <td>64.9</td>\n",
       "      <td>32479</td>\n",
       "      <td>Mrs</td>\n",
       "      <td>Hesse</td>\n",
       "      <td>0.0</td>\n",
       "      <td>...</td>\n",
       "      <td>2016</td>\n",
       "      <td>2</td>\n",
       "      <td>7</td>\n",
       "      <td>2016</td>\n",
       "      <td>19</td>\n",
       "      <td>9</td>\n",
       "      <td>1961</td>\n",
       "      <td>28</td>\n",
       "      <td>6</td>\n",
       "      <td>2016</td>\n",
       "    </tr>\n",
       "    <tr>\n",
       "      <th>3</th>\n",
       "      <td>75600</td>\n",
       "      <td>1445</td>\n",
       "      <td>xxl</td>\n",
       "      <td>grey</td>\n",
       "      <td>29</td>\n",
       "      <td>59.9</td>\n",
       "      <td>4216</td>\n",
       "      <td>Mrs</td>\n",
       "      <td>Lower Saxony</td>\n",
       "      <td>0.0</td>\n",
       "      <td>...</td>\n",
       "      <td>2016</td>\n",
       "      <td>22</td>\n",
       "      <td>8</td>\n",
       "      <td>2016</td>\n",
       "      <td>1</td>\n",
       "      <td>10</td>\n",
       "      <td>1952</td>\n",
       "      <td>17</td>\n",
       "      <td>2</td>\n",
       "      <td>2015</td>\n",
       "    </tr>\n",
       "    <tr>\n",
       "      <th>4</th>\n",
       "      <td>95622</td>\n",
       "      <td>1415</td>\n",
       "      <td>m</td>\n",
       "      <td>mahagoni</td>\n",
       "      <td>3</td>\n",
       "      <td>21.9</td>\n",
       "      <td>39571</td>\n",
       "      <td>Mrs</td>\n",
       "      <td>North Rhine-Westphalia</td>\n",
       "      <td>0.0</td>\n",
       "      <td>...</td>\n",
       "      <td>2016</td>\n",
       "      <td>7</td>\n",
       "      <td>9</td>\n",
       "      <td>2016</td>\n",
       "      <td>30</td>\n",
       "      <td>10</td>\n",
       "      <td>1963</td>\n",
       "      <td>2</td>\n",
       "      <td>10</td>\n",
       "      <td>2015</td>\n",
       "    </tr>\n",
       "  </tbody>\n",
       "</table>\n",
       "<p>5 rows × 26 columns</p>\n",
       "</div>"
      ],
      "text/plain": [
       "   Order_Ref_Number  Product_Ref_ID Size Color_Code  \\\n",
       "0             98981             897    l       grey   \n",
       "1             69825            1557   xl     petrol   \n",
       "2              9929             292   4+       grey   \n",
       "3             75600            1445  xxl       grey   \n",
       "4             95622            1415    m   mahagoni   \n",
       "\n",
       "   Product_Category_Reference  Cost_to_Customer(USD)  Customer_ID Gender  \\\n",
       "0                          33                   19.9        48040    Mrs   \n",
       "1                          31                   89.9        42892    Mrs   \n",
       "2                           4                   64.9        32479    Mrs   \n",
       "3                          29                   59.9         4216    Mrs   \n",
       "4                           3                   21.9        39571    Mrs   \n",
       "\n",
       "        Customer_Location  Order_Repeat_Chance  ... placed_year delivered_day  \\\n",
       "0                 Hamburg                  0.0  ...        2016            11   \n",
       "1            Lower Saxony                  1.0  ...        2016            20   \n",
       "2                   Hesse                  0.0  ...        2016             2   \n",
       "3            Lower Saxony                  0.0  ...        2016            22   \n",
       "4  North Rhine-Westphalia                  0.0  ...        2016             7   \n",
       "\n",
       "  delivered_month delivered_year  birth_day  birth_month  birth_year  \\\n",
       "0               9           2016         30            5        1960   \n",
       "1               8           2016         23            9        1958   \n",
       "2               7           2016         19            9        1961   \n",
       "3               8           2016          1           10        1952   \n",
       "4               9           2016         30           10        1963   \n",
       "\n",
       "   joining_day  joining_month  joining_year  \n",
       "0           17              2          2015  \n",
       "1           14             11          2015  \n",
       "2           28              6          2016  \n",
       "3           17              2          2015  \n",
       "4            2             10          2015  \n",
       "\n",
       "[5 rows x 26 columns]"
      ]
     },
     "execution_count": 25,
     "metadata": {},
     "output_type": "execute_result"
    }
   ],
   "source": [
    "df.head()"
   ]
  },
  {
   "cell_type": "code",
   "execution_count": 26,
   "metadata": {
    "ExecuteTime": {
     "end_time": "2021-03-18T06:19:49.968154Z",
     "start_time": "2021-03-18T06:19:49.830866Z"
    }
   },
   "outputs": [],
   "source": [
    "df.drop(['Order_Placed_AT','Order_Delivered_Date','Customer_BirthDate','Customer_Joining_Date'],axis=1,inplace=True)\n"
   ]
  },
  {
   "cell_type": "code",
   "execution_count": 27,
   "metadata": {
    "ExecuteTime": {
     "end_time": "2021-03-18T06:19:50.034533Z",
     "start_time": "2021-03-18T06:19:49.973251Z"
    }
   },
   "outputs": [
    {
     "data": {
      "text/html": [
       "<div>\n",
       "<style scoped>\n",
       "    .dataframe tbody tr th:only-of-type {\n",
       "        vertical-align: middle;\n",
       "    }\n",
       "\n",
       "    .dataframe tbody tr th {\n",
       "        vertical-align: top;\n",
       "    }\n",
       "\n",
       "    .dataframe thead th {\n",
       "        text-align: right;\n",
       "    }\n",
       "</style>\n",
       "<table border=\"1\" class=\"dataframe\">\n",
       "  <thead>\n",
       "    <tr style=\"text-align: right;\">\n",
       "      <th></th>\n",
       "      <th>Order_Ref_Number</th>\n",
       "      <th>Product_Ref_ID</th>\n",
       "      <th>Size</th>\n",
       "      <th>Color_Code</th>\n",
       "      <th>Product_Category_Reference</th>\n",
       "      <th>Cost_to_Customer(USD)</th>\n",
       "      <th>Customer_ID</th>\n",
       "      <th>Gender</th>\n",
       "      <th>Customer_Location</th>\n",
       "      <th>Order_Repeat_Chance</th>\n",
       "      <th>...</th>\n",
       "      <th>placed_year</th>\n",
       "      <th>delivered_day</th>\n",
       "      <th>delivered_month</th>\n",
       "      <th>delivered_year</th>\n",
       "      <th>birth_day</th>\n",
       "      <th>birth_month</th>\n",
       "      <th>birth_year</th>\n",
       "      <th>joining_day</th>\n",
       "      <th>joining_month</th>\n",
       "      <th>joining_year</th>\n",
       "    </tr>\n",
       "  </thead>\n",
       "  <tbody>\n",
       "    <tr>\n",
       "      <th>0</th>\n",
       "      <td>98981</td>\n",
       "      <td>897</td>\n",
       "      <td>l</td>\n",
       "      <td>grey</td>\n",
       "      <td>33</td>\n",
       "      <td>19.9</td>\n",
       "      <td>48040</td>\n",
       "      <td>Mrs</td>\n",
       "      <td>Hamburg</td>\n",
       "      <td>0.0</td>\n",
       "      <td>...</td>\n",
       "      <td>2016</td>\n",
       "      <td>11</td>\n",
       "      <td>9</td>\n",
       "      <td>2016</td>\n",
       "      <td>30</td>\n",
       "      <td>5</td>\n",
       "      <td>1960</td>\n",
       "      <td>17</td>\n",
       "      <td>2</td>\n",
       "      <td>2015</td>\n",
       "    </tr>\n",
       "    <tr>\n",
       "      <th>1</th>\n",
       "      <td>69825</td>\n",
       "      <td>1557</td>\n",
       "      <td>xl</td>\n",
       "      <td>petrol</td>\n",
       "      <td>31</td>\n",
       "      <td>89.9</td>\n",
       "      <td>42892</td>\n",
       "      <td>Mrs</td>\n",
       "      <td>Lower Saxony</td>\n",
       "      <td>1.0</td>\n",
       "      <td>...</td>\n",
       "      <td>2016</td>\n",
       "      <td>20</td>\n",
       "      <td>8</td>\n",
       "      <td>2016</td>\n",
       "      <td>23</td>\n",
       "      <td>9</td>\n",
       "      <td>1958</td>\n",
       "      <td>14</td>\n",
       "      <td>11</td>\n",
       "      <td>2015</td>\n",
       "    </tr>\n",
       "    <tr>\n",
       "      <th>2</th>\n",
       "      <td>9929</td>\n",
       "      <td>292</td>\n",
       "      <td>4+</td>\n",
       "      <td>grey</td>\n",
       "      <td>4</td>\n",
       "      <td>64.9</td>\n",
       "      <td>32479</td>\n",
       "      <td>Mrs</td>\n",
       "      <td>Hesse</td>\n",
       "      <td>0.0</td>\n",
       "      <td>...</td>\n",
       "      <td>2016</td>\n",
       "      <td>2</td>\n",
       "      <td>7</td>\n",
       "      <td>2016</td>\n",
       "      <td>19</td>\n",
       "      <td>9</td>\n",
       "      <td>1961</td>\n",
       "      <td>28</td>\n",
       "      <td>6</td>\n",
       "      <td>2016</td>\n",
       "    </tr>\n",
       "    <tr>\n",
       "      <th>3</th>\n",
       "      <td>75600</td>\n",
       "      <td>1445</td>\n",
       "      <td>xxl</td>\n",
       "      <td>grey</td>\n",
       "      <td>29</td>\n",
       "      <td>59.9</td>\n",
       "      <td>4216</td>\n",
       "      <td>Mrs</td>\n",
       "      <td>Lower Saxony</td>\n",
       "      <td>0.0</td>\n",
       "      <td>...</td>\n",
       "      <td>2016</td>\n",
       "      <td>22</td>\n",
       "      <td>8</td>\n",
       "      <td>2016</td>\n",
       "      <td>1</td>\n",
       "      <td>10</td>\n",
       "      <td>1952</td>\n",
       "      <td>17</td>\n",
       "      <td>2</td>\n",
       "      <td>2015</td>\n",
       "    </tr>\n",
       "    <tr>\n",
       "      <th>4</th>\n",
       "      <td>95622</td>\n",
       "      <td>1415</td>\n",
       "      <td>m</td>\n",
       "      <td>mahagoni</td>\n",
       "      <td>3</td>\n",
       "      <td>21.9</td>\n",
       "      <td>39571</td>\n",
       "      <td>Mrs</td>\n",
       "      <td>North Rhine-Westphalia</td>\n",
       "      <td>0.0</td>\n",
       "      <td>...</td>\n",
       "      <td>2016</td>\n",
       "      <td>7</td>\n",
       "      <td>9</td>\n",
       "      <td>2016</td>\n",
       "      <td>30</td>\n",
       "      <td>10</td>\n",
       "      <td>1963</td>\n",
       "      <td>2</td>\n",
       "      <td>10</td>\n",
       "      <td>2015</td>\n",
       "    </tr>\n",
       "  </tbody>\n",
       "</table>\n",
       "<p>5 rows × 22 columns</p>\n",
       "</div>"
      ],
      "text/plain": [
       "   Order_Ref_Number  Product_Ref_ID Size Color_Code  \\\n",
       "0             98981             897    l       grey   \n",
       "1             69825            1557   xl     petrol   \n",
       "2              9929             292   4+       grey   \n",
       "3             75600            1445  xxl       grey   \n",
       "4             95622            1415    m   mahagoni   \n",
       "\n",
       "   Product_Category_Reference  Cost_to_Customer(USD)  Customer_ID Gender  \\\n",
       "0                          33                   19.9        48040    Mrs   \n",
       "1                          31                   89.9        42892    Mrs   \n",
       "2                           4                   64.9        32479    Mrs   \n",
       "3                          29                   59.9         4216    Mrs   \n",
       "4                           3                   21.9        39571    Mrs   \n",
       "\n",
       "        Customer_Location  Order_Repeat_Chance  ...  placed_year  \\\n",
       "0                 Hamburg                  0.0  ...         2016   \n",
       "1            Lower Saxony                  1.0  ...         2016   \n",
       "2                   Hesse                  0.0  ...         2016   \n",
       "3            Lower Saxony                  0.0  ...         2016   \n",
       "4  North Rhine-Westphalia                  0.0  ...         2016   \n",
       "\n",
       "   delivered_day  delivered_month  delivered_year  birth_day  birth_month  \\\n",
       "0             11                9            2016         30            5   \n",
       "1             20                8            2016         23            9   \n",
       "2              2                7            2016         19            9   \n",
       "3             22                8            2016          1           10   \n",
       "4              7                9            2016         30           10   \n",
       "\n",
       "   birth_year  joining_day  joining_month  joining_year  \n",
       "0        1960           17              2          2015  \n",
       "1        1958           14             11          2015  \n",
       "2        1961           28              6          2016  \n",
       "3        1952           17              2          2015  \n",
       "4        1963            2             10          2015  \n",
       "\n",
       "[5 rows x 22 columns]"
      ]
     },
     "execution_count": 27,
     "metadata": {},
     "output_type": "execute_result"
    }
   ],
   "source": [
    "df.head()"
   ]
  },
  {
   "cell_type": "code",
   "execution_count": 28,
   "metadata": {
    "ExecuteTime": {
     "end_time": "2021-03-18T06:19:50.126516Z",
     "start_time": "2021-03-18T06:19:50.039854Z"
    }
   },
   "outputs": [
    {
     "data": {
      "text/plain": [
       "(100000, 22)"
      ]
     },
     "execution_count": 28,
     "metadata": {},
     "output_type": "execute_result"
    }
   ],
   "source": [
    "df.shape"
   ]
  },
  {
   "cell_type": "code",
   "execution_count": 29,
   "metadata": {
    "ExecuteTime": {
     "end_time": "2021-03-18T06:19:50.610486Z",
     "start_time": "2021-03-18T06:19:50.129500Z"
    }
   },
   "outputs": [
    {
     "data": {
      "text/plain": [
       "Order_Ref_Number              100000\n",
       "Product_Ref_ID                  1943\n",
       "Size                             102\n",
       "Color_Code                        77\n",
       "Product_Category_Reference       135\n",
       "Cost_to_Customer(USD)            252\n",
       "Customer_ID                    19205\n",
       "Gender                             5\n",
       "Customer_Location                 16\n",
       "Order_Repeat_Chance                2\n",
       "placed_day                        31\n",
       "placed_month                       4\n",
       "placed_year                        1\n",
       "delivered_day                     31\n",
       "delivered_month                    8\n",
       "delivered_year                     3\n",
       "birth_day                         31\n",
       "birth_month                       12\n",
       "birth_year                        80\n",
       "joining_day                       31\n",
       "joining_month                     12\n",
       "joining_year                       2\n",
       "dtype: int64"
      ]
     },
     "execution_count": 29,
     "metadata": {},
     "output_type": "execute_result"
    }
   ],
   "source": [
    "df.nunique()"
   ]
  },
  {
   "cell_type": "code",
   "execution_count": 30,
   "metadata": {
    "ExecuteTime": {
     "end_time": "2021-03-18T06:19:52.146652Z",
     "start_time": "2021-03-18T06:19:50.614707Z"
    }
   },
   "outputs": [],
   "source": [
    "from sklearn.preprocessing import LabelEncoder\n"
   ]
  },
  {
   "cell_type": "code",
   "execution_count": 31,
   "metadata": {
    "ExecuteTime": {
     "end_time": "2021-03-18T06:19:52.637756Z",
     "start_time": "2021-03-18T06:19:52.150477Z"
    }
   },
   "outputs": [],
   "source": [
    "x =LabelEncoder()\n",
    "\n",
    "df['Product_Ref_ID']=x.fit_transform(df['Product_Ref_ID'])\n",
    "\n",
    "df['Size']=x.fit_transform(df['Size'])\n",
    "\n",
    "df['Color_Code']=x.fit_transform(df['Color_Code'])\n",
    "\n",
    "df['Product_Category_Reference']=x.fit_transform(df['Product_Category_Reference'])\n",
    "\n",
    "df['Cost_to_Customer(USD)']=x.fit_transform(df['Cost_to_Customer(USD)'])\n",
    "\n",
    "df['Customer_ID']=x.fit_transform(df['Customer_ID'])\n",
    "\n",
    "df['Gender']=x.fit_transform(df['Gender'])\n",
    "\n",
    "df['Customer_Location']=x.fit_transform(df['Customer_Location'])\n",
    "\n",
    "df['placed_day']=x.fit_transform(df['placed_day'])\n",
    "\n",
    "df['placed_month']=x.fit_transform(df['placed_month'])\n",
    "\n",
    "df['placed_year']=x.fit_transform(df['placed_year'])\n",
    "\n",
    "df['delivered_day']=x.fit_transform(df['delivered_day'])\n",
    "\n",
    "df['delivered_month']=x.fit_transform(df['delivered_month'])\n",
    "\n",
    "df['delivered_year']=x.fit_transform(df['delivered_year'])\n",
    "\n",
    "df['birth_day']=x.fit_transform(df['birth_day'])\n",
    "\n",
    "df['birth_month']=x.fit_transform(df['birth_month'])\n",
    "\n",
    "df['birth_year']=x.fit_transform(df['birth_year'])\n",
    "\n",
    "df['joining_day']=x.fit_transform(df['joining_day'])\n",
    "\n",
    "df['joining_month']=x.fit_transform(df['joining_month'])\n",
    "\n",
    "df['joining_year']=x.fit_transform(df['joining_year'])\n",
    "\n",
    "\n",
    "\n",
    "\n"
   ]
  },
  {
   "cell_type": "code",
   "execution_count": 32,
   "metadata": {
    "ExecuteTime": {
     "end_time": "2021-03-18T06:19:52.702068Z",
     "start_time": "2021-03-18T06:19:52.645362Z"
    }
   },
   "outputs": [
    {
     "data": {
      "text/html": [
       "<div>\n",
       "<style scoped>\n",
       "    .dataframe tbody tr th:only-of-type {\n",
       "        vertical-align: middle;\n",
       "    }\n",
       "\n",
       "    .dataframe tbody tr th {\n",
       "        vertical-align: top;\n",
       "    }\n",
       "\n",
       "    .dataframe thead th {\n",
       "        text-align: right;\n",
       "    }\n",
       "</style>\n",
       "<table border=\"1\" class=\"dataframe\">\n",
       "  <thead>\n",
       "    <tr style=\"text-align: right;\">\n",
       "      <th></th>\n",
       "      <th>Order_Ref_Number</th>\n",
       "      <th>Product_Ref_ID</th>\n",
       "      <th>Size</th>\n",
       "      <th>Color_Code</th>\n",
       "      <th>Product_Category_Reference</th>\n",
       "      <th>Cost_to_Customer(USD)</th>\n",
       "      <th>Customer_ID</th>\n",
       "      <th>Gender</th>\n",
       "      <th>Customer_Location</th>\n",
       "      <th>Order_Repeat_Chance</th>\n",
       "      <th>...</th>\n",
       "      <th>placed_year</th>\n",
       "      <th>delivered_day</th>\n",
       "      <th>delivered_month</th>\n",
       "      <th>delivered_year</th>\n",
       "      <th>birth_day</th>\n",
       "      <th>birth_month</th>\n",
       "      <th>birth_year</th>\n",
       "      <th>joining_day</th>\n",
       "      <th>joining_month</th>\n",
       "      <th>joining_year</th>\n",
       "    </tr>\n",
       "  </thead>\n",
       "  <tbody>\n",
       "    <tr>\n",
       "      <th>0</th>\n",
       "      <td>98981</td>\n",
       "      <td>805</td>\n",
       "      <td>94</td>\n",
       "      <td>47</td>\n",
       "      <td>32</td>\n",
       "      <td>43</td>\n",
       "      <td>19061</td>\n",
       "      <td>3</td>\n",
       "      <td>5</td>\n",
       "      <td>0.0</td>\n",
       "      <td>...</td>\n",
       "      <td>0</td>\n",
       "      <td>10</td>\n",
       "      <td>4</td>\n",
       "      <td>1</td>\n",
       "      <td>29</td>\n",
       "      <td>4</td>\n",
       "      <td>38</td>\n",
       "      <td>16</td>\n",
       "      <td>1</td>\n",
       "      <td>0</td>\n",
       "    </tr>\n",
       "    <tr>\n",
       "      <th>1</th>\n",
       "      <td>69825</td>\n",
       "      <td>1274</td>\n",
       "      <td>98</td>\n",
       "      <td>66</td>\n",
       "      <td>30</td>\n",
       "      <td>150</td>\n",
       "      <td>15668</td>\n",
       "      <td>3</td>\n",
       "      <td>7</td>\n",
       "      <td>1.0</td>\n",
       "      <td>...</td>\n",
       "      <td>0</td>\n",
       "      <td>19</td>\n",
       "      <td>3</td>\n",
       "      <td>1</td>\n",
       "      <td>22</td>\n",
       "      <td>8</td>\n",
       "      <td>36</td>\n",
       "      <td>13</td>\n",
       "      <td>10</td>\n",
       "      <td>0</td>\n",
       "    </tr>\n",
       "    <tr>\n",
       "      <th>2</th>\n",
       "      <td>9929</td>\n",
       "      <td>284</td>\n",
       "      <td>56</td>\n",
       "      <td>47</td>\n",
       "      <td>3</td>\n",
       "      <td>122</td>\n",
       "      <td>8771</td>\n",
       "      <td>3</td>\n",
       "      <td>6</td>\n",
       "      <td>0.0</td>\n",
       "      <td>...</td>\n",
       "      <td>0</td>\n",
       "      <td>1</td>\n",
       "      <td>2</td>\n",
       "      <td>1</td>\n",
       "      <td>18</td>\n",
       "      <td>8</td>\n",
       "      <td>39</td>\n",
       "      <td>27</td>\n",
       "      <td>5</td>\n",
       "      <td>1</td>\n",
       "    </tr>\n",
       "    <tr>\n",
       "      <th>3</th>\n",
       "      <td>75600</td>\n",
       "      <td>1166</td>\n",
       "      <td>100</td>\n",
       "      <td>47</td>\n",
       "      <td>28</td>\n",
       "      <td>115</td>\n",
       "      <td>1086</td>\n",
       "      <td>3</td>\n",
       "      <td>7</td>\n",
       "      <td>0.0</td>\n",
       "      <td>...</td>\n",
       "      <td>0</td>\n",
       "      <td>21</td>\n",
       "      <td>3</td>\n",
       "      <td>1</td>\n",
       "      <td>0</td>\n",
       "      <td>9</td>\n",
       "      <td>30</td>\n",
       "      <td>16</td>\n",
       "      <td>1</td>\n",
       "      <td>0</td>\n",
       "    </tr>\n",
       "    <tr>\n",
       "      <th>4</th>\n",
       "      <td>95622</td>\n",
       "      <td>1138</td>\n",
       "      <td>95</td>\n",
       "      <td>55</td>\n",
       "      <td>2</td>\n",
       "      <td>47</td>\n",
       "      <td>13589</td>\n",
       "      <td>3</td>\n",
       "      <td>9</td>\n",
       "      <td>0.0</td>\n",
       "      <td>...</td>\n",
       "      <td>0</td>\n",
       "      <td>6</td>\n",
       "      <td>4</td>\n",
       "      <td>1</td>\n",
       "      <td>29</td>\n",
       "      <td>9</td>\n",
       "      <td>41</td>\n",
       "      <td>1</td>\n",
       "      <td>9</td>\n",
       "      <td>0</td>\n",
       "    </tr>\n",
       "  </tbody>\n",
       "</table>\n",
       "<p>5 rows × 22 columns</p>\n",
       "</div>"
      ],
      "text/plain": [
       "   Order_Ref_Number  Product_Ref_ID  Size  Color_Code  \\\n",
       "0             98981             805    94          47   \n",
       "1             69825            1274    98          66   \n",
       "2              9929             284    56          47   \n",
       "3             75600            1166   100          47   \n",
       "4             95622            1138    95          55   \n",
       "\n",
       "   Product_Category_Reference  Cost_to_Customer(USD)  Customer_ID  Gender  \\\n",
       "0                          32                     43        19061       3   \n",
       "1                          30                    150        15668       3   \n",
       "2                           3                    122         8771       3   \n",
       "3                          28                    115         1086       3   \n",
       "4                           2                     47        13589       3   \n",
       "\n",
       "   Customer_Location  Order_Repeat_Chance  ...  placed_year  delivered_day  \\\n",
       "0                  5                  0.0  ...            0             10   \n",
       "1                  7                  1.0  ...            0             19   \n",
       "2                  6                  0.0  ...            0              1   \n",
       "3                  7                  0.0  ...            0             21   \n",
       "4                  9                  0.0  ...            0              6   \n",
       "\n",
       "   delivered_month  delivered_year  birth_day  birth_month  birth_year  \\\n",
       "0                4               1         29            4          38   \n",
       "1                3               1         22            8          36   \n",
       "2                2               1         18            8          39   \n",
       "3                3               1          0            9          30   \n",
       "4                4               1         29            9          41   \n",
       "\n",
       "   joining_day  joining_month  joining_year  \n",
       "0           16              1             0  \n",
       "1           13             10             0  \n",
       "2           27              5             1  \n",
       "3           16              1             0  \n",
       "4            1              9             0  \n",
       "\n",
       "[5 rows x 22 columns]"
      ]
     },
     "execution_count": 32,
     "metadata": {},
     "output_type": "execute_result"
    }
   ],
   "source": [
    "df.head()"
   ]
  },
  {
   "cell_type": "code",
   "execution_count": 33,
   "metadata": {
    "ExecuteTime": {
     "end_time": "2021-03-18T06:19:52.815142Z",
     "start_time": "2021-03-18T06:19:52.707834Z"
    }
   },
   "outputs": [
    {
     "data": {
      "text/plain": [
       "Order_Ref_Number                  0\n",
       "Product_Ref_ID                    0\n",
       "Size                              0\n",
       "Color_Code                        0\n",
       "Product_Category_Reference        0\n",
       "Cost_to_Customer(USD)             0\n",
       "Customer_ID                       0\n",
       "Gender                            0\n",
       "Customer_Location                 0\n",
       "Order_Repeat_Chance           25000\n",
       "placed_day                        0\n",
       "placed_month                      0\n",
       "placed_year                       0\n",
       "delivered_day                     0\n",
       "delivered_month                   0\n",
       "delivered_year                    0\n",
       "birth_day                         0\n",
       "birth_month                       0\n",
       "birth_year                        0\n",
       "joining_day                       0\n",
       "joining_month                     0\n",
       "joining_year                      0\n",
       "dtype: int64"
      ]
     },
     "execution_count": 33,
     "metadata": {},
     "output_type": "execute_result"
    }
   ],
   "source": [
    "df.isnull().sum()"
   ]
  },
  {
   "cell_type": "code",
   "execution_count": 34,
   "metadata": {
    "ExecuteTime": {
     "end_time": "2021-03-18T06:19:52.870568Z",
     "start_time": "2021-03-18T06:19:52.819147Z"
    }
   },
   "outputs": [
    {
     "data": {
      "text/plain": [
       "(100000, 22)"
      ]
     },
     "execution_count": 34,
     "metadata": {},
     "output_type": "execute_result"
    }
   ],
   "source": [
    "df.shape"
   ]
  },
  {
   "cell_type": "code",
   "execution_count": 35,
   "metadata": {
    "ExecuteTime": {
     "end_time": "2021-03-18T06:19:52.957168Z",
     "start_time": "2021-03-18T06:19:52.871671Z"
    }
   },
   "outputs": [],
   "source": [
    "train = df[:75000]"
   ]
  },
  {
   "cell_type": "code",
   "execution_count": 36,
   "metadata": {
    "ExecuteTime": {
     "end_time": "2021-03-18T06:19:53.039839Z",
     "start_time": "2021-03-18T06:19:52.961300Z"
    }
   },
   "outputs": [],
   "source": [
    "test= df[75000:]"
   ]
  },
  {
   "cell_type": "code",
   "execution_count": 37,
   "metadata": {
    "ExecuteTime": {
     "end_time": "2021-03-18T06:19:53.122875Z",
     "start_time": "2021-03-18T06:19:53.045157Z"
    }
   },
   "outputs": [
    {
     "data": {
      "text/plain": [
       "(75000, 22)"
      ]
     },
     "execution_count": 37,
     "metadata": {},
     "output_type": "execute_result"
    }
   ],
   "source": [
    "train.shape"
   ]
  },
  {
   "cell_type": "code",
   "execution_count": 38,
   "metadata": {
    "ExecuteTime": {
     "end_time": "2021-03-18T06:19:53.211644Z",
     "start_time": "2021-03-18T06:19:53.125899Z"
    }
   },
   "outputs": [
    {
     "data": {
      "text/plain": [
       "Index(['Order_Ref_Number', 'Product_Ref_ID', 'Size', 'Color_Code',\n",
       "       'Product_Category_Reference', 'Cost_to_Customer(USD)', 'Customer_ID',\n",
       "       'Gender', 'Customer_Location', 'Order_Repeat_Chance', 'placed_day',\n",
       "       'placed_month', 'placed_year', 'delivered_day', 'delivered_month',\n",
       "       'delivered_year', 'birth_day', 'birth_month', 'birth_year',\n",
       "       'joining_day', 'joining_month', 'joining_year'],\n",
       "      dtype='object')"
      ]
     },
     "execution_count": 38,
     "metadata": {},
     "output_type": "execute_result"
    }
   ],
   "source": [
    "train.columns"
   ]
  },
  {
   "cell_type": "raw",
   "metadata": {},
   "source": []
  },
  {
   "cell_type": "code",
   "execution_count": 39,
   "metadata": {
    "ExecuteTime": {
     "end_time": "2021-03-18T06:19:53.291391Z",
     "start_time": "2021-03-18T06:19:53.214998Z"
    }
   },
   "outputs": [
    {
     "data": {
      "text/plain": [
       "(25000, 22)"
      ]
     },
     "execution_count": 39,
     "metadata": {},
     "output_type": "execute_result"
    }
   ],
   "source": [
    "test.shape"
   ]
  },
  {
   "cell_type": "code",
   "execution_count": 40,
   "metadata": {
    "ExecuteTime": {
     "end_time": "2021-03-18T06:19:53.403463Z",
     "start_time": "2021-03-18T06:19:53.295980Z"
    }
   },
   "outputs": [],
   "source": [
    "X = train[['Order_Ref_Number', 'Product_Ref_ID', 'Size', 'Color_Code',\n",
    "       'Product_Category_Reference', 'Cost_to_Customer(USD)', 'Customer_ID',\n",
    "       'Gender', 'Customer_Location', 'placed_day',\n",
    "       'placed_month', 'placed_year', 'delivered_day', 'delivered_month',\n",
    "       'delivered_year', 'birth_day', 'birth_month', 'birth_year',\n",
    "       'joining_day', 'joining_month', 'joining_year']]\n",
    "Y = train['Order_Repeat_Chance']\n",
    "x_test = test[['Order_Ref_Number', 'Product_Ref_ID', 'Size', 'Color_Code',\n",
    "       'Product_Category_Reference', 'Cost_to_Customer(USD)', 'Customer_ID',\n",
    "       'Gender', 'Customer_Location', 'placed_day',\n",
    "       'placed_month', 'placed_year', 'delivered_day', 'delivered_month',\n",
    "       'delivered_year', 'birth_day', 'birth_month', 'birth_year',\n",
    "       'joining_day', 'joining_month', 'joining_year']]\n"
   ]
  },
  {
   "cell_type": "code",
   "execution_count": 41,
   "metadata": {
    "ExecuteTime": {
     "end_time": "2021-03-18T06:19:53.500910Z",
     "start_time": "2021-03-18T06:19:53.407510Z"
    }
   },
   "outputs": [],
   "source": [
    "lgb_params = {\n",
    "    \"objective\" : \"regression\",\n",
    "    \"metric\" : \"rmse\",\n",
    "    \"boosting\": 'gbdt',\n",
    "    \"max_depth\" : -1,\n",
    "    \"num_leaves\" : 13,\n",
    "    \"learning_rate\" : 0.1,\n",
    "    \"min_data_in_leaf\": 0,\n",
    "    \"bagging_seed\" : 1234,\n",
    "    \"verbosity\" : 1,\n",
    "    \"lambda_l2\" : 5.0,\n",
    "    \"seed\": 1234,\n",
    "    \"drop_rate\" : 0.5,\n",
    "    \"min_data_per_group\":1,\n",
    "    \"max_bin\" : 10,\n",
    "}"
   ]
  },
  {
   "cell_type": "code",
   "execution_count": 44,
   "metadata": {
    "ExecuteTime": {
     "end_time": "2021-03-18T06:20:02.412485Z",
     "start_time": "2021-03-18T06:20:02.400634Z"
    }
   },
   "outputs": [],
   "source": [
    "import lightgbm as lgb\n",
    "from sklearn.model_selection import train_test_split,KFold"
   ]
  },
  {
   "cell_type": "code",
   "execution_count": 46,
   "metadata": {
    "ExecuteTime": {
     "end_time": "2021-03-18T06:24:26.781372Z",
     "start_time": "2021-03-18T06:20:28.351180Z"
    }
   },
   "outputs": [
    {
     "name": "stderr",
     "output_type": "stream",
     "text": [
      "C:\\Users\\Anup w\\anaconda3\\lib\\site-packages\\lightgbm\\basic.py:1551: UserWarning: Using categorical_feature in Dataset.\n",
      "  warnings.warn('Using categorical_feature in Dataset.')\n"
     ]
    },
    {
     "name": "stdout",
     "output_type": "stream",
     "text": [
      "[LightGBM] [Warning] Auto-choosing col-wise multi-threading, the overhead of testing was 0.012699 seconds.\n",
      "You can set `force_col_wise=true` to remove the overhead.\n",
      "[LightGBM] [Info] Total Bins 11286\n",
      "[LightGBM] [Info] Number of data points in the train set: 70000, number of used features: 21\n",
      "[LightGBM] [Info] Start training from score 0.459900\n",
      "Training until validation scores don't improve for 3000 rounds\n"
     ]
    },
    {
     "name": "stderr",
     "output_type": "stream",
     "text": [
      "C:\\Users\\Anup w\\anaconda3\\lib\\site-packages\\lightgbm\\basic.py:1286: UserWarning: Overriding the parameters from Reference Dataset.\n",
      "  warnings.warn('Overriding the parameters from Reference Dataset.')\n",
      "C:\\Users\\Anup w\\anaconda3\\lib\\site-packages\\lightgbm\\basic.py:1098: UserWarning: categorical_column in param dict is overridden.\n",
      "  warnings.warn('{} in param dict is overridden.'.format(cat_alias))\n"
     ]
    },
    {
     "name": "stdout",
     "output_type": "stream",
     "text": [
      "[1000]\ttraining's rmse: 0.333329\tvalid_1's rmse: 0.463831\n",
      "[2000]\ttraining's rmse: 0.278112\tvalid_1's rmse: 0.470057\n",
      "[3000]\ttraining's rmse: 0.240422\tvalid_1's rmse: 0.475577\n",
      "Early stopping, best iteration is:\n",
      "[61]\ttraining's rmse: 0.434122\tvalid_1's rmse: 0.458686\n",
      "[LightGBM] [Warning] Auto-choosing col-wise multi-threading, the overhead of testing was 0.012604 seconds.\n",
      "You can set `force_col_wise=true` to remove the overhead.\n",
      "[LightGBM] [Info] Total Bins 11251\n",
      "[LightGBM] [Info] Number of data points in the train set: 70000, number of used features: 21\n",
      "[LightGBM] [Info] Start training from score 0.459971\n",
      "Training until validation scores don't improve for 3000 rounds\n",
      "[1000]\ttraining's rmse: 0.334491\tvalid_1's rmse: 0.46695\n",
      "[2000]\ttraining's rmse: 0.281303\tvalid_1's rmse: 0.472478\n",
      "[3000]\ttraining's rmse: 0.24282\tvalid_1's rmse: 0.476894\n",
      "Early stopping, best iteration is:\n",
      "[54]\ttraining's rmse: 0.436248\tvalid_1's rmse: 0.460169\n",
      "[LightGBM] [Warning] Auto-choosing col-wise multi-threading, the overhead of testing was 0.012036 seconds.\n",
      "You can set `force_col_wise=true` to remove the overhead.\n",
      "[LightGBM] [Info] Total Bins 11298\n",
      "[LightGBM] [Info] Number of data points in the train set: 70000, number of used features: 21\n",
      "[LightGBM] [Info] Start training from score 0.459600\n",
      "Training until validation scores don't improve for 3000 rounds\n",
      "[1000]\ttraining's rmse: 0.334211\tvalid_1's rmse: 0.4621\n",
      "[2000]\ttraining's rmse: 0.280426\tvalid_1's rmse: 0.468452\n",
      "[3000]\ttraining's rmse: 0.242306\tvalid_1's rmse: 0.473664\n",
      "Early stopping, best iteration is:\n",
      "[59]\ttraining's rmse: 0.434912\tvalid_1's rmse: 0.458249\n",
      "[LightGBM] [Warning] Auto-choosing col-wise multi-threading, the overhead of testing was 0.012437 seconds.\n",
      "You can set `force_col_wise=true` to remove the overhead.\n",
      "[LightGBM] [Info] Total Bins 11291\n",
      "[LightGBM] [Info] Number of data points in the train set: 70000, number of used features: 21\n",
      "[LightGBM] [Info] Start training from score 0.459657\n",
      "Training until validation scores don't improve for 3000 rounds\n",
      "[1000]\ttraining's rmse: 0.334466\tvalid_1's rmse: 0.465432\n",
      "[2000]\ttraining's rmse: 0.280157\tvalid_1's rmse: 0.471753\n",
      "[3000]\ttraining's rmse: 0.23957\tvalid_1's rmse: 0.477813\n",
      "Early stopping, best iteration is:\n",
      "[76]\ttraining's rmse: 0.430335\tvalid_1's rmse: 0.458155\n",
      "[LightGBM] [Warning] Auto-choosing col-wise multi-threading, the overhead of testing was 0.006137 seconds.\n",
      "You can set `force_col_wise=true` to remove the overhead.\n",
      "[LightGBM] [Info] Total Bins 11272\n",
      "[LightGBM] [Info] Number of data points in the train set: 70000, number of used features: 21\n",
      "[LightGBM] [Info] Start training from score 0.460543\n",
      "Training until validation scores don't improve for 3000 rounds\n",
      "[1000]\ttraining's rmse: 0.336077\tvalid_1's rmse: 0.459658\n",
      "[2000]\ttraining's rmse: 0.281268\tvalid_1's rmse: 0.46562\n",
      "[3000]\ttraining's rmse: 0.243378\tvalid_1's rmse: 0.471109\n",
      "Early stopping, best iteration is:\n",
      "[109]\ttraining's rmse: 0.422963\tvalid_1's rmse: 0.455541\n",
      "[LightGBM] [Warning] Auto-choosing col-wise multi-threading, the overhead of testing was 0.010940 seconds.\n",
      "You can set `force_col_wise=true` to remove the overhead.\n",
      "[LightGBM] [Info] Total Bins 11281\n",
      "[LightGBM] [Info] Number of data points in the train set: 70000, number of used features: 21\n",
      "[LightGBM] [Info] Start training from score 0.460629\n",
      "Training until validation scores don't improve for 3000 rounds\n",
      "[1000]\ttraining's rmse: 0.332779\tvalid_1's rmse: 0.465971\n",
      "[2000]\ttraining's rmse: 0.279331\tvalid_1's rmse: 0.470532\n",
      "[3000]\ttraining's rmse: 0.241794\tvalid_1's rmse: 0.474203\n",
      "Early stopping, best iteration is:\n",
      "[62]\ttraining's rmse: 0.433755\tvalid_1's rmse: 0.459598\n",
      "[LightGBM] [Warning] Auto-choosing col-wise multi-threading, the overhead of testing was 0.007710 seconds.\n",
      "You can set `force_col_wise=true` to remove the overhead.\n",
      "[LightGBM] [Info] Total Bins 11273\n",
      "[LightGBM] [Info] Number of data points in the train set: 70000, number of used features: 21\n",
      "[LightGBM] [Info] Start training from score 0.459829\n",
      "Training until validation scores don't improve for 3000 rounds\n",
      "[1000]\ttraining's rmse: 0.333894\tvalid_1's rmse: 0.459015\n",
      "[2000]\ttraining's rmse: 0.279857\tvalid_1's rmse: 0.463237\n",
      "[3000]\ttraining's rmse: 0.241569\tvalid_1's rmse: 0.467406\n",
      "Early stopping, best iteration is:\n",
      "[176]\ttraining's rmse: 0.410682\tvalid_1's rmse: 0.455772\n",
      "[LightGBM] [Warning] Auto-choosing col-wise multi-threading, the overhead of testing was 0.007462 seconds.\n",
      "You can set `force_col_wise=true` to remove the overhead.\n",
      "[LightGBM] [Info] Total Bins 11292\n",
      "[LightGBM] [Info] Number of data points in the train set: 70000, number of used features: 21\n",
      "[LightGBM] [Info] Start training from score 0.460357\n",
      "Training until validation scores don't improve for 3000 rounds\n",
      "[1000]\ttraining's rmse: 0.332359\tvalid_1's rmse: 0.460431\n",
      "[2000]\ttraining's rmse: 0.280001\tvalid_1's rmse: 0.466879\n",
      "[3000]\ttraining's rmse: 0.242853\tvalid_1's rmse: 0.472338\n",
      "Early stopping, best iteration is:\n",
      "[67]\ttraining's rmse: 0.432558\tvalid_1's rmse: 0.454559\n",
      "[LightGBM] [Warning] Auto-choosing col-wise multi-threading, the overhead of testing was 0.008448 seconds.\n",
      "You can set `force_col_wise=true` to remove the overhead.\n",
      "[LightGBM] [Info] Total Bins 11262\n",
      "[LightGBM] [Info] Number of data points in the train set: 70000, number of used features: 21\n",
      "[LightGBM] [Info] Start training from score 0.459629\n",
      "Training until validation scores don't improve for 3000 rounds\n",
      "[1000]\ttraining's rmse: 0.332621\tvalid_1's rmse: 0.462028\n",
      "[2000]\ttraining's rmse: 0.280128\tvalid_1's rmse: 0.467609\n",
      "[3000]\ttraining's rmse: 0.240505\tvalid_1's rmse: 0.472085\n",
      "Early stopping, best iteration is:\n",
      "[68]\ttraining's rmse: 0.43212\tvalid_1's rmse: 0.455334\n",
      "[LightGBM] [Warning] Auto-choosing col-wise multi-threading, the overhead of testing was 0.007432 seconds.\n",
      "You can set `force_col_wise=true` to remove the overhead.\n",
      "[LightGBM] [Info] Total Bins 11279\n",
      "[LightGBM] [Info] Number of data points in the train set: 70000, number of used features: 21\n",
      "[LightGBM] [Info] Start training from score 0.459843\n",
      "Training until validation scores don't improve for 3000 rounds\n",
      "[1000]\ttraining's rmse: 0.332969\tvalid_1's rmse: 0.458903\n",
      "[2000]\ttraining's rmse: 0.279708\tvalid_1's rmse: 0.465384\n",
      "[3000]\ttraining's rmse: 0.242118\tvalid_1's rmse: 0.470601\n",
      "Early stopping, best iteration is:\n",
      "[191]\ttraining's rmse: 0.409049\tvalid_1's rmse: 0.455561\n",
      "[LightGBM] [Warning] Auto-choosing col-wise multi-threading, the overhead of testing was 0.007308 seconds.\n",
      "You can set `force_col_wise=true` to remove the overhead.\n",
      "[LightGBM] [Info] Total Bins 11258\n",
      "[LightGBM] [Info] Number of data points in the train set: 70000, number of used features: 21\n",
      "[LightGBM] [Info] Start training from score 0.459929\n",
      "Training until validation scores don't improve for 3000 rounds\n",
      "[1000]\ttraining's rmse: 0.333497\tvalid_1's rmse: 0.469834\n",
      "[2000]\ttraining's rmse: 0.278314\tvalid_1's rmse: 0.47522\n",
      "[3000]\ttraining's rmse: 0.239917\tvalid_1's rmse: 0.479385\n",
      "Early stopping, best iteration is:\n",
      "[54]\ttraining's rmse: 0.436352\tvalid_1's rmse: 0.461691\n",
      "[LightGBM] [Warning] Auto-choosing col-wise multi-threading, the overhead of testing was 0.007575 seconds.\n",
      "You can set `force_col_wise=true` to remove the overhead.\n",
      "[LightGBM] [Info] Total Bins 11261\n",
      "[LightGBM] [Info] Number of data points in the train set: 70000, number of used features: 21\n",
      "[LightGBM] [Info] Start training from score 0.459914\n",
      "Training until validation scores don't improve for 3000 rounds\n",
      "[1000]\ttraining's rmse: 0.33359\tvalid_1's rmse: 0.462448\n",
      "[2000]\ttraining's rmse: 0.280082\tvalid_1's rmse: 0.468623\n",
      "[3000]\ttraining's rmse: 0.242003\tvalid_1's rmse: 0.473748\n",
      "Early stopping, best iteration is:\n",
      "[104]\ttraining's rmse: 0.423454\tvalid_1's rmse: 0.456675\n",
      "[LightGBM] [Warning] Auto-choosing col-wise multi-threading, the overhead of testing was 0.007339 seconds.\n",
      "You can set `force_col_wise=true` to remove the overhead.\n",
      "[LightGBM] [Info] Total Bins 11305\n",
      "[LightGBM] [Info] Number of data points in the train set: 70000, number of used features: 21\n",
      "[LightGBM] [Info] Start training from score 0.459686\n",
      "Training until validation scores don't improve for 3000 rounds\n",
      "[1000]\ttraining's rmse: 0.334217\tvalid_1's rmse: 0.462963\n",
      "[2000]\ttraining's rmse: 0.281153\tvalid_1's rmse: 0.46955\n",
      "[3000]\ttraining's rmse: 0.242652\tvalid_1's rmse: 0.474706\n",
      "Early stopping, best iteration is:\n",
      "[65]\ttraining's rmse: 0.433636\tvalid_1's rmse: 0.456186\n",
      "[LightGBM] [Warning] Auto-choosing col-wise multi-threading, the overhead of testing was 0.007747 seconds.\n",
      "You can set `force_col_wise=true` to remove the overhead.\n",
      "[LightGBM] [Info] Total Bins 11286\n",
      "[LightGBM] [Info] Number of data points in the train set: 70000, number of used features: 21\n",
      "[LightGBM] [Info] Start training from score 0.459343\n",
      "Training until validation scores don't improve for 3000 rounds\n",
      "[1000]\ttraining's rmse: 0.333629\tvalid_1's rmse: 0.465388\n",
      "[2000]\ttraining's rmse: 0.280015\tvalid_1's rmse: 0.468959\n",
      "[3000]\ttraining's rmse: 0.243593\tvalid_1's rmse: 0.47294\n",
      "Early stopping, best iteration is:\n",
      "[102]\ttraining's rmse: 0.423688\tvalid_1's rmse: 0.459803\n",
      "[LightGBM] [Warning] Auto-choosing col-wise multi-threading, the overhead of testing was 0.007345 seconds.\n",
      "You can set `force_col_wise=true` to remove the overhead.\n",
      "[LightGBM] [Info] Total Bins 11282\n",
      "[LightGBM] [Info] Number of data points in the train set: 70000, number of used features: 21\n",
      "[LightGBM] [Info] Start training from score 0.460171\n",
      "Training until validation scores don't improve for 3000 rounds\n",
      "[1000]\ttraining's rmse: 0.333246\tvalid_1's rmse: 0.46193\n",
      "[2000]\ttraining's rmse: 0.279599\tvalid_1's rmse: 0.466695\n",
      "[3000]\ttraining's rmse: 0.240648\tvalid_1's rmse: 0.470987\n",
      "Early stopping, best iteration is:\n",
      "[69]\ttraining's rmse: 0.432045\tvalid_1's rmse: 0.457058\n"
     ]
    }
   ],
   "source": [
    "kf = KFold(n_splits=15,shuffle=True,random_state=31)\n",
    "\n",
    "all_preds = []\n",
    "\n",
    "for t,v in kf.split(X,Y):\n",
    "    x_train,x_valid,y_train,y_valid = X.iloc[t],X.iloc[v],Y.iloc[t],Y.iloc[v]\n",
    "    lgb_train = lgb.Dataset(x_train,\n",
    "                            label=y_train,\n",
    "                            categorical_feature=['Order_Ref_Number', 'Product_Ref_ID', 'Size', 'Color_Code',\n",
    "       'Product_Category_Reference', 'Cost_to_Customer(USD)', 'Customer_ID',\n",
    "       'Gender', 'Customer_Location', 'placed_day',\n",
    "       'placed_month', 'placed_year', 'delivered_day', 'delivered_month',\n",
    "       'delivered_year', 'birth_day', 'birth_month', 'birth_year',\n",
    "       'joining_day', 'joining_month', 'joining_year'])\n",
    "    lgb_valid = lgb.Dataset(x_valid,\n",
    "                            label=y_valid, \n",
    "                            categorical_feature=['Order_Ref_Number', 'Product_Ref_ID', 'Size', 'Color_Code',\n",
    "       'Product_Category_Reference', 'Cost_to_Customer(USD)', 'Customer_ID',\n",
    "       'Gender', 'Customer_Location', 'placed_day',\n",
    "       'placed_month', 'placed_year', 'delivered_day', 'delivered_month',\n",
    "       'delivered_year', 'birth_day', 'birth_month', 'birth_year',\n",
    "       'joining_day', 'joining_month', 'joining_year'])\n",
    "    evals_result = {}\n",
    "    lgb_clf = lgb.train(lgb_params,\n",
    "                    lgb_train,\n",
    "                    100000,\n",
    "                    valid_sets = [lgb_train,lgb_valid],\n",
    "                    early_stopping_rounds=3000,\n",
    "                    verbose_eval = 1000,\n",
    "                    evals_result=evals_result\n",
    "                   )\n",
    "    all_preds.append(lgb_clf.predict(x_test))"
   ]
  },
  {
   "cell_type": "code",
   "execution_count": 47,
   "metadata": {
    "ExecuteTime": {
     "end_time": "2021-03-18T06:24:28.937032Z",
     "start_time": "2021-03-18T06:24:28.697774Z"
    }
   },
   "outputs": [
    {
     "data": {
      "text/plain": [
       "<matplotlib.axes._subplots.AxesSubplot at 0x1cbffdac190>"
      ]
     },
     "execution_count": 47,
     "metadata": {},
     "output_type": "execute_result"
    },
    {
     "data": {
      "image/png": "[encoded data removed]",
      "text/plain": [
       "<Figure size 432x288 with 1 Axes>"
      ]
     },
     "metadata": {
      "needs_background": "light"
     },
     "output_type": "display_data"
    }
   ],
   "source": [
    "import seaborn as sns\n",
    "imp = lgb_clf.feature_importance()\n",
    "fet = lgb_clf.feature_name()\n",
    "sns.barplot(x=imp, y=fet)\n"
   ]
  },
  {
   "cell_type": "code",
   "execution_count": 48,
   "metadata": {
    "ExecuteTime": {
     "end_time": "2021-03-18T06:25:20.860041Z",
     "start_time": "2021-03-18T06:25:20.845081Z"
    }
   },
   "outputs": [],
   "source": [
    "all_preds = np.vstack(all_preds)"
   ]
  },
  {
   "cell_type": "code",
   "execution_count": 49,
   "metadata": {
    "ExecuteTime": {
     "end_time": "2021-03-18T06:25:22.705484Z",
     "start_time": "2021-03-18T06:25:22.690602Z"
    }
   },
   "outputs": [],
   "source": [
    "preds = np.mean(all_preds,axis=0)"
   ]
  },
  {
   "cell_type": "code",
   "execution_count": 50,
   "metadata": {
    "ExecuteTime": {
     "end_time": "2021-03-18T06:25:34.664076Z",
     "start_time": "2021-03-18T06:25:34.657066Z"
    }
   },
   "outputs": [
    {
     "data": {
      "text/plain": [
       "(25000,)"
      ]
     },
     "execution_count": 50,
     "metadata": {},
     "output_type": "execute_result"
    }
   ],
   "source": [
    "preds.shape"
   ]
  },
  {
   "cell_type": "code",
   "execution_count": 52,
   "metadata": {
    "ExecuteTime": {
     "end_time": "2021-03-18T06:26:53.022574Z",
     "start_time": "2021-03-18T06:26:53.002595Z"
    }
   },
   "outputs": [
    {
     "data": {
      "text/html": [
       "<div>\n",
       "<style scoped>\n",
       "    .dataframe tbody tr th:only-of-type {\n",
       "        vertical-align: middle;\n",
       "    }\n",
       "\n",
       "    .dataframe tbody tr th {\n",
       "        vertical-align: top;\n",
       "    }\n",
       "\n",
       "    .dataframe thead th {\n",
       "        text-align: right;\n",
       "    }\n",
       "</style>\n",
       "<table border=\"1\" class=\"dataframe\">\n",
       "  <thead>\n",
       "    <tr style=\"text-align: right;\">\n",
       "      <th></th>\n",
       "      <th>Order_Ref_Number</th>\n",
       "      <th>Order_Repeat_Chance</th>\n",
       "    </tr>\n",
       "  </thead>\n",
       "  <tbody>\n",
       "    <tr>\n",
       "      <th>0</th>\n",
       "      <td>75722</td>\n",
       "      <td>0.518743</td>\n",
       "    </tr>\n",
       "    <tr>\n",
       "      <th>1</th>\n",
       "      <td>80185</td>\n",
       "      <td>0.309685</td>\n",
       "    </tr>\n",
       "    <tr>\n",
       "      <th>2</th>\n",
       "      <td>19865</td>\n",
       "      <td>0.423988</td>\n",
       "    </tr>\n",
       "    <tr>\n",
       "      <th>3</th>\n",
       "      <td>76700</td>\n",
       "      <td>0.405944</td>\n",
       "    </tr>\n",
       "    <tr>\n",
       "      <th>4</th>\n",
       "      <td>92992</td>\n",
       "      <td>0.541438</td>\n",
       "    </tr>\n",
       "    <tr>\n",
       "      <th>...</th>\n",
       "      <td>...</td>\n",
       "      <td>...</td>\n",
       "    </tr>\n",
       "    <tr>\n",
       "      <th>24995</th>\n",
       "      <td>21272</td>\n",
       "      <td>0.406208</td>\n",
       "    </tr>\n",
       "    <tr>\n",
       "      <th>24996</th>\n",
       "      <td>34015</td>\n",
       "      <td>0.504987</td>\n",
       "    </tr>\n",
       "    <tr>\n",
       "      <th>24997</th>\n",
       "      <td>81356</td>\n",
       "      <td>0.576928</td>\n",
       "    </tr>\n",
       "    <tr>\n",
       "      <th>24998</th>\n",
       "      <td>65721</td>\n",
       "      <td>0.431463</td>\n",
       "    </tr>\n",
       "    <tr>\n",
       "      <th>24999</th>\n",
       "      <td>11628</td>\n",
       "      <td>0.533824</td>\n",
       "    </tr>\n",
       "  </tbody>\n",
       "</table>\n",
       "<p>25000 rows × 2 columns</p>\n",
       "</div>"
      ],
      "text/plain": [
       "       Order_Ref_Number  Order_Repeat_Chance\n",
       "0                 75722             0.518743\n",
       "1                 80185             0.309685\n",
       "2                 19865             0.423988\n",
       "3                 76700             0.405944\n",
       "4                 92992             0.541438\n",
       "...                 ...                  ...\n",
       "24995             21272             0.406208\n",
       "24996             34015             0.504987\n",
       "24997             81356             0.576928\n",
       "24998             65721             0.431463\n",
       "24999             11628             0.533824\n",
       "\n",
       "[25000 rows x 2 columns]"
      ]
     },
     "execution_count": 52,
     "metadata": {},
     "output_type": "execute_result"
    }
   ],
   "source": [
    "submission = pd.DataFrame()\n",
    "submission['Order_Ref_Number'] = test['Order_Ref_Number']\n",
    "submission['Order_Repeat_Chance'] = preds\n",
    "submission"
   ]
  },
  {
   "cell_type": "code",
   "execution_count": 53,
   "metadata": {
    "ExecuteTime": {
     "end_time": "2021-03-18T06:27:10.492245Z",
     "start_time": "2021-03-18T06:27:10.389486Z"
    }
   },
   "outputs": [],
   "source": [
    "submission.to_csv('submission.csv',index=False)\n"
   ]
  },
  {
   "cell_type": "code",
   "execution_count": null,
   "metadata": {},
   "outputs": [],
   "source": []
  }
 ],
 "metadata": {
  "kernelspec": {
   "display_name": "Python 3",
   "language": "python",
   "name": "python3"
  },
  "language_info": {
   "codemirror_mode": {
    "name": "ipython",
    "version": 3
   },
   "file_extension": ".py",
   "mimetype": "text/x-python",
   "name": "python",
   "nbconvert_exporter": "python",
   "pygments_lexer": "ipython3",
   "version": "3.8.3"
  },
  "varInspector": {
   "cols": {
    "lenName": 16,
    "lenType": 16,
    "lenVar": 40
   },
   "kernels_config": {
    "python": {
     "delete_cmd_postfix": "",
     "delete_cmd_prefix": "del ",
     "library": "var_list.py",
     "varRefreshCmd": "print(var_dic_list())"
    },
    "r": {
     "delete_cmd_postfix": ") ",
     "delete_cmd_prefix": "rm(",
     "library": "var_list.r",
     "varRefreshCmd": "cat(var_dic_list()) "
    }
   },
   "types_to_exclude": [
    "module",
    "function",
    "builtin_function_or_method",
    "instance",
    "_Feature"
   ],
   "window_display": false
  }
 },
 "nbformat": 4,
 "nbformat_minor": 4
}
