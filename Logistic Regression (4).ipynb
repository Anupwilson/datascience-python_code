{
 "cells": [
  {
   "cell_type": "code",
   "execution_count": 1,
   "metadata": {
    "ExecuteTime": {
     "end_time": "2020-12-08T05:27:15.155814Z",
     "start_time": "2020-12-08T05:26:46.722714Z"
    }
   },
   "outputs": [],
   "source": [
    "import pandas as pd\n",
    "import numpy as np\n",
    "import seaborn as sb\n",
    "import matplotlib.pyplot as plt\n",
    "\n",
    "\n",
    "\n",
    "\n",
    " "
   ]
  },
  {
   "cell_type": "code",
   "execution_count": 38,
   "metadata": {
    "ExecuteTime": {
     "end_time": "2020-12-08T05:30:02.567467Z",
     "start_time": "2020-12-08T05:30:02.561484Z"
    }
   },
   "outputs": [],
   "source": [
    "from sklearn.linear_model import LogisticRegression\n",
    "#from sklearn.model_selection import train_test_split # train and test \n",
    "from sklearn import metrics\n",
    "#from sklearn import preprocessing\n",
    "from sklearn.metrics import classification_report "
   ]
  },
  {
   "cell_type": "code",
   "execution_count": 39,
   "metadata": {
    "ExecuteTime": {
     "end_time": "2020-12-08T05:30:07.892964Z",
     "start_time": "2020-12-08T05:30:07.554500Z"
    }
   },
   "outputs": [
    {
     "data": {
      "text/html": [
       "<div>\n",
       "<style scoped>\n",
       "    .dataframe tbody tr th:only-of-type {\n",
       "        vertical-align: middle;\n",
       "    }\n",
       "\n",
       "    .dataframe tbody tr th {\n",
       "        vertical-align: top;\n",
       "    }\n",
       "\n",
       "    .dataframe thead th {\n",
       "        text-align: right;\n",
       "    }\n",
       "</style>\n",
       "<table border=\"1\" class=\"dataframe\">\n",
       "  <thead>\n",
       "    <tr style=\"text-align: right;\">\n",
       "      <th></th>\n",
       "      <th>CASENUM</th>\n",
       "      <th>ATTORNEY</th>\n",
       "      <th>CLMSEX</th>\n",
       "      <th>CLMINSUR</th>\n",
       "      <th>SEATBELT</th>\n",
       "      <th>CLMAGE</th>\n",
       "      <th>LOSS</th>\n",
       "    </tr>\n",
       "  </thead>\n",
       "  <tbody>\n",
       "    <tr>\n",
       "      <th>0</th>\n",
       "      <td>5</td>\n",
       "      <td>0</td>\n",
       "      <td>0.0</td>\n",
       "      <td>1.0</td>\n",
       "      <td>0.0</td>\n",
       "      <td>50.0</td>\n",
       "      <td>34.940</td>\n",
       "    </tr>\n",
       "    <tr>\n",
       "      <th>1</th>\n",
       "      <td>3</td>\n",
       "      <td>1</td>\n",
       "      <td>1.0</td>\n",
       "      <td>0.0</td>\n",
       "      <td>0.0</td>\n",
       "      <td>18.0</td>\n",
       "      <td>0.891</td>\n",
       "    </tr>\n",
       "    <tr>\n",
       "      <th>2</th>\n",
       "      <td>66</td>\n",
       "      <td>1</td>\n",
       "      <td>0.0</td>\n",
       "      <td>1.0</td>\n",
       "      <td>0.0</td>\n",
       "      <td>5.0</td>\n",
       "      <td>0.330</td>\n",
       "    </tr>\n",
       "    <tr>\n",
       "      <th>3</th>\n",
       "      <td>70</td>\n",
       "      <td>0</td>\n",
       "      <td>0.0</td>\n",
       "      <td>1.0</td>\n",
       "      <td>1.0</td>\n",
       "      <td>31.0</td>\n",
       "      <td>0.037</td>\n",
       "    </tr>\n",
       "    <tr>\n",
       "      <th>4</th>\n",
       "      <td>96</td>\n",
       "      <td>1</td>\n",
       "      <td>0.0</td>\n",
       "      <td>1.0</td>\n",
       "      <td>0.0</td>\n",
       "      <td>30.0</td>\n",
       "      <td>0.038</td>\n",
       "    </tr>\n",
       "    <tr>\n",
       "      <th>...</th>\n",
       "      <td>...</td>\n",
       "      <td>...</td>\n",
       "      <td>...</td>\n",
       "      <td>...</td>\n",
       "      <td>...</td>\n",
       "      <td>...</td>\n",
       "      <td>...</td>\n",
       "    </tr>\n",
       "    <tr>\n",
       "      <th>1335</th>\n",
       "      <td>34100</td>\n",
       "      <td>1</td>\n",
       "      <td>0.0</td>\n",
       "      <td>1.0</td>\n",
       "      <td>0.0</td>\n",
       "      <td>NaN</td>\n",
       "      <td>0.576</td>\n",
       "    </tr>\n",
       "    <tr>\n",
       "      <th>1336</th>\n",
       "      <td>34110</td>\n",
       "      <td>0</td>\n",
       "      <td>1.0</td>\n",
       "      <td>1.0</td>\n",
       "      <td>0.0</td>\n",
       "      <td>46.0</td>\n",
       "      <td>3.705</td>\n",
       "    </tr>\n",
       "    <tr>\n",
       "      <th>1337</th>\n",
       "      <td>34113</td>\n",
       "      <td>1</td>\n",
       "      <td>1.0</td>\n",
       "      <td>1.0</td>\n",
       "      <td>0.0</td>\n",
       "      <td>39.0</td>\n",
       "      <td>0.099</td>\n",
       "    </tr>\n",
       "    <tr>\n",
       "      <th>1338</th>\n",
       "      <td>34145</td>\n",
       "      <td>0</td>\n",
       "      <td>1.0</td>\n",
       "      <td>0.0</td>\n",
       "      <td>0.0</td>\n",
       "      <td>8.0</td>\n",
       "      <td>3.177</td>\n",
       "    </tr>\n",
       "    <tr>\n",
       "      <th>1339</th>\n",
       "      <td>34153</td>\n",
       "      <td>1</td>\n",
       "      <td>1.0</td>\n",
       "      <td>1.0</td>\n",
       "      <td>0.0</td>\n",
       "      <td>30.0</td>\n",
       "      <td>0.688</td>\n",
       "    </tr>\n",
       "  </tbody>\n",
       "</table>\n",
       "<p>1340 rows × 7 columns</p>\n",
       "</div>"
      ],
      "text/plain": [
       "      CASENUM  ATTORNEY  CLMSEX  CLMINSUR  SEATBELT  CLMAGE    LOSS\n",
       "0           5         0     0.0       1.0       0.0    50.0  34.940\n",
       "1           3         1     1.0       0.0       0.0    18.0   0.891\n",
       "2          66         1     0.0       1.0       0.0     5.0   0.330\n",
       "3          70         0     0.0       1.0       1.0    31.0   0.037\n",
       "4          96         1     0.0       1.0       0.0    30.0   0.038\n",
       "...       ...       ...     ...       ...       ...     ...     ...\n",
       "1335    34100         1     0.0       1.0       0.0     NaN   0.576\n",
       "1336    34110         0     1.0       1.0       0.0    46.0   3.705\n",
       "1337    34113         1     1.0       1.0       0.0    39.0   0.099\n",
       "1338    34145         0     1.0       0.0       0.0     8.0   3.177\n",
       "1339    34153         1     1.0       1.0       0.0    30.0   0.688\n",
       "\n",
       "[1340 rows x 7 columns]"
      ]
     },
     "execution_count": 39,
     "metadata": {},
     "output_type": "execute_result"
    }
   ],
   "source": [
    "# loading claimants data \n",
    "\n",
    "claimants = pd.read_csv(\"claimants.csv\")\n",
    "claimants\n",
    "\n",
    "\n"
   ]
  },
  {
   "cell_type": "code",
   "execution_count": 40,
   "metadata": {
    "ExecuteTime": {
     "end_time": "2020-12-08T05:30:09.382553Z",
     "start_time": "2020-12-08T05:30:09.274187Z"
    }
   },
   "outputs": [
    {
     "data": {
      "text/plain": [
       "CASENUM       0\n",
       "ATTORNEY      0\n",
       "CLMSEX       12\n",
       "CLMINSUR     41\n",
       "SEATBELT     48\n",
       "CLMAGE      189\n",
       "LOSS          0\n",
       "dtype: int64"
      ]
     },
     "execution_count": 40,
     "metadata": {},
     "output_type": "execute_result"
    }
   ],
   "source": [
    "claimants.head(10)\n",
    "claimants.isnull().sum()\n",
    "\n",
    " "
   ]
  },
  {
   "cell_type": "code",
   "execution_count": 41,
   "metadata": {
    "ExecuteTime": {
     "end_time": "2020-12-08T05:30:11.971492Z",
     "start_time": "2020-12-08T05:30:11.760189Z"
    }
   },
   "outputs": [
    {
     "data": {
      "text/html": [
       "<div>\n",
       "<style scoped>\n",
       "    .dataframe tbody tr th:only-of-type {\n",
       "        vertical-align: middle;\n",
       "    }\n",
       "\n",
       "    .dataframe tbody tr th {\n",
       "        vertical-align: top;\n",
       "    }\n",
       "\n",
       "    .dataframe thead th {\n",
       "        text-align: right;\n",
       "    }\n",
       "</style>\n",
       "<table border=\"1\" class=\"dataframe\">\n",
       "  <thead>\n",
       "    <tr style=\"text-align: right;\">\n",
       "      <th></th>\n",
       "      <th>CASENUM</th>\n",
       "      <th>ATTORNEY</th>\n",
       "      <th>CLMSEX</th>\n",
       "      <th>CLMINSUR</th>\n",
       "      <th>SEATBELT</th>\n",
       "      <th>CLMAGE</th>\n",
       "      <th>LOSS</th>\n",
       "    </tr>\n",
       "  </thead>\n",
       "  <tbody>\n",
       "    <tr>\n",
       "      <th>count</th>\n",
       "      <td>1340.000000</td>\n",
       "      <td>1340.000000</td>\n",
       "      <td>1328.000000</td>\n",
       "      <td>1299.000000</td>\n",
       "      <td>1292.000000</td>\n",
       "      <td>1151.000000</td>\n",
       "      <td>1340.000000</td>\n",
       "    </tr>\n",
       "    <tr>\n",
       "      <th>mean</th>\n",
       "      <td>11202.001493</td>\n",
       "      <td>0.488806</td>\n",
       "      <td>0.558735</td>\n",
       "      <td>0.907621</td>\n",
       "      <td>0.017028</td>\n",
       "      <td>28.414422</td>\n",
       "      <td>3.806307</td>\n",
       "    </tr>\n",
       "    <tr>\n",
       "      <th>std</th>\n",
       "      <td>9512.750796</td>\n",
       "      <td>0.500061</td>\n",
       "      <td>0.496725</td>\n",
       "      <td>0.289671</td>\n",
       "      <td>0.129425</td>\n",
       "      <td>20.304451</td>\n",
       "      <td>10.636903</td>\n",
       "    </tr>\n",
       "    <tr>\n",
       "      <th>min</th>\n",
       "      <td>0.000000</td>\n",
       "      <td>0.000000</td>\n",
       "      <td>0.000000</td>\n",
       "      <td>0.000000</td>\n",
       "      <td>0.000000</td>\n",
       "      <td>0.000000</td>\n",
       "      <td>0.000000</td>\n",
       "    </tr>\n",
       "    <tr>\n",
       "      <th>25%</th>\n",
       "      <td>4177.000000</td>\n",
       "      <td>0.000000</td>\n",
       "      <td>0.000000</td>\n",
       "      <td>1.000000</td>\n",
       "      <td>0.000000</td>\n",
       "      <td>9.000000</td>\n",
       "      <td>0.400000</td>\n",
       "    </tr>\n",
       "    <tr>\n",
       "      <th>50%</th>\n",
       "      <td>8756.500000</td>\n",
       "      <td>0.000000</td>\n",
       "      <td>1.000000</td>\n",
       "      <td>1.000000</td>\n",
       "      <td>0.000000</td>\n",
       "      <td>30.000000</td>\n",
       "      <td>1.069500</td>\n",
       "    </tr>\n",
       "    <tr>\n",
       "      <th>75%</th>\n",
       "      <td>15702.500000</td>\n",
       "      <td>1.000000</td>\n",
       "      <td>1.000000</td>\n",
       "      <td>1.000000</td>\n",
       "      <td>0.000000</td>\n",
       "      <td>43.000000</td>\n",
       "      <td>3.781500</td>\n",
       "    </tr>\n",
       "    <tr>\n",
       "      <th>max</th>\n",
       "      <td>34153.000000</td>\n",
       "      <td>1.000000</td>\n",
       "      <td>1.000000</td>\n",
       "      <td>1.000000</td>\n",
       "      <td>1.000000</td>\n",
       "      <td>95.000000</td>\n",
       "      <td>173.604000</td>\n",
       "    </tr>\n",
       "  </tbody>\n",
       "</table>\n",
       "</div>"
      ],
      "text/plain": [
       "            CASENUM     ATTORNEY       CLMSEX     CLMINSUR     SEATBELT  \\\n",
       "count   1340.000000  1340.000000  1328.000000  1299.000000  1292.000000   \n",
       "mean   11202.001493     0.488806     0.558735     0.907621     0.017028   \n",
       "std     9512.750796     0.500061     0.496725     0.289671     0.129425   \n",
       "min        0.000000     0.000000     0.000000     0.000000     0.000000   \n",
       "25%     4177.000000     0.000000     0.000000     1.000000     0.000000   \n",
       "50%     8756.500000     0.000000     1.000000     1.000000     0.000000   \n",
       "75%    15702.500000     1.000000     1.000000     1.000000     0.000000   \n",
       "max    34153.000000     1.000000     1.000000     1.000000     1.000000   \n",
       "\n",
       "            CLMAGE         LOSS  \n",
       "count  1151.000000  1340.000000  \n",
       "mean     28.414422     3.806307  \n",
       "std      20.304451    10.636903  \n",
       "min       0.000000     0.000000  \n",
       "25%       9.000000     0.400000  \n",
       "50%      30.000000     1.069500  \n",
       "75%      43.000000     3.781500  \n",
       "max      95.000000   173.604000  "
      ]
     },
     "execution_count": 41,
     "metadata": {},
     "output_type": "execute_result"
    }
   ],
   "source": [
    "claimants.describe() "
   ]
  },
  {
   "cell_type": "code",
   "execution_count": 42,
   "metadata": {
    "ExecuteTime": {
     "end_time": "2020-12-08T05:30:16.892538Z",
     "start_time": "2020-12-08T05:30:15.847824Z"
    }
   },
   "outputs": [
    {
     "data": {
      "text/plain": [
       "<matplotlib.axes._subplots.AxesSubplot at 0x18709bc3bb0>"
      ]
     },
     "execution_count": 42,
     "metadata": {},
     "output_type": "execute_result"
    },
    {
     "data": {
      "image/png": "[encoded data removed]",
      "text/plain": [
       "<Figure size 432x288 with 1 Axes>"
      ]
     },
     "metadata": {
      "needs_background": "light"
     },
     "output_type": "display_data"
    }
   ],
   "source": [
    "\n",
    "sb.boxplot(x=\"ATTORNEY\",y=\"CLMAGE\",data=claimants,palette=\"hls\") "
   ]
  },
  {
   "cell_type": "code",
   "execution_count": 43,
   "metadata": {
    "ExecuteTime": {
     "end_time": "2020-12-08T05:30:19.549648Z",
     "start_time": "2020-12-08T05:30:19.541563Z"
    }
   },
   "outputs": [],
   "source": [
    "# Droping first column \n",
    "claimants.drop([\"CASENUM\"],inplace=True,axis = 1)\n",
    "\n",
    "#cat_cols = [\"ATTORNEY\",\"CLMSEX\",\"SEATBELT\",\"CLMINSUR\"]\n",
    "#cont_cols = [\"CLMAGE\",\"LOSS\"]\n",
    "\n",
    "# Getting the barplot for the categorical columns \n",
    "\n",
    "\n",
    " \n"
   ]
  },
  {
   "cell_type": "code",
   "execution_count": 44,
   "metadata": {
    "ExecuteTime": {
     "end_time": "2020-12-08T05:30:22.655450Z",
     "start_time": "2020-12-08T05:30:22.626515Z"
    }
   },
   "outputs": [
    {
     "data": {
      "text/html": [
       "<div>\n",
       "<style scoped>\n",
       "    .dataframe tbody tr th:only-of-type {\n",
       "        vertical-align: middle;\n",
       "    }\n",
       "\n",
       "    .dataframe tbody tr th {\n",
       "        vertical-align: top;\n",
       "    }\n",
       "\n",
       "    .dataframe thead th {\n",
       "        text-align: right;\n",
       "    }\n",
       "</style>\n",
       "<table border=\"1\" class=\"dataframe\">\n",
       "  <thead>\n",
       "    <tr style=\"text-align: right;\">\n",
       "      <th></th>\n",
       "      <th>ATTORNEY</th>\n",
       "      <th>CLMSEX</th>\n",
       "      <th>CLMINSUR</th>\n",
       "      <th>SEATBELT</th>\n",
       "      <th>CLMAGE</th>\n",
       "      <th>LOSS</th>\n",
       "    </tr>\n",
       "  </thead>\n",
       "  <tbody>\n",
       "    <tr>\n",
       "      <th>0</th>\n",
       "      <td>0</td>\n",
       "      <td>0.0</td>\n",
       "      <td>1.0</td>\n",
       "      <td>0.0</td>\n",
       "      <td>50.0</td>\n",
       "      <td>34.940</td>\n",
       "    </tr>\n",
       "    <tr>\n",
       "      <th>1</th>\n",
       "      <td>1</td>\n",
       "      <td>1.0</td>\n",
       "      <td>0.0</td>\n",
       "      <td>0.0</td>\n",
       "      <td>18.0</td>\n",
       "      <td>0.891</td>\n",
       "    </tr>\n",
       "    <tr>\n",
       "      <th>2</th>\n",
       "      <td>1</td>\n",
       "      <td>0.0</td>\n",
       "      <td>1.0</td>\n",
       "      <td>0.0</td>\n",
       "      <td>5.0</td>\n",
       "      <td>0.330</td>\n",
       "    </tr>\n",
       "    <tr>\n",
       "      <th>3</th>\n",
       "      <td>0</td>\n",
       "      <td>0.0</td>\n",
       "      <td>1.0</td>\n",
       "      <td>1.0</td>\n",
       "      <td>31.0</td>\n",
       "      <td>0.037</td>\n",
       "    </tr>\n",
       "    <tr>\n",
       "      <th>4</th>\n",
       "      <td>1</td>\n",
       "      <td>0.0</td>\n",
       "      <td>1.0</td>\n",
       "      <td>0.0</td>\n",
       "      <td>30.0</td>\n",
       "      <td>0.038</td>\n",
       "    </tr>\n",
       "    <tr>\n",
       "      <th>...</th>\n",
       "      <td>...</td>\n",
       "      <td>...</td>\n",
       "      <td>...</td>\n",
       "      <td>...</td>\n",
       "      <td>...</td>\n",
       "      <td>...</td>\n",
       "    </tr>\n",
       "    <tr>\n",
       "      <th>1335</th>\n",
       "      <td>1</td>\n",
       "      <td>0.0</td>\n",
       "      <td>1.0</td>\n",
       "      <td>0.0</td>\n",
       "      <td>NaN</td>\n",
       "      <td>0.576</td>\n",
       "    </tr>\n",
       "    <tr>\n",
       "      <th>1336</th>\n",
       "      <td>0</td>\n",
       "      <td>1.0</td>\n",
       "      <td>1.0</td>\n",
       "      <td>0.0</td>\n",
       "      <td>46.0</td>\n",
       "      <td>3.705</td>\n",
       "    </tr>\n",
       "    <tr>\n",
       "      <th>1337</th>\n",
       "      <td>1</td>\n",
       "      <td>1.0</td>\n",
       "      <td>1.0</td>\n",
       "      <td>0.0</td>\n",
       "      <td>39.0</td>\n",
       "      <td>0.099</td>\n",
       "    </tr>\n",
       "    <tr>\n",
       "      <th>1338</th>\n",
       "      <td>0</td>\n",
       "      <td>1.0</td>\n",
       "      <td>0.0</td>\n",
       "      <td>0.0</td>\n",
       "      <td>8.0</td>\n",
       "      <td>3.177</td>\n",
       "    </tr>\n",
       "    <tr>\n",
       "      <th>1339</th>\n",
       "      <td>1</td>\n",
       "      <td>1.0</td>\n",
       "      <td>1.0</td>\n",
       "      <td>0.0</td>\n",
       "      <td>30.0</td>\n",
       "      <td>0.688</td>\n",
       "    </tr>\n",
       "  </tbody>\n",
       "</table>\n",
       "<p>1340 rows × 6 columns</p>\n",
       "</div>"
      ],
      "text/plain": [
       "      ATTORNEY  CLMSEX  CLMINSUR  SEATBELT  CLMAGE    LOSS\n",
       "0            0     0.0       1.0       0.0    50.0  34.940\n",
       "1            1     1.0       0.0       0.0    18.0   0.891\n",
       "2            1     0.0       1.0       0.0     5.0   0.330\n",
       "3            0     0.0       1.0       1.0    31.0   0.037\n",
       "4            1     0.0       1.0       0.0    30.0   0.038\n",
       "...        ...     ...       ...       ...     ...     ...\n",
       "1335         1     0.0       1.0       0.0     NaN   0.576\n",
       "1336         0     1.0       1.0       0.0    46.0   3.705\n",
       "1337         1     1.0       1.0       0.0    39.0   0.099\n",
       "1338         0     1.0       0.0       0.0     8.0   3.177\n",
       "1339         1     1.0       1.0       0.0    30.0   0.688\n",
       "\n",
       "[1340 rows x 6 columns]"
      ]
     },
     "execution_count": 44,
     "metadata": {},
     "output_type": "execute_result"
    }
   ],
   "source": [
    "claimants  "
   ]
  },
  {
   "cell_type": "code",
   "execution_count": 45,
   "metadata": {
    "ExecuteTime": {
     "end_time": "2020-12-08T05:30:24.220489Z",
     "start_time": "2020-12-08T05:30:24.017111Z"
    }
   },
   "outputs": [
    {
     "data": {
      "text/plain": [
       "<matplotlib.axes._subplots.AxesSubplot at 0x1870a330b80>"
      ]
     },
     "execution_count": 45,
     "metadata": {},
     "output_type": "execute_result"
    },
    {
     "data": {
      "image/png": "[encoded data removed]",
      "text/plain": [
       "<Figure size 432x288 with 1 Axes>"
      ]
     },
     "metadata": {
      "needs_background": "light"
     },
     "output_type": "display_data"
    }
   ],
   "source": [
    "sb.countplot(x=\"ATTORNEY\",data=claimants,palette=\"hls\")\n",
    " "
   ]
  },
  {
   "cell_type": "code",
   "execution_count": 46,
   "metadata": {
    "ExecuteTime": {
     "end_time": "2020-12-08T05:30:28.570582Z",
     "start_time": "2020-12-08T05:30:28.400172Z"
    }
   },
   "outputs": [
    {
     "data": {
      "text/html": [
       "<div>\n",
       "<style scoped>\n",
       "    .dataframe tbody tr th:only-of-type {\n",
       "        vertical-align: middle;\n",
       "    }\n",
       "\n",
       "    .dataframe tbody tr th {\n",
       "        vertical-align: top;\n",
       "    }\n",
       "\n",
       "    .dataframe thead th {\n",
       "        text-align: right;\n",
       "    }\n",
       "</style>\n",
       "<table border=\"1\" class=\"dataframe\">\n",
       "  <thead>\n",
       "    <tr style=\"text-align: right;\">\n",
       "      <th>CLMINSUR</th>\n",
       "      <th>0.0</th>\n",
       "      <th>1.0</th>\n",
       "    </tr>\n",
       "    <tr>\n",
       "      <th>ATTORNEY</th>\n",
       "      <th></th>\n",
       "      <th></th>\n",
       "    </tr>\n",
       "  </thead>\n",
       "  <tbody>\n",
       "    <tr>\n",
       "      <th>0</th>\n",
       "      <td>76</td>\n",
       "      <td>585</td>\n",
       "    </tr>\n",
       "    <tr>\n",
       "      <th>1</th>\n",
       "      <td>44</td>\n",
       "      <td>594</td>\n",
       "    </tr>\n",
       "  </tbody>\n",
       "</table>\n",
       "</div>"
      ],
      "text/plain": [
       "CLMINSUR  0.0  1.0\n",
       "ATTORNEY          \n",
       "0          76  585\n",
       "1          44  594"
      ]
     },
     "execution_count": 46,
     "metadata": {},
     "output_type": "execute_result"
    }
   ],
   "source": [
    "pd.crosstab(claimants.ATTORNEY,claimants.CLMINSUR) "
   ]
  },
  {
   "cell_type": "code",
   "execution_count": 47,
   "metadata": {
    "ExecuteTime": {
     "end_time": "2020-12-08T05:30:32.329015Z",
     "start_time": "2020-12-08T05:30:31.682918Z"
    }
   },
   "outputs": [
    {
     "data": {
      "text/plain": [
       "<matplotlib.axes._subplots.AxesSubplot at 0x1870a3e7eb0>"
      ]
     },
     "execution_count": 47,
     "metadata": {},
     "output_type": "execute_result"
    },
    {
     "data": {
      "image/png": "[encoded data removed]",
      "text/plain": [
       "<Figure size 432x288 with 1 Axes>"
      ]
     },
     "metadata": {
      "needs_background": "light"
     },
     "output_type": "display_data"
    }
   ],
   "source": [
    "pd.crosstab(claimants.ATTORNEY,claimants.CLMINSUR).plot(kind = 'bar') "
   ]
  },
  {
   "cell_type": "code",
   "execution_count": 48,
   "metadata": {
    "ExecuteTime": {
     "end_time": "2020-12-08T05:30:36.424210Z",
     "start_time": "2020-12-08T05:30:35.956452Z"
    }
   },
   "outputs": [
    {
     "data": {
      "text/plain": [
       "<matplotlib.axes._subplots.AxesSubplot at 0x1870a4a1a60>"
      ]
     },
     "execution_count": 48,
     "metadata": {},
     "output_type": "execute_result"
    },
    {
     "data": {
      "image/png": "[encoded data removed]",
      "text/plain": [
       "<Figure size 432x288 with 1 Axes>"
      ]
     },
     "metadata": {
      "needs_background": "light"
     },
     "output_type": "display_data"
    },
    {
     "data": {
      "image/png": "[encoded data removed]",
      "text/plain": [
       "<Figure size 432x288 with 1 Axes>"
      ]
     },
     "metadata": {
      "needs_background": "light"
     },
     "output_type": "display_data"
    }
   ],
   "source": [
    "\n",
    "sb.countplot(x=\"SEATBELT\",data=claimants,palette=\"hls\")\n",
    "pd.crosstab(claimants.SEATBELT,claimants.CLMINSUR).plot(kind=\"bar\")\n",
    "\n",
    "sb.countplot(x=\"CLMINSUR\",data=claimants,palette=\"hls\")\n",
    " "
   ]
  },
  {
   "cell_type": "code",
   "execution_count": 49,
   "metadata": {
    "ExecuteTime": {
     "end_time": "2020-12-08T05:30:38.123873Z",
     "start_time": "2020-12-08T05:30:37.840668Z"
    }
   },
   "outputs": [
    {
     "data": {
      "text/plain": [
       "<matplotlib.axes._subplots.AxesSubplot at 0x1870a488dc0>"
      ]
     },
     "execution_count": 49,
     "metadata": {},
     "output_type": "execute_result"
    },
    {
     "data": {
      "image/png": "[encoded data removed]",
      "text/plain": [
       "<Figure size 432x288 with 1 Axes>"
      ]
     },
     "metadata": {
      "needs_background": "light"
     },
     "output_type": "display_data"
    }
   ],
   "source": [
    "sb.countplot(x=\"CLMSEX\",data=claimants,palette=\"hls\") "
   ]
  },
  {
   "cell_type": "code",
   "execution_count": 50,
   "metadata": {
    "ExecuteTime": {
     "end_time": "2020-12-08T05:30:39.500746Z",
     "start_time": "2020-12-08T05:30:39.221489Z"
    }
   },
   "outputs": [
    {
     "data": {
      "text/plain": [
       "<matplotlib.axes._subplots.AxesSubplot at 0x1870a453fd0>"
      ]
     },
     "execution_count": 50,
     "metadata": {},
     "output_type": "execute_result"
    },
    {
     "data": {
      "image/png": "[encoded data removed]",
      "text/plain": [
       "<Figure size 432x288 with 1 Axes>"
      ]
     },
     "metadata": {
      "needs_background": "light"
     },
     "output_type": "display_data"
    }
   ],
   "source": [
    "pd.crosstab(claimants.CLMSEX,claimants.CLMINSUR).plot(kind=\"bar\")"
   ]
  },
  {
   "cell_type": "code",
   "execution_count": 51,
   "metadata": {
    "ExecuteTime": {
     "end_time": "2020-12-08T05:30:41.354202Z",
     "start_time": "2020-12-08T05:30:41.328153Z"
    }
   },
   "outputs": [
    {
     "data": {
      "text/plain": [
       "ATTORNEY      0\n",
       "CLMSEX       12\n",
       "CLMINSUR     41\n",
       "SEATBELT     48\n",
       "CLMAGE      189\n",
       "LOSS          0\n",
       "dtype: int64"
      ]
     },
     "execution_count": 51,
     "metadata": {},
     "output_type": "execute_result"
    }
   ],
   "source": [
    "claimants.isnull().sum()\n",
    "#claimants.shape # 1340 6 => Before dropping null values\n",
    "\n",
    "# To drop null values ( dropping rows)\n",
    "\n",
    "#claimants.dropna().shape # 1096 6 => After dropping null values\n",
    "\n",
    "\n",
    "\n",
    "\n"
   ]
  },
  {
   "cell_type": "code",
   "execution_count": 52,
   "metadata": {
    "ExecuteTime": {
     "end_time": "2020-12-08T05:30:43.087242Z",
     "start_time": "2020-12-08T05:30:43.073625Z"
    }
   },
   "outputs": [],
   "source": [
    "# Fill nan values with mode of the categorical column \n",
    "\n",
    "claimants[\"CLMSEX\"].fillna(1,inplace=True) # claimants.CLMSEX.mode() = 1\n",
    "\n",
    "claimants[\"CLMINSUR\"].fillna(1,inplace=True) # claimants.CLMINSUR.mode() = 1\n",
    "\n",
    "claimants[\"SEATBELT\"].fillna(0,inplace=True) # claimants.SEATBELT.mode() = 0\n"
   ]
  },
  {
   "cell_type": "code",
   "execution_count": 53,
   "metadata": {
    "ExecuteTime": {
     "end_time": "2020-12-08T05:30:46.136903Z",
     "start_time": "2020-12-08T05:30:46.121000Z"
    }
   },
   "outputs": [],
   "source": [
    "claimants[\"CLMINSUR\"].fillna(1,inplace=True) # claimants.CLMINSUR.mode() = 1 "
   ]
  },
  {
   "cell_type": "code",
   "execution_count": 54,
   "metadata": {
    "ExecuteTime": {
     "end_time": "2020-12-08T05:30:52.895357Z",
     "start_time": "2020-12-08T05:30:52.879378Z"
    }
   },
   "outputs": [
    {
     "data": {
      "text/plain": [
       "28.414422241529106"
      ]
     },
     "execution_count": 54,
     "metadata": {},
     "output_type": "execute_result"
    }
   ],
   "source": [
    "claimants.CLMSEX.mode()\n",
    "claimants.CLMINSUR.mode()\n",
    "claimants.SEATBELT.mode()\n",
    "claimants.CLMAGE.mean()\n",
    "\n",
    "\n",
    "\n"
   ]
  },
  {
   "cell_type": "code",
   "execution_count": 55,
   "metadata": {
    "ExecuteTime": {
     "end_time": "2020-12-08T05:30:54.463604Z",
     "start_time": "2020-12-08T05:30:54.441602Z"
    }
   },
   "outputs": [],
   "source": [
    "claimants.CLMAGE.fillna(28.4144,inplace=True) # claimants.CLMAGE.mean() = 28.4\n"
   ]
  },
  {
   "cell_type": "code",
   "execution_count": 56,
   "metadata": {
    "ExecuteTime": {
     "end_time": "2020-12-08T05:30:57.678383Z",
     "start_time": "2020-12-08T05:30:57.663423Z"
    }
   },
   "outputs": [
    {
     "data": {
      "text/plain": [
       "ATTORNEY    0\n",
       "CLMSEX      0\n",
       "CLMINSUR    0\n",
       "SEATBELT    0\n",
       "CLMAGE      0\n",
       "LOSS        0\n",
       "dtype: int64"
      ]
     },
     "execution_count": 56,
     "metadata": {},
     "output_type": "execute_result"
    }
   ],
   "source": [
    "claimants.isnull().sum() "
   ]
  },
  {
   "cell_type": "code",
   "execution_count": 57,
   "metadata": {
    "ExecuteTime": {
     "end_time": "2020-12-08T05:30:59.433763Z",
     "start_time": "2020-12-08T05:30:59.418796Z"
    }
   },
   "outputs": [
    {
     "data": {
      "text/plain": [
       "(1340, 6)"
      ]
     },
     "execution_count": 57,
     "metadata": {},
     "output_type": "execute_result"
    }
   ],
   "source": [
    "# Model building \n",
    "from sklearn.linear_model import LogisticRegression\n",
    "claimants.shape  "
   ]
  },
  {
   "cell_type": "code",
   "execution_count": 58,
   "metadata": {
    "ExecuteTime": {
     "end_time": "2020-12-08T05:31:01.674952Z",
     "start_time": "2020-12-08T05:31:01.319879Z"
    }
   },
   "outputs": [
    {
     "data": {
      "text/plain": [
       "LogisticRegression()"
      ]
     },
     "execution_count": 58,
     "metadata": {},
     "output_type": "execute_result"
    }
   ],
   "source": [
    "X = claimants.iloc[:,[1,2,3,4,5]]\n",
    "Y = claimants.iloc[:,0]\n",
    "classifier = LogisticRegression()\n",
    "classifier.fit(X,Y)\n",
    " "
   ]
  },
  {
   "cell_type": "code",
   "execution_count": 59,
   "metadata": {
    "ExecuteTime": {
     "end_time": "2020-12-08T05:31:05.698428Z",
     "start_time": "2020-12-08T05:31:05.677323Z"
    }
   },
   "outputs": [
    {
     "data": {
      "text/plain": [
       "array([[ 0.31711334,  0.5055713 , -0.52814335,  0.0066041 , -0.3224325 ]])"
      ]
     },
     "execution_count": 59,
     "metadata": {},
     "output_type": "execute_result"
    }
   ],
   "source": [
    "classifier.coef_  # coefficients of features  "
   ]
  },
  {
   "cell_type": "code",
   "execution_count": 60,
   "metadata": {
    "ExecuteTime": {
     "end_time": "2020-12-08T05:31:07.363730Z",
     "start_time": "2020-12-08T05:31:07.346584Z"
    }
   },
   "outputs": [
    {
     "data": {
      "text/plain": [
       "array([[9.99974075e-01, 2.59253820e-05],\n",
       "       [4.95386951e-01, 5.04613049e-01],\n",
       "       [4.25082812e-01, 5.74917188e-01],\n",
       "       ...,\n",
       "       [2.85349951e-01, 7.14650049e-01],\n",
       "       [6.86685509e-01, 3.13314491e-01],\n",
       "       [3.38781941e-01, 6.61218059e-01]])"
      ]
     },
     "execution_count": 60,
     "metadata": {},
     "output_type": "execute_result"
    }
   ],
   "source": [
    "classifier.predict_proba (X) # Probability values  "
   ]
  },
  {
   "cell_type": "code",
   "execution_count": 61,
   "metadata": {
    "ExecuteTime": {
     "end_time": "2020-12-08T05:31:10.772630Z",
     "start_time": "2020-12-08T05:31:10.729630Z"
    }
   },
   "outputs": [
    {
     "data": {
      "text/html": [
       "<div>\n",
       "<style scoped>\n",
       "    .dataframe tbody tr th:only-of-type {\n",
       "        vertical-align: middle;\n",
       "    }\n",
       "\n",
       "    .dataframe tbody tr th {\n",
       "        vertical-align: top;\n",
       "    }\n",
       "\n",
       "    .dataframe thead th {\n",
       "        text-align: right;\n",
       "    }\n",
       "</style>\n",
       "<table border=\"1\" class=\"dataframe\">\n",
       "  <thead>\n",
       "    <tr style=\"text-align: right;\">\n",
       "      <th></th>\n",
       "      <th>ATTORNEY</th>\n",
       "      <th>CLMSEX</th>\n",
       "      <th>CLMINSUR</th>\n",
       "      <th>SEATBELT</th>\n",
       "      <th>CLMAGE</th>\n",
       "      <th>LOSS</th>\n",
       "      <th>y_pred</th>\n",
       "    </tr>\n",
       "  </thead>\n",
       "  <tbody>\n",
       "    <tr>\n",
       "      <th>0</th>\n",
       "      <td>0</td>\n",
       "      <td>0.0</td>\n",
       "      <td>1.0</td>\n",
       "      <td>0.0</td>\n",
       "      <td>50.0000</td>\n",
       "      <td>34.940</td>\n",
       "      <td>0</td>\n",
       "    </tr>\n",
       "    <tr>\n",
       "      <th>1</th>\n",
       "      <td>1</td>\n",
       "      <td>1.0</td>\n",
       "      <td>0.0</td>\n",
       "      <td>0.0</td>\n",
       "      <td>18.0000</td>\n",
       "      <td>0.891</td>\n",
       "      <td>1</td>\n",
       "    </tr>\n",
       "    <tr>\n",
       "      <th>2</th>\n",
       "      <td>1</td>\n",
       "      <td>0.0</td>\n",
       "      <td>1.0</td>\n",
       "      <td>0.0</td>\n",
       "      <td>5.0000</td>\n",
       "      <td>0.330</td>\n",
       "      <td>1</td>\n",
       "    </tr>\n",
       "    <tr>\n",
       "      <th>3</th>\n",
       "      <td>0</td>\n",
       "      <td>0.0</td>\n",
       "      <td>1.0</td>\n",
       "      <td>1.0</td>\n",
       "      <td>31.0000</td>\n",
       "      <td>0.037</td>\n",
       "      <td>1</td>\n",
       "    </tr>\n",
       "    <tr>\n",
       "      <th>4</th>\n",
       "      <td>1</td>\n",
       "      <td>0.0</td>\n",
       "      <td>1.0</td>\n",
       "      <td>0.0</td>\n",
       "      <td>30.0000</td>\n",
       "      <td>0.038</td>\n",
       "      <td>1</td>\n",
       "    </tr>\n",
       "    <tr>\n",
       "      <th>...</th>\n",
       "      <td>...</td>\n",
       "      <td>...</td>\n",
       "      <td>...</td>\n",
       "      <td>...</td>\n",
       "      <td>...</td>\n",
       "      <td>...</td>\n",
       "      <td>...</td>\n",
       "    </tr>\n",
       "    <tr>\n",
       "      <th>1335</th>\n",
       "      <td>1</td>\n",
       "      <td>0.0</td>\n",
       "      <td>1.0</td>\n",
       "      <td>0.0</td>\n",
       "      <td>28.4144</td>\n",
       "      <td>0.576</td>\n",
       "      <td>1</td>\n",
       "    </tr>\n",
       "    <tr>\n",
       "      <th>1336</th>\n",
       "      <td>0</td>\n",
       "      <td>1.0</td>\n",
       "      <td>1.0</td>\n",
       "      <td>0.0</td>\n",
       "      <td>46.0000</td>\n",
       "      <td>3.705</td>\n",
       "      <td>0</td>\n",
       "    </tr>\n",
       "    <tr>\n",
       "      <th>1337</th>\n",
       "      <td>1</td>\n",
       "      <td>1.0</td>\n",
       "      <td>1.0</td>\n",
       "      <td>0.0</td>\n",
       "      <td>39.0000</td>\n",
       "      <td>0.099</td>\n",
       "      <td>1</td>\n",
       "    </tr>\n",
       "    <tr>\n",
       "      <th>1338</th>\n",
       "      <td>0</td>\n",
       "      <td>1.0</td>\n",
       "      <td>0.0</td>\n",
       "      <td>0.0</td>\n",
       "      <td>8.0000</td>\n",
       "      <td>3.177</td>\n",
       "      <td>0</td>\n",
       "    </tr>\n",
       "    <tr>\n",
       "      <th>1339</th>\n",
       "      <td>1</td>\n",
       "      <td>1.0</td>\n",
       "      <td>1.0</td>\n",
       "      <td>0.0</td>\n",
       "      <td>30.0000</td>\n",
       "      <td>0.688</td>\n",
       "      <td>1</td>\n",
       "    </tr>\n",
       "  </tbody>\n",
       "</table>\n",
       "<p>1340 rows × 7 columns</p>\n",
       "</div>"
      ],
      "text/plain": [
       "      ATTORNEY  CLMSEX  CLMINSUR  SEATBELT   CLMAGE    LOSS  y_pred\n",
       "0            0     0.0       1.0       0.0  50.0000  34.940       0\n",
       "1            1     1.0       0.0       0.0  18.0000   0.891       1\n",
       "2            1     0.0       1.0       0.0   5.0000   0.330       1\n",
       "3            0     0.0       1.0       1.0  31.0000   0.037       1\n",
       "4            1     0.0       1.0       0.0  30.0000   0.038       1\n",
       "...        ...     ...       ...       ...      ...     ...     ...\n",
       "1335         1     0.0       1.0       0.0  28.4144   0.576       1\n",
       "1336         0     1.0       1.0       0.0  46.0000   3.705       0\n",
       "1337         1     1.0       1.0       0.0  39.0000   0.099       1\n",
       "1338         0     1.0       0.0       0.0   8.0000   3.177       0\n",
       "1339         1     1.0       1.0       0.0  30.0000   0.688       1\n",
       "\n",
       "[1340 rows x 7 columns]"
      ]
     },
     "execution_count": 61,
     "metadata": {},
     "output_type": "execute_result"
    }
   ],
   "source": [
    "y_pred = classifier.predict(X)\n",
    "claimants[\"y_pred\"] = y_pred\n",
    "claimants  "
   ]
  },
  {
   "cell_type": "code",
   "execution_count": 62,
   "metadata": {
    "ExecuteTime": {
     "end_time": "2020-12-08T05:31:14.617790Z",
     "start_time": "2020-12-08T05:31:14.580847Z"
    }
   },
   "outputs": [
    {
     "data": {
      "text/html": [
       "<div>\n",
       "<style scoped>\n",
       "    .dataframe tbody tr th:only-of-type {\n",
       "        vertical-align: middle;\n",
       "    }\n",
       "\n",
       "    .dataframe tbody tr th {\n",
       "        vertical-align: top;\n",
       "    }\n",
       "\n",
       "    .dataframe thead th {\n",
       "        text-align: right;\n",
       "    }\n",
       "</style>\n",
       "<table border=\"1\" class=\"dataframe\">\n",
       "  <thead>\n",
       "    <tr style=\"text-align: right;\">\n",
       "      <th></th>\n",
       "      <th>ATTORNEY</th>\n",
       "      <th>CLMSEX</th>\n",
       "      <th>CLMINSUR</th>\n",
       "      <th>SEATBELT</th>\n",
       "      <th>CLMAGE</th>\n",
       "      <th>LOSS</th>\n",
       "      <th>y_pred</th>\n",
       "      <th>0</th>\n",
       "      <th>1</th>\n",
       "    </tr>\n",
       "  </thead>\n",
       "  <tbody>\n",
       "    <tr>\n",
       "      <th>0</th>\n",
       "      <td>0</td>\n",
       "      <td>0.0</td>\n",
       "      <td>1.0</td>\n",
       "      <td>0.0</td>\n",
       "      <td>50.0000</td>\n",
       "      <td>34.940</td>\n",
       "      <td>0</td>\n",
       "      <td>0.999974</td>\n",
       "      <td>0.000026</td>\n",
       "    </tr>\n",
       "    <tr>\n",
       "      <th>1</th>\n",
       "      <td>1</td>\n",
       "      <td>1.0</td>\n",
       "      <td>0.0</td>\n",
       "      <td>0.0</td>\n",
       "      <td>18.0000</td>\n",
       "      <td>0.891</td>\n",
       "      <td>1</td>\n",
       "      <td>0.495387</td>\n",
       "      <td>0.504613</td>\n",
       "    </tr>\n",
       "    <tr>\n",
       "      <th>2</th>\n",
       "      <td>1</td>\n",
       "      <td>0.0</td>\n",
       "      <td>1.0</td>\n",
       "      <td>0.0</td>\n",
       "      <td>5.0000</td>\n",
       "      <td>0.330</td>\n",
       "      <td>1</td>\n",
       "      <td>0.425083</td>\n",
       "      <td>0.574917</td>\n",
       "    </tr>\n",
       "    <tr>\n",
       "      <th>3</th>\n",
       "      <td>0</td>\n",
       "      <td>0.0</td>\n",
       "      <td>1.0</td>\n",
       "      <td>1.0</td>\n",
       "      <td>31.0000</td>\n",
       "      <td>0.037</td>\n",
       "      <td>1</td>\n",
       "      <td>0.490007</td>\n",
       "      <td>0.509993</td>\n",
       "    </tr>\n",
       "    <tr>\n",
       "      <th>4</th>\n",
       "      <td>1</td>\n",
       "      <td>0.0</td>\n",
       "      <td>1.0</td>\n",
       "      <td>0.0</td>\n",
       "      <td>30.0000</td>\n",
       "      <td>0.038</td>\n",
       "      <td>1</td>\n",
       "      <td>0.363271</td>\n",
       "      <td>0.636729</td>\n",
       "    </tr>\n",
       "    <tr>\n",
       "      <th>...</th>\n",
       "      <td>...</td>\n",
       "      <td>...</td>\n",
       "      <td>...</td>\n",
       "      <td>...</td>\n",
       "      <td>...</td>\n",
       "      <td>...</td>\n",
       "      <td>...</td>\n",
       "      <td>...</td>\n",
       "      <td>...</td>\n",
       "    </tr>\n",
       "    <tr>\n",
       "      <th>1335</th>\n",
       "      <td>1</td>\n",
       "      <td>0.0</td>\n",
       "      <td>1.0</td>\n",
       "      <td>0.0</td>\n",
       "      <td>28.4144</td>\n",
       "      <td>0.576</td>\n",
       "      <td>1</td>\n",
       "      <td>0.406789</td>\n",
       "      <td>0.593211</td>\n",
       "    </tr>\n",
       "    <tr>\n",
       "      <th>1336</th>\n",
       "      <td>0</td>\n",
       "      <td>1.0</td>\n",
       "      <td>1.0</td>\n",
       "      <td>0.0</td>\n",
       "      <td>46.0000</td>\n",
       "      <td>3.705</td>\n",
       "      <td>0</td>\n",
       "      <td>0.549435</td>\n",
       "      <td>0.450565</td>\n",
       "    </tr>\n",
       "    <tr>\n",
       "      <th>1337</th>\n",
       "      <td>1</td>\n",
       "      <td>1.0</td>\n",
       "      <td>1.0</td>\n",
       "      <td>0.0</td>\n",
       "      <td>39.0000</td>\n",
       "      <td>0.099</td>\n",
       "      <td>1</td>\n",
       "      <td>0.285350</td>\n",
       "      <td>0.714650</td>\n",
       "    </tr>\n",
       "    <tr>\n",
       "      <th>1338</th>\n",
       "      <td>0</td>\n",
       "      <td>1.0</td>\n",
       "      <td>0.0</td>\n",
       "      <td>0.0</td>\n",
       "      <td>8.0000</td>\n",
       "      <td>3.177</td>\n",
       "      <td>0</td>\n",
       "      <td>0.686686</td>\n",
       "      <td>0.313314</td>\n",
       "    </tr>\n",
       "    <tr>\n",
       "      <th>1339</th>\n",
       "      <td>1</td>\n",
       "      <td>1.0</td>\n",
       "      <td>1.0</td>\n",
       "      <td>0.0</td>\n",
       "      <td>30.0000</td>\n",
       "      <td>0.688</td>\n",
       "      <td>1</td>\n",
       "      <td>0.338782</td>\n",
       "      <td>0.661218</td>\n",
       "    </tr>\n",
       "  </tbody>\n",
       "</table>\n",
       "<p>1340 rows × 9 columns</p>\n",
       "</div>"
      ],
      "text/plain": [
       "      ATTORNEY  CLMSEX  CLMINSUR  SEATBELT   CLMAGE    LOSS  y_pred         0  \\\n",
       "0            0     0.0       1.0       0.0  50.0000  34.940       0  0.999974   \n",
       "1            1     1.0       0.0       0.0  18.0000   0.891       1  0.495387   \n",
       "2            1     0.0       1.0       0.0   5.0000   0.330       1  0.425083   \n",
       "3            0     0.0       1.0       1.0  31.0000   0.037       1  0.490007   \n",
       "4            1     0.0       1.0       0.0  30.0000   0.038       1  0.363271   \n",
       "...        ...     ...       ...       ...      ...     ...     ...       ...   \n",
       "1335         1     0.0       1.0       0.0  28.4144   0.576       1  0.406789   \n",
       "1336         0     1.0       1.0       0.0  46.0000   3.705       0  0.549435   \n",
       "1337         1     1.0       1.0       0.0  39.0000   0.099       1  0.285350   \n",
       "1338         0     1.0       0.0       0.0   8.0000   3.177       0  0.686686   \n",
       "1339         1     1.0       1.0       0.0  30.0000   0.688       1  0.338782   \n",
       "\n",
       "             1  \n",
       "0     0.000026  \n",
       "1     0.504613  \n",
       "2     0.574917  \n",
       "3     0.509993  \n",
       "4     0.636729  \n",
       "...        ...  \n",
       "1335  0.593211  \n",
       "1336  0.450565  \n",
       "1337  0.714650  \n",
       "1338  0.313314  \n",
       "1339  0.661218  \n",
       "\n",
       "[1340 rows x 9 columns]"
      ]
     },
     "execution_count": 62,
     "metadata": {},
     "output_type": "execute_result"
    }
   ],
   "source": [
    "y_prob = pd.DataFrame(classifier.predict_proba(X.iloc[:,:]))\n",
    "new_df = pd.concat([claimants,y_prob],axis=1)\n",
    "new_df "
   ]
  },
  {
   "cell_type": "code",
   "execution_count": 63,
   "metadata": {
    "ExecuteTime": {
     "end_time": "2020-12-08T05:31:18.148148Z",
     "start_time": "2020-12-08T05:31:18.110199Z"
    }
   },
   "outputs": [
    {
     "name": "stdout",
     "output_type": "stream",
     "text": [
      "[[435 250]\n",
      " [147 508]]\n"
     ]
    }
   ],
   "source": [
    "from sklearn.metrics import confusion_matrix\n",
    "confusion_matrix = confusion_matrix(Y,y_pred)\n",
    "print (confusion_matrix)\n"
   ]
  },
  {
   "cell_type": "code",
   "execution_count": 64,
   "metadata": {
    "ExecuteTime": {
     "end_time": "2020-12-08T05:31:22.418744Z",
     "start_time": "2020-12-08T05:31:22.375820Z"
    }
   },
   "outputs": [
    {
     "data": {
      "text/html": [
       "<div>\n",
       "<style scoped>\n",
       "    .dataframe tbody tr th:only-of-type {\n",
       "        vertical-align: middle;\n",
       "    }\n",
       "\n",
       "    .dataframe tbody tr th {\n",
       "        vertical-align: top;\n",
       "    }\n",
       "\n",
       "    .dataframe thead th {\n",
       "        text-align: right;\n",
       "    }\n",
       "</style>\n",
       "<table border=\"1\" class=\"dataframe\">\n",
       "  <thead>\n",
       "    <tr style=\"text-align: right;\">\n",
       "      <th>ATTORNEY</th>\n",
       "      <th>0</th>\n",
       "      <th>1</th>\n",
       "    </tr>\n",
       "    <tr>\n",
       "      <th>row_0</th>\n",
       "      <th></th>\n",
       "      <th></th>\n",
       "    </tr>\n",
       "  </thead>\n",
       "  <tbody>\n",
       "    <tr>\n",
       "      <th>0</th>\n",
       "      <td>435</td>\n",
       "      <td>147</td>\n",
       "    </tr>\n",
       "    <tr>\n",
       "      <th>1</th>\n",
       "      <td>250</td>\n",
       "      <td>508</td>\n",
       "    </tr>\n",
       "  </tbody>\n",
       "</table>\n",
       "</div>"
      ],
      "text/plain": [
       "ATTORNEY    0    1\n",
       "row_0             \n",
       "0         435  147\n",
       "1         250  508"
      ]
     },
     "execution_count": 64,
     "metadata": {},
     "output_type": "execute_result"
    }
   ],
   "source": [
    "pd.crosstab(y_pred,Y) "
   ]
  },
  {
   "cell_type": "code",
   "execution_count": 65,
   "metadata": {
    "ExecuteTime": {
     "end_time": "2020-12-08T05:31:25.430668Z",
     "start_time": "2020-12-08T05:31:25.409612Z"
    }
   },
   "outputs": [
    {
     "data": {
      "text/plain": [
       "0.7037313432835821"
      ]
     },
     "execution_count": 65,
     "metadata": {},
     "output_type": "execute_result"
    }
   ],
   "source": [
    "#type(y_pred)\n",
    "accuracy = sum(Y==y_pred)/claimants.shape[0]\n",
    "accuracy\n"
   ]
  },
  {
   "cell_type": "code",
   "execution_count": 66,
   "metadata": {
    "ExecuteTime": {
     "end_time": "2020-12-08T05:31:27.688904Z",
     "start_time": "2020-12-08T05:31:27.670950Z"
    }
   },
   "outputs": [
    {
     "name": "stdout",
     "output_type": "stream",
     "text": [
      "              precision    recall  f1-score   support\n",
      "\n",
      "           0       0.75      0.64      0.69       685\n",
      "           1       0.67      0.78      0.72       655\n",
      "\n",
      "    accuracy                           0.70      1340\n",
      "   macro avg       0.71      0.71      0.70      1340\n",
      "weighted avg       0.71      0.70      0.70      1340\n",
      "\n"
     ]
    }
   ],
   "source": [
    "from sklearn.metrics import classification_report \n",
    "print (classification_report (Y, y_pred)) "
   ]
  },
  {
   "cell_type": "code",
   "execution_count": 67,
   "metadata": {
    "ExecuteTime": {
     "end_time": "2020-12-08T05:31:32.172890Z",
     "start_time": "2020-12-08T05:31:32.149951Z"
    }
   },
   "outputs": [
    {
     "data": {
      "text/plain": [
       "0.7053045077171672"
      ]
     },
     "execution_count": 67,
     "metadata": {},
     "output_type": "execute_result"
    }
   ],
   "source": [
    "from sklearn.metrics import roc_auc_score\n",
    "from sklearn.metrics import roc_curve\n",
    "Logit_roc_score=roc_auc_score(Y,classifier.predict(X))\n",
    "Logit_roc_score "
   ]
  },
  {
   "cell_type": "code",
   "execution_count": 68,
   "metadata": {
    "ExecuteTime": {
     "end_time": "2020-12-08T05:31:36.751767Z",
     "start_time": "2020-12-08T05:31:36.371705Z"
    }
   },
   "outputs": [
    {
     "data": {
      "image/png": "[encoded data removed]",
      "text/plain": [
       "<Figure size 432x288 with 1 Axes>"
      ]
     },
     "metadata": {
      "needs_background": "light"
     },
     "output_type": "display_data"
    }
   ],
   "source": [
    "fpr, tpr, thresholds = roc_curve(Y,classifier.predict_proba(X)[:,1]) \n",
    "plt.plot(fpr, tpr, label='Logistic Regression (area=%0.2f)'% Logit_roc_score)\n",
    "plt.plot([0, 1], [0, 1],'r--')\n",
    "plt.xlim([0.0, 1.0])\n",
    "plt.ylim([0.0, 1.05])\n",
    "plt.xlabel('False Positive Rate')\n",
    "plt.ylabel('True Positive Rate')\n",
    "plt.title('Receiver operating characteristic')\n",
    "plt.legend(loc=\"lower right\")\n",
    "plt.show()  "
   ]
  },
  {
   "cell_type": "code",
   "execution_count": 69,
   "metadata": {
    "ExecuteTime": {
     "end_time": "2020-12-08T05:31:38.846221Z",
     "start_time": "2020-12-08T05:31:38.824310Z"
    }
   },
   "outputs": [],
   "source": [
    "y_prob1 = pd.DataFrame(classifier.predict_proba(X)[:,1]) "
   ]
  },
  {
   "cell_type": "code",
   "execution_count": 70,
   "metadata": {
    "ExecuteTime": {
     "end_time": "2020-12-08T05:31:40.717027Z",
     "start_time": "2020-12-08T05:31:40.690784Z"
    }
   },
   "outputs": [
    {
     "data": {
      "text/html": [
       "<div>\n",
       "<style scoped>\n",
       "    .dataframe tbody tr th:only-of-type {\n",
       "        vertical-align: middle;\n",
       "    }\n",
       "\n",
       "    .dataframe tbody tr th {\n",
       "        vertical-align: top;\n",
       "    }\n",
       "\n",
       "    .dataframe thead th {\n",
       "        text-align: right;\n",
       "    }\n",
       "</style>\n",
       "<table border=\"1\" class=\"dataframe\">\n",
       "  <thead>\n",
       "    <tr style=\"text-align: right;\">\n",
       "      <th></th>\n",
       "      <th>0</th>\n",
       "    </tr>\n",
       "  </thead>\n",
       "  <tbody>\n",
       "    <tr>\n",
       "      <th>0</th>\n",
       "      <td>0.000026</td>\n",
       "    </tr>\n",
       "    <tr>\n",
       "      <th>1</th>\n",
       "      <td>0.504613</td>\n",
       "    </tr>\n",
       "    <tr>\n",
       "      <th>2</th>\n",
       "      <td>0.574917</td>\n",
       "    </tr>\n",
       "    <tr>\n",
       "      <th>3</th>\n",
       "      <td>0.509993</td>\n",
       "    </tr>\n",
       "    <tr>\n",
       "      <th>4</th>\n",
       "      <td>0.636729</td>\n",
       "    </tr>\n",
       "    <tr>\n",
       "      <th>...</th>\n",
       "      <td>...</td>\n",
       "    </tr>\n",
       "    <tr>\n",
       "      <th>1335</th>\n",
       "      <td>0.593211</td>\n",
       "    </tr>\n",
       "    <tr>\n",
       "      <th>1336</th>\n",
       "      <td>0.450565</td>\n",
       "    </tr>\n",
       "    <tr>\n",
       "      <th>1337</th>\n",
       "      <td>0.714650</td>\n",
       "    </tr>\n",
       "    <tr>\n",
       "      <th>1338</th>\n",
       "      <td>0.313314</td>\n",
       "    </tr>\n",
       "    <tr>\n",
       "      <th>1339</th>\n",
       "      <td>0.661218</td>\n",
       "    </tr>\n",
       "  </tbody>\n",
       "</table>\n",
       "<p>1340 rows × 1 columns</p>\n",
       "</div>"
      ],
      "text/plain": [
       "             0\n",
       "0     0.000026\n",
       "1     0.504613\n",
       "2     0.574917\n",
       "3     0.509993\n",
       "4     0.636729\n",
       "...        ...\n",
       "1335  0.593211\n",
       "1336  0.450565\n",
       "1337  0.714650\n",
       "1338  0.313314\n",
       "1339  0.661218\n",
       "\n",
       "[1340 rows x 1 columns]"
      ]
     },
     "execution_count": 70,
     "metadata": {},
     "output_type": "execute_result"
    }
   ],
   "source": [
    "y_prob1 "
   ]
  },
  {
   "cell_type": "code",
   "execution_count": 71,
   "metadata": {
    "ExecuteTime": {
     "end_time": "2020-12-08T05:31:43.243181Z",
     "start_time": "2020-12-08T05:31:43.232245Z"
    }
   },
   "outputs": [],
   "source": [
    "import statsmodels.api as sm  "
   ]
  },
  {
   "cell_type": "code",
   "execution_count": 72,
   "metadata": {
    "ExecuteTime": {
     "end_time": "2020-12-08T05:31:45.602483Z",
     "start_time": "2020-12-08T05:31:45.291205Z"
    }
   },
   "outputs": [],
   "source": [
    "logit = sm.Logit(Y, X)  "
   ]
  },
  {
   "cell_type": "code",
   "execution_count": 73,
   "metadata": {
    "ExecuteTime": {
     "end_time": "2020-12-08T05:31:47.309111Z",
     "start_time": "2020-12-08T05:31:47.014285Z"
    }
   },
   "outputs": [
    {
     "name": "stdout",
     "output_type": "stream",
     "text": [
      "Optimization terminated successfully.\n",
      "         Current function value: 0.609294\n",
      "         Iterations 7\n"
     ]
    },
    {
     "data": {
      "text/html": [
       "<table class=\"simpletable\">\n",
       "<caption>Logit Regression Results</caption>\n",
       "<tr>\n",
       "  <th>Dep. Variable:</th>       <td>ATTORNEY</td>     <th>  No. Observations:  </th>  <td>  1340</td>  \n",
       "</tr>\n",
       "<tr>\n",
       "  <th>Model:</th>                 <td>Logit</td>      <th>  Df Residuals:      </th>  <td>  1335</td>  \n",
       "</tr>\n",
       "<tr>\n",
       "  <th>Method:</th>                 <td>MLE</td>       <th>  Df Model:          </th>  <td>     4</td>  \n",
       "</tr>\n",
       "<tr>\n",
       "  <th>Date:</th>            <td>Tue, 08 Dec 2020</td> <th>  Pseudo R-squ.:     </th>  <td>0.1207</td>  \n",
       "</tr>\n",
       "<tr>\n",
       "  <th>Time:</th>                <td>11:01:47</td>     <th>  Log-Likelihood:    </th> <td> -816.45</td> \n",
       "</tr>\n",
       "<tr>\n",
       "  <th>converged:</th>             <td>True</td>       <th>  LL-Null:           </th> <td> -928.48</td> \n",
       "</tr>\n",
       "<tr>\n",
       "  <th>Covariance Type:</th>     <td>nonrobust</td>    <th>  LLR p-value:       </th> <td>2.515e-47</td>\n",
       "</tr>\n",
       "</table>\n",
       "<table class=\"simpletable\">\n",
       "<tr>\n",
       "      <td></td>        <th>coef</th>     <th>std err</th>      <th>z</th>      <th>P>|z|</th>  <th>[0.025</th>    <th>0.975]</th>  \n",
       "</tr>\n",
       "<tr>\n",
       "  <th>CLMSEX</th>   <td>    0.3005</td> <td>    0.116</td> <td>    2.591</td> <td> 0.010</td> <td>    0.073</td> <td>    0.528</td>\n",
       "</tr>\n",
       "<tr>\n",
       "  <th>CLMINSUR</th> <td>    0.4167</td> <td>    0.124</td> <td>    3.364</td> <td> 0.001</td> <td>    0.174</td> <td>    0.660</td>\n",
       "</tr>\n",
       "<tr>\n",
       "  <th>SEATBELT</th> <td>   -0.6828</td> <td>    0.522</td> <td>   -1.308</td> <td> 0.191</td> <td>   -1.706</td> <td>    0.341</td>\n",
       "</tr>\n",
       "<tr>\n",
       "  <th>CLMAGE</th>   <td>    0.0059</td> <td>    0.003</td> <td>    1.951</td> <td> 0.051</td> <td>-2.58e-05</td> <td>    0.012</td>\n",
       "</tr>\n",
       "<tr>\n",
       "  <th>LOSS</th>     <td>   -0.3262</td> <td>    0.029</td> <td>  -11.234</td> <td> 0.000</td> <td>   -0.383</td> <td>   -0.269</td>\n",
       "</tr>\n",
       "</table>"
      ],
      "text/plain": [
       "<class 'statsmodels.iolib.summary.Summary'>\n",
       "\"\"\"\n",
       "                           Logit Regression Results                           \n",
       "==============================================================================\n",
       "Dep. Variable:               ATTORNEY   No. Observations:                 1340\n",
       "Model:                          Logit   Df Residuals:                     1335\n",
       "Method:                           MLE   Df Model:                            4\n",
       "Date:                Tue, 08 Dec 2020   Pseudo R-squ.:                  0.1207\n",
       "Time:                        11:01:47   Log-Likelihood:                -816.45\n",
       "converged:                       True   LL-Null:                       -928.48\n",
       "Covariance Type:            nonrobust   LLR p-value:                 2.515e-47\n",
       "==============================================================================\n",
       "                 coef    std err          z      P>|z|      [0.025      0.975]\n",
       "------------------------------------------------------------------------------\n",
       "CLMSEX         0.3005      0.116      2.591      0.010       0.073       0.528\n",
       "CLMINSUR       0.4167      0.124      3.364      0.001       0.174       0.660\n",
       "SEATBELT      -0.6828      0.522     -1.308      0.191      -1.706       0.341\n",
       "CLMAGE         0.0059      0.003      1.951      0.051   -2.58e-05       0.012\n",
       "LOSS          -0.3262      0.029    -11.234      0.000      -0.383      -0.269\n",
       "==============================================================================\n",
       "\"\"\""
      ]
     },
     "execution_count": 73,
     "metadata": {},
     "output_type": "execute_result"
    }
   ],
   "source": [
    "logit.fit().summary() "
   ]
  },
  {
   "cell_type": "code",
   "execution_count": 74,
   "metadata": {
    "ExecuteTime": {
     "end_time": "2020-12-08T05:31:50.736069Z",
     "start_time": "2020-12-08T05:31:50.716204Z"
    }
   },
   "outputs": [
    {
     "data": {
      "text/plain": [
       "array([0.        , 0.        , 0.        , 0.00145985, 0.00145985,\n",
       "       0.00291971, 0.00291971, 0.00437956, 0.00437956, 0.00583942,\n",
       "       0.00583942, 0.00729927, 0.00729927, 0.00875912, 0.00875912,\n",
       "       0.01021898, 0.01021898, 0.01167883, 0.01167883, 0.01313869,\n",
       "       0.01313869, 0.01459854, 0.01459854, 0.01605839, 0.01605839,\n",
       "       0.01605839, 0.01605839, 0.01605839, 0.01605839, 0.01751825,\n",
       "       0.01751825, 0.01751825, 0.01751825, 0.0189781 , 0.0189781 ,\n",
       "       0.02043796, 0.02043796, 0.02189781, 0.02189781, 0.02481752,\n",
       "       0.02481752, 0.02919708, 0.02919708, 0.03065693, 0.03065693,\n",
       "       0.03357664, 0.03357664, 0.03357664, 0.0350365 , 0.0350365 ,\n",
       "       0.03649635, 0.03649635, 0.0379562 , 0.0379562 , 0.03941606,\n",
       "       0.03941606, 0.04379562, 0.04379562, 0.04525547, 0.04525547,\n",
       "       0.04671533, 0.04671533, 0.04817518, 0.04817518, 0.04963504,\n",
       "       0.04963504, 0.05109489, 0.05109489, 0.0540146 , 0.0540146 ,\n",
       "       0.0540146 , 0.0540146 , 0.05547445, 0.05547445, 0.05839416,\n",
       "       0.05839416, 0.05985401, 0.05985401, 0.06277372, 0.06277372,\n",
       "       0.06277372, 0.06423358, 0.06423358, 0.06569343, 0.06569343,\n",
       "       0.06715328, 0.06715328, 0.07007299, 0.07007299, 0.0729927 ,\n",
       "       0.0729927 , 0.07591241, 0.07591241, 0.07883212, 0.07883212,\n",
       "       0.08029197, 0.08029197, 0.08175182, 0.08175182, 0.08467153,\n",
       "       0.08759124, 0.09051095, 0.09051095, 0.0919708 , 0.0919708 ,\n",
       "       0.09489051, 0.09489051, 0.09635036, 0.09635036, 0.09927007,\n",
       "       0.09927007, 0.10218978, 0.10218978, 0.10656934, 0.10656934,\n",
       "       0.1080292 , 0.1080292 , 0.1080292 , 0.1080292 , 0.10948905,\n",
       "       0.10948905, 0.11094891, 0.11094891, 0.11240876, 0.11240876,\n",
       "       0.11386861, 0.11386861, 0.11532847, 0.11532847, 0.11824818,\n",
       "       0.11824818, 0.12116788, 0.12116788, 0.12262774, 0.12262774,\n",
       "       0.12554745, 0.12554745, 0.1270073 , 0.1270073 , 0.12992701,\n",
       "       0.12992701, 0.13138686, 0.13138686, 0.13284672, 0.13430657,\n",
       "       0.13430657, 0.13576642, 0.13576642, 0.13722628, 0.13722628,\n",
       "       0.14014599, 0.14014599, 0.14160584, 0.14160584, 0.14306569,\n",
       "       0.14306569, 0.1459854 , 0.1459854 , 0.1459854 , 0.15036496,\n",
       "       0.15036496, 0.15182482, 0.15182482, 0.15328467, 0.15328467,\n",
       "       0.15620438, 0.15620438, 0.15620438, 0.16058394, 0.16058394,\n",
       "       0.1620438 , 0.1620438 , 0.16350365, 0.16350365, 0.1649635 ,\n",
       "       0.1649635 , 0.16642336, 0.16642336, 0.16934307, 0.16934307,\n",
       "       0.17080292, 0.17080292, 0.17226277, 0.17226277, 0.17518248,\n",
       "       0.17518248, 0.17664234, 0.17664234, 0.17810219, 0.17810219,\n",
       "       0.17956204, 0.17956204, 0.1810219 , 0.1810219 , 0.18248175,\n",
       "       0.18248175, 0.18394161, 0.18394161, 0.18540146, 0.18540146,\n",
       "       0.18832117, 0.18832117, 0.18978102, 0.18978102, 0.18978102,\n",
       "       0.19124088, 0.19124088, 0.19270073, 0.19270073, 0.19416058,\n",
       "       0.19416058, 0.19562044, 0.19562044, 0.19708029, 0.19708029,\n",
       "       0.2       , 0.2       , 0.20145985, 0.20145985, 0.20291971,\n",
       "       0.20291971, 0.20583942, 0.20583942, 0.20875912, 0.20875912,\n",
       "       0.21167883, 0.21167883, 0.21605839, 0.21605839, 0.21751825,\n",
       "       0.21751825, 0.22043796, 0.22043796, 0.22189781, 0.22189781,\n",
       "       0.22335766, 0.22335766, 0.23065693, 0.23065693, 0.23211679,\n",
       "       0.23211679, 0.23357664, 0.23357664, 0.2350365 , 0.2350365 ,\n",
       "       0.2350365 , 0.24087591, 0.24087591, 0.24233577, 0.24233577,\n",
       "       0.24525547, 0.24525547, 0.24817518, 0.24817518, 0.25109489,\n",
       "       0.25109489, 0.25839416, 0.25839416, 0.26131387, 0.26131387,\n",
       "       0.26277372, 0.26277372, 0.26861314, 0.26861314, 0.26861314,\n",
       "       0.27007299, 0.27445255, 0.27445255, 0.27591241, 0.27591241,\n",
       "       0.27737226, 0.27737226, 0.27883212, 0.27883212, 0.28467153,\n",
       "       0.28467153, 0.28905109, 0.28905109, 0.28905109, 0.28905109,\n",
       "       0.2919708 , 0.2919708 , 0.29489051, 0.29489051, 0.29635036,\n",
       "       0.29635036, 0.29781022, 0.29781022, 0.30072993, 0.30072993,\n",
       "       0.30218978, 0.30510949, 0.30510949, 0.30656934, 0.30656934,\n",
       "       0.3080292 , 0.3080292 , 0.30948905, 0.30948905, 0.31094891,\n",
       "       0.31094891, 0.31240876, 0.31240876, 0.31386861, 0.31386861,\n",
       "       0.31532847, 0.31532847, 0.31678832, 0.31678832, 0.31824818,\n",
       "       0.31824818, 0.32116788, 0.32116788, 0.32554745, 0.32554745,\n",
       "       0.3270073 , 0.3270073 , 0.32846715, 0.32846715, 0.33138686,\n",
       "       0.33138686, 0.33284672, 0.33284672, 0.33868613, 0.33868613,\n",
       "       0.34890511, 0.34890511, 0.36058394, 0.36058394, 0.36350365,\n",
       "       0.36350365, 0.36642336, 0.36642336, 0.36788321, 0.36788321,\n",
       "       0.36934307, 0.36934307, 0.37080292, 0.37080292, 0.37518248,\n",
       "       0.37518248, 0.3810219 , 0.38248175, 0.39416058, 0.39416058,\n",
       "       0.40145985, 0.40145985, 0.40291971, 0.40291971, 0.40437956,\n",
       "       0.40437956, 0.40583942, 0.40583942, 0.40729927, 0.40729927,\n",
       "       0.40875912, 0.40875912, 0.41167883, 0.41167883, 0.41313869,\n",
       "       0.41313869, 0.41459854, 0.41459854, 0.41605839, 0.41605839,\n",
       "       0.42043796, 0.42043796, 0.42627737, 0.42627737, 0.42773723,\n",
       "       0.42773723, 0.43649635, 0.43649635, 0.44963504, 0.44963504,\n",
       "       0.45255474, 0.45255474, 0.4540146 , 0.4540146 , 0.46131387,\n",
       "       0.46131387, 0.46277372, 0.46277372, 0.46423358, 0.46715328,\n",
       "       0.47007299, 0.47007299, 0.4729927 , 0.4729927 , 0.47883212,\n",
       "       0.47883212, 0.48321168, 0.48321168, 0.4919708 , 0.4919708 ,\n",
       "       0.49781022, 0.49781022, 0.49927007, 0.49927007, 0.50364964,\n",
       "       0.50364964, 0.5080292 , 0.5080292 , 0.50948905, 0.50948905,\n",
       "       0.51240876, 0.51240876, 0.52116788, 0.52116788, 0.52408759,\n",
       "       0.52408759, 0.54014599, 0.54014599, 0.54160584, 0.54306569,\n",
       "       0.5459854 , 0.5459854 , 0.54890511, 0.54890511, 0.55182482,\n",
       "       0.55182482, 0.55328467, 0.55328467, 0.55620438, 0.55620438,\n",
       "       0.56058394, 0.56058394, 0.5649635 , 0.5649635 , 0.57226277,\n",
       "       0.57226277, 0.57372263, 0.57372263, 0.57518248, 0.57518248,\n",
       "       0.57956204, 0.57956204, 0.5810219 , 0.5810219 , 0.58248175,\n",
       "       0.58248175, 0.58394161, 0.58394161, 0.60145985, 0.60145985,\n",
       "       0.61459854, 0.61459854, 0.61751825, 0.61751825, 0.6189781 ,\n",
       "       0.6189781 , 0.62335766, 0.62335766, 0.62627737, 0.62627737,\n",
       "       0.62919708, 0.62919708, 0.63211679, 0.63211679, 0.63357664,\n",
       "       0.63357664, 0.6379562 , 0.6379562 , 0.63941606, 0.63941606,\n",
       "       0.66277372, 0.66277372, 0.66861314, 0.66861314, 0.67737226,\n",
       "       0.67737226, 0.68467153, 0.68467153, 0.71240876, 0.71240876,\n",
       "       0.71386861, 0.71386861, 0.71678832, 0.71678832, 0.72262774,\n",
       "       0.72262774, 0.7270073 , 0.72992701, 0.73284672, 0.73284672,\n",
       "       0.73430657, 0.73430657, 0.73722628, 0.73722628, 0.74452555,\n",
       "       0.74452555, 0.75036496, 0.75036496, 0.76350365, 0.76350365,\n",
       "       0.7649635 , 0.7649635 , 0.76642336, 0.76642336, 0.77080292,\n",
       "       0.77080292, 0.77664234, 0.77664234, 0.79124088, 0.79124088,\n",
       "       0.79270073, 0.79270073, 0.79416058, 0.79416058, 0.79562044,\n",
       "       0.79562044, 0.8       , 0.8       , 0.81313869, 0.81313869,\n",
       "       0.82335766, 0.82335766, 0.82627737, 0.82627737, 0.83649635,\n",
       "       0.83649635, 0.84379562, 0.84379562, 0.84963504, 0.84963504,\n",
       "       0.85109489, 0.85109489, 0.85985401, 0.85985401, 0.86715328,\n",
       "       0.86715328, 0.87153285, 0.87445255, 0.87737226, 0.87737226,\n",
       "       0.88905109, 0.88905109, 0.8919708 , 0.8919708 , 0.89343066,\n",
       "       0.89343066, 0.90510949, 0.90510949, 0.91386861, 0.91386861,\n",
       "       0.91532847, 0.91532847, 0.92116788, 0.92116788, 0.93138686,\n",
       "       0.93138686, 0.99270073, 0.99270073, 1.        ])"
      ]
     },
     "execution_count": 74,
     "metadata": {},
     "output_type": "execute_result"
    }
   ],
   "source": [
    "fpr "
   ]
  },
  {
   "cell_type": "code",
   "execution_count": 75,
   "metadata": {
    "ExecuteTime": {
     "end_time": "2020-12-08T05:31:56.033298Z",
     "start_time": "2020-12-08T05:31:56.010358Z"
    }
   },
   "outputs": [
    {
     "data": {
      "text/plain": [
       "array([0.        , 0.00152672, 0.00305344, 0.00305344, 0.00763359,\n",
       "       0.00763359, 0.01984733, 0.01984733, 0.02442748, 0.02442748,\n",
       "       0.02900763, 0.02900763, 0.03053435, 0.03053435, 0.03206107,\n",
       "       0.03206107, 0.0351145 , 0.0351145 , 0.04580153, 0.04580153,\n",
       "       0.06412214, 0.06412214, 0.06564885, 0.06564885, 0.06870229,\n",
       "       0.07480916, 0.0870229 , 0.09007634, 0.09312977, 0.09312977,\n",
       "       0.09618321, 0.10076336, 0.10992366, 0.10992366, 0.11603053,\n",
       "       0.11603053, 0.12671756, 0.12671756, 0.12824427, 0.12824427,\n",
       "       0.12977099, 0.12977099, 0.14656489, 0.14656489, 0.15114504,\n",
       "       0.15114504, 0.15267176, 0.15572519, 0.15572519, 0.16030534,\n",
       "       0.16030534, 0.16183206, 0.16335878, 0.17709924, 0.17709924,\n",
       "       0.18625954, 0.18625954, 0.19083969, 0.19083969, 0.20152672,\n",
       "       0.20152672, 0.20763359, 0.20916031, 0.21221374, 0.21221374,\n",
       "       0.21374046, 0.21374046, 0.21679389, 0.21679389, 0.2259542 ,\n",
       "       0.23206107, 0.23816794, 0.23816794, 0.23969466, 0.23969466,\n",
       "       0.24122137, 0.24122137, 0.24427481, 0.24427481, 0.24732824,\n",
       "       0.25038168, 0.25038168, 0.25343511, 0.25343511, 0.25496183,\n",
       "       0.25496183, 0.27022901, 0.27022901, 0.27633588, 0.27633588,\n",
       "       0.2778626 , 0.2778626 , 0.28091603, 0.28091603, 0.28244275,\n",
       "       0.28244275, 0.29312977, 0.29312977, 0.29465649, 0.29465649,\n",
       "       0.29465649, 0.29465649, 0.29923664, 0.29923664, 0.30534351,\n",
       "       0.30534351, 0.30839695, 0.30839695, 0.30992366, 0.30992366,\n",
       "       0.31145038, 0.31145038, 0.31755725, 0.31755725, 0.32977099,\n",
       "       0.33129771, 0.35267176, 0.35572519, 0.36335878, 0.36335878,\n",
       "       0.37099237, 0.37099237, 0.37557252, 0.37557252, 0.38167939,\n",
       "       0.38320611, 0.38625954, 0.38625954, 0.39389313, 0.39389313,\n",
       "       0.39541985, 0.39541985, 0.4       , 0.4       , 0.40305344,\n",
       "       0.40305344, 0.41221374, 0.41221374, 0.41984733, 0.42137405,\n",
       "       0.42290076, 0.42290076, 0.4259542 , 0.4259542 , 0.42900763,\n",
       "       0.43358779, 0.43358779, 0.43664122, 0.43664122, 0.43816794,\n",
       "       0.43816794, 0.45038168, 0.45038168, 0.4519084 , 0.4519084 ,\n",
       "       0.45343511, 0.45343511, 0.45648855, 0.45954198, 0.45954198,\n",
       "       0.4610687 , 0.4610687 , 0.47022901, 0.47022901, 0.47328244,\n",
       "       0.47328244, 0.47480916, 0.47938931, 0.47938931, 0.48396947,\n",
       "       0.48396947, 0.4870229 , 0.4870229 , 0.49160305, 0.49160305,\n",
       "       0.49618321, 0.49618321, 0.50229008, 0.50229008, 0.50687023,\n",
       "       0.50687023, 0.50839695, 0.50839695, 0.51603053, 0.51603053,\n",
       "       0.51908397, 0.51908397, 0.5221374 , 0.5221374 , 0.52366412,\n",
       "       0.52366412, 0.52519084, 0.52519084, 0.52671756, 0.52671756,\n",
       "       0.52977099, 0.52977099, 0.53282443, 0.53282443, 0.54045802,\n",
       "       0.54045802, 0.54351145, 0.54351145, 0.54656489, 0.54961832,\n",
       "       0.54961832, 0.56793893, 0.56793893, 0.57099237, 0.57099237,\n",
       "       0.57862595, 0.57862595, 0.58167939, 0.58167939, 0.58473282,\n",
       "       0.58473282, 0.58778626, 0.58778626, 0.59083969, 0.59083969,\n",
       "       0.59236641, 0.59236641, 0.59847328, 0.59847328, 0.60152672,\n",
       "       0.60152672, 0.60305344, 0.60305344, 0.60458015, 0.60458015,\n",
       "       0.60763359, 0.60763359, 0.60916031, 0.60916031, 0.61068702,\n",
       "       0.61068702, 0.61374046, 0.61374046, 0.61832061, 0.61832061,\n",
       "       0.61984733, 0.61984733, 0.62748092, 0.62748092, 0.63053435,\n",
       "       0.63358779, 0.63358779, 0.63816794, 0.63816794, 0.63969466,\n",
       "       0.63969466, 0.64274809, 0.64274809, 0.65038168, 0.65038168,\n",
       "       0.65954198, 0.65954198, 0.6610687 , 0.6610687 , 0.66412214,\n",
       "       0.66412214, 0.66564885, 0.66564885, 0.66870229, 0.67022901,\n",
       "       0.67175573, 0.67175573, 0.67480916, 0.67480916, 0.6778626 ,\n",
       "       0.6778626 , 0.68854962, 0.68854962, 0.69312977, 0.69312977,\n",
       "       0.69618321, 0.69618321, 0.69770992, 0.70076336, 0.70229008,\n",
       "       0.70229008, 0.70381679, 0.70381679, 0.70687023, 0.70687023,\n",
       "       0.70992366, 0.70992366, 0.71603053, 0.71603053, 0.71755725,\n",
       "       0.71755725, 0.71755725, 0.7221374 , 0.7221374 , 0.72366412,\n",
       "       0.72366412, 0.72519084, 0.72519084, 0.72671756, 0.72671756,\n",
       "       0.73129771, 0.73129771, 0.73282443, 0.73282443, 0.7389313 ,\n",
       "       0.7389313 , 0.74198473, 0.74198473, 0.74351145, 0.74351145,\n",
       "       0.74656489, 0.74656489, 0.74961832, 0.74961832, 0.75114504,\n",
       "       0.75114504, 0.75572519, 0.75572519, 0.75725191, 0.75725191,\n",
       "       0.76030534, 0.76030534, 0.76335878, 0.76335878, 0.76641221,\n",
       "       0.76641221, 0.76793893, 0.76793893, 0.7740458 , 0.7740458 ,\n",
       "       0.77557252, 0.77557252, 0.77709924, 0.77709924, 0.77862595,\n",
       "       0.77862595, 0.78015267, 0.78015267, 0.78167939, 0.78167939,\n",
       "       0.78320611, 0.78320611, 0.78473282, 0.78473282, 0.78778626,\n",
       "       0.78778626, 0.78931298, 0.78931298, 0.79236641, 0.79236641,\n",
       "       0.79694656, 0.79694656, 0.8       , 0.8       , 0.80305344,\n",
       "       0.80305344, 0.80916031, 0.80916031, 0.81068702, 0.81068702,\n",
       "       0.81221374, 0.81221374, 0.81374046, 0.81374046, 0.81526718,\n",
       "       0.81526718, 0.81679389, 0.81679389, 0.81832061, 0.81832061,\n",
       "       0.81984733, 0.81984733, 0.82137405, 0.82137405, 0.8259542 ,\n",
       "       0.8259542 , 0.82900763, 0.82900763, 0.83053435, 0.83053435,\n",
       "       0.83206107, 0.83206107, 0.83358779, 0.83358779, 0.83358779,\n",
       "       0.83358779, 0.83969466, 0.83969466, 0.84122137, 0.84122137,\n",
       "       0.84427481, 0.84427481, 0.84580153, 0.84580153, 0.84732824,\n",
       "       0.84732824, 0.85038168, 0.85038168, 0.8519084 , 0.8519084 ,\n",
       "       0.85496183, 0.85496183, 0.85648855, 0.85648855, 0.8610687 ,\n",
       "       0.8610687 , 0.86259542, 0.86259542, 0.86412214, 0.86412214,\n",
       "       0.86717557, 0.86717557, 0.86870229, 0.86870229, 0.87022901,\n",
       "       0.87022901, 0.87480916, 0.87480916, 0.8778626 , 0.8778626 ,\n",
       "       0.87938931, 0.87938931, 0.88091603, 0.88091603, 0.88244275,\n",
       "       0.88244275, 0.88396947, 0.88396947, 0.88549618, 0.88549618,\n",
       "       0.88854962, 0.88854962, 0.89007634, 0.89007634, 0.89160305,\n",
       "       0.89160305, 0.89465649, 0.89465649, 0.89618321, 0.89618321,\n",
       "       0.89770992, 0.89770992, 0.89923664, 0.89923664, 0.90381679,\n",
       "       0.90381679, 0.90534351, 0.90534351, 0.90687023, 0.90687023,\n",
       "       0.90839695, 0.90839695, 0.90992366, 0.90992366, 0.91145038,\n",
       "       0.91145038, 0.9129771 , 0.9129771 , 0.91603053, 0.91603053,\n",
       "       0.91908397, 0.91908397, 0.92061069, 0.92061069, 0.9221374 ,\n",
       "       0.9221374 , 0.92366412, 0.92366412, 0.92519084, 0.92519084,\n",
       "       0.92671756, 0.92671756, 0.92824427, 0.92824427, 0.92977099,\n",
       "       0.92977099, 0.93129771, 0.93129771, 0.93435115, 0.93435115,\n",
       "       0.93587786, 0.93587786, 0.93587786, 0.93587786, 0.93740458,\n",
       "       0.93740458, 0.9389313 , 0.9389313 , 0.94045802, 0.94045802,\n",
       "       0.94351145, 0.94351145, 0.94656489, 0.94656489, 0.94961832,\n",
       "       0.94961832, 0.95114504, 0.95114504, 0.95267176, 0.95267176,\n",
       "       0.95419847, 0.95419847, 0.95572519, 0.95572519, 0.95725191,\n",
       "       0.95725191, 0.95877863, 0.95877863, 0.96030534, 0.96030534,\n",
       "       0.96183206, 0.96183206, 0.96335878, 0.96335878, 0.9648855 ,\n",
       "       0.9648855 , 0.96641221, 0.96641221, 0.96793893, 0.96793893,\n",
       "       0.97099237, 0.97099237, 0.97251908, 0.97251908, 0.9740458 ,\n",
       "       0.9740458 , 0.97557252, 0.97557252, 0.97709924, 0.97709924,\n",
       "       0.97862595, 0.97862595, 0.97862595, 0.97862595, 0.98167939,\n",
       "       0.98167939, 0.98320611, 0.98320611, 0.98473282, 0.98473282,\n",
       "       0.98778626, 0.98778626, 0.99083969, 0.99083969, 0.99236641,\n",
       "       0.99236641, 0.99389313, 0.99389313, 0.99694656, 0.99694656,\n",
       "       0.99847328, 0.99847328, 1.        , 1.        ])"
      ]
     },
     "execution_count": 75,
     "metadata": {},
     "output_type": "execute_result"
    }
   ],
   "source": [
    "tpr  "
   ]
  },
  {
   "cell_type": "code",
   "execution_count": null,
   "metadata": {},
   "outputs": [],
   "source": []
  }
 ],
 "metadata": {
  "kernelspec": {
   "display_name": "Python 3",
   "language": "python",
   "name": "python3"
  },
  "language_info": {
   "codemirror_mode": {
    "name": "ipython",
    "version": 3
   },
   "file_extension": ".py",
   "mimetype": "text/x-python",
   "name": "python",
   "nbconvert_exporter": "python",
   "pygments_lexer": "ipython3",
   "version": "3.8.3"
  },
  "varInspector": {
   "cols": {
    "lenName": 16,
    "lenType": 16,
    "lenVar": 40
   },
   "kernels_config": {
    "python": {
     "delete_cmd_postfix": "",
     "delete_cmd_prefix": "del ",
     "library": "var_list.py",
     "varRefreshCmd": "print(var_dic_list())"
    },
    "r": {
     "delete_cmd_postfix": ") ",
     "delete_cmd_prefix": "rm(",
     "library": "var_list.r",
     "varRefreshCmd": "cat(var_dic_list()) "
    }
   },
   "types_to_exclude": [
    "module",
    "function",
    "builtin_function_or_method",
    "instance",
    "_Feature"
   ],
   "window_display": false
  }
 },
 "nbformat": 4,
 "nbformat_minor": 2
}
