{
 "cells": [
  {
   "cell_type": "code",
   "execution_count": 1,
   "metadata": {
    "ExecuteTime": {
     "end_time": "2021-03-23T06:14:27.952170Z",
     "start_time": "2021-03-23T06:14:26.744441Z"
    }
   },
   "outputs": [],
   "source": [
    "import pandas as pd\n",
    "import numpy as np \n",
    "from matplotlib import pyplot as plt \n",
    "import seaborn as sns "
   ]
  },
  {
   "cell_type": "code",
   "execution_count": 2,
   "metadata": {
    "ExecuteTime": {
     "end_time": "2021-03-23T06:30:46.872478Z",
     "start_time": "2021-03-23T06:30:46.459879Z"
    }
   },
   "outputs": [],
   "source": [
    "df = pd.read_csv(\"final data.csv\")"
   ]
  },
  {
   "cell_type": "code",
   "execution_count": 3,
   "metadata": {
    "ExecuteTime": {
     "end_time": "2021-03-23T06:30:55.496095Z",
     "start_time": "2021-03-23T06:30:55.419738Z"
    }
   },
   "outputs": [
    {
     "data": {
      "text/html": [
       "<div>\n",
       "<style scoped>\n",
       "    .dataframe tbody tr th:only-of-type {\n",
       "        vertical-align: middle;\n",
       "    }\n",
       "\n",
       "    .dataframe tbody tr th {\n",
       "        vertical-align: top;\n",
       "    }\n",
       "\n",
       "    .dataframe thead th {\n",
       "        text-align: right;\n",
       "    }\n",
       "</style>\n",
       "<table border=\"1\" class=\"dataframe\">\n",
       "  <thead>\n",
       "    <tr style=\"text-align: right;\">\n",
       "      <th></th>\n",
       "      <th>number</th>\n",
       "      <th>incidentstate</th>\n",
       "      <th>active</th>\n",
       "      <th>reassignmentcount</th>\n",
       "      <th>reopencount</th>\n",
       "      <th>sysmodcount</th>\n",
       "      <th>contact_type</th>\n",
       "      <th>knowledge</th>\n",
       "      <th>upriorityconfirmation</th>\n",
       "      <th>caller_id</th>\n",
       "      <th>...</th>\n",
       "      <th>opened_at_day</th>\n",
       "      <th>opened_at_month</th>\n",
       "      <th>opened_at_year</th>\n",
       "      <th>opened_at_hr</th>\n",
       "      <th>opened_at_minute</th>\n",
       "      <th>created_at_day</th>\n",
       "      <th>created_at_month</th>\n",
       "      <th>created_at_year</th>\n",
       "      <th>created_at_hr</th>\n",
       "      <th>created_at_minute</th>\n",
       "    </tr>\n",
       "  </thead>\n",
       "  <tbody>\n",
       "    <tr>\n",
       "      <th>0</th>\n",
       "      <td>0</td>\n",
       "      <td>7</td>\n",
       "      <td>1</td>\n",
       "      <td>0</td>\n",
       "      <td>0</td>\n",
       "      <td>0</td>\n",
       "      <td>3</td>\n",
       "      <td>1</td>\n",
       "      <td>0</td>\n",
       "      <td>2403</td>\n",
       "      <td>...</td>\n",
       "      <td>29</td>\n",
       "      <td>2</td>\n",
       "      <td>2016</td>\n",
       "      <td>4</td>\n",
       "      <td>40</td>\n",
       "      <td>29</td>\n",
       "      <td>2</td>\n",
       "      <td>2016</td>\n",
       "      <td>4</td>\n",
       "      <td>57</td>\n",
       "    </tr>\n",
       "    <tr>\n",
       "      <th>1</th>\n",
       "      <td>0</td>\n",
       "      <td>1</td>\n",
       "      <td>1</td>\n",
       "      <td>1</td>\n",
       "      <td>0</td>\n",
       "      <td>1</td>\n",
       "      <td>3</td>\n",
       "      <td>1</td>\n",
       "      <td>0</td>\n",
       "      <td>2403</td>\n",
       "      <td>...</td>\n",
       "      <td>29</td>\n",
       "      <td>2</td>\n",
       "      <td>2016</td>\n",
       "      <td>4</td>\n",
       "      <td>40</td>\n",
       "      <td>29</td>\n",
       "      <td>2</td>\n",
       "      <td>2016</td>\n",
       "      <td>4</td>\n",
       "      <td>57</td>\n",
       "    </tr>\n",
       "    <tr>\n",
       "      <th>2</th>\n",
       "      <td>0</td>\n",
       "      <td>1</td>\n",
       "      <td>1</td>\n",
       "      <td>1</td>\n",
       "      <td>0</td>\n",
       "      <td>2</td>\n",
       "      <td>3</td>\n",
       "      <td>1</td>\n",
       "      <td>0</td>\n",
       "      <td>2403</td>\n",
       "      <td>...</td>\n",
       "      <td>29</td>\n",
       "      <td>2</td>\n",
       "      <td>2016</td>\n",
       "      <td>4</td>\n",
       "      <td>40</td>\n",
       "      <td>29</td>\n",
       "      <td>2</td>\n",
       "      <td>2016</td>\n",
       "      <td>4</td>\n",
       "      <td>57</td>\n",
       "    </tr>\n",
       "    <tr>\n",
       "      <th>3</th>\n",
       "      <td>0</td>\n",
       "      <td>1</td>\n",
       "      <td>1</td>\n",
       "      <td>1</td>\n",
       "      <td>0</td>\n",
       "      <td>3</td>\n",
       "      <td>3</td>\n",
       "      <td>1</td>\n",
       "      <td>0</td>\n",
       "      <td>2403</td>\n",
       "      <td>...</td>\n",
       "      <td>29</td>\n",
       "      <td>2</td>\n",
       "      <td>2016</td>\n",
       "      <td>4</td>\n",
       "      <td>40</td>\n",
       "      <td>29</td>\n",
       "      <td>2</td>\n",
       "      <td>2016</td>\n",
       "      <td>4</td>\n",
       "      <td>57</td>\n",
       "    </tr>\n",
       "    <tr>\n",
       "      <th>4</th>\n",
       "      <td>0</td>\n",
       "      <td>1</td>\n",
       "      <td>1</td>\n",
       "      <td>1</td>\n",
       "      <td>0</td>\n",
       "      <td>4</td>\n",
       "      <td>3</td>\n",
       "      <td>1</td>\n",
       "      <td>0</td>\n",
       "      <td>2403</td>\n",
       "      <td>...</td>\n",
       "      <td>29</td>\n",
       "      <td>2</td>\n",
       "      <td>2016</td>\n",
       "      <td>4</td>\n",
       "      <td>40</td>\n",
       "      <td>29</td>\n",
       "      <td>2</td>\n",
       "      <td>2016</td>\n",
       "      <td>4</td>\n",
       "      <td>57</td>\n",
       "    </tr>\n",
       "    <tr>\n",
       "      <th>...</th>\n",
       "      <td>...</td>\n",
       "      <td>...</td>\n",
       "      <td>...</td>\n",
       "      <td>...</td>\n",
       "      <td>...</td>\n",
       "      <td>...</td>\n",
       "      <td>...</td>\n",
       "      <td>...</td>\n",
       "      <td>...</td>\n",
       "      <td>...</td>\n",
       "      <td>...</td>\n",
       "      <td>...</td>\n",
       "      <td>...</td>\n",
       "      <td>...</td>\n",
       "      <td>...</td>\n",
       "      <td>...</td>\n",
       "      <td>...</td>\n",
       "      <td>...</td>\n",
       "      <td>...</td>\n",
       "      <td>...</td>\n",
       "      <td>...</td>\n",
       "    </tr>\n",
       "    <tr>\n",
       "      <th>141703</th>\n",
       "      <td>24915</td>\n",
       "      <td>6</td>\n",
       "      <td>0</td>\n",
       "      <td>1</td>\n",
       "      <td>0</td>\n",
       "      <td>4</td>\n",
       "      <td>1</td>\n",
       "      <td>0</td>\n",
       "      <td>1</td>\n",
       "      <td>116</td>\n",
       "      <td>...</td>\n",
       "      <td>16</td>\n",
       "      <td>2</td>\n",
       "      <td>2017</td>\n",
       "      <td>9</td>\n",
       "      <td>9</td>\n",
       "      <td>27</td>\n",
       "      <td>1</td>\n",
       "      <td>2017</td>\n",
       "      <td>16</td>\n",
       "      <td>59</td>\n",
       "    </tr>\n",
       "    <tr>\n",
       "      <th>141704</th>\n",
       "      <td>24916</td>\n",
       "      <td>1</td>\n",
       "      <td>1</td>\n",
       "      <td>0</td>\n",
       "      <td>0</td>\n",
       "      <td>0</td>\n",
       "      <td>1</td>\n",
       "      <td>0</td>\n",
       "      <td>0</td>\n",
       "      <td>116</td>\n",
       "      <td>...</td>\n",
       "      <td>16</td>\n",
       "      <td>2</td>\n",
       "      <td>2017</td>\n",
       "      <td>14</td>\n",
       "      <td>17</td>\n",
       "      <td>27</td>\n",
       "      <td>1</td>\n",
       "      <td>2017</td>\n",
       "      <td>16</td>\n",
       "      <td>59</td>\n",
       "    </tr>\n",
       "    <tr>\n",
       "      <th>141705</th>\n",
       "      <td>24916</td>\n",
       "      <td>1</td>\n",
       "      <td>1</td>\n",
       "      <td>1</td>\n",
       "      <td>0</td>\n",
       "      <td>1</td>\n",
       "      <td>1</td>\n",
       "      <td>0</td>\n",
       "      <td>0</td>\n",
       "      <td>116</td>\n",
       "      <td>...</td>\n",
       "      <td>16</td>\n",
       "      <td>2</td>\n",
       "      <td>2017</td>\n",
       "      <td>14</td>\n",
       "      <td>17</td>\n",
       "      <td>27</td>\n",
       "      <td>1</td>\n",
       "      <td>2017</td>\n",
       "      <td>16</td>\n",
       "      <td>59</td>\n",
       "    </tr>\n",
       "    <tr>\n",
       "      <th>141706</th>\n",
       "      <td>24916</td>\n",
       "      <td>8</td>\n",
       "      <td>1</td>\n",
       "      <td>1</td>\n",
       "      <td>0</td>\n",
       "      <td>2</td>\n",
       "      <td>1</td>\n",
       "      <td>0</td>\n",
       "      <td>1</td>\n",
       "      <td>116</td>\n",
       "      <td>...</td>\n",
       "      <td>16</td>\n",
       "      <td>2</td>\n",
       "      <td>2017</td>\n",
       "      <td>14</td>\n",
       "      <td>17</td>\n",
       "      <td>27</td>\n",
       "      <td>1</td>\n",
       "      <td>2017</td>\n",
       "      <td>16</td>\n",
       "      <td>59</td>\n",
       "    </tr>\n",
       "    <tr>\n",
       "      <th>141707</th>\n",
       "      <td>24916</td>\n",
       "      <td>6</td>\n",
       "      <td>0</td>\n",
       "      <td>1</td>\n",
       "      <td>0</td>\n",
       "      <td>3</td>\n",
       "      <td>1</td>\n",
       "      <td>0</td>\n",
       "      <td>1</td>\n",
       "      <td>116</td>\n",
       "      <td>...</td>\n",
       "      <td>16</td>\n",
       "      <td>2</td>\n",
       "      <td>2017</td>\n",
       "      <td>14</td>\n",
       "      <td>17</td>\n",
       "      <td>27</td>\n",
       "      <td>1</td>\n",
       "      <td>2017</td>\n",
       "      <td>16</td>\n",
       "      <td>59</td>\n",
       "    </tr>\n",
       "  </tbody>\n",
       "</table>\n",
       "<p>141708 rows × 33 columns</p>\n",
       "</div>"
      ],
      "text/plain": [
       "        number  incidentstate  active  reassignmentcount  reopencount  \\\n",
       "0            0              7       1                  0            0   \n",
       "1            0              1       1                  1            0   \n",
       "2            0              1       1                  1            0   \n",
       "3            0              1       1                  1            0   \n",
       "4            0              1       1                  1            0   \n",
       "...        ...            ...     ...                ...          ...   \n",
       "141703   24915              6       0                  1            0   \n",
       "141704   24916              1       1                  0            0   \n",
       "141705   24916              1       1                  1            0   \n",
       "141706   24916              8       1                  1            0   \n",
       "141707   24916              6       0                  1            0   \n",
       "\n",
       "        sysmodcount  contact_type  knowledge  upriorityconfirmation  \\\n",
       "0                 0             3          1                      0   \n",
       "1                 1             3          1                      0   \n",
       "2                 2             3          1                      0   \n",
       "3                 3             3          1                      0   \n",
       "4                 4             3          1                      0   \n",
       "...             ...           ...        ...                    ...   \n",
       "141703            4             1          0                      1   \n",
       "141704            0             1          0                      0   \n",
       "141705            1             1          0                      0   \n",
       "141706            2             1          0                      1   \n",
       "141707            3             1          0                      1   \n",
       "\n",
       "        caller_id  ...  opened_at_day  opened_at_month  opened_at_year  \\\n",
       "0            2403  ...             29                2            2016   \n",
       "1            2403  ...             29                2            2016   \n",
       "2            2403  ...             29                2            2016   \n",
       "3            2403  ...             29                2            2016   \n",
       "4            2403  ...             29                2            2016   \n",
       "...           ...  ...            ...              ...             ...   \n",
       "141703        116  ...             16                2            2017   \n",
       "141704        116  ...             16                2            2017   \n",
       "141705        116  ...             16                2            2017   \n",
       "141706        116  ...             16                2            2017   \n",
       "141707        116  ...             16                2            2017   \n",
       "\n",
       "        opened_at_hr  opened_at_minute  created_at_day  created_at_month  \\\n",
       "0                  4                40              29                 2   \n",
       "1                  4                40              29                 2   \n",
       "2                  4                40              29                 2   \n",
       "3                  4                40              29                 2   \n",
       "4                  4                40              29                 2   \n",
       "...              ...               ...             ...               ...   \n",
       "141703             9                 9              27                 1   \n",
       "141704            14                17              27                 1   \n",
       "141705            14                17              27                 1   \n",
       "141706            14                17              27                 1   \n",
       "141707            14                17              27                 1   \n",
       "\n",
       "        created_at_year  created_at_hr  created_at_minute  \n",
       "0                  2016              4                 57  \n",
       "1                  2016              4                 57  \n",
       "2                  2016              4                 57  \n",
       "3                  2016              4                 57  \n",
       "4                  2016              4                 57  \n",
       "...                 ...            ...                ...  \n",
       "141703             2017             16                 59  \n",
       "141704             2017             16                 59  \n",
       "141705             2017             16                 59  \n",
       "141706             2017             16                 59  \n",
       "141707             2017             16                 59  \n",
       "\n",
       "[141708 rows x 33 columns]"
      ]
     },
     "execution_count": 3,
     "metadata": {},
     "output_type": "execute_result"
    }
   ],
   "source": [
    "df"
   ]
  },
  {
   "cell_type": "code",
   "execution_count": 4,
   "metadata": {
    "ExecuteTime": {
     "end_time": "2021-03-23T06:31:21.562691Z",
     "start_time": "2021-03-23T06:31:21.546732Z"
    }
   },
   "outputs": [
    {
     "data": {
      "text/plain": [
       "number                   0\n",
       "incidentstate            0\n",
       "active                   0\n",
       "reassignmentcount        0\n",
       "reopencount              0\n",
       "sysmodcount              0\n",
       "contact_type             0\n",
       "knowledge                0\n",
       "upriorityconfirmation    0\n",
       "caller_id                0\n",
       "open_by                  0\n",
       "createdby                0\n",
       "updatedby                0\n",
       "loc                      0\n",
       "category                 0\n",
       "symptom                  0\n",
       "i_impact                 0\n",
       "assigned_to              0\n",
       "updated_day              0\n",
       "updated_month            0\n",
       "updated_year             0\n",
       "updated_hr               0\n",
       "updated_minute           0\n",
       "opened_at_day            0\n",
       "opened_at_month          0\n",
       "opened_at_year           0\n",
       "opened_at_hr             0\n",
       "opened_at_minute         0\n",
       "created_at_day           0\n",
       "created_at_month         0\n",
       "created_at_year          0\n",
       "created_at_hr            0\n",
       "created_at_minute        0\n",
       "dtype: int64"
      ]
     },
     "execution_count": 4,
     "metadata": {},
     "output_type": "execute_result"
    }
   ],
   "source": [
    "df.isnull().sum()"
   ]
  },
  {
   "cell_type": "code",
   "execution_count": 5,
   "metadata": {
    "ExecuteTime": {
     "end_time": "2021-03-23T06:31:30.276937Z",
     "start_time": "2021-03-23T06:31:30.253995Z"
    }
   },
   "outputs": [],
   "source": [
    "X=df.drop(\"i_impact\",axis=1)\n"
   ]
  },
  {
   "cell_type": "code",
   "execution_count": 6,
   "metadata": {
    "ExecuteTime": {
     "end_time": "2021-03-23T06:31:39.437592Z",
     "start_time": "2021-03-23T06:31:39.418640Z"
    }
   },
   "outputs": [
    {
     "data": {
      "text/html": [
       "<div>\n",
       "<style scoped>\n",
       "    .dataframe tbody tr th:only-of-type {\n",
       "        vertical-align: middle;\n",
       "    }\n",
       "\n",
       "    .dataframe tbody tr th {\n",
       "        vertical-align: top;\n",
       "    }\n",
       "\n",
       "    .dataframe thead th {\n",
       "        text-align: right;\n",
       "    }\n",
       "</style>\n",
       "<table border=\"1\" class=\"dataframe\">\n",
       "  <thead>\n",
       "    <tr style=\"text-align: right;\">\n",
       "      <th></th>\n",
       "      <th>number</th>\n",
       "      <th>incidentstate</th>\n",
       "      <th>active</th>\n",
       "      <th>reassignmentcount</th>\n",
       "      <th>reopencount</th>\n",
       "      <th>sysmodcount</th>\n",
       "      <th>contact_type</th>\n",
       "      <th>knowledge</th>\n",
       "      <th>upriorityconfirmation</th>\n",
       "      <th>caller_id</th>\n",
       "      <th>...</th>\n",
       "      <th>opened_at_day</th>\n",
       "      <th>opened_at_month</th>\n",
       "      <th>opened_at_year</th>\n",
       "      <th>opened_at_hr</th>\n",
       "      <th>opened_at_minute</th>\n",
       "      <th>created_at_day</th>\n",
       "      <th>created_at_month</th>\n",
       "      <th>created_at_year</th>\n",
       "      <th>created_at_hr</th>\n",
       "      <th>created_at_minute</th>\n",
       "    </tr>\n",
       "  </thead>\n",
       "  <tbody>\n",
       "    <tr>\n",
       "      <th>0</th>\n",
       "      <td>0</td>\n",
       "      <td>7</td>\n",
       "      <td>1</td>\n",
       "      <td>0</td>\n",
       "      <td>0</td>\n",
       "      <td>0</td>\n",
       "      <td>3</td>\n",
       "      <td>1</td>\n",
       "      <td>0</td>\n",
       "      <td>2403</td>\n",
       "      <td>...</td>\n",
       "      <td>29</td>\n",
       "      <td>2</td>\n",
       "      <td>2016</td>\n",
       "      <td>4</td>\n",
       "      <td>40</td>\n",
       "      <td>29</td>\n",
       "      <td>2</td>\n",
       "      <td>2016</td>\n",
       "      <td>4</td>\n",
       "      <td>57</td>\n",
       "    </tr>\n",
       "    <tr>\n",
       "      <th>1</th>\n",
       "      <td>0</td>\n",
       "      <td>1</td>\n",
       "      <td>1</td>\n",
       "      <td>1</td>\n",
       "      <td>0</td>\n",
       "      <td>1</td>\n",
       "      <td>3</td>\n",
       "      <td>1</td>\n",
       "      <td>0</td>\n",
       "      <td>2403</td>\n",
       "      <td>...</td>\n",
       "      <td>29</td>\n",
       "      <td>2</td>\n",
       "      <td>2016</td>\n",
       "      <td>4</td>\n",
       "      <td>40</td>\n",
       "      <td>29</td>\n",
       "      <td>2</td>\n",
       "      <td>2016</td>\n",
       "      <td>4</td>\n",
       "      <td>57</td>\n",
       "    </tr>\n",
       "    <tr>\n",
       "      <th>2</th>\n",
       "      <td>0</td>\n",
       "      <td>1</td>\n",
       "      <td>1</td>\n",
       "      <td>1</td>\n",
       "      <td>0</td>\n",
       "      <td>2</td>\n",
       "      <td>3</td>\n",
       "      <td>1</td>\n",
       "      <td>0</td>\n",
       "      <td>2403</td>\n",
       "      <td>...</td>\n",
       "      <td>29</td>\n",
       "      <td>2</td>\n",
       "      <td>2016</td>\n",
       "      <td>4</td>\n",
       "      <td>40</td>\n",
       "      <td>29</td>\n",
       "      <td>2</td>\n",
       "      <td>2016</td>\n",
       "      <td>4</td>\n",
       "      <td>57</td>\n",
       "    </tr>\n",
       "    <tr>\n",
       "      <th>3</th>\n",
       "      <td>0</td>\n",
       "      <td>1</td>\n",
       "      <td>1</td>\n",
       "      <td>1</td>\n",
       "      <td>0</td>\n",
       "      <td>3</td>\n",
       "      <td>3</td>\n",
       "      <td>1</td>\n",
       "      <td>0</td>\n",
       "      <td>2403</td>\n",
       "      <td>...</td>\n",
       "      <td>29</td>\n",
       "      <td>2</td>\n",
       "      <td>2016</td>\n",
       "      <td>4</td>\n",
       "      <td>40</td>\n",
       "      <td>29</td>\n",
       "      <td>2</td>\n",
       "      <td>2016</td>\n",
       "      <td>4</td>\n",
       "      <td>57</td>\n",
       "    </tr>\n",
       "    <tr>\n",
       "      <th>4</th>\n",
       "      <td>0</td>\n",
       "      <td>1</td>\n",
       "      <td>1</td>\n",
       "      <td>1</td>\n",
       "      <td>0</td>\n",
       "      <td>4</td>\n",
       "      <td>3</td>\n",
       "      <td>1</td>\n",
       "      <td>0</td>\n",
       "      <td>2403</td>\n",
       "      <td>...</td>\n",
       "      <td>29</td>\n",
       "      <td>2</td>\n",
       "      <td>2016</td>\n",
       "      <td>4</td>\n",
       "      <td>40</td>\n",
       "      <td>29</td>\n",
       "      <td>2</td>\n",
       "      <td>2016</td>\n",
       "      <td>4</td>\n",
       "      <td>57</td>\n",
       "    </tr>\n",
       "  </tbody>\n",
       "</table>\n",
       "<p>5 rows × 32 columns</p>\n",
       "</div>"
      ],
      "text/plain": [
       "   number  incidentstate  active  reassignmentcount  reopencount  sysmodcount  \\\n",
       "0       0              7       1                  0            0            0   \n",
       "1       0              1       1                  1            0            1   \n",
       "2       0              1       1                  1            0            2   \n",
       "3       0              1       1                  1            0            3   \n",
       "4       0              1       1                  1            0            4   \n",
       "\n",
       "   contact_type  knowledge  upriorityconfirmation  caller_id  ...  \\\n",
       "0             3          1                      0       2403  ...   \n",
       "1             3          1                      0       2403  ...   \n",
       "2             3          1                      0       2403  ...   \n",
       "3             3          1                      0       2403  ...   \n",
       "4             3          1                      0       2403  ...   \n",
       "\n",
       "   opened_at_day  opened_at_month  opened_at_year  opened_at_hr  \\\n",
       "0             29                2            2016             4   \n",
       "1             29                2            2016             4   \n",
       "2             29                2            2016             4   \n",
       "3             29                2            2016             4   \n",
       "4             29                2            2016             4   \n",
       "\n",
       "   opened_at_minute  created_at_day  created_at_month  created_at_year  \\\n",
       "0                40              29                 2             2016   \n",
       "1                40              29                 2             2016   \n",
       "2                40              29                 2             2016   \n",
       "3                40              29                 2             2016   \n",
       "4                40              29                 2             2016   \n",
       "\n",
       "   created_at_hr  created_at_minute  \n",
       "0              4                 57  \n",
       "1              4                 57  \n",
       "2              4                 57  \n",
       "3              4                 57  \n",
       "4              4                 57  \n",
       "\n",
       "[5 rows x 32 columns]"
      ]
     },
     "execution_count": 6,
     "metadata": {},
     "output_type": "execute_result"
    }
   ],
   "source": [
    "X.head()"
   ]
  },
  {
   "cell_type": "code",
   "execution_count": 7,
   "metadata": {
    "ExecuteTime": {
     "end_time": "2021-03-23T06:31:50.729846Z",
     "start_time": "2021-03-23T06:31:50.721877Z"
    }
   },
   "outputs": [],
   "source": [
    "Y = df['i_impact']"
   ]
  },
  {
   "cell_type": "code",
   "execution_count": 8,
   "metadata": {
    "ExecuteTime": {
     "end_time": "2021-03-23T06:31:58.361562Z",
     "start_time": "2021-03-23T06:31:58.348567Z"
    }
   },
   "outputs": [
    {
     "data": {
      "text/plain": [
       "0    2\n",
       "1    2\n",
       "2    2\n",
       "3    2\n",
       "4    2\n",
       "Name: i_impact, dtype: int64"
      ]
     },
     "execution_count": 8,
     "metadata": {},
     "output_type": "execute_result"
    }
   ],
   "source": [
    "Y.head()"
   ]
  },
  {
   "cell_type": "code",
   "execution_count": 9,
   "metadata": {
    "ExecuteTime": {
     "end_time": "2021-03-23T06:32:15.618522Z",
     "start_time": "2021-03-23T06:32:15.603617Z"
    }
   },
   "outputs": [],
   "source": [
    "from sklearn.model_selection import train_test_split"
   ]
  },
  {
   "cell_type": "code",
   "execution_count": 10,
   "metadata": {
    "ExecuteTime": {
     "end_time": "2021-03-23T06:32:22.005084Z",
     "start_time": "2021-03-23T06:32:21.938295Z"
    }
   },
   "outputs": [],
   "source": [
    "X_train, X_test, y_train, y_test = train_test_split(X, Y, test_size=0.3,random_state=10)"
   ]
  },
  {
   "cell_type": "code",
   "execution_count": 11,
   "metadata": {
    "ExecuteTime": {
     "end_time": "2021-03-23T06:32:30.737691Z",
     "start_time": "2021-03-23T06:32:30.727683Z"
    }
   },
   "outputs": [],
   "source": [
    "from imblearn.over_sampling import SMOTE"
   ]
  },
  {
   "cell_type": "code",
   "execution_count": 12,
   "metadata": {
    "ExecuteTime": {
     "end_time": "2021-03-23T06:32:38.553996Z",
     "start_time": "2021-03-23T06:32:38.526787Z"
    }
   },
   "outputs": [],
   "source": [
    "smote = SMOTE()"
   ]
  },
  {
   "cell_type": "code",
   "execution_count": 13,
   "metadata": {
    "ExecuteTime": {
     "end_time": "2021-03-23T06:32:46.883960Z",
     "start_time": "2021-03-23T06:32:46.102943Z"
    }
   },
   "outputs": [],
   "source": [
    "X_train_smote, y_train_smote = smote.fit_resample(X_train.astype('float'), y_train)"
   ]
  },
  {
   "cell_type": "code",
   "execution_count": 14,
   "metadata": {
    "ExecuteTime": {
     "end_time": "2021-03-23T06:32:54.256381Z",
     "start_time": "2021-03-23T06:32:54.183579Z"
    }
   },
   "outputs": [
    {
     "name": "stdout",
     "output_type": "stream",
     "text": [
      "Before SMOTE : Counter({2: 94155, 3: 2647, 1: 2393})\n",
      "After SMOTE : Counter({2: 94155, 1: 94155, 3: 94155})\n"
     ]
    }
   ],
   "source": [
    "from collections import Counter\n",
    "print(\"Before SMOTE :\",Counter(y_train))\n",
    "print(\"After SMOTE :\",Counter(y_train_smote))"
   ]
  },
  {
   "cell_type": "code",
   "execution_count": 15,
   "metadata": {
    "ExecuteTime": {
     "end_time": "2021-03-23T06:33:11.104735Z",
     "start_time": "2021-03-23T06:33:11.084749Z"
    }
   },
   "outputs": [],
   "source": [
    "X_train_smote_new= X_train_smote[['caller_id','open_by','loc','category']]\n",
    "X_test_new= X_test[['caller_id','open_by','loc','category']]"
   ]
  },
  {
   "cell_type": "code",
   "execution_count": 16,
   "metadata": {
    "ExecuteTime": {
     "end_time": "2021-03-23T06:33:55.598613Z",
     "start_time": "2021-03-23T06:33:18.736541Z"
    }
   },
   "outputs": [
    {
     "data": {
      "text/plain": [
       "RandomForestClassifier(max_depth=27)"
      ]
     },
     "execution_count": 16,
     "metadata": {},
     "output_type": "execute_result"
    }
   ],
   "source": [
    "from sklearn.ensemble import RandomForestClassifier\n",
    "model_rf = RandomForestClassifier(max_depth=27)\n",
    "model_rf.fit(X_train_smote_new,y_train_smote)\n"
   ]
  },
  {
   "cell_type": "code",
   "execution_count": 17,
   "metadata": {
    "ExecuteTime": {
     "end_time": "2021-03-23T06:34:16.539519Z",
     "start_time": "2021-03-23T06:34:15.732320Z"
    }
   },
   "outputs": [],
   "source": [
    "# Predicting the model\n",
    "y_predict_rf = model_rf.predict(X_test_new)"
   ]
  },
  {
   "cell_type": "code",
   "execution_count": 18,
   "metadata": {
    "ExecuteTime": {
     "end_time": "2021-03-23T06:34:35.247173Z",
     "start_time": "2021-03-23T06:34:35.181764Z"
    }
   },
   "outputs": [
    {
     "name": "stdout",
     "output_type": "stream",
     "text": [
      "0.9788300049396655\n",
      "              precision    recall  f1-score   support\n",
      "\n",
      "           1       0.68      0.92      0.78      1098\n",
      "           2       1.00      0.98      0.99     40176\n",
      "           3       0.78      0.95      0.86      1239\n",
      "\n",
      "    accuracy                           0.98     42513\n",
      "   macro avg       0.82      0.95      0.88     42513\n",
      "weighted avg       0.98      0.98      0.98     42513\n",
      "\n"
     ]
    }
   ],
   "source": [
    "# Finding accuracy, precision, recall and confusion matrix\n",
    "from sklearn.metrics import accuracy_score, classification_report, confusion_matrix\n",
    "print(accuracy_score(y_test,y_predict_rf))\n",
    "print(classification_report(y_test,y_predict_rf))\n"
   ]
  },
  {
   "cell_type": "code",
   "execution_count": 19,
   "metadata": {
    "ExecuteTime": {
     "end_time": "2021-03-23T06:34:49.639827Z",
     "start_time": "2021-03-23T06:34:49.593360Z"
    }
   },
   "outputs": [
    {
     "data": {
      "text/plain": [
       "array([[ 1011,    74,    13],\n",
       "       [  445, 39419,   312],\n",
       "       [   24,    32,  1183]], dtype=int64)"
      ]
     },
     "execution_count": 19,
     "metadata": {},
     "output_type": "execute_result"
    }
   ],
   "source": [
    "confusion_matrix(y_test,y_predict_rf)\n"
   ]
  },
  {
   "cell_type": "code",
   "execution_count": 56,
   "metadata": {
    "ExecuteTime": {
     "end_time": "2021-03-23T06:47:28.883135Z",
     "start_time": "2021-03-23T06:47:28.868134Z"
    }
   },
   "outputs": [],
   "source": [
    "accuracy_rf = (716+39962+1048)/(42513)*100"
   ]
  },
  {
   "cell_type": "code",
   "execution_count": 20,
   "metadata": {
    "ExecuteTime": {
     "end_time": "2021-03-23T06:35:23.373466Z",
     "start_time": "2021-03-23T06:35:22.463480Z"
    }
   },
   "outputs": [
    {
     "data": {
      "text/plain": [
       "DecisionTreeClassifier()"
      ]
     },
     "execution_count": 20,
     "metadata": {},
     "output_type": "execute_result"
    }
   ],
   "source": [
    "# Training the model\n",
    "from sklearn.tree import DecisionTreeClassifier\n",
    "model_dtree=DecisionTreeClassifier()\n",
    "model_dtree.fit(X_train_smote_new,y_train_smote)"
   ]
  },
  {
   "cell_type": "code",
   "execution_count": 21,
   "metadata": {
    "ExecuteTime": {
     "end_time": "2021-03-23T06:35:32.858145Z",
     "start_time": "2021-03-23T06:35:32.832217Z"
    }
   },
   "outputs": [],
   "source": [
    "# Predicting the model\n",
    "y_predict_dtree = model_dtree.predict(X_test_new)"
   ]
  },
  {
   "cell_type": "code",
   "execution_count": 22,
   "metadata": {
    "ExecuteTime": {
     "end_time": "2021-03-23T06:35:42.223009Z",
     "start_time": "2021-03-23T06:35:42.159715Z"
    }
   },
   "outputs": [
    {
     "name": "stdout",
     "output_type": "stream",
     "text": [
      "0.9781713828711218\n",
      "              precision    recall  f1-score   support\n",
      "\n",
      "           1       0.68      0.93      0.78      1098\n",
      "           2       1.00      0.98      0.99     40176\n",
      "           3       0.78      0.95      0.86      1239\n",
      "\n",
      "    accuracy                           0.98     42513\n",
      "   macro avg       0.82      0.95      0.88     42513\n",
      "weighted avg       0.98      0.98      0.98     42513\n",
      "\n"
     ]
    }
   ],
   "source": [
    "# Finding accuracy, precision, recall and confusion matrix\n",
    "print(accuracy_score(y_test,y_predict_dtree))\n",
    "print(classification_report(y_test,y_predict_dtree))"
   ]
  },
  {
   "cell_type": "code",
   "execution_count": 23,
   "metadata": {
    "ExecuteTime": {
     "end_time": "2021-03-23T06:36:01.181875Z",
     "start_time": "2021-03-23T06:36:01.134013Z"
    }
   },
   "outputs": [
    {
     "data": {
      "text/plain": [
       "array([[ 1021,    63,    14],\n",
       "       [  470, 39389,   317],\n",
       "       [   21,    43,  1175]], dtype=int64)"
      ]
     },
     "execution_count": 23,
     "metadata": {},
     "output_type": "execute_result"
    }
   ],
   "source": [
    "confusion_matrix(y_test,y_predict_dtree )"
   ]
  },
  {
   "cell_type": "code",
   "execution_count": 24,
   "metadata": {
    "ExecuteTime": {
     "end_time": "2021-03-23T06:36:13.300069Z",
     "start_time": "2021-03-23T06:36:13.294085Z"
    }
   },
   "outputs": [],
   "source": [
    "accuracy_dtree = (654+38955+1002)/(42513)*100"
   ]
  },
  {
   "cell_type": "code",
   "execution_count": 25,
   "metadata": {
    "ExecuteTime": {
     "end_time": "2021-03-23T06:36:23.576369Z",
     "start_time": "2021-03-23T06:36:23.567350Z"
    }
   },
   "outputs": [],
   "source": [
    "# Training the model\n",
    "from sklearn.neighbors import KNeighborsClassifier\n",
    "model_knn = KNeighborsClassifier(n_neighbors=12,metric='euclidean') # Maximum accuracy for n=10\n"
   ]
  },
  {
   "cell_type": "code",
   "execution_count": 26,
   "metadata": {
    "ExecuteTime": {
     "end_time": "2021-03-23T06:36:33.490887Z",
     "start_time": "2021-03-23T06:36:32.598973Z"
    }
   },
   "outputs": [
    {
     "data": {
      "text/plain": [
       "KNeighborsClassifier(metric='euclidean', n_neighbors=12)"
      ]
     },
     "execution_count": 26,
     "metadata": {},
     "output_type": "execute_result"
    }
   ],
   "source": [
    "model_knn.fit(X_train_smote_new,y_train_smote)"
   ]
  },
  {
   "cell_type": "code",
   "execution_count": 27,
   "metadata": {
    "ExecuteTime": {
     "end_time": "2021-03-23T06:36:43.751776Z",
     "start_time": "2021-03-23T06:36:41.865304Z"
    }
   },
   "outputs": [],
   "source": [
    "# Predicting the model\n",
    "y_predict_knn = model_knn.predict(X_test_new)"
   ]
  },
  {
   "cell_type": "code",
   "execution_count": 28,
   "metadata": {
    "ExecuteTime": {
     "end_time": "2021-03-23T06:36:55.087862Z",
     "start_time": "2021-03-23T06:36:55.025579Z"
    }
   },
   "outputs": [
    {
     "name": "stdout",
     "output_type": "stream",
     "text": [
      "0.894032413614659\n",
      "              precision    recall  f1-score   support\n",
      "\n",
      "           1       0.28      0.95      0.43      1098\n",
      "           2       1.00      0.89      0.94     40176\n",
      "           3       0.41      0.93      0.57      1239\n",
      "\n",
      "    accuracy                           0.89     42513\n",
      "   macro avg       0.56      0.92      0.65     42513\n",
      "weighted avg       0.96      0.89      0.92     42513\n",
      "\n"
     ]
    }
   ],
   "source": [
    "# Finding accuracy, precision, recall and confusion matrix\n",
    "print(accuracy_score(y_test,y_predict_knn))\n",
    "print(classification_report(y_test,y_predict_knn))"
   ]
  },
  {
   "cell_type": "code",
   "execution_count": 29,
   "metadata": {
    "ExecuteTime": {
     "end_time": "2021-03-23T06:37:08.469569Z",
     "start_time": "2021-03-23T06:37:08.419804Z"
    }
   },
   "outputs": [
    {
     "data": {
      "text/plain": [
       "array([[ 1048,    34,    16],\n",
       "       [ 2723, 35809,  1644],\n",
       "       [   24,    64,  1151]], dtype=int64)"
      ]
     },
     "execution_count": 29,
     "metadata": {},
     "output_type": "execute_result"
    }
   ],
   "source": [
    "confusion_matrix(y_test,y_predict_knn)"
   ]
  },
  {
   "cell_type": "code",
   "execution_count": 30,
   "metadata": {
    "ExecuteTime": {
     "end_time": "2021-03-23T06:37:17.107701Z",
     "start_time": "2021-03-23T06:37:17.097729Z"
    }
   },
   "outputs": [],
   "source": [
    "accuracy_knn = (950+33946+1083)/(42513)*100"
   ]
  },
  {
   "cell_type": "code",
   "execution_count": 31,
   "metadata": {
    "ExecuteTime": {
     "end_time": "2021-03-23T06:38:01.736940Z",
     "start_time": "2021-03-23T06:38:00.025008Z"
    }
   },
   "outputs": [],
   "source": [
    "# Training the model\n",
    "from xgboost import XGBClassifier\n",
    "model_xgb = XGBClassifier()\n"
   ]
  },
  {
   "cell_type": "code",
   "execution_count": 32,
   "metadata": {
    "ExecuteTime": {
     "end_time": "2021-03-23T06:38:30.945769Z",
     "start_time": "2021-03-23T06:38:10.185824Z"
    }
   },
   "outputs": [
    {
     "name": "stderr",
     "output_type": "stream",
     "text": [
      "C:\\Users\\Anup w\\anaconda3\\lib\\site-packages\\xgboost\\sklearn.py:892: UserWarning: The use of label encoder in XGBClassifier is deprecated and will be removed in a future release. To remove this warning, do the following: 1) Pass option use_label_encoder=False when constructing XGBClassifier object; and 2) Encode your labels (y) as integers starting with 0, i.e. 0, 1, 2, ..., [num_class - 1].\n",
      "  warnings.warn(label_encoder_deprecation_msg, UserWarning)\n"
     ]
    },
    {
     "name": "stdout",
     "output_type": "stream",
     "text": [
      "[12:08:10] WARNING: C:/Users/Administrator/workspace/xgboost-win64_release_1.3.0/src/learner.cc:1061: Starting in XGBoost 1.3.0, the default evaluation metric used with the objective 'multi:softprob' was changed from 'merror' to 'mlogloss'. Explicitly set eval_metric if you'd like to restore the old behavior.\n"
     ]
    },
    {
     "data": {
      "text/plain": [
       "XGBClassifier(base_score=0.5, booster='gbtree', colsample_bylevel=1,\n",
       "              colsample_bynode=1, colsample_bytree=1, gamma=0, gpu_id=-1,\n",
       "              importance_type='gain', interaction_constraints='',\n",
       "              learning_rate=0.300000012, max_delta_step=0, max_depth=6,\n",
       "              min_child_weight=1, missing=nan, monotone_constraints='()',\n",
       "              n_estimators=100, n_jobs=8, num_parallel_tree=1,\n",
       "              objective='multi:softprob', random_state=0, reg_alpha=0,\n",
       "              reg_lambda=1, scale_pos_weight=None, subsample=1,\n",
       "              tree_method='exact', validate_parameters=1, verbosity=None)"
      ]
     },
     "execution_count": 32,
     "metadata": {},
     "output_type": "execute_result"
    }
   ],
   "source": [
    "model_xgb.fit(X_train_smote_new,y_train_smote)"
   ]
  },
  {
   "cell_type": "code",
   "execution_count": 33,
   "metadata": {
    "ExecuteTime": {
     "end_time": "2021-03-23T06:39:14.010558Z",
     "start_time": "2021-03-23T06:39:13.915843Z"
    }
   },
   "outputs": [],
   "source": [
    "# Predicting the model\n",
    "y_predict_xgb = model_xgb.predict(X_test_new)"
   ]
  },
  {
   "cell_type": "code",
   "execution_count": 34,
   "metadata": {
    "ExecuteTime": {
     "end_time": "2021-03-23T06:39:23.240457Z",
     "start_time": "2021-03-23T06:39:23.188590Z"
    }
   },
   "outputs": [
    {
     "name": "stdout",
     "output_type": "stream",
     "text": [
      "0.9174134970479618\n",
      "              precision    recall  f1-score   support\n",
      "\n",
      "           1       0.38      0.84      0.53      1098\n",
      "           2       0.99      0.92      0.96     40176\n",
      "           3       0.39      0.92      0.55      1239\n",
      "\n",
      "    accuracy                           0.92     42513\n",
      "   macro avg       0.59      0.89      0.68     42513\n",
      "weighted avg       0.96      0.92      0.93     42513\n",
      "\n"
     ]
    }
   ],
   "source": [
    "# Finding accuracy, precision, recall and confusion matrix\n",
    "print(accuracy_score(y_test,y_predict_xgb))\n",
    "print(classification_report(y_test,y_predict_xgb))"
   ]
  },
  {
   "cell_type": "code",
   "execution_count": 35,
   "metadata": {
    "ExecuteTime": {
     "end_time": "2021-03-23T06:39:32.207879Z",
     "start_time": "2021-03-23T06:39:32.164995Z"
    }
   },
   "outputs": [
    {
     "data": {
      "text/plain": [
       "array([[  918,   160,    20],\n",
       "       [ 1451, 36946,  1779],\n",
       "       [   30,    71,  1138]], dtype=int64)"
      ]
     },
     "execution_count": 35,
     "metadata": {},
     "output_type": "execute_result"
    }
   ],
   "source": [
    "confusion_matrix(y_test,y_predict_xgb)"
   ]
  },
  {
   "cell_type": "code",
   "execution_count": 36,
   "metadata": {
    "ExecuteTime": {
     "end_time": "2021-03-23T06:39:40.888655Z",
     "start_time": "2021-03-23T06:39:40.875689Z"
    }
   },
   "outputs": [],
   "source": [
    "accuracy_XGB= (471+39817+997)/(42513)*100"
   ]
  },
  {
   "cell_type": "code",
   "execution_count": 37,
   "metadata": {
    "ExecuteTime": {
     "end_time": "2021-03-23T06:39:49.252960Z",
     "start_time": "2021-03-23T06:39:49.069354Z"
    }
   },
   "outputs": [],
   "source": [
    "# Training the model\n",
    "from sklearn.neural_network import MLPClassifier\n",
    "model_mlp = MLPClassifier()"
   ]
  },
  {
   "cell_type": "code",
   "execution_count": 38,
   "metadata": {
    "ExecuteTime": {
     "end_time": "2021-03-23T06:44:03.538959Z",
     "start_time": "2021-03-23T06:39:56.749342Z"
    }
   },
   "outputs": [
    {
     "name": "stderr",
     "output_type": "stream",
     "text": [
      "C:\\Users\\Anup w\\anaconda3\\lib\\site-packages\\sklearn\\neural_network\\_multilayer_perceptron.py:614: ConvergenceWarning: Stochastic Optimizer: Maximum iterations (200) reached and the optimization hasn't converged yet.\n",
      "  warnings.warn(\n"
     ]
    },
    {
     "data": {
      "text/plain": [
       "MLPClassifier()"
      ]
     },
     "execution_count": 38,
     "metadata": {},
     "output_type": "execute_result"
    }
   ],
   "source": [
    "model_mlp.fit(X_train_smote_new,y_train_smote)"
   ]
  },
  {
   "cell_type": "code",
   "execution_count": 39,
   "metadata": {
    "ExecuteTime": {
     "end_time": "2021-03-23T06:44:29.124673Z",
     "start_time": "2021-03-23T06:44:29.032953Z"
    }
   },
   "outputs": [],
   "source": [
    "# Predicting the model\n",
    "y_predict_mlp = model_mlp.predict(X_test_new)"
   ]
  },
  {
   "cell_type": "code",
   "execution_count": 40,
   "metadata": {
    "ExecuteTime": {
     "end_time": "2021-03-23T06:44:38.245774Z",
     "start_time": "2021-03-23T06:44:38.180943Z"
    }
   },
   "outputs": [
    {
     "name": "stdout",
     "output_type": "stream",
     "text": [
      "0.5877261073083527\n",
      "              precision    recall  f1-score   support\n",
      "\n",
      "           1       0.05      0.45      0.09      1098\n",
      "           2       0.98      0.58      0.73     40176\n",
      "           3       0.11      0.85      0.20      1239\n",
      "\n",
      "    accuracy                           0.59     42513\n",
      "   macro avg       0.38      0.63      0.34     42513\n",
      "weighted avg       0.93      0.59      0.70     42513\n",
      "\n"
     ]
    }
   ],
   "source": [
    "# Finding accuracy, precision, recall and confusion matrix\n",
    "print(accuracy_score(y_test,y_predict_mlp))\n",
    "print(classification_report(y_test,y_predict_mlp))"
   ]
  },
  {
   "cell_type": "code",
   "execution_count": 41,
   "metadata": {
    "ExecuteTime": {
     "end_time": "2021-03-23T06:44:49.973008Z",
     "start_time": "2021-03-23T06:44:49.935107Z"
    }
   },
   "outputs": [
    {
     "data": {
      "text/plain": [
       "array([[  490,   402,   206],\n",
       "       [ 8628, 23446,  8102],\n",
       "       [  109,    80,  1050]], dtype=int64)"
      ]
     },
     "execution_count": 41,
     "metadata": {},
     "output_type": "execute_result"
    }
   ],
   "source": [
    "confusion_matrix(y_test,y_predict_mlp)"
   ]
  },
  {
   "cell_type": "code",
   "execution_count": 42,
   "metadata": {
    "ExecuteTime": {
     "end_time": "2021-03-23T06:44:57.787211Z",
     "start_time": "2021-03-23T06:44:57.771602Z"
    }
   },
   "outputs": [],
   "source": [
    "accuracy_mlp = (670+28542+863)/(42513)*100"
   ]
  },
  {
   "cell_type": "code",
   "execution_count": 43,
   "metadata": {
    "ExecuteTime": {
     "end_time": "2021-03-23T06:45:05.887751Z",
     "start_time": "2021-03-23T06:45:05.871775Z"
    }
   },
   "outputs": [],
   "source": [
    "from sklearn.naive_bayes import GaussianNB\n",
    "from sklearn.naive_bayes import MultinomialNB"
   ]
  },
  {
   "cell_type": "code",
   "execution_count": 44,
   "metadata": {
    "ExecuteTime": {
     "end_time": "2021-03-23T06:45:14.212870Z",
     "start_time": "2021-03-23T06:45:14.207850Z"
    }
   },
   "outputs": [],
   "source": [
    "sgnb = GaussianNB()\n",
    "smnb = MultinomialNB()"
   ]
  },
  {
   "cell_type": "code",
   "execution_count": 45,
   "metadata": {
    "ExecuteTime": {
     "end_time": "2021-03-23T06:45:22.655401Z",
     "start_time": "2021-03-23T06:45:22.586604Z"
    }
   },
   "outputs": [],
   "source": [
    "spred_gnb = sgnb.fit(X_train_smote_new,y_train_smote)"
   ]
  },
  {
   "cell_type": "code",
   "execution_count": 46,
   "metadata": {
    "ExecuteTime": {
     "end_time": "2021-03-23T06:45:31.189560Z",
     "start_time": "2021-03-23T06:45:31.171612Z"
    }
   },
   "outputs": [],
   "source": [
    "# Predicting the model\n",
    "y_predict_sgnb = spred_gnb.predict(X_test_new)"
   ]
  },
  {
   "cell_type": "code",
   "execution_count": 47,
   "metadata": {
    "ExecuteTime": {
     "end_time": "2021-03-23T06:45:41.150603Z",
     "start_time": "2021-03-23T06:45:41.079792Z"
    }
   },
   "outputs": [
    {
     "name": "stdout",
     "output_type": "stream",
     "text": [
      "0.5028109048996777\n",
      "              precision    recall  f1-score   support\n",
      "\n",
      "           1       0.03      0.27      0.06      1098\n",
      "           2       0.97      0.51      0.66     40176\n",
      "           3       0.06      0.63      0.11      1239\n",
      "\n",
      "    accuracy                           0.50     42513\n",
      "   macro avg       0.36      0.47      0.28     42513\n",
      "weighted avg       0.92      0.50      0.63     42513\n",
      "\n"
     ]
    }
   ],
   "source": [
    "# Finding accuracy, precision, recall and confusion matrix\n",
    "print(accuracy_score(y_test,y_predict_sgnb))\n",
    "print(classification_report(y_test,y_predict_sgnb))"
   ]
  },
  {
   "cell_type": "code",
   "execution_count": 48,
   "metadata": {
    "ExecuteTime": {
     "end_time": "2021-03-23T06:45:59.180907Z",
     "start_time": "2021-03-23T06:45:59.134178Z"
    }
   },
   "outputs": [
    {
     "data": {
      "text/plain": [
       "array([[  291,   454,   353],\n",
       "       [ 8560, 20306, 11310],\n",
       "       [  302,   158,   779]], dtype=int64)"
      ]
     },
     "execution_count": 48,
     "metadata": {},
     "output_type": "execute_result"
    }
   ],
   "source": [
    "confusion_matrix(y_test,y_predict_sgnb )"
   ]
  },
  {
   "cell_type": "code",
   "execution_count": 49,
   "metadata": {
    "ExecuteTime": {
     "end_time": "2021-03-23T06:46:07.477069Z",
     "start_time": "2021-03-23T06:46:07.468095Z"
    }
   },
   "outputs": [],
   "source": [
    "accuracy_gnb = (474+20378+575)/(42513)*100"
   ]
  },
  {
   "cell_type": "code",
   "execution_count": 50,
   "metadata": {
    "ExecuteTime": {
     "end_time": "2021-03-23T06:46:15.836900Z",
     "start_time": "2021-03-23T06:46:15.778056Z"
    }
   },
   "outputs": [],
   "source": [
    "spred_mnb = smnb.fit(X_train_smote_new,y_train_smote)"
   ]
  },
  {
   "cell_type": "code",
   "execution_count": 51,
   "metadata": {
    "ExecuteTime": {
     "end_time": "2021-03-23T06:46:25.026026Z",
     "start_time": "2021-03-23T06:46:24.991081Z"
    }
   },
   "outputs": [],
   "source": [
    "# Predicting the model\n",
    "y_predict_smnb = spred_mnb.predict(X_test_new)"
   ]
  },
  {
   "cell_type": "code",
   "execution_count": 52,
   "metadata": {
    "ExecuteTime": {
     "end_time": "2021-03-23T06:46:32.299154Z",
     "start_time": "2021-03-23T06:46:32.244300Z"
    }
   },
   "outputs": [
    {
     "name": "stdout",
     "output_type": "stream",
     "text": [
      "0.5192999788300049\n",
      "              precision    recall  f1-score   support\n",
      "\n",
      "           1       0.04      0.13      0.06      1098\n",
      "           2       0.96      0.53      0.68     40176\n",
      "           3       0.04      0.59      0.08      1239\n",
      "\n",
      "    accuracy                           0.52     42513\n",
      "   macro avg       0.35      0.42      0.28     42513\n",
      "weighted avg       0.91      0.52      0.65     42513\n",
      "\n"
     ]
    }
   ],
   "source": [
    "# Finding accuracy, precision, recall and confusion matrix\n",
    "print(accuracy_score(y_test,y_predict_smnb))\n",
    "print(classification_report(y_test,y_predict_smnb))"
   ]
  },
  {
   "cell_type": "code",
   "execution_count": 53,
   "metadata": {
    "ExecuteTime": {
     "end_time": "2021-03-23T06:46:40.862625Z",
     "start_time": "2021-03-23T06:46:40.819739Z"
    }
   },
   "outputs": [
    {
     "data": {
      "text/plain": [
       "array([[  147,   474,   477],\n",
       "       [ 3272, 21194, 15710],\n",
       "       [  115,   388,   736]], dtype=int64)"
      ]
     },
     "execution_count": 53,
     "metadata": {},
     "output_type": "execute_result"
    }
   ],
   "source": [
    "confusion_matrix(y_test,y_predict_smnb)"
   ]
  },
  {
   "cell_type": "code",
   "execution_count": 54,
   "metadata": {
    "ExecuteTime": {
     "end_time": "2021-03-23T06:46:50.033961Z",
     "start_time": "2021-03-23T06:46:50.024955Z"
    }
   },
   "outputs": [],
   "source": [
    "accuracy_mnb =(517+7708+708)/(42513)*100"
   ]
  },
  {
   "cell_type": "code",
   "execution_count": 57,
   "metadata": {
    "ExecuteTime": {
     "end_time": "2021-03-23T06:47:32.736041Z",
     "start_time": "2021-03-23T06:47:32.725070Z"
    }
   },
   "outputs": [
    {
     "data": {
      "text/html": [
       "<div>\n",
       "<style scoped>\n",
       "    .dataframe tbody tr th:only-of-type {\n",
       "        vertical-align: middle;\n",
       "    }\n",
       "\n",
       "    .dataframe tbody tr th {\n",
       "        vertical-align: top;\n",
       "    }\n",
       "\n",
       "    .dataframe thead th {\n",
       "        text-align: right;\n",
       "    }\n",
       "</style>\n",
       "<table border=\"1\" class=\"dataframe\">\n",
       "  <thead>\n",
       "    <tr style=\"text-align: right;\">\n",
       "      <th></th>\n",
       "      <th>MODEL</th>\n",
       "      <th>Accuracy</th>\n",
       "    </tr>\n",
       "  </thead>\n",
       "  <tbody>\n",
       "    <tr>\n",
       "      <th>0</th>\n",
       "      <td>model_rf</td>\n",
       "      <td>98.148802</td>\n",
       "    </tr>\n",
       "    <tr>\n",
       "      <th>1</th>\n",
       "      <td>model_dtree</td>\n",
       "      <td>95.526074</td>\n",
       "    </tr>\n",
       "    <tr>\n",
       "      <th>2</th>\n",
       "      <td>model_knn</td>\n",
       "      <td>84.630584</td>\n",
       "    </tr>\n",
       "    <tr>\n",
       "      <th>3</th>\n",
       "      <td>model_xgb</td>\n",
       "      <td>97.111472</td>\n",
       "    </tr>\n",
       "    <tr>\n",
       "      <th>4</th>\n",
       "      <td>model_mlp</td>\n",
       "      <td>70.743067</td>\n",
       "    </tr>\n",
       "    <tr>\n",
       "      <th>5</th>\n",
       "      <td>spred_gnb</td>\n",
       "      <td>50.401054</td>\n",
       "    </tr>\n",
       "    <tr>\n",
       "      <th>6</th>\n",
       "      <td>spred_mnb</td>\n",
       "      <td>21.012396</td>\n",
       "    </tr>\n",
       "  </tbody>\n",
       "</table>\n",
       "</div>"
      ],
      "text/plain": [
       "         MODEL   Accuracy\n",
       "0     model_rf  98.148802\n",
       "1  model_dtree  95.526074\n",
       "2    model_knn  84.630584\n",
       "3    model_xgb  97.111472\n",
       "4    model_mlp  70.743067\n",
       "5   spred_gnb   50.401054\n",
       "6    spred_mnb  21.012396"
      ]
     },
     "execution_count": 57,
     "metadata": {},
     "output_type": "execute_result"
    }
   ],
   "source": [
    "data = {\"MODEL\":pd.Series([\"model_rf\",\"model_dtree\",\"model_knn\",\"model_xgb\",\"model_mlp\",\"spred_gnb \",\"spred_mnb\"]),\n",
    "        \"Accuracy\":pd.Series([accuracy_rf,accuracy_dtree,accuracy_knn,accuracy_XGB,accuracy_mlp,accuracy_gnb,accuracy_mnb])}\n",
    "table=pd.DataFrame(data)\n",
    "table "
   ]
  },
  {
   "cell_type": "code",
   "execution_count": null,
   "metadata": {},
   "outputs": [],
   "source": []
  }
 ],
 "metadata": {
  "kernelspec": {
   "display_name": "Python 3",
   "language": "python",
   "name": "python3"
  },
  "language_info": {
   "codemirror_mode": {
    "name": "ipython",
    "version": 3
   },
   "file_extension": ".py",
   "mimetype": "text/x-python",
   "name": "python",
   "nbconvert_exporter": "python",
   "pygments_lexer": "ipython3",
   "version": "3.8.3"
  },
  "varInspector": {
   "cols": {
    "lenName": 16,
    "lenType": 16,
    "lenVar": 40
   },
   "kernels_config": {
    "python": {
     "delete_cmd_postfix": "",
     "delete_cmd_prefix": "del ",
     "library": "var_list.py",
     "varRefreshCmd": "print(var_dic_list())"
    },
    "r": {
     "delete_cmd_postfix": ") ",
     "delete_cmd_prefix": "rm(",
     "library": "var_list.r",
     "varRefreshCmd": "cat(var_dic_list()) "
    }
   },
   "types_to_exclude": [
    "module",
    "function",
    "builtin_function_or_method",
    "instance",
    "_Feature"
   ],
   "window_display": false
  }
 },
 "nbformat": 4,
 "nbformat_minor": 4
}
