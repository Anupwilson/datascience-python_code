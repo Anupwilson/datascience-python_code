{
 "cells": [
  {
   "cell_type": "code",
   "execution_count": 1,
   "metadata": {
    "ExecuteTime": {
     "end_time": "2021-02-28T06:30:19.284711Z",
     "start_time": "2021-02-28T06:30:06.474807Z"
    }
   },
   "outputs": [],
   "source": [
    "import numpy as np\n",
    "import pandas as pd\n",
    "import matplotlib.pyplot as plt\n",
    "import seaborn as sns\n",
    "import scipy.stats as stats\n",
    "import pandas_profiling\n",
    "import os"
   ]
  },
  {
   "cell_type": "code",
   "execution_count": 2,
   "metadata": {
    "ExecuteTime": {
     "end_time": "2021-02-28T06:30:19.305467Z",
     "start_time": "2021-02-28T06:30:19.293052Z"
    }
   },
   "outputs": [],
   "source": [
    "os.chdir(\"D:\\job a thon\")"
   ]
  },
  {
   "cell_type": "code",
   "execution_count": 3,
   "metadata": {
    "ExecuteTime": {
     "end_time": "2021-02-28T06:30:19.736513Z",
     "start_time": "2021-02-28T06:30:19.314644Z"
    }
   },
   "outputs": [],
   "source": [
    "train = pd.read_csv(\"train_Df64byy.csv\")"
   ]
  },
  {
   "cell_type": "code",
   "execution_count": 4,
   "metadata": {
    "ExecuteTime": {
     "end_time": "2021-02-28T06:30:19.853665Z",
     "start_time": "2021-02-28T06:30:19.740850Z"
    }
   },
   "outputs": [],
   "source": [
    "test = pd.read_csv(\"test_YCcRUnU.csv\")"
   ]
  },
  {
   "cell_type": "code",
   "execution_count": 5,
   "metadata": {
    "ExecuteTime": {
     "end_time": "2021-02-28T06:30:19.871444Z",
     "start_time": "2021-02-28T06:30:19.857197Z"
    }
   },
   "outputs": [],
   "source": [
    "def cont_vars_summ(x):\n",
    "    return pd.Series([x.isna().sum(),x.count(),x.mean(),x.min(),x.quantile(0.01),x.quantile(0.25),x.quantile(0.5),x.quantile(0.75),\n",
    "                     x.quantile(0.99),x.max(),1 if (x.max()>x.quantile(0.99)) | (x.min()<x.quantile(0.01)) else 0]\n",
    "                      ,index = ['Missing values','Count','Average','Minimum','1%','25%','50%','75%',\n",
    "                                                       '99%','Maximum','Outlier Flag'])"
   ]
  },
  {
   "cell_type": "code",
   "execution_count": 6,
   "metadata": {
    "ExecuteTime": {
     "end_time": "2021-02-28T06:30:19.953104Z",
     "start_time": "2021-02-28T06:30:19.875668Z"
    }
   },
   "outputs": [],
   "source": [
    "def cat_vars_summ(x):\n",
    "    Mode = x.value_counts().sort_values(ascending = False).iloc[0:1]\n",
    "    return pd.Series([x.count(), x.isnull().sum(),Mode.index[0],Mode.values[0]], index = ['Count', 'Missing values','Mode','Freq'])"
   ]
  },
  {
   "cell_type": "code",
   "execution_count": 7,
   "metadata": {
    "ExecuteTime": {
     "end_time": "2021-02-28T06:30:20.064677Z",
     "start_time": "2021-02-28T06:30:19.956264Z"
    }
   },
   "outputs": [
    {
     "data": {
      "text/html": [
       "<div>\n",
       "<style scoped>\n",
       "    .dataframe tbody tr th:only-of-type {\n",
       "        vertical-align: middle;\n",
       "    }\n",
       "\n",
       "    .dataframe tbody tr th {\n",
       "        vertical-align: top;\n",
       "    }\n",
       "\n",
       "    .dataframe thead th {\n",
       "        text-align: right;\n",
       "    }\n",
       "</style>\n",
       "<table border=\"1\" class=\"dataframe\">\n",
       "  <thead>\n",
       "    <tr style=\"text-align: right;\">\n",
       "      <th></th>\n",
       "      <th>ID</th>\n",
       "      <th>City_Code</th>\n",
       "      <th>Region_Code</th>\n",
       "      <th>Accomodation_Type</th>\n",
       "      <th>Reco_Insurance_Type</th>\n",
       "      <th>Upper_Age</th>\n",
       "      <th>Lower_Age</th>\n",
       "      <th>Is_Spouse</th>\n",
       "      <th>Health Indicator</th>\n",
       "      <th>Holding_Policy_Duration</th>\n",
       "      <th>Holding_Policy_Type</th>\n",
       "      <th>Reco_Policy_Cat</th>\n",
       "      <th>Reco_Policy_Premium</th>\n",
       "      <th>Response</th>\n",
       "    </tr>\n",
       "  </thead>\n",
       "  <tbody>\n",
       "    <tr>\n",
       "      <th>0</th>\n",
       "      <td>1</td>\n",
       "      <td>C3</td>\n",
       "      <td>3213</td>\n",
       "      <td>Rented</td>\n",
       "      <td>Individual</td>\n",
       "      <td>36</td>\n",
       "      <td>36</td>\n",
       "      <td>No</td>\n",
       "      <td>X1</td>\n",
       "      <td>14+</td>\n",
       "      <td>3.0</td>\n",
       "      <td>22</td>\n",
       "      <td>11628.0</td>\n",
       "      <td>0</td>\n",
       "    </tr>\n",
       "    <tr>\n",
       "      <th>1</th>\n",
       "      <td>2</td>\n",
       "      <td>C5</td>\n",
       "      <td>1117</td>\n",
       "      <td>Owned</td>\n",
       "      <td>Joint</td>\n",
       "      <td>75</td>\n",
       "      <td>22</td>\n",
       "      <td>No</td>\n",
       "      <td>X2</td>\n",
       "      <td>NaN</td>\n",
       "      <td>NaN</td>\n",
       "      <td>22</td>\n",
       "      <td>30510.0</td>\n",
       "      <td>0</td>\n",
       "    </tr>\n",
       "    <tr>\n",
       "      <th>2</th>\n",
       "      <td>3</td>\n",
       "      <td>C5</td>\n",
       "      <td>3732</td>\n",
       "      <td>Owned</td>\n",
       "      <td>Individual</td>\n",
       "      <td>32</td>\n",
       "      <td>32</td>\n",
       "      <td>No</td>\n",
       "      <td>NaN</td>\n",
       "      <td>1.0</td>\n",
       "      <td>1.0</td>\n",
       "      <td>19</td>\n",
       "      <td>7450.0</td>\n",
       "      <td>1</td>\n",
       "    </tr>\n",
       "    <tr>\n",
       "      <th>3</th>\n",
       "      <td>4</td>\n",
       "      <td>C24</td>\n",
       "      <td>4378</td>\n",
       "      <td>Owned</td>\n",
       "      <td>Joint</td>\n",
       "      <td>52</td>\n",
       "      <td>48</td>\n",
       "      <td>No</td>\n",
       "      <td>X1</td>\n",
       "      <td>14+</td>\n",
       "      <td>3.0</td>\n",
       "      <td>19</td>\n",
       "      <td>17780.0</td>\n",
       "      <td>0</td>\n",
       "    </tr>\n",
       "    <tr>\n",
       "      <th>4</th>\n",
       "      <td>5</td>\n",
       "      <td>C8</td>\n",
       "      <td>2190</td>\n",
       "      <td>Rented</td>\n",
       "      <td>Individual</td>\n",
       "      <td>44</td>\n",
       "      <td>44</td>\n",
       "      <td>No</td>\n",
       "      <td>X2</td>\n",
       "      <td>3.0</td>\n",
       "      <td>1.0</td>\n",
       "      <td>16</td>\n",
       "      <td>10404.0</td>\n",
       "      <td>0</td>\n",
       "    </tr>\n",
       "  </tbody>\n",
       "</table>\n",
       "</div>"
      ],
      "text/plain": [
       "   ID City_Code  Region_Code Accomodation_Type Reco_Insurance_Type  Upper_Age  \\\n",
       "0   1        C3         3213            Rented          Individual         36   \n",
       "1   2        C5         1117             Owned               Joint         75   \n",
       "2   3        C5         3732             Owned          Individual         32   \n",
       "3   4       C24         4378             Owned               Joint         52   \n",
       "4   5        C8         2190            Rented          Individual         44   \n",
       "\n",
       "   Lower_Age Is_Spouse Health Indicator Holding_Policy_Duration  \\\n",
       "0         36        No               X1                     14+   \n",
       "1         22        No               X2                     NaN   \n",
       "2         32        No              NaN                     1.0   \n",
       "3         48        No               X1                     14+   \n",
       "4         44        No               X2                     3.0   \n",
       "\n",
       "   Holding_Policy_Type  Reco_Policy_Cat  Reco_Policy_Premium  Response  \n",
       "0                  3.0               22              11628.0         0  \n",
       "1                  NaN               22              30510.0         0  \n",
       "2                  1.0               19               7450.0         1  \n",
       "3                  3.0               19              17780.0         0  \n",
       "4                  1.0               16              10404.0         0  "
      ]
     },
     "execution_count": 7,
     "metadata": {},
     "output_type": "execute_result"
    }
   ],
   "source": [
    "train.head()"
   ]
  },
  {
   "cell_type": "code",
   "execution_count": 8,
   "metadata": {
    "ExecuteTime": {
     "end_time": "2021-02-28T06:30:20.277098Z",
     "start_time": "2021-02-28T06:30:20.071995Z"
    }
   },
   "outputs": [
    {
     "data": {
      "text/html": [
       "<div>\n",
       "<style scoped>\n",
       "    .dataframe tbody tr th:only-of-type {\n",
       "        vertical-align: middle;\n",
       "    }\n",
       "\n",
       "    .dataframe tbody tr th {\n",
       "        vertical-align: top;\n",
       "    }\n",
       "\n",
       "    .dataframe thead th {\n",
       "        text-align: right;\n",
       "    }\n",
       "</style>\n",
       "<table border=\"1\" class=\"dataframe\">\n",
       "  <thead>\n",
       "    <tr style=\"text-align: right;\">\n",
       "      <th></th>\n",
       "      <th>ID</th>\n",
       "      <th>City_Code</th>\n",
       "      <th>Region_Code</th>\n",
       "      <th>Accomodation_Type</th>\n",
       "      <th>Reco_Insurance_Type</th>\n",
       "      <th>Upper_Age</th>\n",
       "      <th>Lower_Age</th>\n",
       "      <th>Is_Spouse</th>\n",
       "      <th>Health Indicator</th>\n",
       "      <th>Holding_Policy_Duration</th>\n",
       "      <th>Holding_Policy_Type</th>\n",
       "      <th>Reco_Policy_Cat</th>\n",
       "      <th>Reco_Policy_Premium</th>\n",
       "      <th>Response</th>\n",
       "    </tr>\n",
       "  </thead>\n",
       "  <tbody>\n",
       "    <tr>\n",
       "      <th>50877</th>\n",
       "      <td>50878</td>\n",
       "      <td>C4</td>\n",
       "      <td>845</td>\n",
       "      <td>Rented</td>\n",
       "      <td>Individual</td>\n",
       "      <td>22</td>\n",
       "      <td>22</td>\n",
       "      <td>No</td>\n",
       "      <td>X3</td>\n",
       "      <td>NaN</td>\n",
       "      <td>NaN</td>\n",
       "      <td>18</td>\n",
       "      <td>7704.0</td>\n",
       "      <td>0</td>\n",
       "    </tr>\n",
       "    <tr>\n",
       "      <th>50878</th>\n",
       "      <td>50879</td>\n",
       "      <td>C5</td>\n",
       "      <td>4188</td>\n",
       "      <td>Rented</td>\n",
       "      <td>Individual</td>\n",
       "      <td>27</td>\n",
       "      <td>27</td>\n",
       "      <td>No</td>\n",
       "      <td>X3</td>\n",
       "      <td>7.0</td>\n",
       "      <td>3.0</td>\n",
       "      <td>4</td>\n",
       "      <td>5408.0</td>\n",
       "      <td>0</td>\n",
       "    </tr>\n",
       "    <tr>\n",
       "      <th>50879</th>\n",
       "      <td>50880</td>\n",
       "      <td>C1</td>\n",
       "      <td>442</td>\n",
       "      <td>Rented</td>\n",
       "      <td>Individual</td>\n",
       "      <td>63</td>\n",
       "      <td>63</td>\n",
       "      <td>No</td>\n",
       "      <td>X2</td>\n",
       "      <td>14+</td>\n",
       "      <td>1.0</td>\n",
       "      <td>12</td>\n",
       "      <td>11374.0</td>\n",
       "      <td>0</td>\n",
       "    </tr>\n",
       "    <tr>\n",
       "      <th>50880</th>\n",
       "      <td>50881</td>\n",
       "      <td>C1</td>\n",
       "      <td>4</td>\n",
       "      <td>Owned</td>\n",
       "      <td>Joint</td>\n",
       "      <td>71</td>\n",
       "      <td>49</td>\n",
       "      <td>No</td>\n",
       "      <td>X2</td>\n",
       "      <td>2.0</td>\n",
       "      <td>2.0</td>\n",
       "      <td>16</td>\n",
       "      <td>28179.2</td>\n",
       "      <td>1</td>\n",
       "    </tr>\n",
       "    <tr>\n",
       "      <th>50881</th>\n",
       "      <td>50882</td>\n",
       "      <td>C3</td>\n",
       "      <td>3866</td>\n",
       "      <td>Rented</td>\n",
       "      <td>Individual</td>\n",
       "      <td>24</td>\n",
       "      <td>24</td>\n",
       "      <td>No</td>\n",
       "      <td>X3</td>\n",
       "      <td>2.0</td>\n",
       "      <td>3.0</td>\n",
       "      <td>18</td>\n",
       "      <td>11424.0</td>\n",
       "      <td>0</td>\n",
       "    </tr>\n",
       "  </tbody>\n",
       "</table>\n",
       "</div>"
      ],
      "text/plain": [
       "          ID City_Code  Region_Code Accomodation_Type Reco_Insurance_Type  \\\n",
       "50877  50878        C4          845            Rented          Individual   \n",
       "50878  50879        C5         4188            Rented          Individual   \n",
       "50879  50880        C1          442            Rented          Individual   \n",
       "50880  50881        C1            4             Owned               Joint   \n",
       "50881  50882        C3         3866            Rented          Individual   \n",
       "\n",
       "       Upper_Age  Lower_Age Is_Spouse Health Indicator  \\\n",
       "50877         22         22        No               X3   \n",
       "50878         27         27        No               X3   \n",
       "50879         63         63        No               X2   \n",
       "50880         71         49        No               X2   \n",
       "50881         24         24        No               X3   \n",
       "\n",
       "      Holding_Policy_Duration  Holding_Policy_Type  Reco_Policy_Cat  \\\n",
       "50877                     NaN                  NaN               18   \n",
       "50878                     7.0                  3.0                4   \n",
       "50879                     14+                  1.0               12   \n",
       "50880                     2.0                  2.0               16   \n",
       "50881                     2.0                  3.0               18   \n",
       "\n",
       "       Reco_Policy_Premium  Response  \n",
       "50877               7704.0         0  \n",
       "50878               5408.0         0  \n",
       "50879              11374.0         0  \n",
       "50880              28179.2         1  \n",
       "50881              11424.0         0  "
      ]
     },
     "execution_count": 8,
     "metadata": {},
     "output_type": "execute_result"
    }
   ],
   "source": [
    "train.tail()"
   ]
  },
  {
   "cell_type": "code",
   "execution_count": 9,
   "metadata": {
    "ExecuteTime": {
     "end_time": "2021-02-28T06:30:20.356704Z",
     "start_time": "2021-02-28T06:30:20.281006Z"
    }
   },
   "outputs": [
    {
     "data": {
      "text/plain": [
       "0        0\n",
       "1        0\n",
       "2        1\n",
       "3        0\n",
       "4        0\n",
       "        ..\n",
       "50877    0\n",
       "50878    0\n",
       "50879    0\n",
       "50880    1\n",
       "50881    0\n",
       "Name: Response, Length: 50882, dtype: int64"
      ]
     },
     "execution_count": 9,
     "metadata": {},
     "output_type": "execute_result"
    }
   ],
   "source": [
    "train.Response"
   ]
  },
  {
   "cell_type": "code",
   "execution_count": 10,
   "metadata": {
    "ExecuteTime": {
     "end_time": "2021-02-28T06:30:20.481357Z",
     "start_time": "2021-02-28T06:30:20.358855Z"
    }
   },
   "outputs": [
    {
     "name": "stdout",
     "output_type": "stream",
     "text": [
      "<class 'pandas.core.frame.DataFrame'>\n",
      "RangeIndex: 50882 entries, 0 to 50881\n",
      "Data columns (total 14 columns):\n",
      " #   Column                   Non-Null Count  Dtype  \n",
      "---  ------                   --------------  -----  \n",
      " 0   ID                       50882 non-null  int64  \n",
      " 1   City_Code                50882 non-null  object \n",
      " 2   Region_Code              50882 non-null  int64  \n",
      " 3   Accomodation_Type        50882 non-null  object \n",
      " 4   Reco_Insurance_Type      50882 non-null  object \n",
      " 5   Upper_Age                50882 non-null  int64  \n",
      " 6   Lower_Age                50882 non-null  int64  \n",
      " 7   Is_Spouse                50882 non-null  object \n",
      " 8   Health Indicator         39191 non-null  object \n",
      " 9   Holding_Policy_Duration  30631 non-null  object \n",
      " 10  Holding_Policy_Type      30631 non-null  float64\n",
      " 11  Reco_Policy_Cat          50882 non-null  int64  \n",
      " 12  Reco_Policy_Premium      50882 non-null  float64\n",
      " 13  Response                 50882 non-null  int64  \n",
      "dtypes: float64(2), int64(6), object(6)\n",
      "memory usage: 5.4+ MB\n"
     ]
    }
   ],
   "source": [
    "train.info()"
   ]
  },
  {
   "cell_type": "code",
   "execution_count": 11,
   "metadata": {
    "ExecuteTime": {
     "end_time": "2021-02-28T06:30:20.900019Z",
     "start_time": "2021-02-28T06:30:20.483564Z"
    }
   },
   "outputs": [
    {
     "data": {
      "text/html": [
       "<div>\n",
       "<style scoped>\n",
       "    .dataframe tbody tr th:only-of-type {\n",
       "        vertical-align: middle;\n",
       "    }\n",
       "\n",
       "    .dataframe tbody tr th {\n",
       "        vertical-align: top;\n",
       "    }\n",
       "\n",
       "    .dataframe thead th {\n",
       "        text-align: right;\n",
       "    }\n",
       "</style>\n",
       "<table border=\"1\" class=\"dataframe\">\n",
       "  <thead>\n",
       "    <tr style=\"text-align: right;\">\n",
       "      <th></th>\n",
       "      <th>count</th>\n",
       "      <th>mean</th>\n",
       "      <th>std</th>\n",
       "      <th>min</th>\n",
       "      <th>1%</th>\n",
       "      <th>50%</th>\n",
       "      <th>99%</th>\n",
       "      <th>max</th>\n",
       "    </tr>\n",
       "  </thead>\n",
       "  <tbody>\n",
       "    <tr>\n",
       "      <th>ID</th>\n",
       "      <td>50882.0</td>\n",
       "      <td>25441.500000</td>\n",
       "      <td>14688.512535</td>\n",
       "      <td>1.0</td>\n",
       "      <td>509.81</td>\n",
       "      <td>25441.5</td>\n",
       "      <td>50373.19</td>\n",
       "      <td>50882.0</td>\n",
       "    </tr>\n",
       "    <tr>\n",
       "      <th>Region_Code</th>\n",
       "      <td>50882.0</td>\n",
       "      <td>1732.788707</td>\n",
       "      <td>1424.081652</td>\n",
       "      <td>1.0</td>\n",
       "      <td>8.00</td>\n",
       "      <td>1391.0</td>\n",
       "      <td>5492.19</td>\n",
       "      <td>6194.0</td>\n",
       "    </tr>\n",
       "    <tr>\n",
       "      <th>Upper_Age</th>\n",
       "      <td>50882.0</td>\n",
       "      <td>44.856275</td>\n",
       "      <td>17.310271</td>\n",
       "      <td>18.0</td>\n",
       "      <td>19.00</td>\n",
       "      <td>44.0</td>\n",
       "      <td>75.00</td>\n",
       "      <td>75.0</td>\n",
       "    </tr>\n",
       "    <tr>\n",
       "      <th>Lower_Age</th>\n",
       "      <td>50882.0</td>\n",
       "      <td>42.738866</td>\n",
       "      <td>17.319375</td>\n",
       "      <td>16.0</td>\n",
       "      <td>18.00</td>\n",
       "      <td>40.0</td>\n",
       "      <td>75.00</td>\n",
       "      <td>75.0</td>\n",
       "    </tr>\n",
       "    <tr>\n",
       "      <th>Holding_Policy_Type</th>\n",
       "      <td>30631.0</td>\n",
       "      <td>2.439228</td>\n",
       "      <td>1.025923</td>\n",
       "      <td>1.0</td>\n",
       "      <td>1.00</td>\n",
       "      <td>3.0</td>\n",
       "      <td>4.00</td>\n",
       "      <td>4.0</td>\n",
       "    </tr>\n",
       "    <tr>\n",
       "      <th>Reco_Policy_Cat</th>\n",
       "      <td>50882.0</td>\n",
       "      <td>15.115188</td>\n",
       "      <td>6.340663</td>\n",
       "      <td>1.0</td>\n",
       "      <td>1.00</td>\n",
       "      <td>17.0</td>\n",
       "      <td>22.00</td>\n",
       "      <td>22.0</td>\n",
       "    </tr>\n",
       "    <tr>\n",
       "      <th>Reco_Policy_Premium</th>\n",
       "      <td>50882.0</td>\n",
       "      <td>14183.950069</td>\n",
       "      <td>6590.074873</td>\n",
       "      <td>2280.0</td>\n",
       "      <td>3804.00</td>\n",
       "      <td>13178.0</td>\n",
       "      <td>33024.00</td>\n",
       "      <td>43350.4</td>\n",
       "    </tr>\n",
       "    <tr>\n",
       "      <th>Response</th>\n",
       "      <td>50882.0</td>\n",
       "      <td>0.239947</td>\n",
       "      <td>0.427055</td>\n",
       "      <td>0.0</td>\n",
       "      <td>0.00</td>\n",
       "      <td>0.0</td>\n",
       "      <td>1.00</td>\n",
       "      <td>1.0</td>\n",
       "    </tr>\n",
       "  </tbody>\n",
       "</table>\n",
       "</div>"
      ],
      "text/plain": [
       "                       count          mean           std     min       1%  \\\n",
       "ID                   50882.0  25441.500000  14688.512535     1.0   509.81   \n",
       "Region_Code          50882.0   1732.788707   1424.081652     1.0     8.00   \n",
       "Upper_Age            50882.0     44.856275     17.310271    18.0    19.00   \n",
       "Lower_Age            50882.0     42.738866     17.319375    16.0    18.00   \n",
       "Holding_Policy_Type  30631.0      2.439228      1.025923     1.0     1.00   \n",
       "Reco_Policy_Cat      50882.0     15.115188      6.340663     1.0     1.00   \n",
       "Reco_Policy_Premium  50882.0  14183.950069   6590.074873  2280.0  3804.00   \n",
       "Response             50882.0      0.239947      0.427055     0.0     0.00   \n",
       "\n",
       "                         50%       99%      max  \n",
       "ID                   25441.5  50373.19  50882.0  \n",
       "Region_Code           1391.0   5492.19   6194.0  \n",
       "Upper_Age               44.0     75.00     75.0  \n",
       "Lower_Age               40.0     75.00     75.0  \n",
       "Holding_Policy_Type      3.0      4.00      4.0  \n",
       "Reco_Policy_Cat         17.0     22.00     22.0  \n",
       "Reco_Policy_Premium  13178.0  33024.00  43350.4  \n",
       "Response                 0.0      1.00      1.0  "
      ]
     },
     "execution_count": 11,
     "metadata": {},
     "output_type": "execute_result"
    }
   ],
   "source": [
    "train.describe([0.01,0.99]).T"
   ]
  },
  {
   "cell_type": "code",
   "execution_count": 12,
   "metadata": {
    "ExecuteTime": {
     "end_time": "2021-02-28T06:30:20.938304Z",
     "start_time": "2021-02-28T06:30:20.903211Z"
    }
   },
   "outputs": [
    {
     "data": {
      "text/html": [
       "<div>\n",
       "<style scoped>\n",
       "    .dataframe tbody tr th:only-of-type {\n",
       "        vertical-align: middle;\n",
       "    }\n",
       "\n",
       "    .dataframe tbody tr th {\n",
       "        vertical-align: top;\n",
       "    }\n",
       "\n",
       "    .dataframe thead th {\n",
       "        text-align: right;\n",
       "    }\n",
       "</style>\n",
       "<table border=\"1\" class=\"dataframe\">\n",
       "  <thead>\n",
       "    <tr style=\"text-align: right;\">\n",
       "      <th></th>\n",
       "      <th>ID</th>\n",
       "      <th>City_Code</th>\n",
       "      <th>Region_Code</th>\n",
       "      <th>Accomodation_Type</th>\n",
       "      <th>Reco_Insurance_Type</th>\n",
       "      <th>Upper_Age</th>\n",
       "      <th>Lower_Age</th>\n",
       "      <th>Is_Spouse</th>\n",
       "      <th>Health Indicator</th>\n",
       "      <th>Holding_Policy_Duration</th>\n",
       "      <th>Holding_Policy_Type</th>\n",
       "      <th>Reco_Policy_Cat</th>\n",
       "      <th>Reco_Policy_Premium</th>\n",
       "    </tr>\n",
       "  </thead>\n",
       "  <tbody>\n",
       "    <tr>\n",
       "      <th>0</th>\n",
       "      <td>50883</td>\n",
       "      <td>C1</td>\n",
       "      <td>156</td>\n",
       "      <td>Owned</td>\n",
       "      <td>Individual</td>\n",
       "      <td>30</td>\n",
       "      <td>30</td>\n",
       "      <td>No</td>\n",
       "      <td>NaN</td>\n",
       "      <td>6.0</td>\n",
       "      <td>3.0</td>\n",
       "      <td>5</td>\n",
       "      <td>11934.0</td>\n",
       "    </tr>\n",
       "    <tr>\n",
       "      <th>1</th>\n",
       "      <td>50884</td>\n",
       "      <td>C4</td>\n",
       "      <td>7</td>\n",
       "      <td>Owned</td>\n",
       "      <td>Joint</td>\n",
       "      <td>69</td>\n",
       "      <td>68</td>\n",
       "      <td>Yes</td>\n",
       "      <td>X1</td>\n",
       "      <td>3.0</td>\n",
       "      <td>3.0</td>\n",
       "      <td>18</td>\n",
       "      <td>32204.8</td>\n",
       "    </tr>\n",
       "    <tr>\n",
       "      <th>2</th>\n",
       "      <td>50885</td>\n",
       "      <td>C1</td>\n",
       "      <td>564</td>\n",
       "      <td>Rented</td>\n",
       "      <td>Individual</td>\n",
       "      <td>28</td>\n",
       "      <td>28</td>\n",
       "      <td>No</td>\n",
       "      <td>X3</td>\n",
       "      <td>2.0</td>\n",
       "      <td>4.0</td>\n",
       "      <td>17</td>\n",
       "      <td>9240.0</td>\n",
       "    </tr>\n",
       "    <tr>\n",
       "      <th>3</th>\n",
       "      <td>50886</td>\n",
       "      <td>C3</td>\n",
       "      <td>1177</td>\n",
       "      <td>Rented</td>\n",
       "      <td>Individual</td>\n",
       "      <td>23</td>\n",
       "      <td>23</td>\n",
       "      <td>No</td>\n",
       "      <td>X3</td>\n",
       "      <td>3.0</td>\n",
       "      <td>3.0</td>\n",
       "      <td>18</td>\n",
       "      <td>9086.0</td>\n",
       "    </tr>\n",
       "    <tr>\n",
       "      <th>4</th>\n",
       "      <td>50887</td>\n",
       "      <td>C1</td>\n",
       "      <td>951</td>\n",
       "      <td>Owned</td>\n",
       "      <td>Individual</td>\n",
       "      <td>75</td>\n",
       "      <td>75</td>\n",
       "      <td>No</td>\n",
       "      <td>X3</td>\n",
       "      <td>NaN</td>\n",
       "      <td>NaN</td>\n",
       "      <td>5</td>\n",
       "      <td>22534.0</td>\n",
       "    </tr>\n",
       "  </tbody>\n",
       "</table>\n",
       "</div>"
      ],
      "text/plain": [
       "      ID City_Code  Region_Code Accomodation_Type Reco_Insurance_Type  \\\n",
       "0  50883        C1          156             Owned          Individual   \n",
       "1  50884        C4            7             Owned               Joint   \n",
       "2  50885        C1          564            Rented          Individual   \n",
       "3  50886        C3         1177            Rented          Individual   \n",
       "4  50887        C1          951             Owned          Individual   \n",
       "\n",
       "   Upper_Age  Lower_Age Is_Spouse Health Indicator Holding_Policy_Duration  \\\n",
       "0         30         30        No              NaN                     6.0   \n",
       "1         69         68       Yes               X1                     3.0   \n",
       "2         28         28        No               X3                     2.0   \n",
       "3         23         23        No               X3                     3.0   \n",
       "4         75         75        No               X3                     NaN   \n",
       "\n",
       "   Holding_Policy_Type  Reco_Policy_Cat  Reco_Policy_Premium  \n",
       "0                  3.0                5              11934.0  \n",
       "1                  3.0               18              32204.8  \n",
       "2                  4.0               17               9240.0  \n",
       "3                  3.0               18               9086.0  \n",
       "4                  NaN                5              22534.0  "
      ]
     },
     "execution_count": 12,
     "metadata": {},
     "output_type": "execute_result"
    }
   ],
   "source": [
    "test.head()"
   ]
  },
  {
   "cell_type": "code",
   "execution_count": 13,
   "metadata": {
    "ExecuteTime": {
     "end_time": "2021-02-28T06:30:21.131053Z",
     "start_time": "2021-02-28T06:30:20.939304Z"
    }
   },
   "outputs": [
    {
     "data": {
      "text/html": [
       "<div>\n",
       "<style scoped>\n",
       "    .dataframe tbody tr th:only-of-type {\n",
       "        vertical-align: middle;\n",
       "    }\n",
       "\n",
       "    .dataframe tbody tr th {\n",
       "        vertical-align: top;\n",
       "    }\n",
       "\n",
       "    .dataframe thead th {\n",
       "        text-align: right;\n",
       "    }\n",
       "</style>\n",
       "<table border=\"1\" class=\"dataframe\">\n",
       "  <thead>\n",
       "    <tr style=\"text-align: right;\">\n",
       "      <th></th>\n",
       "      <th>ID</th>\n",
       "      <th>City_Code</th>\n",
       "      <th>Region_Code</th>\n",
       "      <th>Accomodation_Type</th>\n",
       "      <th>Reco_Insurance_Type</th>\n",
       "      <th>Upper_Age</th>\n",
       "      <th>Lower_Age</th>\n",
       "      <th>Is_Spouse</th>\n",
       "      <th>Health Indicator</th>\n",
       "      <th>Holding_Policy_Duration</th>\n",
       "      <th>Holding_Policy_Type</th>\n",
       "      <th>Reco_Policy_Cat</th>\n",
       "      <th>Reco_Policy_Premium</th>\n",
       "    </tr>\n",
       "  </thead>\n",
       "  <tbody>\n",
       "    <tr>\n",
       "      <th>21800</th>\n",
       "      <td>72683</td>\n",
       "      <td>C3</td>\n",
       "      <td>1044</td>\n",
       "      <td>Owned</td>\n",
       "      <td>Individual</td>\n",
       "      <td>45</td>\n",
       "      <td>45</td>\n",
       "      <td>No</td>\n",
       "      <td>X1</td>\n",
       "      <td>4.0</td>\n",
       "      <td>1.0</td>\n",
       "      <td>18</td>\n",
       "      <td>15884.0</td>\n",
       "    </tr>\n",
       "    <tr>\n",
       "      <th>21801</th>\n",
       "      <td>72684</td>\n",
       "      <td>C4</td>\n",
       "      <td>266</td>\n",
       "      <td>Owned</td>\n",
       "      <td>Individual</td>\n",
       "      <td>59</td>\n",
       "      <td>59</td>\n",
       "      <td>No</td>\n",
       "      <td>X5</td>\n",
       "      <td>6.0</td>\n",
       "      <td>3.0</td>\n",
       "      <td>18</td>\n",
       "      <td>21390.0</td>\n",
       "    </tr>\n",
       "    <tr>\n",
       "      <th>21802</th>\n",
       "      <td>72685</td>\n",
       "      <td>C12</td>\n",
       "      <td>2470</td>\n",
       "      <td>Owned</td>\n",
       "      <td>Individual</td>\n",
       "      <td>74</td>\n",
       "      <td>74</td>\n",
       "      <td>No</td>\n",
       "      <td>X3</td>\n",
       "      <td>NaN</td>\n",
       "      <td>NaN</td>\n",
       "      <td>1</td>\n",
       "      <td>17836.0</td>\n",
       "    </tr>\n",
       "    <tr>\n",
       "      <th>21803</th>\n",
       "      <td>72686</td>\n",
       "      <td>C10</td>\n",
       "      <td>1676</td>\n",
       "      <td>Rented</td>\n",
       "      <td>Individual</td>\n",
       "      <td>25</td>\n",
       "      <td>25</td>\n",
       "      <td>No</td>\n",
       "      <td>X4</td>\n",
       "      <td>3.0</td>\n",
       "      <td>1.0</td>\n",
       "      <td>19</td>\n",
       "      <td>11568.0</td>\n",
       "    </tr>\n",
       "    <tr>\n",
       "      <th>21804</th>\n",
       "      <td>72687</td>\n",
       "      <td>C2</td>\n",
       "      <td>3617</td>\n",
       "      <td>Owned</td>\n",
       "      <td>Individual</td>\n",
       "      <td>73</td>\n",
       "      <td>73</td>\n",
       "      <td>No</td>\n",
       "      <td>X2</td>\n",
       "      <td>14+</td>\n",
       "      <td>2.0</td>\n",
       "      <td>3</td>\n",
       "      <td>23040.0</td>\n",
       "    </tr>\n",
       "  </tbody>\n",
       "</table>\n",
       "</div>"
      ],
      "text/plain": [
       "          ID City_Code  Region_Code Accomodation_Type Reco_Insurance_Type  \\\n",
       "21800  72683        C3         1044             Owned          Individual   \n",
       "21801  72684        C4          266             Owned          Individual   \n",
       "21802  72685       C12         2470             Owned          Individual   \n",
       "21803  72686       C10         1676            Rented          Individual   \n",
       "21804  72687        C2         3617             Owned          Individual   \n",
       "\n",
       "       Upper_Age  Lower_Age Is_Spouse Health Indicator  \\\n",
       "21800         45         45        No               X1   \n",
       "21801         59         59        No               X5   \n",
       "21802         74         74        No               X3   \n",
       "21803         25         25        No               X4   \n",
       "21804         73         73        No               X2   \n",
       "\n",
       "      Holding_Policy_Duration  Holding_Policy_Type  Reco_Policy_Cat  \\\n",
       "21800                     4.0                  1.0               18   \n",
       "21801                     6.0                  3.0               18   \n",
       "21802                     NaN                  NaN                1   \n",
       "21803                     3.0                  1.0               19   \n",
       "21804                     14+                  2.0                3   \n",
       "\n",
       "       Reco_Policy_Premium  \n",
       "21800              15884.0  \n",
       "21801              21390.0  \n",
       "21802              17836.0  \n",
       "21803              11568.0  \n",
       "21804              23040.0  "
      ]
     },
     "execution_count": 13,
     "metadata": {},
     "output_type": "execute_result"
    }
   ],
   "source": [
    "test.tail()"
   ]
  },
  {
   "cell_type": "code",
   "execution_count": 14,
   "metadata": {
    "ExecuteTime": {
     "end_time": "2021-02-28T06:30:21.254803Z",
     "start_time": "2021-02-28T06:30:21.131053Z"
    }
   },
   "outputs": [
    {
     "data": {
      "text/html": [
       "<div>\n",
       "<style scoped>\n",
       "    .dataframe tbody tr th:only-of-type {\n",
       "        vertical-align: middle;\n",
       "    }\n",
       "\n",
       "    .dataframe tbody tr th {\n",
       "        vertical-align: top;\n",
       "    }\n",
       "\n",
       "    .dataframe thead th {\n",
       "        text-align: right;\n",
       "    }\n",
       "</style>\n",
       "<table border=\"1\" class=\"dataframe\">\n",
       "  <thead>\n",
       "    <tr style=\"text-align: right;\">\n",
       "      <th></th>\n",
       "      <th>count</th>\n",
       "      <th>mean</th>\n",
       "      <th>std</th>\n",
       "      <th>min</th>\n",
       "      <th>1%</th>\n",
       "      <th>50%</th>\n",
       "      <th>99%</th>\n",
       "      <th>max</th>\n",
       "    </tr>\n",
       "  </thead>\n",
       "  <tbody>\n",
       "    <tr>\n",
       "      <th>ID</th>\n",
       "      <td>21805.0</td>\n",
       "      <td>61785.000000</td>\n",
       "      <td>6294.705646</td>\n",
       "      <td>50883.0</td>\n",
       "      <td>51101.04</td>\n",
       "      <td>61785.0</td>\n",
       "      <td>72468.960</td>\n",
       "      <td>72687.0</td>\n",
       "    </tr>\n",
       "    <tr>\n",
       "      <th>Region_Code</th>\n",
       "      <td>21805.0</td>\n",
       "      <td>1748.737491</td>\n",
       "      <td>1438.358949</td>\n",
       "      <td>1.0</td>\n",
       "      <td>8.00</td>\n",
       "      <td>1392.0</td>\n",
       "      <td>5498.960</td>\n",
       "      <td>6185.0</td>\n",
       "    </tr>\n",
       "    <tr>\n",
       "      <th>Upper_Age</th>\n",
       "      <td>21805.0</td>\n",
       "      <td>44.877734</td>\n",
       "      <td>17.254898</td>\n",
       "      <td>18.0</td>\n",
       "      <td>19.00</td>\n",
       "      <td>44.0</td>\n",
       "      <td>75.000</td>\n",
       "      <td>75.0</td>\n",
       "    </tr>\n",
       "    <tr>\n",
       "      <th>Lower_Age</th>\n",
       "      <td>21805.0</td>\n",
       "      <td>42.748085</td>\n",
       "      <td>17.269112</td>\n",
       "      <td>16.0</td>\n",
       "      <td>18.00</td>\n",
       "      <td>41.0</td>\n",
       "      <td>75.000</td>\n",
       "      <td>75.0</td>\n",
       "    </tr>\n",
       "    <tr>\n",
       "      <th>Holding_Policy_Type</th>\n",
       "      <td>13202.0</td>\n",
       "      <td>2.440085</td>\n",
       "      <td>1.037627</td>\n",
       "      <td>1.0</td>\n",
       "      <td>1.00</td>\n",
       "      <td>3.0</td>\n",
       "      <td>4.000</td>\n",
       "      <td>4.0</td>\n",
       "    </tr>\n",
       "    <tr>\n",
       "      <th>Reco_Policy_Cat</th>\n",
       "      <td>21805.0</td>\n",
       "      <td>15.138363</td>\n",
       "      <td>6.302805</td>\n",
       "      <td>1.0</td>\n",
       "      <td>1.00</td>\n",
       "      <td>17.0</td>\n",
       "      <td>22.000</td>\n",
       "      <td>22.0</td>\n",
       "    </tr>\n",
       "    <tr>\n",
       "      <th>Reco_Policy_Premium</th>\n",
       "      <td>21805.0</td>\n",
       "      <td>14220.306581</td>\n",
       "      <td>6497.996164</td>\n",
       "      <td>2152.0</td>\n",
       "      <td>3846.00</td>\n",
       "      <td>13244.0</td>\n",
       "      <td>32536.688</td>\n",
       "      <td>43776.0</td>\n",
       "    </tr>\n",
       "  </tbody>\n",
       "</table>\n",
       "</div>"
      ],
      "text/plain": [
       "                       count          mean          std      min        1%  \\\n",
       "ID                   21805.0  61785.000000  6294.705646  50883.0  51101.04   \n",
       "Region_Code          21805.0   1748.737491  1438.358949      1.0      8.00   \n",
       "Upper_Age            21805.0     44.877734    17.254898     18.0     19.00   \n",
       "Lower_Age            21805.0     42.748085    17.269112     16.0     18.00   \n",
       "Holding_Policy_Type  13202.0      2.440085     1.037627      1.0      1.00   \n",
       "Reco_Policy_Cat      21805.0     15.138363     6.302805      1.0      1.00   \n",
       "Reco_Policy_Premium  21805.0  14220.306581  6497.996164   2152.0   3846.00   \n",
       "\n",
       "                         50%        99%      max  \n",
       "ID                   61785.0  72468.960  72687.0  \n",
       "Region_Code           1392.0   5498.960   6185.0  \n",
       "Upper_Age               44.0     75.000     75.0  \n",
       "Lower_Age               41.0     75.000     75.0  \n",
       "Holding_Policy_Type      3.0      4.000      4.0  \n",
       "Reco_Policy_Cat         17.0     22.000     22.0  \n",
       "Reco_Policy_Premium  13244.0  32536.688  43776.0  "
      ]
     },
     "execution_count": 14,
     "metadata": {},
     "output_type": "execute_result"
    }
   ],
   "source": [
    "test.describe([0.01,0.99]).T"
   ]
  },
  {
   "cell_type": "code",
   "execution_count": 15,
   "metadata": {
    "ExecuteTime": {
     "end_time": "2021-02-28T06:30:21.309002Z",
     "start_time": "2021-02-28T06:30:21.256466Z"
    }
   },
   "outputs": [
    {
     "name": "stdout",
     "output_type": "stream",
     "text": [
      "<class 'pandas.core.frame.DataFrame'>\n",
      "RangeIndex: 21805 entries, 0 to 21804\n",
      "Data columns (total 13 columns):\n",
      " #   Column                   Non-Null Count  Dtype  \n",
      "---  ------                   --------------  -----  \n",
      " 0   ID                       21805 non-null  int64  \n",
      " 1   City_Code                21805 non-null  object \n",
      " 2   Region_Code              21805 non-null  int64  \n",
      " 3   Accomodation_Type        21805 non-null  object \n",
      " 4   Reco_Insurance_Type      21805 non-null  object \n",
      " 5   Upper_Age                21805 non-null  int64  \n",
      " 6   Lower_Age                21805 non-null  int64  \n",
      " 7   Is_Spouse                21805 non-null  object \n",
      " 8   Health Indicator         16778 non-null  object \n",
      " 9   Holding_Policy_Duration  13202 non-null  object \n",
      " 10  Holding_Policy_Type      13202 non-null  float64\n",
      " 11  Reco_Policy_Cat          21805 non-null  int64  \n",
      " 12  Reco_Policy_Premium      21805 non-null  float64\n",
      "dtypes: float64(2), int64(5), object(6)\n",
      "memory usage: 2.2+ MB\n"
     ]
    }
   ],
   "source": [
    "test.info()"
   ]
  },
  {
   "cell_type": "code",
   "execution_count": 16,
   "metadata": {
    "ExecuteTime": {
     "end_time": "2021-02-28T06:30:22.170379Z",
     "start_time": "2021-02-28T06:30:21.314059Z"
    }
   },
   "outputs": [],
   "source": [
    "train[\"Mean_Age\"] = (train.Upper_Age + train.Lower_Age)/2"
   ]
  },
  {
   "cell_type": "code",
   "execution_count": 17,
   "metadata": {
    "ExecuteTime": {
     "end_time": "2021-02-28T06:30:22.200969Z",
     "start_time": "2021-02-28T06:30:22.173727Z"
    }
   },
   "outputs": [],
   "source": [
    "test[\"Mean_Age\"] = (test.Upper_Age + test.Lower_Age)/2"
   ]
  },
  {
   "cell_type": "code",
   "execution_count": 18,
   "metadata": {
    "ExecuteTime": {
     "end_time": "2021-02-28T06:30:22.288030Z",
     "start_time": "2021-02-28T06:30:22.205674Z"
    }
   },
   "outputs": [
    {
     "data": {
      "text/plain": [
       "Index(['ID', 'City_Code', 'Region_Code', 'Accomodation_Type',\n",
       "       'Reco_Insurance_Type', 'Upper_Age', 'Lower_Age', 'Is_Spouse',\n",
       "       'Health Indicator', 'Holding_Policy_Duration', 'Holding_Policy_Type',\n",
       "       'Reco_Policy_Cat', 'Reco_Policy_Premium', 'Response', 'Mean_Age'],\n",
       "      dtype='object')"
      ]
     },
     "execution_count": 18,
     "metadata": {},
     "output_type": "execute_result"
    }
   ],
   "source": [
    "train.columns"
   ]
  },
  {
   "cell_type": "code",
   "execution_count": 19,
   "metadata": {
    "ExecuteTime": {
     "end_time": "2021-02-28T06:30:22.371115Z",
     "start_time": "2021-02-28T06:30:22.293418Z"
    }
   },
   "outputs": [],
   "source": [
    "cont_vars = ['Upper_Age', 'Lower_Age','Reco_Policy_Premium','Mean_Age']\n"
   ]
  },
  {
   "cell_type": "code",
   "execution_count": 20,
   "metadata": {
    "ExecuteTime": {
     "end_time": "2021-02-28T06:30:22.453487Z",
     "start_time": "2021-02-28T06:30:22.373108Z"
    }
   },
   "outputs": [],
   "source": [
    "cat_vars = ['City_Code', 'Region_Code', 'Accomodation_Type','Reco_Insurance_Type','Is_Spouse','Health Indicator', \n",
    "            'Holding_Policy_Duration', 'Holding_Policy_Type','Reco_Policy_Cat', 'Response']"
   ]
  },
  {
   "cell_type": "code",
   "execution_count": 21,
   "metadata": {
    "ExecuteTime": {
     "end_time": "2021-02-28T06:30:22.555373Z",
     "start_time": "2021-02-28T06:30:22.456503Z"
    }
   },
   "outputs": [],
   "source": [
    "train_cont_vars = train[cont_vars]\n",
    "train_cat_vars = train[cat_vars]"
   ]
  },
  {
   "cell_type": "code",
   "execution_count": 22,
   "metadata": {
    "ExecuteTime": {
     "end_time": "2021-02-28T06:30:22.652421Z",
     "start_time": "2021-02-28T06:30:22.559866Z"
    }
   },
   "outputs": [
    {
     "data": {
      "text/html": [
       "<div>\n",
       "<style scoped>\n",
       "    .dataframe tbody tr th:only-of-type {\n",
       "        vertical-align: middle;\n",
       "    }\n",
       "\n",
       "    .dataframe tbody tr th {\n",
       "        vertical-align: top;\n",
       "    }\n",
       "\n",
       "    .dataframe thead th {\n",
       "        text-align: right;\n",
       "    }\n",
       "</style>\n",
       "<table border=\"1\" class=\"dataframe\">\n",
       "  <thead>\n",
       "    <tr style=\"text-align: right;\">\n",
       "      <th></th>\n",
       "      <th>Upper_Age</th>\n",
       "      <th>Lower_Age</th>\n",
       "      <th>Reco_Policy_Premium</th>\n",
       "      <th>Mean_Age</th>\n",
       "    </tr>\n",
       "  </thead>\n",
       "  <tbody>\n",
       "    <tr>\n",
       "      <th>0</th>\n",
       "      <td>36</td>\n",
       "      <td>36</td>\n",
       "      <td>11628.0</td>\n",
       "      <td>36.0</td>\n",
       "    </tr>\n",
       "    <tr>\n",
       "      <th>1</th>\n",
       "      <td>75</td>\n",
       "      <td>22</td>\n",
       "      <td>30510.0</td>\n",
       "      <td>48.5</td>\n",
       "    </tr>\n",
       "    <tr>\n",
       "      <th>2</th>\n",
       "      <td>32</td>\n",
       "      <td>32</td>\n",
       "      <td>7450.0</td>\n",
       "      <td>32.0</td>\n",
       "    </tr>\n",
       "    <tr>\n",
       "      <th>3</th>\n",
       "      <td>52</td>\n",
       "      <td>48</td>\n",
       "      <td>17780.0</td>\n",
       "      <td>50.0</td>\n",
       "    </tr>\n",
       "    <tr>\n",
       "      <th>4</th>\n",
       "      <td>44</td>\n",
       "      <td>44</td>\n",
       "      <td>10404.0</td>\n",
       "      <td>44.0</td>\n",
       "    </tr>\n",
       "  </tbody>\n",
       "</table>\n",
       "</div>"
      ],
      "text/plain": [
       "   Upper_Age  Lower_Age  Reco_Policy_Premium  Mean_Age\n",
       "0         36         36              11628.0      36.0\n",
       "1         75         22              30510.0      48.5\n",
       "2         32         32               7450.0      32.0\n",
       "3         52         48              17780.0      50.0\n",
       "4         44         44              10404.0      44.0"
      ]
     },
     "execution_count": 22,
     "metadata": {},
     "output_type": "execute_result"
    }
   ],
   "source": [
    "train_cont_vars.head()"
   ]
  },
  {
   "cell_type": "code",
   "execution_count": 23,
   "metadata": {
    "ExecuteTime": {
     "end_time": "2021-02-28T06:30:22.754329Z",
     "start_time": "2021-02-28T06:30:22.663146Z"
    }
   },
   "outputs": [
    {
     "data": {
      "text/html": [
       "<div>\n",
       "<style scoped>\n",
       "    .dataframe tbody tr th:only-of-type {\n",
       "        vertical-align: middle;\n",
       "    }\n",
       "\n",
       "    .dataframe tbody tr th {\n",
       "        vertical-align: top;\n",
       "    }\n",
       "\n",
       "    .dataframe thead th {\n",
       "        text-align: right;\n",
       "    }\n",
       "</style>\n",
       "<table border=\"1\" class=\"dataframe\">\n",
       "  <thead>\n",
       "    <tr style=\"text-align: right;\">\n",
       "      <th></th>\n",
       "      <th>City_Code</th>\n",
       "      <th>Region_Code</th>\n",
       "      <th>Accomodation_Type</th>\n",
       "      <th>Reco_Insurance_Type</th>\n",
       "      <th>Is_Spouse</th>\n",
       "      <th>Health Indicator</th>\n",
       "      <th>Holding_Policy_Duration</th>\n",
       "      <th>Holding_Policy_Type</th>\n",
       "      <th>Reco_Policy_Cat</th>\n",
       "      <th>Response</th>\n",
       "    </tr>\n",
       "  </thead>\n",
       "  <tbody>\n",
       "    <tr>\n",
       "      <th>0</th>\n",
       "      <td>C3</td>\n",
       "      <td>3213</td>\n",
       "      <td>Rented</td>\n",
       "      <td>Individual</td>\n",
       "      <td>No</td>\n",
       "      <td>X1</td>\n",
       "      <td>14+</td>\n",
       "      <td>3.0</td>\n",
       "      <td>22</td>\n",
       "      <td>0</td>\n",
       "    </tr>\n",
       "    <tr>\n",
       "      <th>1</th>\n",
       "      <td>C5</td>\n",
       "      <td>1117</td>\n",
       "      <td>Owned</td>\n",
       "      <td>Joint</td>\n",
       "      <td>No</td>\n",
       "      <td>X2</td>\n",
       "      <td>NaN</td>\n",
       "      <td>NaN</td>\n",
       "      <td>22</td>\n",
       "      <td>0</td>\n",
       "    </tr>\n",
       "    <tr>\n",
       "      <th>2</th>\n",
       "      <td>C5</td>\n",
       "      <td>3732</td>\n",
       "      <td>Owned</td>\n",
       "      <td>Individual</td>\n",
       "      <td>No</td>\n",
       "      <td>NaN</td>\n",
       "      <td>1.0</td>\n",
       "      <td>1.0</td>\n",
       "      <td>19</td>\n",
       "      <td>1</td>\n",
       "    </tr>\n",
       "    <tr>\n",
       "      <th>3</th>\n",
       "      <td>C24</td>\n",
       "      <td>4378</td>\n",
       "      <td>Owned</td>\n",
       "      <td>Joint</td>\n",
       "      <td>No</td>\n",
       "      <td>X1</td>\n",
       "      <td>14+</td>\n",
       "      <td>3.0</td>\n",
       "      <td>19</td>\n",
       "      <td>0</td>\n",
       "    </tr>\n",
       "    <tr>\n",
       "      <th>4</th>\n",
       "      <td>C8</td>\n",
       "      <td>2190</td>\n",
       "      <td>Rented</td>\n",
       "      <td>Individual</td>\n",
       "      <td>No</td>\n",
       "      <td>X2</td>\n",
       "      <td>3.0</td>\n",
       "      <td>1.0</td>\n",
       "      <td>16</td>\n",
       "      <td>0</td>\n",
       "    </tr>\n",
       "  </tbody>\n",
       "</table>\n",
       "</div>"
      ],
      "text/plain": [
       "  City_Code  Region_Code Accomodation_Type Reco_Insurance_Type Is_Spouse  \\\n",
       "0        C3         3213            Rented          Individual        No   \n",
       "1        C5         1117             Owned               Joint        No   \n",
       "2        C5         3732             Owned          Individual        No   \n",
       "3       C24         4378             Owned               Joint        No   \n",
       "4        C8         2190            Rented          Individual        No   \n",
       "\n",
       "  Health Indicator Holding_Policy_Duration  Holding_Policy_Type  \\\n",
       "0               X1                     14+                  3.0   \n",
       "1               X2                     NaN                  NaN   \n",
       "2              NaN                     1.0                  1.0   \n",
       "3               X1                     14+                  3.0   \n",
       "4               X2                     3.0                  1.0   \n",
       "\n",
       "   Reco_Policy_Cat  Response  \n",
       "0               22         0  \n",
       "1               22         0  \n",
       "2               19         1  \n",
       "3               19         0  \n",
       "4               16         0  "
      ]
     },
     "execution_count": 23,
     "metadata": {},
     "output_type": "execute_result"
    }
   ],
   "source": [
    "train_cat_vars.head()"
   ]
  },
  {
   "cell_type": "code",
   "execution_count": 24,
   "metadata": {
    "ExecuteTime": {
     "end_time": "2021-02-28T06:30:23.265143Z",
     "start_time": "2021-02-28T06:30:22.761773Z"
    }
   },
   "outputs": [],
   "source": [
    "test_cont_vars = test[cont_vars]\n",
    "test_cat_vars = test[cat_vars[:-1]]"
   ]
  },
  {
   "cell_type": "code",
   "execution_count": 25,
   "metadata": {
    "ExecuteTime": {
     "end_time": "2021-02-28T06:30:23.349422Z",
     "start_time": "2021-02-28T06:30:23.270585Z"
    }
   },
   "outputs": [
    {
     "data": {
      "text/html": [
       "<div>\n",
       "<style scoped>\n",
       "    .dataframe tbody tr th:only-of-type {\n",
       "        vertical-align: middle;\n",
       "    }\n",
       "\n",
       "    .dataframe tbody tr th {\n",
       "        vertical-align: top;\n",
       "    }\n",
       "\n",
       "    .dataframe thead th {\n",
       "        text-align: right;\n",
       "    }\n",
       "</style>\n",
       "<table border=\"1\" class=\"dataframe\">\n",
       "  <thead>\n",
       "    <tr style=\"text-align: right;\">\n",
       "      <th></th>\n",
       "      <th>Upper_Age</th>\n",
       "      <th>Lower_Age</th>\n",
       "      <th>Reco_Policy_Premium</th>\n",
       "      <th>Mean_Age</th>\n",
       "    </tr>\n",
       "  </thead>\n",
       "  <tbody>\n",
       "    <tr>\n",
       "      <th>0</th>\n",
       "      <td>30</td>\n",
       "      <td>30</td>\n",
       "      <td>11934.0</td>\n",
       "      <td>30.0</td>\n",
       "    </tr>\n",
       "    <tr>\n",
       "      <th>1</th>\n",
       "      <td>69</td>\n",
       "      <td>68</td>\n",
       "      <td>32204.8</td>\n",
       "      <td>68.5</td>\n",
       "    </tr>\n",
       "    <tr>\n",
       "      <th>2</th>\n",
       "      <td>28</td>\n",
       "      <td>28</td>\n",
       "      <td>9240.0</td>\n",
       "      <td>28.0</td>\n",
       "    </tr>\n",
       "    <tr>\n",
       "      <th>3</th>\n",
       "      <td>23</td>\n",
       "      <td>23</td>\n",
       "      <td>9086.0</td>\n",
       "      <td>23.0</td>\n",
       "    </tr>\n",
       "    <tr>\n",
       "      <th>4</th>\n",
       "      <td>75</td>\n",
       "      <td>75</td>\n",
       "      <td>22534.0</td>\n",
       "      <td>75.0</td>\n",
       "    </tr>\n",
       "  </tbody>\n",
       "</table>\n",
       "</div>"
      ],
      "text/plain": [
       "   Upper_Age  Lower_Age  Reco_Policy_Premium  Mean_Age\n",
       "0         30         30              11934.0      30.0\n",
       "1         69         68              32204.8      68.5\n",
       "2         28         28               9240.0      28.0\n",
       "3         23         23               9086.0      23.0\n",
       "4         75         75              22534.0      75.0"
      ]
     },
     "execution_count": 25,
     "metadata": {},
     "output_type": "execute_result"
    }
   ],
   "source": [
    "test_cont_vars.head()"
   ]
  },
  {
   "cell_type": "code",
   "execution_count": 26,
   "metadata": {
    "ExecuteTime": {
     "end_time": "2021-02-28T06:30:23.446014Z",
     "start_time": "2021-02-28T06:30:23.352567Z"
    }
   },
   "outputs": [
    {
     "data": {
      "text/html": [
       "<div>\n",
       "<style scoped>\n",
       "    .dataframe tbody tr th:only-of-type {\n",
       "        vertical-align: middle;\n",
       "    }\n",
       "\n",
       "    .dataframe tbody tr th {\n",
       "        vertical-align: top;\n",
       "    }\n",
       "\n",
       "    .dataframe thead th {\n",
       "        text-align: right;\n",
       "    }\n",
       "</style>\n",
       "<table border=\"1\" class=\"dataframe\">\n",
       "  <thead>\n",
       "    <tr style=\"text-align: right;\">\n",
       "      <th></th>\n",
       "      <th>City_Code</th>\n",
       "      <th>Region_Code</th>\n",
       "      <th>Accomodation_Type</th>\n",
       "      <th>Reco_Insurance_Type</th>\n",
       "      <th>Is_Spouse</th>\n",
       "      <th>Health Indicator</th>\n",
       "      <th>Holding_Policy_Duration</th>\n",
       "      <th>Holding_Policy_Type</th>\n",
       "      <th>Reco_Policy_Cat</th>\n",
       "    </tr>\n",
       "  </thead>\n",
       "  <tbody>\n",
       "    <tr>\n",
       "      <th>0</th>\n",
       "      <td>C1</td>\n",
       "      <td>156</td>\n",
       "      <td>Owned</td>\n",
       "      <td>Individual</td>\n",
       "      <td>No</td>\n",
       "      <td>NaN</td>\n",
       "      <td>6.0</td>\n",
       "      <td>3.0</td>\n",
       "      <td>5</td>\n",
       "    </tr>\n",
       "    <tr>\n",
       "      <th>1</th>\n",
       "      <td>C4</td>\n",
       "      <td>7</td>\n",
       "      <td>Owned</td>\n",
       "      <td>Joint</td>\n",
       "      <td>Yes</td>\n",
       "      <td>X1</td>\n",
       "      <td>3.0</td>\n",
       "      <td>3.0</td>\n",
       "      <td>18</td>\n",
       "    </tr>\n",
       "    <tr>\n",
       "      <th>2</th>\n",
       "      <td>C1</td>\n",
       "      <td>564</td>\n",
       "      <td>Rented</td>\n",
       "      <td>Individual</td>\n",
       "      <td>No</td>\n",
       "      <td>X3</td>\n",
       "      <td>2.0</td>\n",
       "      <td>4.0</td>\n",
       "      <td>17</td>\n",
       "    </tr>\n",
       "    <tr>\n",
       "      <th>3</th>\n",
       "      <td>C3</td>\n",
       "      <td>1177</td>\n",
       "      <td>Rented</td>\n",
       "      <td>Individual</td>\n",
       "      <td>No</td>\n",
       "      <td>X3</td>\n",
       "      <td>3.0</td>\n",
       "      <td>3.0</td>\n",
       "      <td>18</td>\n",
       "    </tr>\n",
       "    <tr>\n",
       "      <th>4</th>\n",
       "      <td>C1</td>\n",
       "      <td>951</td>\n",
       "      <td>Owned</td>\n",
       "      <td>Individual</td>\n",
       "      <td>No</td>\n",
       "      <td>X3</td>\n",
       "      <td>NaN</td>\n",
       "      <td>NaN</td>\n",
       "      <td>5</td>\n",
       "    </tr>\n",
       "  </tbody>\n",
       "</table>\n",
       "</div>"
      ],
      "text/plain": [
       "  City_Code  Region_Code Accomodation_Type Reco_Insurance_Type Is_Spouse  \\\n",
       "0        C1          156             Owned          Individual        No   \n",
       "1        C4            7             Owned               Joint       Yes   \n",
       "2        C1          564            Rented          Individual        No   \n",
       "3        C3         1177            Rented          Individual        No   \n",
       "4        C1          951             Owned          Individual        No   \n",
       "\n",
       "  Health Indicator Holding_Policy_Duration  Holding_Policy_Type  \\\n",
       "0              NaN                     6.0                  3.0   \n",
       "1               X1                     3.0                  3.0   \n",
       "2               X3                     2.0                  4.0   \n",
       "3               X3                     3.0                  3.0   \n",
       "4               X3                     NaN                  NaN   \n",
       "\n",
       "   Reco_Policy_Cat  \n",
       "0                5  \n",
       "1               18  \n",
       "2               17  \n",
       "3               18  \n",
       "4                5  "
      ]
     },
     "execution_count": 26,
     "metadata": {},
     "output_type": "execute_result"
    }
   ],
   "source": [
    "test_cat_vars.head()"
   ]
  },
  {
   "cell_type": "code",
   "execution_count": 27,
   "metadata": {
    "ExecuteTime": {
     "end_time": "2021-02-28T06:30:23.730744Z",
     "start_time": "2021-02-28T06:30:23.448486Z"
    }
   },
   "outputs": [
    {
     "data": {
      "text/html": [
       "<div>\n",
       "<style scoped>\n",
       "    .dataframe tbody tr th:only-of-type {\n",
       "        vertical-align: middle;\n",
       "    }\n",
       "\n",
       "    .dataframe tbody tr th {\n",
       "        vertical-align: top;\n",
       "    }\n",
       "\n",
       "    .dataframe thead th {\n",
       "        text-align: right;\n",
       "    }\n",
       "</style>\n",
       "<table border=\"1\" class=\"dataframe\">\n",
       "  <thead>\n",
       "    <tr style=\"text-align: right;\">\n",
       "      <th></th>\n",
       "      <th>Missing values</th>\n",
       "      <th>Count</th>\n",
       "      <th>Average</th>\n",
       "      <th>Minimum</th>\n",
       "      <th>1%</th>\n",
       "      <th>25%</th>\n",
       "      <th>50%</th>\n",
       "      <th>75%</th>\n",
       "      <th>99%</th>\n",
       "      <th>Maximum</th>\n",
       "      <th>Outlier Flag</th>\n",
       "    </tr>\n",
       "  </thead>\n",
       "  <tbody>\n",
       "    <tr>\n",
       "      <th>Upper_Age</th>\n",
       "      <td>0.0</td>\n",
       "      <td>50882.0</td>\n",
       "      <td>44.86</td>\n",
       "      <td>18.0</td>\n",
       "      <td>19.0</td>\n",
       "      <td>28.0</td>\n",
       "      <td>44.0</td>\n",
       "      <td>59.0</td>\n",
       "      <td>75.0</td>\n",
       "      <td>75.0</td>\n",
       "      <td>1.0</td>\n",
       "    </tr>\n",
       "    <tr>\n",
       "      <th>Lower_Age</th>\n",
       "      <td>0.0</td>\n",
       "      <td>50882.0</td>\n",
       "      <td>42.74</td>\n",
       "      <td>16.0</td>\n",
       "      <td>18.0</td>\n",
       "      <td>27.0</td>\n",
       "      <td>40.0</td>\n",
       "      <td>57.0</td>\n",
       "      <td>75.0</td>\n",
       "      <td>75.0</td>\n",
       "      <td>1.0</td>\n",
       "    </tr>\n",
       "    <tr>\n",
       "      <th>Reco_Policy_Premium</th>\n",
       "      <td>0.0</td>\n",
       "      <td>50882.0</td>\n",
       "      <td>14183.95</td>\n",
       "      <td>2280.0</td>\n",
       "      <td>3804.0</td>\n",
       "      <td>9248.0</td>\n",
       "      <td>13178.0</td>\n",
       "      <td>18096.0</td>\n",
       "      <td>33024.0</td>\n",
       "      <td>43350.4</td>\n",
       "      <td>1.0</td>\n",
       "    </tr>\n",
       "    <tr>\n",
       "      <th>Mean_Age</th>\n",
       "      <td>0.0</td>\n",
       "      <td>50882.0</td>\n",
       "      <td>43.80</td>\n",
       "      <td>17.5</td>\n",
       "      <td>19.0</td>\n",
       "      <td>28.0</td>\n",
       "      <td>42.0</td>\n",
       "      <td>58.0</td>\n",
       "      <td>75.0</td>\n",
       "      <td>75.0</td>\n",
       "      <td>1.0</td>\n",
       "    </tr>\n",
       "  </tbody>\n",
       "</table>\n",
       "</div>"
      ],
      "text/plain": [
       "                     Missing values    Count   Average  Minimum      1%  \\\n",
       "Upper_Age                       0.0  50882.0     44.86     18.0    19.0   \n",
       "Lower_Age                       0.0  50882.0     42.74     16.0    18.0   \n",
       "Reco_Policy_Premium             0.0  50882.0  14183.95   2280.0  3804.0   \n",
       "Mean_Age                        0.0  50882.0     43.80     17.5    19.0   \n",
       "\n",
       "                        25%      50%      75%      99%  Maximum  Outlier Flag  \n",
       "Upper_Age              28.0     44.0     59.0     75.0     75.0           1.0  \n",
       "Lower_Age              27.0     40.0     57.0     75.0     75.0           1.0  \n",
       "Reco_Policy_Premium  9248.0  13178.0  18096.0  33024.0  43350.4           1.0  \n",
       "Mean_Age               28.0     42.0     58.0     75.0     75.0           1.0  "
      ]
     },
     "execution_count": 27,
     "metadata": {},
     "output_type": "execute_result"
    }
   ],
   "source": [
    "train_cont_vars.apply(lambda x:cont_vars_summ(x)).round(2).T"
   ]
  },
  {
   "cell_type": "code",
   "execution_count": 28,
   "metadata": {
    "ExecuteTime": {
     "end_time": "2021-02-28T06:30:23.972072Z",
     "start_time": "2021-02-28T06:30:23.735639Z"
    }
   },
   "outputs": [
    {
     "data": {
      "text/html": [
       "<div>\n",
       "<style scoped>\n",
       "    .dataframe tbody tr th:only-of-type {\n",
       "        vertical-align: middle;\n",
       "    }\n",
       "\n",
       "    .dataframe tbody tr th {\n",
       "        vertical-align: top;\n",
       "    }\n",
       "\n",
       "    .dataframe thead th {\n",
       "        text-align: right;\n",
       "    }\n",
       "</style>\n",
       "<table border=\"1\" class=\"dataframe\">\n",
       "  <thead>\n",
       "    <tr style=\"text-align: right;\">\n",
       "      <th></th>\n",
       "      <th>Count</th>\n",
       "      <th>Missing values</th>\n",
       "      <th>Mode</th>\n",
       "      <th>Freq</th>\n",
       "    </tr>\n",
       "  </thead>\n",
       "  <tbody>\n",
       "    <tr>\n",
       "      <th>City_Code</th>\n",
       "      <td>50882</td>\n",
       "      <td>0</td>\n",
       "      <td>C1</td>\n",
       "      <td>8973</td>\n",
       "    </tr>\n",
       "    <tr>\n",
       "      <th>Region_Code</th>\n",
       "      <td>50882</td>\n",
       "      <td>0</td>\n",
       "      <td>1</td>\n",
       "      <td>96</td>\n",
       "    </tr>\n",
       "    <tr>\n",
       "      <th>Accomodation_Type</th>\n",
       "      <td>50882</td>\n",
       "      <td>0</td>\n",
       "      <td>Owned</td>\n",
       "      <td>27951</td>\n",
       "    </tr>\n",
       "    <tr>\n",
       "      <th>Reco_Insurance_Type</th>\n",
       "      <td>50882</td>\n",
       "      <td>0</td>\n",
       "      <td>Individual</td>\n",
       "      <td>40536</td>\n",
       "    </tr>\n",
       "    <tr>\n",
       "      <th>Is_Spouse</th>\n",
       "      <td>50882</td>\n",
       "      <td>0</td>\n",
       "      <td>No</td>\n",
       "      <td>42460</td>\n",
       "    </tr>\n",
       "    <tr>\n",
       "      <th>Health Indicator</th>\n",
       "      <td>39191</td>\n",
       "      <td>11691</td>\n",
       "      <td>X1</td>\n",
       "      <td>13010</td>\n",
       "    </tr>\n",
       "    <tr>\n",
       "      <th>Holding_Policy_Duration</th>\n",
       "      <td>30631</td>\n",
       "      <td>20251</td>\n",
       "      <td>1.0</td>\n",
       "      <td>4499</td>\n",
       "    </tr>\n",
       "    <tr>\n",
       "      <th>Holding_Policy_Type</th>\n",
       "      <td>30631</td>\n",
       "      <td>20251</td>\n",
       "      <td>3</td>\n",
       "      <td>13279</td>\n",
       "    </tr>\n",
       "    <tr>\n",
       "      <th>Reco_Policy_Cat</th>\n",
       "      <td>50882</td>\n",
       "      <td>0</td>\n",
       "      <td>22</td>\n",
       "      <td>6602</td>\n",
       "    </tr>\n",
       "    <tr>\n",
       "      <th>Response</th>\n",
       "      <td>50882</td>\n",
       "      <td>0</td>\n",
       "      <td>0</td>\n",
       "      <td>38673</td>\n",
       "    </tr>\n",
       "  </tbody>\n",
       "</table>\n",
       "</div>"
      ],
      "text/plain": [
       "                         Count Missing values        Mode   Freq\n",
       "City_Code                50882              0          C1   8973\n",
       "Region_Code              50882              0           1     96\n",
       "Accomodation_Type        50882              0       Owned  27951\n",
       "Reco_Insurance_Type      50882              0  Individual  40536\n",
       "Is_Spouse                50882              0          No  42460\n",
       "Health Indicator         39191          11691          X1  13010\n",
       "Holding_Policy_Duration  30631          20251         1.0   4499\n",
       "Holding_Policy_Type      30631          20251           3  13279\n",
       "Reco_Policy_Cat          50882              0          22   6602\n",
       "Response                 50882              0           0  38673"
      ]
     },
     "execution_count": 28,
     "metadata": {},
     "output_type": "execute_result"
    }
   ],
   "source": [
    "train_cat_vars.apply(lambda x:cat_vars_summ(x)).T"
   ]
  },
  {
   "cell_type": "code",
   "execution_count": 29,
   "metadata": {
    "ExecuteTime": {
     "end_time": "2021-02-28T06:30:24.107037Z",
     "start_time": "2021-02-28T06:30:23.975145Z"
    }
   },
   "outputs": [
    {
     "data": {
      "text/html": [
       "<div>\n",
       "<style scoped>\n",
       "    .dataframe tbody tr th:only-of-type {\n",
       "        vertical-align: middle;\n",
       "    }\n",
       "\n",
       "    .dataframe tbody tr th {\n",
       "        vertical-align: top;\n",
       "    }\n",
       "\n",
       "    .dataframe thead th {\n",
       "        text-align: right;\n",
       "    }\n",
       "</style>\n",
       "<table border=\"1\" class=\"dataframe\">\n",
       "  <thead>\n",
       "    <tr style=\"text-align: right;\">\n",
       "      <th></th>\n",
       "      <th>Missing values</th>\n",
       "      <th>Count</th>\n",
       "      <th>Average</th>\n",
       "      <th>Minimum</th>\n",
       "      <th>1%</th>\n",
       "      <th>25%</th>\n",
       "      <th>50%</th>\n",
       "      <th>75%</th>\n",
       "      <th>99%</th>\n",
       "      <th>Maximum</th>\n",
       "      <th>Outlier Flag</th>\n",
       "    </tr>\n",
       "  </thead>\n",
       "  <tbody>\n",
       "    <tr>\n",
       "      <th>Upper_Age</th>\n",
       "      <td>0.0</td>\n",
       "      <td>21805.0</td>\n",
       "      <td>44.88</td>\n",
       "      <td>18.0</td>\n",
       "      <td>19.0</td>\n",
       "      <td>28.0</td>\n",
       "      <td>44.0</td>\n",
       "      <td>59.0</td>\n",
       "      <td>75.00</td>\n",
       "      <td>75.0</td>\n",
       "      <td>1.0</td>\n",
       "    </tr>\n",
       "    <tr>\n",
       "      <th>Lower_Age</th>\n",
       "      <td>0.0</td>\n",
       "      <td>21805.0</td>\n",
       "      <td>42.75</td>\n",
       "      <td>16.0</td>\n",
       "      <td>18.0</td>\n",
       "      <td>27.0</td>\n",
       "      <td>41.0</td>\n",
       "      <td>57.0</td>\n",
       "      <td>75.00</td>\n",
       "      <td>75.0</td>\n",
       "      <td>1.0</td>\n",
       "    </tr>\n",
       "    <tr>\n",
       "      <th>Reco_Policy_Premium</th>\n",
       "      <td>0.0</td>\n",
       "      <td>21805.0</td>\n",
       "      <td>14220.31</td>\n",
       "      <td>2152.0</td>\n",
       "      <td>3846.0</td>\n",
       "      <td>9285.0</td>\n",
       "      <td>13244.0</td>\n",
       "      <td>18201.6</td>\n",
       "      <td>32536.69</td>\n",
       "      <td>43776.0</td>\n",
       "      <td>1.0</td>\n",
       "    </tr>\n",
       "    <tr>\n",
       "      <th>Mean_Age</th>\n",
       "      <td>0.0</td>\n",
       "      <td>21805.0</td>\n",
       "      <td>43.81</td>\n",
       "      <td>18.0</td>\n",
       "      <td>19.0</td>\n",
       "      <td>28.0</td>\n",
       "      <td>42.0</td>\n",
       "      <td>58.0</td>\n",
       "      <td>75.00</td>\n",
       "      <td>75.0</td>\n",
       "      <td>1.0</td>\n",
       "    </tr>\n",
       "  </tbody>\n",
       "</table>\n",
       "</div>"
      ],
      "text/plain": [
       "                     Missing values    Count   Average  Minimum      1%  \\\n",
       "Upper_Age                       0.0  21805.0     44.88     18.0    19.0   \n",
       "Lower_Age                       0.0  21805.0     42.75     16.0    18.0   \n",
       "Reco_Policy_Premium             0.0  21805.0  14220.31   2152.0  3846.0   \n",
       "Mean_Age                        0.0  21805.0     43.81     18.0    19.0   \n",
       "\n",
       "                        25%      50%      75%       99%  Maximum  Outlier Flag  \n",
       "Upper_Age              28.0     44.0     59.0     75.00     75.0           1.0  \n",
       "Lower_Age              27.0     41.0     57.0     75.00     75.0           1.0  \n",
       "Reco_Policy_Premium  9285.0  13244.0  18201.6  32536.69  43776.0           1.0  \n",
       "Mean_Age               28.0     42.0     58.0     75.00     75.0           1.0  "
      ]
     },
     "execution_count": 29,
     "metadata": {},
     "output_type": "execute_result"
    }
   ],
   "source": [
    "test_cont_vars.apply(lambda x:cont_vars_summ(x)).round(2).T"
   ]
  },
  {
   "cell_type": "code",
   "execution_count": 30,
   "metadata": {
    "ExecuteTime": {
     "end_time": "2021-02-28T06:30:24.235640Z",
     "start_time": "2021-02-28T06:30:24.108065Z"
    }
   },
   "outputs": [
    {
     "data": {
      "text/html": [
       "<div>\n",
       "<style scoped>\n",
       "    .dataframe tbody tr th:only-of-type {\n",
       "        vertical-align: middle;\n",
       "    }\n",
       "\n",
       "    .dataframe tbody tr th {\n",
       "        vertical-align: top;\n",
       "    }\n",
       "\n",
       "    .dataframe thead th {\n",
       "        text-align: right;\n",
       "    }\n",
       "</style>\n",
       "<table border=\"1\" class=\"dataframe\">\n",
       "  <thead>\n",
       "    <tr style=\"text-align: right;\">\n",
       "      <th></th>\n",
       "      <th>Count</th>\n",
       "      <th>Missing values</th>\n",
       "      <th>Mode</th>\n",
       "      <th>Freq</th>\n",
       "    </tr>\n",
       "  </thead>\n",
       "  <tbody>\n",
       "    <tr>\n",
       "      <th>City_Code</th>\n",
       "      <td>21805</td>\n",
       "      <td>0</td>\n",
       "      <td>C1</td>\n",
       "      <td>3789</td>\n",
       "    </tr>\n",
       "    <tr>\n",
       "      <th>Region_Code</th>\n",
       "      <td>21805</td>\n",
       "      <td>0</td>\n",
       "      <td>1</td>\n",
       "      <td>44</td>\n",
       "    </tr>\n",
       "    <tr>\n",
       "      <th>Accomodation_Type</th>\n",
       "      <td>21805</td>\n",
       "      <td>0</td>\n",
       "      <td>Owned</td>\n",
       "      <td>12090</td>\n",
       "    </tr>\n",
       "    <tr>\n",
       "      <th>Reco_Insurance_Type</th>\n",
       "      <td>21805</td>\n",
       "      <td>0</td>\n",
       "      <td>Individual</td>\n",
       "      <td>17341</td>\n",
       "    </tr>\n",
       "    <tr>\n",
       "      <th>Is_Spouse</th>\n",
       "      <td>21805</td>\n",
       "      <td>0</td>\n",
       "      <td>No</td>\n",
       "      <td>18227</td>\n",
       "    </tr>\n",
       "    <tr>\n",
       "      <th>Health Indicator</th>\n",
       "      <td>16778</td>\n",
       "      <td>5027</td>\n",
       "      <td>X1</td>\n",
       "      <td>5614</td>\n",
       "    </tr>\n",
       "    <tr>\n",
       "      <th>Holding_Policy_Duration</th>\n",
       "      <td>13202</td>\n",
       "      <td>8603</td>\n",
       "      <td>14+</td>\n",
       "      <td>1892</td>\n",
       "    </tr>\n",
       "    <tr>\n",
       "      <th>Holding_Policy_Type</th>\n",
       "      <td>13202</td>\n",
       "      <td>8603</td>\n",
       "      <td>3</td>\n",
       "      <td>5572</td>\n",
       "    </tr>\n",
       "    <tr>\n",
       "      <th>Reco_Policy_Cat</th>\n",
       "      <td>21805</td>\n",
       "      <td>0</td>\n",
       "      <td>22</td>\n",
       "      <td>2857</td>\n",
       "    </tr>\n",
       "  </tbody>\n",
       "</table>\n",
       "</div>"
      ],
      "text/plain": [
       "                         Count Missing values        Mode   Freq\n",
       "City_Code                21805              0          C1   3789\n",
       "Region_Code              21805              0           1     44\n",
       "Accomodation_Type        21805              0       Owned  12090\n",
       "Reco_Insurance_Type      21805              0  Individual  17341\n",
       "Is_Spouse                21805              0          No  18227\n",
       "Health Indicator         16778           5027          X1   5614\n",
       "Holding_Policy_Duration  13202           8603         14+   1892\n",
       "Holding_Policy_Type      13202           8603           3   5572\n",
       "Reco_Policy_Cat          21805              0          22   2857"
      ]
     },
     "execution_count": 30,
     "metadata": {},
     "output_type": "execute_result"
    }
   ],
   "source": [
    "test_cat_vars.apply(lambda x:cat_vars_summ(x)).T"
   ]
  },
  {
   "cell_type": "code",
   "execution_count": 31,
   "metadata": {
    "ExecuteTime": {
     "end_time": "2021-02-28T06:30:24.314561Z",
     "start_time": "2021-02-28T06:30:24.241180Z"
    }
   },
   "outputs": [],
   "source": [
    "train_cont_vars = train_cont_vars.apply(lambda x: x.clip(lower = x.quantile(0.01), upper = x.quantile(0.99)))"
   ]
  },
  {
   "cell_type": "code",
   "execution_count": 32,
   "metadata": {
    "ExecuteTime": {
     "end_time": "2021-02-28T06:30:24.603577Z",
     "start_time": "2021-02-28T06:30:24.315559Z"
    }
   },
   "outputs": [
    {
     "data": {
      "text/html": [
       "<div>\n",
       "<style scoped>\n",
       "    .dataframe tbody tr th:only-of-type {\n",
       "        vertical-align: middle;\n",
       "    }\n",
       "\n",
       "    .dataframe tbody tr th {\n",
       "        vertical-align: top;\n",
       "    }\n",
       "\n",
       "    .dataframe thead th {\n",
       "        text-align: right;\n",
       "    }\n",
       "</style>\n",
       "<table border=\"1\" class=\"dataframe\">\n",
       "  <thead>\n",
       "    <tr style=\"text-align: right;\">\n",
       "      <th></th>\n",
       "      <th>Missing values</th>\n",
       "      <th>Count</th>\n",
       "      <th>Average</th>\n",
       "      <th>Minimum</th>\n",
       "      <th>1%</th>\n",
       "      <th>25%</th>\n",
       "      <th>50%</th>\n",
       "      <th>75%</th>\n",
       "      <th>99%</th>\n",
       "      <th>Maximum</th>\n",
       "      <th>Outlier Flag</th>\n",
       "    </tr>\n",
       "  </thead>\n",
       "  <tbody>\n",
       "    <tr>\n",
       "      <th>Upper_Age</th>\n",
       "      <td>0.0</td>\n",
       "      <td>50882.0</td>\n",
       "      <td>44.858555</td>\n",
       "      <td>19.0</td>\n",
       "      <td>19.0</td>\n",
       "      <td>28.0</td>\n",
       "      <td>44.0</td>\n",
       "      <td>59.0</td>\n",
       "      <td>75.0</td>\n",
       "      <td>75.0</td>\n",
       "      <td>0.0</td>\n",
       "    </tr>\n",
       "    <tr>\n",
       "      <th>Lower_Age</th>\n",
       "      <td>0.0</td>\n",
       "      <td>50882.0</td>\n",
       "      <td>42.754039</td>\n",
       "      <td>18.0</td>\n",
       "      <td>18.0</td>\n",
       "      <td>27.0</td>\n",
       "      <td>40.0</td>\n",
       "      <td>57.0</td>\n",
       "      <td>75.0</td>\n",
       "      <td>75.0</td>\n",
       "      <td>0.0</td>\n",
       "    </tr>\n",
       "    <tr>\n",
       "      <th>Reco_Policy_Premium</th>\n",
       "      <td>0.0</td>\n",
       "      <td>50882.0</td>\n",
       "      <td>14163.642954</td>\n",
       "      <td>3804.0</td>\n",
       "      <td>3804.0</td>\n",
       "      <td>9248.0</td>\n",
       "      <td>13178.0</td>\n",
       "      <td>18096.0</td>\n",
       "      <td>33024.0</td>\n",
       "      <td>33024.0</td>\n",
       "      <td>0.0</td>\n",
       "    </tr>\n",
       "    <tr>\n",
       "      <th>Mean_Age</th>\n",
       "      <td>0.0</td>\n",
       "      <td>50882.0</td>\n",
       "      <td>43.799939</td>\n",
       "      <td>19.0</td>\n",
       "      <td>19.0</td>\n",
       "      <td>28.0</td>\n",
       "      <td>42.0</td>\n",
       "      <td>58.0</td>\n",
       "      <td>75.0</td>\n",
       "      <td>75.0</td>\n",
       "      <td>0.0</td>\n",
       "    </tr>\n",
       "  </tbody>\n",
       "</table>\n",
       "</div>"
      ],
      "text/plain": [
       "                     Missing values    Count       Average  Minimum      1%  \\\n",
       "Upper_Age                       0.0  50882.0     44.858555     19.0    19.0   \n",
       "Lower_Age                       0.0  50882.0     42.754039     18.0    18.0   \n",
       "Reco_Policy_Premium             0.0  50882.0  14163.642954   3804.0  3804.0   \n",
       "Mean_Age                        0.0  50882.0     43.799939     19.0    19.0   \n",
       "\n",
       "                        25%      50%      75%      99%  Maximum  Outlier Flag  \n",
       "Upper_Age              28.0     44.0     59.0     75.0     75.0           0.0  \n",
       "Lower_Age              27.0     40.0     57.0     75.0     75.0           0.0  \n",
       "Reco_Policy_Premium  9248.0  13178.0  18096.0  33024.0  33024.0           0.0  \n",
       "Mean_Age               28.0     42.0     58.0     75.0     75.0           0.0  "
      ]
     },
     "execution_count": 32,
     "metadata": {},
     "output_type": "execute_result"
    }
   ],
   "source": [
    "train_cont_vars.apply(lambda x:cont_vars_summ(x)).T"
   ]
  },
  {
   "cell_type": "code",
   "execution_count": 33,
   "metadata": {
    "ExecuteTime": {
     "end_time": "2021-02-28T06:30:24.664357Z",
     "start_time": "2021-02-28T06:30:24.607256Z"
    }
   },
   "outputs": [],
   "source": [
    "test_cont_vars = test_cont_vars.apply(lambda x: x.clip(lower = x.quantile(0.01), upper = x.quantile(0.99)))"
   ]
  },
  {
   "cell_type": "code",
   "execution_count": 34,
   "metadata": {
    "ExecuteTime": {
     "end_time": "2021-02-28T06:30:24.817428Z",
     "start_time": "2021-02-28T06:30:24.667591Z"
    }
   },
   "outputs": [
    {
     "data": {
      "text/html": [
       "<div>\n",
       "<style scoped>\n",
       "    .dataframe tbody tr th:only-of-type {\n",
       "        vertical-align: middle;\n",
       "    }\n",
       "\n",
       "    .dataframe tbody tr th {\n",
       "        vertical-align: top;\n",
       "    }\n",
       "\n",
       "    .dataframe thead th {\n",
       "        text-align: right;\n",
       "    }\n",
       "</style>\n",
       "<table border=\"1\" class=\"dataframe\">\n",
       "  <thead>\n",
       "    <tr style=\"text-align: right;\">\n",
       "      <th></th>\n",
       "      <th>Missing values</th>\n",
       "      <th>Count</th>\n",
       "      <th>Average</th>\n",
       "      <th>Minimum</th>\n",
       "      <th>1%</th>\n",
       "      <th>25%</th>\n",
       "      <th>50%</th>\n",
       "      <th>75%</th>\n",
       "      <th>99%</th>\n",
       "      <th>Maximum</th>\n",
       "      <th>Outlier Flag</th>\n",
       "    </tr>\n",
       "  </thead>\n",
       "  <tbody>\n",
       "    <tr>\n",
       "      <th>Upper_Age</th>\n",
       "      <td>0.0</td>\n",
       "      <td>21805.0</td>\n",
       "      <td>44.880394</td>\n",
       "      <td>19.0</td>\n",
       "      <td>19.0</td>\n",
       "      <td>28.0</td>\n",
       "      <td>44.0</td>\n",
       "      <td>59.0</td>\n",
       "      <td>75.00000</td>\n",
       "      <td>75.000</td>\n",
       "      <td>0.0</td>\n",
       "    </tr>\n",
       "    <tr>\n",
       "      <th>Lower_Age</th>\n",
       "      <td>0.0</td>\n",
       "      <td>21805.0</td>\n",
       "      <td>42.761568</td>\n",
       "      <td>18.0</td>\n",
       "      <td>18.0</td>\n",
       "      <td>27.0</td>\n",
       "      <td>41.0</td>\n",
       "      <td>57.0</td>\n",
       "      <td>75.00000</td>\n",
       "      <td>75.000</td>\n",
       "      <td>0.0</td>\n",
       "    </tr>\n",
       "    <tr>\n",
       "      <th>Reco_Policy_Premium</th>\n",
       "      <td>0.0</td>\n",
       "      <td>21805.0</td>\n",
       "      <td>14199.205617</td>\n",
       "      <td>3846.0</td>\n",
       "      <td>3846.0</td>\n",
       "      <td>9285.0</td>\n",
       "      <td>13244.0</td>\n",
       "      <td>18201.6</td>\n",
       "      <td>32535.42848</td>\n",
       "      <td>32536.688</td>\n",
       "      <td>1.0</td>\n",
       "    </tr>\n",
       "    <tr>\n",
       "      <th>Mean_Age</th>\n",
       "      <td>0.0</td>\n",
       "      <td>21805.0</td>\n",
       "      <td>43.815639</td>\n",
       "      <td>19.0</td>\n",
       "      <td>19.0</td>\n",
       "      <td>28.0</td>\n",
       "      <td>42.0</td>\n",
       "      <td>58.0</td>\n",
       "      <td>75.00000</td>\n",
       "      <td>75.000</td>\n",
       "      <td>0.0</td>\n",
       "    </tr>\n",
       "  </tbody>\n",
       "</table>\n",
       "</div>"
      ],
      "text/plain": [
       "                     Missing values    Count       Average  Minimum      1%  \\\n",
       "Upper_Age                       0.0  21805.0     44.880394     19.0    19.0   \n",
       "Lower_Age                       0.0  21805.0     42.761568     18.0    18.0   \n",
       "Reco_Policy_Premium             0.0  21805.0  14199.205617   3846.0  3846.0   \n",
       "Mean_Age                        0.0  21805.0     43.815639     19.0    19.0   \n",
       "\n",
       "                        25%      50%      75%          99%    Maximum  \\\n",
       "Upper_Age              28.0     44.0     59.0     75.00000     75.000   \n",
       "Lower_Age              27.0     41.0     57.0     75.00000     75.000   \n",
       "Reco_Policy_Premium  9285.0  13244.0  18201.6  32535.42848  32536.688   \n",
       "Mean_Age               28.0     42.0     58.0     75.00000     75.000   \n",
       "\n",
       "                     Outlier Flag  \n",
       "Upper_Age                     0.0  \n",
       "Lower_Age                     0.0  \n",
       "Reco_Policy_Premium           1.0  \n",
       "Mean_Age                      0.0  "
      ]
     },
     "execution_count": 34,
     "metadata": {},
     "output_type": "execute_result"
    }
   ],
   "source": [
    "test_cont_vars.apply(lambda x:cont_vars_summ(x)).T"
   ]
  },
  {
   "cell_type": "code",
   "execution_count": 35,
   "metadata": {
    "ExecuteTime": {
     "end_time": "2021-02-28T06:30:24.950599Z",
     "start_time": "2021-02-28T06:30:24.822144Z"
    }
   },
   "outputs": [],
   "source": [
    "train_cat_vars = train_cat_vars.apply(lambda x:x.fillna(x.mode()[0]))"
   ]
  },
  {
   "cell_type": "code",
   "execution_count": 36,
   "metadata": {
    "ExecuteTime": {
     "end_time": "2021-02-28T06:30:25.143964Z",
     "start_time": "2021-02-28T06:30:24.953839Z"
    }
   },
   "outputs": [
    {
     "data": {
      "text/html": [
       "<div>\n",
       "<style scoped>\n",
       "    .dataframe tbody tr th:only-of-type {\n",
       "        vertical-align: middle;\n",
       "    }\n",
       "\n",
       "    .dataframe tbody tr th {\n",
       "        vertical-align: top;\n",
       "    }\n",
       "\n",
       "    .dataframe thead th {\n",
       "        text-align: right;\n",
       "    }\n",
       "</style>\n",
       "<table border=\"1\" class=\"dataframe\">\n",
       "  <thead>\n",
       "    <tr style=\"text-align: right;\">\n",
       "      <th></th>\n",
       "      <th>Count</th>\n",
       "      <th>Missing values</th>\n",
       "      <th>Mode</th>\n",
       "      <th>Freq</th>\n",
       "    </tr>\n",
       "  </thead>\n",
       "  <tbody>\n",
       "    <tr>\n",
       "      <th>City_Code</th>\n",
       "      <td>50882</td>\n",
       "      <td>0</td>\n",
       "      <td>C1</td>\n",
       "      <td>8973</td>\n",
       "    </tr>\n",
       "    <tr>\n",
       "      <th>Region_Code</th>\n",
       "      <td>50882</td>\n",
       "      <td>0</td>\n",
       "      <td>1</td>\n",
       "      <td>96</td>\n",
       "    </tr>\n",
       "    <tr>\n",
       "      <th>Accomodation_Type</th>\n",
       "      <td>50882</td>\n",
       "      <td>0</td>\n",
       "      <td>Owned</td>\n",
       "      <td>27951</td>\n",
       "    </tr>\n",
       "    <tr>\n",
       "      <th>Reco_Insurance_Type</th>\n",
       "      <td>50882</td>\n",
       "      <td>0</td>\n",
       "      <td>Individual</td>\n",
       "      <td>40536</td>\n",
       "    </tr>\n",
       "    <tr>\n",
       "      <th>Is_Spouse</th>\n",
       "      <td>50882</td>\n",
       "      <td>0</td>\n",
       "      <td>No</td>\n",
       "      <td>42460</td>\n",
       "    </tr>\n",
       "    <tr>\n",
       "      <th>Health Indicator</th>\n",
       "      <td>50882</td>\n",
       "      <td>0</td>\n",
       "      <td>X1</td>\n",
       "      <td>24701</td>\n",
       "    </tr>\n",
       "    <tr>\n",
       "      <th>Holding_Policy_Duration</th>\n",
       "      <td>50882</td>\n",
       "      <td>0</td>\n",
       "      <td>1.0</td>\n",
       "      <td>24750</td>\n",
       "    </tr>\n",
       "    <tr>\n",
       "      <th>Holding_Policy_Type</th>\n",
       "      <td>50882</td>\n",
       "      <td>0</td>\n",
       "      <td>3</td>\n",
       "      <td>33530</td>\n",
       "    </tr>\n",
       "    <tr>\n",
       "      <th>Reco_Policy_Cat</th>\n",
       "      <td>50882</td>\n",
       "      <td>0</td>\n",
       "      <td>22</td>\n",
       "      <td>6602</td>\n",
       "    </tr>\n",
       "    <tr>\n",
       "      <th>Response</th>\n",
       "      <td>50882</td>\n",
       "      <td>0</td>\n",
       "      <td>0</td>\n",
       "      <td>38673</td>\n",
       "    </tr>\n",
       "  </tbody>\n",
       "</table>\n",
       "</div>"
      ],
      "text/plain": [
       "                         Count Missing values        Mode   Freq\n",
       "City_Code                50882              0          C1   8973\n",
       "Region_Code              50882              0           1     96\n",
       "Accomodation_Type        50882              0       Owned  27951\n",
       "Reco_Insurance_Type      50882              0  Individual  40536\n",
       "Is_Spouse                50882              0          No  42460\n",
       "Health Indicator         50882              0          X1  24701\n",
       "Holding_Policy_Duration  50882              0         1.0  24750\n",
       "Holding_Policy_Type      50882              0           3  33530\n",
       "Reco_Policy_Cat          50882              0          22   6602\n",
       "Response                 50882              0           0  38673"
      ]
     },
     "execution_count": 36,
     "metadata": {},
     "output_type": "execute_result"
    }
   ],
   "source": [
    "train_cat_vars.apply(lambda x:cat_vars_summ(x)).T"
   ]
  },
  {
   "cell_type": "code",
   "execution_count": 37,
   "metadata": {
    "ExecuteTime": {
     "end_time": "2021-02-28T06:30:25.214598Z",
     "start_time": "2021-02-28T06:30:25.149164Z"
    }
   },
   "outputs": [],
   "source": [
    "test_cat_vars = test_cat_vars.apply(lambda x:x.fillna(x.mode()[0]))"
   ]
  },
  {
   "cell_type": "code",
   "execution_count": 38,
   "metadata": {
    "ExecuteTime": {
     "end_time": "2021-02-28T06:30:25.349962Z",
     "start_time": "2021-02-28T06:30:25.217897Z"
    }
   },
   "outputs": [
    {
     "data": {
      "text/html": [
       "<div>\n",
       "<style scoped>\n",
       "    .dataframe tbody tr th:only-of-type {\n",
       "        vertical-align: middle;\n",
       "    }\n",
       "\n",
       "    .dataframe tbody tr th {\n",
       "        vertical-align: top;\n",
       "    }\n",
       "\n",
       "    .dataframe thead th {\n",
       "        text-align: right;\n",
       "    }\n",
       "</style>\n",
       "<table border=\"1\" class=\"dataframe\">\n",
       "  <thead>\n",
       "    <tr style=\"text-align: right;\">\n",
       "      <th></th>\n",
       "      <th>Count</th>\n",
       "      <th>Missing values</th>\n",
       "      <th>Mode</th>\n",
       "      <th>Freq</th>\n",
       "    </tr>\n",
       "  </thead>\n",
       "  <tbody>\n",
       "    <tr>\n",
       "      <th>City_Code</th>\n",
       "      <td>21805</td>\n",
       "      <td>0</td>\n",
       "      <td>C1</td>\n",
       "      <td>3789</td>\n",
       "    </tr>\n",
       "    <tr>\n",
       "      <th>Region_Code</th>\n",
       "      <td>21805</td>\n",
       "      <td>0</td>\n",
       "      <td>1</td>\n",
       "      <td>44</td>\n",
       "    </tr>\n",
       "    <tr>\n",
       "      <th>Accomodation_Type</th>\n",
       "      <td>21805</td>\n",
       "      <td>0</td>\n",
       "      <td>Owned</td>\n",
       "      <td>12090</td>\n",
       "    </tr>\n",
       "    <tr>\n",
       "      <th>Reco_Insurance_Type</th>\n",
       "      <td>21805</td>\n",
       "      <td>0</td>\n",
       "      <td>Individual</td>\n",
       "      <td>17341</td>\n",
       "    </tr>\n",
       "    <tr>\n",
       "      <th>Is_Spouse</th>\n",
       "      <td>21805</td>\n",
       "      <td>0</td>\n",
       "      <td>No</td>\n",
       "      <td>18227</td>\n",
       "    </tr>\n",
       "    <tr>\n",
       "      <th>Health Indicator</th>\n",
       "      <td>21805</td>\n",
       "      <td>0</td>\n",
       "      <td>X1</td>\n",
       "      <td>10641</td>\n",
       "    </tr>\n",
       "    <tr>\n",
       "      <th>Holding_Policy_Duration</th>\n",
       "      <td>21805</td>\n",
       "      <td>0</td>\n",
       "      <td>14+</td>\n",
       "      <td>10495</td>\n",
       "    </tr>\n",
       "    <tr>\n",
       "      <th>Holding_Policy_Type</th>\n",
       "      <td>21805</td>\n",
       "      <td>0</td>\n",
       "      <td>3</td>\n",
       "      <td>14175</td>\n",
       "    </tr>\n",
       "    <tr>\n",
       "      <th>Reco_Policy_Cat</th>\n",
       "      <td>21805</td>\n",
       "      <td>0</td>\n",
       "      <td>22</td>\n",
       "      <td>2857</td>\n",
       "    </tr>\n",
       "  </tbody>\n",
       "</table>\n",
       "</div>"
      ],
      "text/plain": [
       "                         Count Missing values        Mode   Freq\n",
       "City_Code                21805              0          C1   3789\n",
       "Region_Code              21805              0           1     44\n",
       "Accomodation_Type        21805              0       Owned  12090\n",
       "Reco_Insurance_Type      21805              0  Individual  17341\n",
       "Is_Spouse                21805              0          No  18227\n",
       "Health Indicator         21805              0          X1  10641\n",
       "Holding_Policy_Duration  21805              0         14+  10495\n",
       "Holding_Policy_Type      21805              0           3  14175\n",
       "Reco_Policy_Cat          21805              0          22   2857"
      ]
     },
     "execution_count": 38,
     "metadata": {},
     "output_type": "execute_result"
    }
   ],
   "source": [
    "test_cat_vars.apply(lambda x:cat_vars_summ(x)).T"
   ]
  },
  {
   "cell_type": "code",
   "execution_count": 39,
   "metadata": {
    "ExecuteTime": {
     "end_time": "2021-02-28T06:30:25.440570Z",
     "start_time": "2021-02-28T06:30:25.355318Z"
    }
   },
   "outputs": [
    {
     "data": {
      "text/plain": [
       "City_Code                    36\n",
       "Region_Code                5316\n",
       "Accomodation_Type             2\n",
       "Reco_Insurance_Type           2\n",
       "Is_Spouse                     2\n",
       "Health Indicator              9\n",
       "Holding_Policy_Duration      15\n",
       "Holding_Policy_Type           4\n",
       "Reco_Policy_Cat              22\n",
       "Response                      2\n",
       "dtype: int64"
      ]
     },
     "execution_count": 39,
     "metadata": {},
     "output_type": "execute_result"
    }
   ],
   "source": [
    "train_cat_vars.nunique()"
   ]
  },
  {
   "cell_type": "code",
   "execution_count": 40,
   "metadata": {
    "ExecuteTime": {
     "end_time": "2021-02-28T06:30:25.534259Z",
     "start_time": "2021-02-28T06:30:25.443841Z"
    }
   },
   "outputs": [],
   "source": [
    "train_cat_vars = pd.get_dummies(train_cat_vars,columns = ['City_Code', 'Accomodation_Type','Reco_Insurance_Type', 'Is_Spouse', \n",
    "                                         'Health Indicator','Holding_Policy_Duration', 'Holding_Policy_Type', \n",
    "                                         'Reco_Policy_Cat'],drop_first = True)"
   ]
  },
  {
   "cell_type": "code",
   "execution_count": 41,
   "metadata": {
    "ExecuteTime": {
     "end_time": "2021-02-28T06:30:25.617348Z",
     "start_time": "2021-02-28T06:30:25.538675Z"
    }
   },
   "outputs": [
    {
     "data": {
      "text/html": [
       "<div>\n",
       "<style scoped>\n",
       "    .dataframe tbody tr th:only-of-type {\n",
       "        vertical-align: middle;\n",
       "    }\n",
       "\n",
       "    .dataframe tbody tr th {\n",
       "        vertical-align: top;\n",
       "    }\n",
       "\n",
       "    .dataframe thead th {\n",
       "        text-align: right;\n",
       "    }\n",
       "</style>\n",
       "<table border=\"1\" class=\"dataframe\">\n",
       "  <thead>\n",
       "    <tr style=\"text-align: right;\">\n",
       "      <th></th>\n",
       "      <th>Region_Code</th>\n",
       "      <th>Response</th>\n",
       "      <th>City_Code_C10</th>\n",
       "      <th>City_Code_C11</th>\n",
       "      <th>City_Code_C12</th>\n",
       "      <th>City_Code_C13</th>\n",
       "      <th>City_Code_C14</th>\n",
       "      <th>City_Code_C15</th>\n",
       "      <th>City_Code_C16</th>\n",
       "      <th>City_Code_C17</th>\n",
       "      <th>...</th>\n",
       "      <th>Reco_Policy_Cat_13</th>\n",
       "      <th>Reco_Policy_Cat_14</th>\n",
       "      <th>Reco_Policy_Cat_15</th>\n",
       "      <th>Reco_Policy_Cat_16</th>\n",
       "      <th>Reco_Policy_Cat_17</th>\n",
       "      <th>Reco_Policy_Cat_18</th>\n",
       "      <th>Reco_Policy_Cat_19</th>\n",
       "      <th>Reco_Policy_Cat_20</th>\n",
       "      <th>Reco_Policy_Cat_21</th>\n",
       "      <th>Reco_Policy_Cat_22</th>\n",
       "    </tr>\n",
       "  </thead>\n",
       "  <tbody>\n",
       "    <tr>\n",
       "      <th>0</th>\n",
       "      <td>3213</td>\n",
       "      <td>0</td>\n",
       "      <td>0</td>\n",
       "      <td>0</td>\n",
       "      <td>0</td>\n",
       "      <td>0</td>\n",
       "      <td>0</td>\n",
       "      <td>0</td>\n",
       "      <td>0</td>\n",
       "      <td>0</td>\n",
       "      <td>...</td>\n",
       "      <td>0</td>\n",
       "      <td>0</td>\n",
       "      <td>0</td>\n",
       "      <td>0</td>\n",
       "      <td>0</td>\n",
       "      <td>0</td>\n",
       "      <td>0</td>\n",
       "      <td>0</td>\n",
       "      <td>0</td>\n",
       "      <td>1</td>\n",
       "    </tr>\n",
       "    <tr>\n",
       "      <th>1</th>\n",
       "      <td>1117</td>\n",
       "      <td>0</td>\n",
       "      <td>0</td>\n",
       "      <td>0</td>\n",
       "      <td>0</td>\n",
       "      <td>0</td>\n",
       "      <td>0</td>\n",
       "      <td>0</td>\n",
       "      <td>0</td>\n",
       "      <td>0</td>\n",
       "      <td>...</td>\n",
       "      <td>0</td>\n",
       "      <td>0</td>\n",
       "      <td>0</td>\n",
       "      <td>0</td>\n",
       "      <td>0</td>\n",
       "      <td>0</td>\n",
       "      <td>0</td>\n",
       "      <td>0</td>\n",
       "      <td>0</td>\n",
       "      <td>1</td>\n",
       "    </tr>\n",
       "    <tr>\n",
       "      <th>2</th>\n",
       "      <td>3732</td>\n",
       "      <td>1</td>\n",
       "      <td>0</td>\n",
       "      <td>0</td>\n",
       "      <td>0</td>\n",
       "      <td>0</td>\n",
       "      <td>0</td>\n",
       "      <td>0</td>\n",
       "      <td>0</td>\n",
       "      <td>0</td>\n",
       "      <td>...</td>\n",
       "      <td>0</td>\n",
       "      <td>0</td>\n",
       "      <td>0</td>\n",
       "      <td>0</td>\n",
       "      <td>0</td>\n",
       "      <td>0</td>\n",
       "      <td>1</td>\n",
       "      <td>0</td>\n",
       "      <td>0</td>\n",
       "      <td>0</td>\n",
       "    </tr>\n",
       "    <tr>\n",
       "      <th>3</th>\n",
       "      <td>4378</td>\n",
       "      <td>0</td>\n",
       "      <td>0</td>\n",
       "      <td>0</td>\n",
       "      <td>0</td>\n",
       "      <td>0</td>\n",
       "      <td>0</td>\n",
       "      <td>0</td>\n",
       "      <td>0</td>\n",
       "      <td>0</td>\n",
       "      <td>...</td>\n",
       "      <td>0</td>\n",
       "      <td>0</td>\n",
       "      <td>0</td>\n",
       "      <td>0</td>\n",
       "      <td>0</td>\n",
       "      <td>0</td>\n",
       "      <td>1</td>\n",
       "      <td>0</td>\n",
       "      <td>0</td>\n",
       "      <td>0</td>\n",
       "    </tr>\n",
       "    <tr>\n",
       "      <th>4</th>\n",
       "      <td>2190</td>\n",
       "      <td>0</td>\n",
       "      <td>0</td>\n",
       "      <td>0</td>\n",
       "      <td>0</td>\n",
       "      <td>0</td>\n",
       "      <td>0</td>\n",
       "      <td>0</td>\n",
       "      <td>0</td>\n",
       "      <td>0</td>\n",
       "      <td>...</td>\n",
       "      <td>0</td>\n",
       "      <td>0</td>\n",
       "      <td>0</td>\n",
       "      <td>1</td>\n",
       "      <td>0</td>\n",
       "      <td>0</td>\n",
       "      <td>0</td>\n",
       "      <td>0</td>\n",
       "      <td>0</td>\n",
       "      <td>0</td>\n",
       "    </tr>\n",
       "  </tbody>\n",
       "</table>\n",
       "<p>5 rows × 86 columns</p>\n",
       "</div>"
      ],
      "text/plain": [
       "   Region_Code  Response  City_Code_C10  City_Code_C11  City_Code_C12  \\\n",
       "0         3213         0              0              0              0   \n",
       "1         1117         0              0              0              0   \n",
       "2         3732         1              0              0              0   \n",
       "3         4378         0              0              0              0   \n",
       "4         2190         0              0              0              0   \n",
       "\n",
       "   City_Code_C13  City_Code_C14  City_Code_C15  City_Code_C16  City_Code_C17  \\\n",
       "0              0              0              0              0              0   \n",
       "1              0              0              0              0              0   \n",
       "2              0              0              0              0              0   \n",
       "3              0              0              0              0              0   \n",
       "4              0              0              0              0              0   \n",
       "\n",
       "   ...  Reco_Policy_Cat_13  Reco_Policy_Cat_14  Reco_Policy_Cat_15  \\\n",
       "0  ...                   0                   0                   0   \n",
       "1  ...                   0                   0                   0   \n",
       "2  ...                   0                   0                   0   \n",
       "3  ...                   0                   0                   0   \n",
       "4  ...                   0                   0                   0   \n",
       "\n",
       "   Reco_Policy_Cat_16  Reco_Policy_Cat_17  Reco_Policy_Cat_18  \\\n",
       "0                   0                   0                   0   \n",
       "1                   0                   0                   0   \n",
       "2                   0                   0                   0   \n",
       "3                   0                   0                   0   \n",
       "4                   1                   0                   0   \n",
       "\n",
       "   Reco_Policy_Cat_19  Reco_Policy_Cat_20  Reco_Policy_Cat_21  \\\n",
       "0                   0                   0                   0   \n",
       "1                   0                   0                   0   \n",
       "2                   1                   0                   0   \n",
       "3                   1                   0                   0   \n",
       "4                   0                   0                   0   \n",
       "\n",
       "   Reco_Policy_Cat_22  \n",
       "0                   1  \n",
       "1                   1  \n",
       "2                   0  \n",
       "3                   0  \n",
       "4                   0  \n",
       "\n",
       "[5 rows x 86 columns]"
      ]
     },
     "execution_count": 41,
     "metadata": {},
     "output_type": "execute_result"
    }
   ],
   "source": [
    "train_cat_vars.head()"
   ]
  },
  {
   "cell_type": "code",
   "execution_count": 42,
   "metadata": {
    "ExecuteTime": {
     "end_time": "2021-02-28T06:30:25.739572Z",
     "start_time": "2021-02-28T06:30:25.623467Z"
    }
   },
   "outputs": [],
   "source": [
    "test_cat_vars = pd.get_dummies(test_cat_vars,columns = ['City_Code', 'Accomodation_Type','Reco_Insurance_Type', 'Is_Spouse', \n",
    "                                         'Health Indicator','Holding_Policy_Duration', 'Holding_Policy_Type', \n",
    "                                         'Reco_Policy_Cat'],drop_first = True)"
   ]
  },
  {
   "cell_type": "code",
   "execution_count": 43,
   "metadata": {
    "ExecuteTime": {
     "end_time": "2021-02-28T06:30:25.801173Z",
     "start_time": "2021-02-28T06:30:25.739572Z"
    }
   },
   "outputs": [
    {
     "data": {
      "text/html": [
       "<div>\n",
       "<style scoped>\n",
       "    .dataframe tbody tr th:only-of-type {\n",
       "        vertical-align: middle;\n",
       "    }\n",
       "\n",
       "    .dataframe tbody tr th {\n",
       "        vertical-align: top;\n",
       "    }\n",
       "\n",
       "    .dataframe thead th {\n",
       "        text-align: right;\n",
       "    }\n",
       "</style>\n",
       "<table border=\"1\" class=\"dataframe\">\n",
       "  <thead>\n",
       "    <tr style=\"text-align: right;\">\n",
       "      <th></th>\n",
       "      <th>Region_Code</th>\n",
       "      <th>City_Code_C10</th>\n",
       "      <th>City_Code_C11</th>\n",
       "      <th>City_Code_C12</th>\n",
       "      <th>City_Code_C13</th>\n",
       "      <th>City_Code_C14</th>\n",
       "      <th>City_Code_C15</th>\n",
       "      <th>City_Code_C16</th>\n",
       "      <th>City_Code_C17</th>\n",
       "      <th>City_Code_C18</th>\n",
       "      <th>...</th>\n",
       "      <th>Reco_Policy_Cat_13</th>\n",
       "      <th>Reco_Policy_Cat_14</th>\n",
       "      <th>Reco_Policy_Cat_15</th>\n",
       "      <th>Reco_Policy_Cat_16</th>\n",
       "      <th>Reco_Policy_Cat_17</th>\n",
       "      <th>Reco_Policy_Cat_18</th>\n",
       "      <th>Reco_Policy_Cat_19</th>\n",
       "      <th>Reco_Policy_Cat_20</th>\n",
       "      <th>Reco_Policy_Cat_21</th>\n",
       "      <th>Reco_Policy_Cat_22</th>\n",
       "    </tr>\n",
       "  </thead>\n",
       "  <tbody>\n",
       "    <tr>\n",
       "      <th>0</th>\n",
       "      <td>156</td>\n",
       "      <td>0</td>\n",
       "      <td>0</td>\n",
       "      <td>0</td>\n",
       "      <td>0</td>\n",
       "      <td>0</td>\n",
       "      <td>0</td>\n",
       "      <td>0</td>\n",
       "      <td>0</td>\n",
       "      <td>0</td>\n",
       "      <td>...</td>\n",
       "      <td>0</td>\n",
       "      <td>0</td>\n",
       "      <td>0</td>\n",
       "      <td>0</td>\n",
       "      <td>0</td>\n",
       "      <td>0</td>\n",
       "      <td>0</td>\n",
       "      <td>0</td>\n",
       "      <td>0</td>\n",
       "      <td>0</td>\n",
       "    </tr>\n",
       "    <tr>\n",
       "      <th>1</th>\n",
       "      <td>7</td>\n",
       "      <td>0</td>\n",
       "      <td>0</td>\n",
       "      <td>0</td>\n",
       "      <td>0</td>\n",
       "      <td>0</td>\n",
       "      <td>0</td>\n",
       "      <td>0</td>\n",
       "      <td>0</td>\n",
       "      <td>0</td>\n",
       "      <td>...</td>\n",
       "      <td>0</td>\n",
       "      <td>0</td>\n",
       "      <td>0</td>\n",
       "      <td>0</td>\n",
       "      <td>0</td>\n",
       "      <td>1</td>\n",
       "      <td>0</td>\n",
       "      <td>0</td>\n",
       "      <td>0</td>\n",
       "      <td>0</td>\n",
       "    </tr>\n",
       "    <tr>\n",
       "      <th>2</th>\n",
       "      <td>564</td>\n",
       "      <td>0</td>\n",
       "      <td>0</td>\n",
       "      <td>0</td>\n",
       "      <td>0</td>\n",
       "      <td>0</td>\n",
       "      <td>0</td>\n",
       "      <td>0</td>\n",
       "      <td>0</td>\n",
       "      <td>0</td>\n",
       "      <td>...</td>\n",
       "      <td>0</td>\n",
       "      <td>0</td>\n",
       "      <td>0</td>\n",
       "      <td>0</td>\n",
       "      <td>1</td>\n",
       "      <td>0</td>\n",
       "      <td>0</td>\n",
       "      <td>0</td>\n",
       "      <td>0</td>\n",
       "      <td>0</td>\n",
       "    </tr>\n",
       "    <tr>\n",
       "      <th>3</th>\n",
       "      <td>1177</td>\n",
       "      <td>0</td>\n",
       "      <td>0</td>\n",
       "      <td>0</td>\n",
       "      <td>0</td>\n",
       "      <td>0</td>\n",
       "      <td>0</td>\n",
       "      <td>0</td>\n",
       "      <td>0</td>\n",
       "      <td>0</td>\n",
       "      <td>...</td>\n",
       "      <td>0</td>\n",
       "      <td>0</td>\n",
       "      <td>0</td>\n",
       "      <td>0</td>\n",
       "      <td>0</td>\n",
       "      <td>1</td>\n",
       "      <td>0</td>\n",
       "      <td>0</td>\n",
       "      <td>0</td>\n",
       "      <td>0</td>\n",
       "    </tr>\n",
       "    <tr>\n",
       "      <th>4</th>\n",
       "      <td>951</td>\n",
       "      <td>0</td>\n",
       "      <td>0</td>\n",
       "      <td>0</td>\n",
       "      <td>0</td>\n",
       "      <td>0</td>\n",
       "      <td>0</td>\n",
       "      <td>0</td>\n",
       "      <td>0</td>\n",
       "      <td>0</td>\n",
       "      <td>...</td>\n",
       "      <td>0</td>\n",
       "      <td>0</td>\n",
       "      <td>0</td>\n",
       "      <td>0</td>\n",
       "      <td>0</td>\n",
       "      <td>0</td>\n",
       "      <td>0</td>\n",
       "      <td>0</td>\n",
       "      <td>0</td>\n",
       "      <td>0</td>\n",
       "    </tr>\n",
       "  </tbody>\n",
       "</table>\n",
       "<p>5 rows × 85 columns</p>\n",
       "</div>"
      ],
      "text/plain": [
       "   Region_Code  City_Code_C10  City_Code_C11  City_Code_C12  City_Code_C13  \\\n",
       "0          156              0              0              0              0   \n",
       "1            7              0              0              0              0   \n",
       "2          564              0              0              0              0   \n",
       "3         1177              0              0              0              0   \n",
       "4          951              0              0              0              0   \n",
       "\n",
       "   City_Code_C14  City_Code_C15  City_Code_C16  City_Code_C17  City_Code_C18  \\\n",
       "0              0              0              0              0              0   \n",
       "1              0              0              0              0              0   \n",
       "2              0              0              0              0              0   \n",
       "3              0              0              0              0              0   \n",
       "4              0              0              0              0              0   \n",
       "\n",
       "   ...  Reco_Policy_Cat_13  Reco_Policy_Cat_14  Reco_Policy_Cat_15  \\\n",
       "0  ...                   0                   0                   0   \n",
       "1  ...                   0                   0                   0   \n",
       "2  ...                   0                   0                   0   \n",
       "3  ...                   0                   0                   0   \n",
       "4  ...                   0                   0                   0   \n",
       "\n",
       "   Reco_Policy_Cat_16  Reco_Policy_Cat_17  Reco_Policy_Cat_18  \\\n",
       "0                   0                   0                   0   \n",
       "1                   0                   0                   1   \n",
       "2                   0                   1                   0   \n",
       "3                   0                   0                   1   \n",
       "4                   0                   0                   0   \n",
       "\n",
       "   Reco_Policy_Cat_19  Reco_Policy_Cat_20  Reco_Policy_Cat_21  \\\n",
       "0                   0                   0                   0   \n",
       "1                   0                   0                   0   \n",
       "2                   0                   0                   0   \n",
       "3                   0                   0                   0   \n",
       "4                   0                   0                   0   \n",
       "\n",
       "   Reco_Policy_Cat_22  \n",
       "0                   0  \n",
       "1                   0  \n",
       "2                   0  \n",
       "3                   0  \n",
       "4                   0  \n",
       "\n",
       "[5 rows x 85 columns]"
      ]
     },
     "execution_count": 43,
     "metadata": {},
     "output_type": "execute_result"
    }
   ],
   "source": [
    "test_cat_vars.head()"
   ]
  },
  {
   "cell_type": "code",
   "execution_count": 44,
   "metadata": {
    "ExecuteTime": {
     "end_time": "2021-02-28T06:30:25.921813Z",
     "start_time": "2021-02-28T06:30:25.806258Z"
    }
   },
   "outputs": [
    {
     "data": {
      "text/html": [
       "<div>\n",
       "<style scoped>\n",
       "    .dataframe tbody tr th:only-of-type {\n",
       "        vertical-align: middle;\n",
       "    }\n",
       "\n",
       "    .dataframe tbody tr th {\n",
       "        vertical-align: top;\n",
       "    }\n",
       "\n",
       "    .dataframe thead th {\n",
       "        text-align: right;\n",
       "    }\n",
       "</style>\n",
       "<table border=\"1\" class=\"dataframe\">\n",
       "  <thead>\n",
       "    <tr style=\"text-align: right;\">\n",
       "      <th></th>\n",
       "      <th>Upper_Age</th>\n",
       "      <th>Lower_Age</th>\n",
       "      <th>Reco_Policy_Premium</th>\n",
       "      <th>Mean_Age</th>\n",
       "      <th>Region_Code</th>\n",
       "      <th>Response</th>\n",
       "      <th>City_Code_C10</th>\n",
       "      <th>City_Code_C11</th>\n",
       "      <th>City_Code_C12</th>\n",
       "      <th>City_Code_C13</th>\n",
       "      <th>...</th>\n",
       "      <th>Reco_Policy_Cat_13</th>\n",
       "      <th>Reco_Policy_Cat_14</th>\n",
       "      <th>Reco_Policy_Cat_15</th>\n",
       "      <th>Reco_Policy_Cat_16</th>\n",
       "      <th>Reco_Policy_Cat_17</th>\n",
       "      <th>Reco_Policy_Cat_18</th>\n",
       "      <th>Reco_Policy_Cat_19</th>\n",
       "      <th>Reco_Policy_Cat_20</th>\n",
       "      <th>Reco_Policy_Cat_21</th>\n",
       "      <th>Reco_Policy_Cat_22</th>\n",
       "    </tr>\n",
       "  </thead>\n",
       "  <tbody>\n",
       "    <tr>\n",
       "      <th>0</th>\n",
       "      <td>36</td>\n",
       "      <td>36</td>\n",
       "      <td>11628.0</td>\n",
       "      <td>36.0</td>\n",
       "      <td>3213</td>\n",
       "      <td>0</td>\n",
       "      <td>0</td>\n",
       "      <td>0</td>\n",
       "      <td>0</td>\n",
       "      <td>0</td>\n",
       "      <td>...</td>\n",
       "      <td>0</td>\n",
       "      <td>0</td>\n",
       "      <td>0</td>\n",
       "      <td>0</td>\n",
       "      <td>0</td>\n",
       "      <td>0</td>\n",
       "      <td>0</td>\n",
       "      <td>0</td>\n",
       "      <td>0</td>\n",
       "      <td>1</td>\n",
       "    </tr>\n",
       "    <tr>\n",
       "      <th>1</th>\n",
       "      <td>75</td>\n",
       "      <td>22</td>\n",
       "      <td>30510.0</td>\n",
       "      <td>48.5</td>\n",
       "      <td>1117</td>\n",
       "      <td>0</td>\n",
       "      <td>0</td>\n",
       "      <td>0</td>\n",
       "      <td>0</td>\n",
       "      <td>0</td>\n",
       "      <td>...</td>\n",
       "      <td>0</td>\n",
       "      <td>0</td>\n",
       "      <td>0</td>\n",
       "      <td>0</td>\n",
       "      <td>0</td>\n",
       "      <td>0</td>\n",
       "      <td>0</td>\n",
       "      <td>0</td>\n",
       "      <td>0</td>\n",
       "      <td>1</td>\n",
       "    </tr>\n",
       "    <tr>\n",
       "      <th>2</th>\n",
       "      <td>32</td>\n",
       "      <td>32</td>\n",
       "      <td>7450.0</td>\n",
       "      <td>32.0</td>\n",
       "      <td>3732</td>\n",
       "      <td>1</td>\n",
       "      <td>0</td>\n",
       "      <td>0</td>\n",
       "      <td>0</td>\n",
       "      <td>0</td>\n",
       "      <td>...</td>\n",
       "      <td>0</td>\n",
       "      <td>0</td>\n",
       "      <td>0</td>\n",
       "      <td>0</td>\n",
       "      <td>0</td>\n",
       "      <td>0</td>\n",
       "      <td>1</td>\n",
       "      <td>0</td>\n",
       "      <td>0</td>\n",
       "      <td>0</td>\n",
       "    </tr>\n",
       "    <tr>\n",
       "      <th>3</th>\n",
       "      <td>52</td>\n",
       "      <td>48</td>\n",
       "      <td>17780.0</td>\n",
       "      <td>50.0</td>\n",
       "      <td>4378</td>\n",
       "      <td>0</td>\n",
       "      <td>0</td>\n",
       "      <td>0</td>\n",
       "      <td>0</td>\n",
       "      <td>0</td>\n",
       "      <td>...</td>\n",
       "      <td>0</td>\n",
       "      <td>0</td>\n",
       "      <td>0</td>\n",
       "      <td>0</td>\n",
       "      <td>0</td>\n",
       "      <td>0</td>\n",
       "      <td>1</td>\n",
       "      <td>0</td>\n",
       "      <td>0</td>\n",
       "      <td>0</td>\n",
       "    </tr>\n",
       "    <tr>\n",
       "      <th>4</th>\n",
       "      <td>44</td>\n",
       "      <td>44</td>\n",
       "      <td>10404.0</td>\n",
       "      <td>44.0</td>\n",
       "      <td>2190</td>\n",
       "      <td>0</td>\n",
       "      <td>0</td>\n",
       "      <td>0</td>\n",
       "      <td>0</td>\n",
       "      <td>0</td>\n",
       "      <td>...</td>\n",
       "      <td>0</td>\n",
       "      <td>0</td>\n",
       "      <td>0</td>\n",
       "      <td>1</td>\n",
       "      <td>0</td>\n",
       "      <td>0</td>\n",
       "      <td>0</td>\n",
       "      <td>0</td>\n",
       "      <td>0</td>\n",
       "      <td>0</td>\n",
       "    </tr>\n",
       "  </tbody>\n",
       "</table>\n",
       "<p>5 rows × 90 columns</p>\n",
       "</div>"
      ],
      "text/plain": [
       "   Upper_Age  Lower_Age  Reco_Policy_Premium  Mean_Age  Region_Code  Response  \\\n",
       "0         36         36              11628.0      36.0         3213         0   \n",
       "1         75         22              30510.0      48.5         1117         0   \n",
       "2         32         32               7450.0      32.0         3732         1   \n",
       "3         52         48              17780.0      50.0         4378         0   \n",
       "4         44         44              10404.0      44.0         2190         0   \n",
       "\n",
       "   City_Code_C10  City_Code_C11  City_Code_C12  City_Code_C13  ...  \\\n",
       "0              0              0              0              0  ...   \n",
       "1              0              0              0              0  ...   \n",
       "2              0              0              0              0  ...   \n",
       "3              0              0              0              0  ...   \n",
       "4              0              0              0              0  ...   \n",
       "\n",
       "   Reco_Policy_Cat_13  Reco_Policy_Cat_14  Reco_Policy_Cat_15  \\\n",
       "0                   0                   0                   0   \n",
       "1                   0                   0                   0   \n",
       "2                   0                   0                   0   \n",
       "3                   0                   0                   0   \n",
       "4                   0                   0                   0   \n",
       "\n",
       "   Reco_Policy_Cat_16  Reco_Policy_Cat_17  Reco_Policy_Cat_18  \\\n",
       "0                   0                   0                   0   \n",
       "1                   0                   0                   0   \n",
       "2                   0                   0                   0   \n",
       "3                   0                   0                   0   \n",
       "4                   1                   0                   0   \n",
       "\n",
       "   Reco_Policy_Cat_19  Reco_Policy_Cat_20  Reco_Policy_Cat_21  \\\n",
       "0                   0                   0                   0   \n",
       "1                   0                   0                   0   \n",
       "2                   1                   0                   0   \n",
       "3                   1                   0                   0   \n",
       "4                   0                   0                   0   \n",
       "\n",
       "   Reco_Policy_Cat_22  \n",
       "0                   1  \n",
       "1                   1  \n",
       "2                   0  \n",
       "3                   0  \n",
       "4                   0  \n",
       "\n",
       "[5 rows x 90 columns]"
      ]
     },
     "execution_count": 44,
     "metadata": {},
     "output_type": "execute_result"
    }
   ],
   "source": [
    "train_final = pd.concat([train_cont_vars,train_cat_vars],axis = 1)\n",
    "train_final.head()"
   ]
  },
  {
   "cell_type": "code",
   "execution_count": 45,
   "metadata": {
    "ExecuteTime": {
     "end_time": "2021-02-28T06:30:25.962754Z",
     "start_time": "2021-02-28T06:30:25.926047Z"
    }
   },
   "outputs": [
    {
     "data": {
      "text/plain": [
       "(50882, 90)"
      ]
     },
     "execution_count": 45,
     "metadata": {},
     "output_type": "execute_result"
    }
   ],
   "source": [
    "train_final.shape"
   ]
  },
  {
   "cell_type": "code",
   "execution_count": 46,
   "metadata": {
    "ExecuteTime": {
     "end_time": "2021-02-28T06:30:26.096498Z",
     "start_time": "2021-02-28T06:30:25.967273Z"
    }
   },
   "outputs": [
    {
     "data": {
      "text/html": [
       "<div>\n",
       "<style scoped>\n",
       "    .dataframe tbody tr th:only-of-type {\n",
       "        vertical-align: middle;\n",
       "    }\n",
       "\n",
       "    .dataframe tbody tr th {\n",
       "        vertical-align: top;\n",
       "    }\n",
       "\n",
       "    .dataframe thead th {\n",
       "        text-align: right;\n",
       "    }\n",
       "</style>\n",
       "<table border=\"1\" class=\"dataframe\">\n",
       "  <thead>\n",
       "    <tr style=\"text-align: right;\">\n",
       "      <th></th>\n",
       "      <th>Upper_Age</th>\n",
       "      <th>Lower_Age</th>\n",
       "      <th>Reco_Policy_Premium</th>\n",
       "      <th>Mean_Age</th>\n",
       "      <th>Region_Code</th>\n",
       "      <th>City_Code_C10</th>\n",
       "      <th>City_Code_C11</th>\n",
       "      <th>City_Code_C12</th>\n",
       "      <th>City_Code_C13</th>\n",
       "      <th>City_Code_C14</th>\n",
       "      <th>...</th>\n",
       "      <th>Reco_Policy_Cat_13</th>\n",
       "      <th>Reco_Policy_Cat_14</th>\n",
       "      <th>Reco_Policy_Cat_15</th>\n",
       "      <th>Reco_Policy_Cat_16</th>\n",
       "      <th>Reco_Policy_Cat_17</th>\n",
       "      <th>Reco_Policy_Cat_18</th>\n",
       "      <th>Reco_Policy_Cat_19</th>\n",
       "      <th>Reco_Policy_Cat_20</th>\n",
       "      <th>Reco_Policy_Cat_21</th>\n",
       "      <th>Reco_Policy_Cat_22</th>\n",
       "    </tr>\n",
       "  </thead>\n",
       "  <tbody>\n",
       "    <tr>\n",
       "      <th>0</th>\n",
       "      <td>30</td>\n",
       "      <td>30</td>\n",
       "      <td>11934.0</td>\n",
       "      <td>30.0</td>\n",
       "      <td>156</td>\n",
       "      <td>0</td>\n",
       "      <td>0</td>\n",
       "      <td>0</td>\n",
       "      <td>0</td>\n",
       "      <td>0</td>\n",
       "      <td>...</td>\n",
       "      <td>0</td>\n",
       "      <td>0</td>\n",
       "      <td>0</td>\n",
       "      <td>0</td>\n",
       "      <td>0</td>\n",
       "      <td>0</td>\n",
       "      <td>0</td>\n",
       "      <td>0</td>\n",
       "      <td>0</td>\n",
       "      <td>0</td>\n",
       "    </tr>\n",
       "    <tr>\n",
       "      <th>1</th>\n",
       "      <td>69</td>\n",
       "      <td>68</td>\n",
       "      <td>32204.8</td>\n",
       "      <td>68.5</td>\n",
       "      <td>7</td>\n",
       "      <td>0</td>\n",
       "      <td>0</td>\n",
       "      <td>0</td>\n",
       "      <td>0</td>\n",
       "      <td>0</td>\n",
       "      <td>...</td>\n",
       "      <td>0</td>\n",
       "      <td>0</td>\n",
       "      <td>0</td>\n",
       "      <td>0</td>\n",
       "      <td>0</td>\n",
       "      <td>1</td>\n",
       "      <td>0</td>\n",
       "      <td>0</td>\n",
       "      <td>0</td>\n",
       "      <td>0</td>\n",
       "    </tr>\n",
       "    <tr>\n",
       "      <th>2</th>\n",
       "      <td>28</td>\n",
       "      <td>28</td>\n",
       "      <td>9240.0</td>\n",
       "      <td>28.0</td>\n",
       "      <td>564</td>\n",
       "      <td>0</td>\n",
       "      <td>0</td>\n",
       "      <td>0</td>\n",
       "      <td>0</td>\n",
       "      <td>0</td>\n",
       "      <td>...</td>\n",
       "      <td>0</td>\n",
       "      <td>0</td>\n",
       "      <td>0</td>\n",
       "      <td>0</td>\n",
       "      <td>1</td>\n",
       "      <td>0</td>\n",
       "      <td>0</td>\n",
       "      <td>0</td>\n",
       "      <td>0</td>\n",
       "      <td>0</td>\n",
       "    </tr>\n",
       "    <tr>\n",
       "      <th>3</th>\n",
       "      <td>23</td>\n",
       "      <td>23</td>\n",
       "      <td>9086.0</td>\n",
       "      <td>23.0</td>\n",
       "      <td>1177</td>\n",
       "      <td>0</td>\n",
       "      <td>0</td>\n",
       "      <td>0</td>\n",
       "      <td>0</td>\n",
       "      <td>0</td>\n",
       "      <td>...</td>\n",
       "      <td>0</td>\n",
       "      <td>0</td>\n",
       "      <td>0</td>\n",
       "      <td>0</td>\n",
       "      <td>0</td>\n",
       "      <td>1</td>\n",
       "      <td>0</td>\n",
       "      <td>0</td>\n",
       "      <td>0</td>\n",
       "      <td>0</td>\n",
       "    </tr>\n",
       "    <tr>\n",
       "      <th>4</th>\n",
       "      <td>75</td>\n",
       "      <td>75</td>\n",
       "      <td>22534.0</td>\n",
       "      <td>75.0</td>\n",
       "      <td>951</td>\n",
       "      <td>0</td>\n",
       "      <td>0</td>\n",
       "      <td>0</td>\n",
       "      <td>0</td>\n",
       "      <td>0</td>\n",
       "      <td>...</td>\n",
       "      <td>0</td>\n",
       "      <td>0</td>\n",
       "      <td>0</td>\n",
       "      <td>0</td>\n",
       "      <td>0</td>\n",
       "      <td>0</td>\n",
       "      <td>0</td>\n",
       "      <td>0</td>\n",
       "      <td>0</td>\n",
       "      <td>0</td>\n",
       "    </tr>\n",
       "  </tbody>\n",
       "</table>\n",
       "<p>5 rows × 89 columns</p>\n",
       "</div>"
      ],
      "text/plain": [
       "   Upper_Age  Lower_Age  Reco_Policy_Premium  Mean_Age  Region_Code  \\\n",
       "0         30         30              11934.0      30.0          156   \n",
       "1         69         68              32204.8      68.5            7   \n",
       "2         28         28               9240.0      28.0          564   \n",
       "3         23         23               9086.0      23.0         1177   \n",
       "4         75         75              22534.0      75.0          951   \n",
       "\n",
       "   City_Code_C10  City_Code_C11  City_Code_C12  City_Code_C13  City_Code_C14  \\\n",
       "0              0              0              0              0              0   \n",
       "1              0              0              0              0              0   \n",
       "2              0              0              0              0              0   \n",
       "3              0              0              0              0              0   \n",
       "4              0              0              0              0              0   \n",
       "\n",
       "   ...  Reco_Policy_Cat_13  Reco_Policy_Cat_14  Reco_Policy_Cat_15  \\\n",
       "0  ...                   0                   0                   0   \n",
       "1  ...                   0                   0                   0   \n",
       "2  ...                   0                   0                   0   \n",
       "3  ...                   0                   0                   0   \n",
       "4  ...                   0                   0                   0   \n",
       "\n",
       "   Reco_Policy_Cat_16  Reco_Policy_Cat_17  Reco_Policy_Cat_18  \\\n",
       "0                   0                   0                   0   \n",
       "1                   0                   0                   1   \n",
       "2                   0                   1                   0   \n",
       "3                   0                   0                   1   \n",
       "4                   0                   0                   0   \n",
       "\n",
       "   Reco_Policy_Cat_19  Reco_Policy_Cat_20  Reco_Policy_Cat_21  \\\n",
       "0                   0                   0                   0   \n",
       "1                   0                   0                   0   \n",
       "2                   0                   0                   0   \n",
       "3                   0                   0                   0   \n",
       "4                   0                   0                   0   \n",
       "\n",
       "   Reco_Policy_Cat_22  \n",
       "0                   0  \n",
       "1                   0  \n",
       "2                   0  \n",
       "3                   0  \n",
       "4                   0  \n",
       "\n",
       "[5 rows x 89 columns]"
      ]
     },
     "execution_count": 46,
     "metadata": {},
     "output_type": "execute_result"
    }
   ],
   "source": [
    "test_final = pd.concat([test_cont_vars,test_cat_vars],axis = 1)\n",
    "test_final.head()"
   ]
  },
  {
   "cell_type": "code",
   "execution_count": 47,
   "metadata": {
    "ExecuteTime": {
     "end_time": "2021-02-28T06:30:26.147808Z",
     "start_time": "2021-02-28T06:30:26.101673Z"
    }
   },
   "outputs": [
    {
     "data": {
      "text/plain": [
       "(21805, 89)"
      ]
     },
     "execution_count": 47,
     "metadata": {},
     "output_type": "execute_result"
    }
   ],
   "source": [
    "test_final.shape"
   ]
  },
  {
   "cell_type": "code",
   "execution_count": 48,
   "metadata": {
    "ExecuteTime": {
     "end_time": "2021-02-28T06:30:26.265767Z",
     "start_time": "2021-02-28T06:30:26.150562Z"
    }
   },
   "outputs": [],
   "source": [
    "from sklearn.utils import resample"
   ]
  },
  {
   "cell_type": "code",
   "execution_count": 49,
   "metadata": {
    "ExecuteTime": {
     "end_time": "2021-02-28T06:30:26.358155Z",
     "start_time": "2021-02-28T06:30:26.269776Z"
    }
   },
   "outputs": [
    {
     "data": {
      "text/plain": [
       "0    38673\n",
       "1    12209\n",
       "Name: Response, dtype: int64"
      ]
     },
     "execution_count": 49,
     "metadata": {},
     "output_type": "execute_result"
    }
   ],
   "source": [
    "train_final.Response.value_counts()"
   ]
  },
  {
   "cell_type": "code",
   "execution_count": 50,
   "metadata": {
    "ExecuteTime": {
     "end_time": "2021-02-28T06:30:26.479954Z",
     "start_time": "2021-02-28T06:30:26.364505Z"
    }
   },
   "outputs": [],
   "source": [
    "df_majority = train_final[train_final.Response==0]\n",
    "df_minority = train_final[train_final.Response==1]"
   ]
  },
  {
   "cell_type": "code",
   "execution_count": 51,
   "metadata": {
    "ExecuteTime": {
     "end_time": "2021-02-28T06:30:26.551366Z",
     "start_time": "2021-02-28T06:30:26.482562Z"
    }
   },
   "outputs": [],
   "source": [
    "df_minority_upsampled = resample(df_minority, \n",
    "                                 replace=True,     # sample with replacement\n",
    "                                 n_samples=38673,    # to match majority class\n",
    "                                 random_state=123) # reproducible results\n"
   ]
  },
  {
   "cell_type": "code",
   "execution_count": 52,
   "metadata": {
    "ExecuteTime": {
     "end_time": "2021-02-28T06:30:26.626454Z",
     "start_time": "2021-02-28T06:30:26.555878Z"
    }
   },
   "outputs": [
    {
     "data": {
      "text/plain": [
       "1    38673\n",
       "0    38673\n",
       "Name: Response, dtype: int64"
      ]
     },
     "execution_count": 52,
     "metadata": {},
     "output_type": "execute_result"
    }
   ],
   "source": [
    "# Combine majority class with upsampled minority class\n",
    "train_upsampled = pd.concat([df_majority, df_minority_upsampled])\n",
    " \n",
    "# Display new class counts\n",
    "train_upsampled.Response.value_counts()"
   ]
  },
  {
   "cell_type": "code",
   "execution_count": 53,
   "metadata": {
    "ExecuteTime": {
     "end_time": "2021-02-28T06:30:26.703876Z",
     "start_time": "2021-02-28T06:30:26.630281Z"
    }
   },
   "outputs": [
    {
     "name": "stderr",
     "output_type": "stream",
     "text": [
      "C:\\Users\\Anup w\\anaconda3\\lib\\site-packages\\pandas\\core\\indexes\\base.py:3941: FutureWarning: Using a non-tuple sequence for multidimensional indexing is deprecated; use `arr[tuple(seq)]` instead of `arr[seq]`. In the future this will be interpreted as an array index, `arr[np.array(seq)]`, which will result either in an error or a different result.\n",
      "  result = getitem(key)\n"
     ]
    }
   ],
   "source": [
    "column_indices = [range(44,69)]\n",
    "new_names = ['Health_Indicator_X2', 'Health_Indicator_X3',\n",
    "       'Health_Indicator_X4', 'Health_Indicator_X5',\n",
    "       'Health_Indicator_X6', 'Health_Indicator_X7',\n",
    "       'Health_Indicator_X8', 'Health_Indicator_X9',\n",
    "       'Holding_Policy_Duration_10', 'Holding_Policy_Duration_11',\n",
    "       'Holding_Policy_Duration_12', 'Holding_Policy_Duration_13',\n",
    "       'Holding_Policy_Duration_14plus', 'Holding_Policy_Duration_14',\n",
    "       'Holding_Policy_Duration_2', 'Holding_Policy_Duration_3',\n",
    "       'Holding_Policy_Duration_4', 'Holding_Policy_Duration_5',\n",
    "       'Holding_Policy_Duration_6', 'Holding_Policy_Duration_7',\n",
    "       'Holding_Policy_Duration_8', 'Holding_Policy_Duration_9',\n",
    "       'Holding_Policy_Type_2', 'Holding_Policy_Type_3',\n",
    "       'Holding_Policy_Type_4']\n",
    "old_names = train_upsampled.columns[column_indices]\n",
    "train_upsampled.rename(columns=dict(zip(old_names, new_names)), inplace=True)"
   ]
  },
  {
   "cell_type": "code",
   "execution_count": 54,
   "metadata": {
    "ExecuteTime": {
     "end_time": "2021-02-28T06:30:26.780251Z",
     "start_time": "2021-02-28T06:30:26.707987Z"
    }
   },
   "outputs": [],
   "source": [
    "column_indices = [range(43,68)]\n",
    "new_names = ['Health_Indicator_X2', 'Health_Indicator_X3',\n",
    "       'Health_Indicator_X4', 'Health_Indicator_X5',\n",
    "       'Health_Indicator_X6', 'Health_Indicator_X7',\n",
    "       'Health_Indicator_X8', 'Health_Indicator_X9',\n",
    "       'Holding_Policy_Duration_10', 'Holding_Policy_Duration_11',\n",
    "       'Holding_Policy_Duration_12', 'Holding_Policy_Duration_13',\n",
    "       'Holding_Policy_Duration_14plus', 'Holding_Policy_Duration_14',\n",
    "       'Holding_Policy_Duration_2', 'Holding_Policy_Duration_3',\n",
    "       'Holding_Policy_Duration_4', 'Holding_Policy_Duration_5',\n",
    "       'Holding_Policy_Duration_6', 'Holding_Policy_Duration_7',\n",
    "       'Holding_Policy_Duration_8', 'Holding_Policy_Duration_9',\n",
    "       'Holding_Policy_Type_2', 'Holding_Policy_Type_3',\n",
    "       'Holding_Policy_Type_4']\n",
    "old_names = test_final.columns[column_indices]\n",
    "test_final.rename(columns=dict(zip(old_names, new_names)), inplace=True)"
   ]
  },
  {
   "cell_type": "code",
   "execution_count": 55,
   "metadata": {
    "ExecuteTime": {
     "end_time": "2021-02-28T06:30:26.856882Z",
     "start_time": "2021-02-28T06:30:26.783176Z"
    }
   },
   "outputs": [
    {
     "data": {
      "text/plain": [
       "(77346, 90)"
      ]
     },
     "execution_count": 55,
     "metadata": {},
     "output_type": "execute_result"
    }
   ],
   "source": [
    "train_upsampled.shape"
   ]
  },
  {
   "cell_type": "code",
   "execution_count": 56,
   "metadata": {
    "ExecuteTime": {
     "end_time": "2021-02-28T06:30:26.949731Z",
     "start_time": "2021-02-28T06:30:26.862694Z"
    }
   },
   "outputs": [
    {
     "data": {
      "text/plain": [
       "(21805, 89)"
      ]
     },
     "execution_count": 56,
     "metadata": {},
     "output_type": "execute_result"
    }
   ],
   "source": [
    "test_final.shape"
   ]
  },
  {
   "cell_type": "code",
   "execution_count": 57,
   "metadata": {
    "ExecuteTime": {
     "end_time": "2021-02-28T06:30:27.151094Z",
     "start_time": "2021-02-28T06:30:26.952867Z"
    }
   },
   "outputs": [
    {
     "data": {
      "text/plain": [
       "Index(['Upper_Age', 'Lower_Age', 'Reco_Policy_Premium', 'Mean_Age',\n",
       "       'Region_Code', 'Response', 'City_Code_C10', 'City_Code_C11',\n",
       "       'City_Code_C12', 'City_Code_C13', 'City_Code_C14', 'City_Code_C15',\n",
       "       'City_Code_C16', 'City_Code_C17', 'City_Code_C18', 'City_Code_C19',\n",
       "       'City_Code_C2', 'City_Code_C20', 'City_Code_C21', 'City_Code_C22',\n",
       "       'City_Code_C23', 'City_Code_C24', 'City_Code_C25', 'City_Code_C26',\n",
       "       'City_Code_C27', 'City_Code_C28', 'City_Code_C29', 'City_Code_C3',\n",
       "       'City_Code_C30', 'City_Code_C31', 'City_Code_C32', 'City_Code_C33',\n",
       "       'City_Code_C34', 'City_Code_C35', 'City_Code_C36', 'City_Code_C4',\n",
       "       'City_Code_C5', 'City_Code_C6', 'City_Code_C7', 'City_Code_C8',\n",
       "       'City_Code_C9', 'Accomodation_Type_Rented', 'Reco_Insurance_Type_Joint',\n",
       "       'Is_Spouse_Yes', 'Health_Indicator_X2', 'Health_Indicator_X3',\n",
       "       'Health_Indicator_X4', 'Health_Indicator_X5', 'Health_Indicator_X6',\n",
       "       'Health_Indicator_X7', 'Health_Indicator_X8', 'Health_Indicator_X9',\n",
       "       'Holding_Policy_Duration_10', 'Holding_Policy_Duration_11',\n",
       "       'Holding_Policy_Duration_12', 'Holding_Policy_Duration_13',\n",
       "       'Holding_Policy_Duration_14plus', 'Holding_Policy_Duration_14',\n",
       "       'Holding_Policy_Duration_2', 'Holding_Policy_Duration_3',\n",
       "       'Holding_Policy_Duration_4', 'Holding_Policy_Duration_5',\n",
       "       'Holding_Policy_Duration_6', 'Holding_Policy_Duration_7',\n",
       "       'Holding_Policy_Duration_8', 'Holding_Policy_Duration_9',\n",
       "       'Holding_Policy_Type_2', 'Holding_Policy_Type_3',\n",
       "       'Holding_Policy_Type_4', 'Reco_Policy_Cat_2', 'Reco_Policy_Cat_3',\n",
       "       'Reco_Policy_Cat_4', 'Reco_Policy_Cat_5', 'Reco_Policy_Cat_6',\n",
       "       'Reco_Policy_Cat_7', 'Reco_Policy_Cat_8', 'Reco_Policy_Cat_9',\n",
       "       'Reco_Policy_Cat_10', 'Reco_Policy_Cat_11', 'Reco_Policy_Cat_12',\n",
       "       'Reco_Policy_Cat_13', 'Reco_Policy_Cat_14', 'Reco_Policy_Cat_15',\n",
       "       'Reco_Policy_Cat_16', 'Reco_Policy_Cat_17', 'Reco_Policy_Cat_18',\n",
       "       'Reco_Policy_Cat_19', 'Reco_Policy_Cat_20', 'Reco_Policy_Cat_21',\n",
       "       'Reco_Policy_Cat_22'],\n",
       "      dtype='object')"
      ]
     },
     "execution_count": 57,
     "metadata": {},
     "output_type": "execute_result"
    }
   ],
   "source": [
    "train_upsampled.columns"
   ]
  },
  {
   "cell_type": "code",
   "execution_count": 58,
   "metadata": {
    "ExecuteTime": {
     "end_time": "2021-02-28T06:30:27.228744Z",
     "start_time": "2021-02-28T06:30:27.157193Z"
    }
   },
   "outputs": [
    {
     "data": {
      "text/plain": [
       "Index(['Accomodation_Type_Rented', 'City_Code_C10', 'City_Code_C11',\n",
       "       'City_Code_C12', 'City_Code_C13', 'City_Code_C14', 'City_Code_C15',\n",
       "       'City_Code_C16', 'City_Code_C17', 'City_Code_C18', 'City_Code_C19',\n",
       "       'City_Code_C2', 'City_Code_C20', 'City_Code_C21', 'City_Code_C22',\n",
       "       'City_Code_C23', 'City_Code_C24', 'City_Code_C25', 'City_Code_C26',\n",
       "       'City_Code_C27', 'City_Code_C28', 'City_Code_C29', 'City_Code_C3',\n",
       "       'City_Code_C30', 'City_Code_C31', 'City_Code_C32', 'City_Code_C33',\n",
       "       'City_Code_C34', 'City_Code_C35', 'City_Code_C36', 'City_Code_C4',\n",
       "       'City_Code_C5', 'City_Code_C6', 'City_Code_C7', 'City_Code_C8',\n",
       "       'City_Code_C9', 'Health_Indicator_X2', 'Health_Indicator_X3',\n",
       "       'Health_Indicator_X4', 'Health_Indicator_X5', 'Health_Indicator_X6',\n",
       "       'Health_Indicator_X7', 'Health_Indicator_X8', 'Health_Indicator_X9',\n",
       "       'Holding_Policy_Duration_10', 'Holding_Policy_Duration_11',\n",
       "       'Holding_Policy_Duration_12', 'Holding_Policy_Duration_13',\n",
       "       'Holding_Policy_Duration_14', 'Holding_Policy_Duration_14plus',\n",
       "       'Holding_Policy_Duration_2', 'Holding_Policy_Duration_3',\n",
       "       'Holding_Policy_Duration_4', 'Holding_Policy_Duration_5',\n",
       "       'Holding_Policy_Duration_6', 'Holding_Policy_Duration_7',\n",
       "       'Holding_Policy_Duration_8', 'Holding_Policy_Duration_9',\n",
       "       'Holding_Policy_Type_2', 'Holding_Policy_Type_3',\n",
       "       'Holding_Policy_Type_4', 'Is_Spouse_Yes', 'Lower_Age', 'Mean_Age',\n",
       "       'Reco_Insurance_Type_Joint', 'Reco_Policy_Cat_10', 'Reco_Policy_Cat_11',\n",
       "       'Reco_Policy_Cat_12', 'Reco_Policy_Cat_13', 'Reco_Policy_Cat_14',\n",
       "       'Reco_Policy_Cat_15', 'Reco_Policy_Cat_16', 'Reco_Policy_Cat_17',\n",
       "       'Reco_Policy_Cat_18', 'Reco_Policy_Cat_19', 'Reco_Policy_Cat_2',\n",
       "       'Reco_Policy_Cat_20', 'Reco_Policy_Cat_21', 'Reco_Policy_Cat_22',\n",
       "       'Reco_Policy_Cat_3', 'Reco_Policy_Cat_4', 'Reco_Policy_Cat_5',\n",
       "       'Reco_Policy_Cat_6', 'Reco_Policy_Cat_7', 'Reco_Policy_Cat_8',\n",
       "       'Reco_Policy_Cat_9', 'Reco_Policy_Premium', 'Region_Code', 'Upper_Age'],\n",
       "      dtype='object')"
      ]
     },
     "execution_count": 58,
     "metadata": {},
     "output_type": "execute_result"
    }
   ],
   "source": [
    "feature_columns = train_upsampled.columns.difference(['Response'])\n",
    "feature_columns\n"
   ]
  },
  {
   "cell_type": "code",
   "execution_count": 59,
   "metadata": {
    "ExecuteTime": {
     "end_time": "2021-02-28T06:30:27.363367Z",
     "start_time": "2021-02-28T06:30:27.231907Z"
    }
   },
   "outputs": [],
   "source": [
    "model_param = 'Response ~ ' + ' + '.join(feature_columns)"
   ]
  },
  {
   "cell_type": "code",
   "execution_count": 60,
   "metadata": {
    "ExecuteTime": {
     "end_time": "2021-02-28T06:30:27.444970Z",
     "start_time": "2021-02-28T06:30:27.367594Z"
    }
   },
   "outputs": [],
   "source": [
    "# Removing Lower_Age and Upper_Age due to multicollinearity\n",
    "model_param = '''Response ~ Accomodation_Type_Rented + City_Code_C10 + City_Code_C11 + City_Code_C12 + City_Code_C13 + City_Code_C14 + City_Code_C15 + City_Code_C16 + City_Code_C17 + City_Code_C18 + City_Code_C19 + City_Code_C2 + City_Code_C20 + City_Code_C21 + City_Code_C22 + City_Code_C23 + City_Code_C24 + City_Code_C25 + City_Code_C26 + City_Code_C27 + City_Code_C28 + City_Code_C29 + City_Code_C3 + City_Code_C30 + City_Code_C31 + City_Code_C32 + City_Code_C33 + City_Code_C34 + City_Code_C35 + City_Code_C36 + City_Code_C4 + City_Code_C5 + City_Code_C6 + City_Code_C7 + City_Code_C8 + City_Code_C9 + Health_Indicator_X2 + Health_Indicator_X3 + Health_Indicator_X4 + Health_Indicator_X5 + Health_Indicator_X6 + Health_Indicator_X7 + Health_Indicator_X8 + Health_Indicator_X9 + Holding_Policy_Duration_10 + Holding_Policy_Duration_11 + Holding_Policy_Duration_12 + Holding_Policy_Duration_13 + Holding_Policy_Duration_14 + Holding_Policy_Duration_14plus + Holding_Policy_Duration_2 + Holding_Policy_Duration_3 + Holding_Policy_Duration_4 + Holding_Policy_Duration_5 + Holding_Policy_Duration_6 + Holding_Policy_Duration_7 + Holding_Policy_Duration_8 + Holding_Policy_Duration_9 + Holding_Policy_Type_2 + Holding_Policy_Type_3 + Holding_Policy_Type_4 + Is_Spouse_Yes + Mean_Age + Reco_Insurance_Type_Joint + Reco_Policy_Cat_10 + Reco_Policy_Cat_11 + Reco_Policy_Cat_12 + Reco_Policy_Cat_13 + Reco_Policy_Cat_14 + Reco_Policy_Cat_15 + Reco_Policy_Cat_16 + Reco_Policy_Cat_17 + Reco_Policy_Cat_18 + Reco_Policy_Cat_19 + Reco_Policy_Cat_2 + Reco_Policy_Cat_20 + Reco_Policy_Cat_21 + Reco_Policy_Cat_22 + Reco_Policy_Cat_3 + Reco_Policy_Cat_4 + Reco_Policy_Cat_5 + Reco_Policy_Cat_6 + Reco_Policy_Cat_7 + Reco_Policy_Cat_8 + Reco_Policy_Cat_9 + Reco_Policy_Premium + Region_Code'''"
   ]
  },
  {
   "cell_type": "code",
   "execution_count": 61,
   "metadata": {
    "ExecuteTime": {
     "end_time": "2021-02-28T06:33:06.696257Z",
     "start_time": "2021-02-28T06:30:27.444970Z"
    }
   },
   "outputs": [
    {
     "data": {
      "text/html": [
       "<div>\n",
       "<style scoped>\n",
       "    .dataframe tbody tr th:only-of-type {\n",
       "        vertical-align: middle;\n",
       "    }\n",
       "\n",
       "    .dataframe tbody tr th {\n",
       "        vertical-align: top;\n",
       "    }\n",
       "\n",
       "    .dataframe thead th {\n",
       "        text-align: right;\n",
       "    }\n",
       "</style>\n",
       "<table border=\"1\" class=\"dataframe\">\n",
       "  <thead>\n",
       "    <tr style=\"text-align: right;\">\n",
       "      <th></th>\n",
       "      <th>Features</th>\n",
       "      <th>VIF Factor</th>\n",
       "    </tr>\n",
       "  </thead>\n",
       "  <tbody>\n",
       "    <tr>\n",
       "      <th>0</th>\n",
       "      <td>Intercept</td>\n",
       "      <td>74.694997</td>\n",
       "    </tr>\n",
       "    <tr>\n",
       "      <th>64</th>\n",
       "      <td>Reco_Insurance_Type_Joint</td>\n",
       "      <td>6.856854</td>\n",
       "    </tr>\n",
       "    <tr>\n",
       "      <th>78</th>\n",
       "      <td>Reco_Policy_Cat_22</td>\n",
       "      <td>6.240500</td>\n",
       "    </tr>\n",
       "    <tr>\n",
       "      <th>86</th>\n",
       "      <td>Reco_Policy_Premium</td>\n",
       "      <td>5.195436</td>\n",
       "    </tr>\n",
       "    <tr>\n",
       "      <th>73</th>\n",
       "      <td>Reco_Policy_Cat_18</td>\n",
       "      <td>5.069255</td>\n",
       "    </tr>\n",
       "    <tr>\n",
       "      <th>62</th>\n",
       "      <td>Is_Spouse_Yes</td>\n",
       "      <td>4.607933</td>\n",
       "    </tr>\n",
       "    <tr>\n",
       "      <th>77</th>\n",
       "      <td>Reco_Policy_Cat_21</td>\n",
       "      <td>4.573525</td>\n",
       "    </tr>\n",
       "    <tr>\n",
       "      <th>72</th>\n",
       "      <td>Reco_Policy_Cat_17</td>\n",
       "      <td>4.080039</td>\n",
       "    </tr>\n",
       "    <tr>\n",
       "      <th>71</th>\n",
       "      <td>Reco_Policy_Cat_16</td>\n",
       "      <td>3.983003</td>\n",
       "    </tr>\n",
       "    <tr>\n",
       "      <th>74</th>\n",
       "      <td>Reco_Policy_Cat_19</td>\n",
       "      <td>3.901401</td>\n",
       "    </tr>\n",
       "    <tr>\n",
       "      <th>63</th>\n",
       "      <td>Mean_Age</td>\n",
       "      <td>3.752996</td>\n",
       "    </tr>\n",
       "    <tr>\n",
       "      <th>76</th>\n",
       "      <td>Reco_Policy_Cat_20</td>\n",
       "      <td>3.468538</td>\n",
       "    </tr>\n",
       "    <tr>\n",
       "      <th>67</th>\n",
       "      <td>Reco_Policy_Cat_12</td>\n",
       "      <td>2.794610</td>\n",
       "    </tr>\n",
       "    <tr>\n",
       "      <th>70</th>\n",
       "      <td>Reco_Policy_Cat_15</td>\n",
       "      <td>2.632746</td>\n",
       "    </tr>\n",
       "    <tr>\n",
       "      <th>69</th>\n",
       "      <td>Reco_Policy_Cat_14</td>\n",
       "      <td>2.414956</td>\n",
       "    </tr>\n",
       "    <tr>\n",
       "      <th>68</th>\n",
       "      <td>Reco_Policy_Cat_13</td>\n",
       "      <td>2.345047</td>\n",
       "    </tr>\n",
       "    <tr>\n",
       "      <th>60</th>\n",
       "      <td>Holding_Policy_Type_3</td>\n",
       "      <td>2.342312</td>\n",
       "    </tr>\n",
       "    <tr>\n",
       "      <th>75</th>\n",
       "      <td>Reco_Policy_Cat_2</td>\n",
       "      <td>2.215504</td>\n",
       "    </tr>\n",
       "    <tr>\n",
       "      <th>12</th>\n",
       "      <td>City_Code_C2</td>\n",
       "      <td>2.017472</td>\n",
       "    </tr>\n",
       "    <tr>\n",
       "      <th>79</th>\n",
       "      <td>Reco_Policy_Cat_3</td>\n",
       "      <td>1.941415</td>\n",
       "    </tr>\n",
       "    <tr>\n",
       "      <th>81</th>\n",
       "      <td>Reco_Policy_Cat_5</td>\n",
       "      <td>1.918549</td>\n",
       "    </tr>\n",
       "    <tr>\n",
       "      <th>80</th>\n",
       "      <td>Reco_Policy_Cat_4</td>\n",
       "      <td>1.728460</td>\n",
       "    </tr>\n",
       "    <tr>\n",
       "      <th>66</th>\n",
       "      <td>Reco_Policy_Cat_11</td>\n",
       "      <td>1.676027</td>\n",
       "    </tr>\n",
       "    <tr>\n",
       "      <th>83</th>\n",
       "      <td>Reco_Policy_Cat_7</td>\n",
       "      <td>1.672578</td>\n",
       "    </tr>\n",
       "    <tr>\n",
       "      <th>84</th>\n",
       "      <td>Reco_Policy_Cat_8</td>\n",
       "      <td>1.672029</td>\n",
       "    </tr>\n",
       "  </tbody>\n",
       "</table>\n",
       "</div>"
      ],
      "text/plain": [
       "                     Features  VIF Factor\n",
       "0                   Intercept   74.694997\n",
       "64  Reco_Insurance_Type_Joint    6.856854\n",
       "78         Reco_Policy_Cat_22    6.240500\n",
       "86        Reco_Policy_Premium    5.195436\n",
       "73         Reco_Policy_Cat_18    5.069255\n",
       "62              Is_Spouse_Yes    4.607933\n",
       "77         Reco_Policy_Cat_21    4.573525\n",
       "72         Reco_Policy_Cat_17    4.080039\n",
       "71         Reco_Policy_Cat_16    3.983003\n",
       "74         Reco_Policy_Cat_19    3.901401\n",
       "63                   Mean_Age    3.752996\n",
       "76         Reco_Policy_Cat_20    3.468538\n",
       "67         Reco_Policy_Cat_12    2.794610\n",
       "70         Reco_Policy_Cat_15    2.632746\n",
       "69         Reco_Policy_Cat_14    2.414956\n",
       "68         Reco_Policy_Cat_13    2.345047\n",
       "60      Holding_Policy_Type_3    2.342312\n",
       "75          Reco_Policy_Cat_2    2.215504\n",
       "12               City_Code_C2    2.017472\n",
       "79          Reco_Policy_Cat_3    1.941415\n",
       "81          Reco_Policy_Cat_5    1.918549\n",
       "80          Reco_Policy_Cat_4    1.728460\n",
       "66         Reco_Policy_Cat_11    1.676027\n",
       "83          Reco_Policy_Cat_7    1.672578\n",
       "84          Reco_Policy_Cat_8    1.672029"
      ]
     },
     "execution_count": 61,
     "metadata": {},
     "output_type": "execute_result"
    }
   ],
   "source": [
    "# High VIF of the variable means information in that variable has already been explained by \n",
    "# other X variables present in the model\n",
    "\n",
    "# import the packages for vif\n",
    "from statsmodels.stats.outliers_influence import variance_inflation_factor\n",
    "from patsy import dmatrices\n",
    "\n",
    "# separate the Y and X variables\n",
    "y, X = dmatrices( model_param, train_upsampled, return_type = 'dataframe' )\n",
    "\n",
    "# For each X, calculate VIF and save in dataframe\n",
    "vif = pd.DataFrame()\n",
    "\n",
    "vif['Features'] = X.columns\n",
    "vif['VIF Factor'] = [ variance_inflation_factor(X.values, i) for i in range(X.shape[1]) ]\n",
    "\n",
    "# display the output\n",
    "vif.sort_values('VIF Factor',ascending = False).head(25)"
   ]
  },
  {
   "cell_type": "code",
   "execution_count": 62,
   "metadata": {
    "ExecuteTime": {
     "end_time": "2021-02-28T06:33:06.765860Z",
     "start_time": "2021-02-28T06:33:06.733721Z"
    }
   },
   "outputs": [],
   "source": [
    "train_upsampled.drop(columns = ['Lower_Age','Upper_Age'],inplace = True)\n",
    "test_final.drop(columns = ['Lower_Age','Upper_Age'],inplace = True)"
   ]
  },
  {
   "cell_type": "code",
   "execution_count": 63,
   "metadata": {
    "ExecuteTime": {
     "end_time": "2021-02-28T06:33:06.872529Z",
     "start_time": "2021-02-28T06:33:06.765860Z"
    }
   },
   "outputs": [
    {
     "data": {
      "text/plain": [
       "(77346, 88)"
      ]
     },
     "execution_count": 63,
     "metadata": {},
     "output_type": "execute_result"
    }
   ],
   "source": [
    "train_upsampled.shape"
   ]
  },
  {
   "cell_type": "code",
   "execution_count": 64,
   "metadata": {
    "ExecuteTime": {
     "end_time": "2021-02-28T06:33:07.031135Z",
     "start_time": "2021-02-28T06:33:06.872529Z"
    }
   },
   "outputs": [
    {
     "data": {
      "text/plain": [
       "(21805, 87)"
      ]
     },
     "execution_count": 64,
     "metadata": {},
     "output_type": "execute_result"
    }
   ],
   "source": [
    "test_final.shape"
   ]
  },
  {
   "cell_type": "code",
   "execution_count": 65,
   "metadata": {
    "ExecuteTime": {
     "end_time": "2021-02-28T06:33:07.226704Z",
     "start_time": "2021-02-28T06:33:07.034935Z"
    }
   },
   "outputs": [],
   "source": [
    "from sklearn.model_selection import train_test_split"
   ]
  },
  {
   "cell_type": "code",
   "execution_count": 66,
   "metadata": {
    "ExecuteTime": {
     "end_time": "2021-02-28T06:33:07.350636Z",
     "start_time": "2021-02-28T06:33:07.227742Z"
    }
   },
   "outputs": [],
   "source": [
    "\n",
    "train_X, test_X, train_y, test_y = train_test_split( (train_upsampled.drop(columns = 'Response')),\n",
    "                                                  train_upsampled['Response'],\n",
    "                                                  test_size = 0.3,\n",
    "                                                  random_state = 28 )"
   ]
  },
  {
   "cell_type": "code",
   "execution_count": 67,
   "metadata": {
    "ExecuteTime": {
     "end_time": "2021-02-28T06:33:07.366507Z",
     "start_time": "2021-02-28T06:33:07.350636Z"
    }
   },
   "outputs": [
    {
     "name": "stdout",
     "output_type": "stream",
     "text": [
      "No of obs in training:  54142  |  No of obs in testing:  23204\n"
     ]
    }
   ],
   "source": [
    "print('No of obs in training: ', len(train_X), ' | ', 'No of obs in testing: ', len(test_X))"
   ]
  },
  {
   "cell_type": "code",
   "execution_count": 68,
   "metadata": {
    "ExecuteTime": {
     "end_time": "2021-02-28T06:33:07.790661Z",
     "start_time": "2021-02-28T06:33:07.370233Z"
    }
   },
   "outputs": [],
   "source": [
    "from sklearn.linear_model import LogisticRegression\n",
    "log_model = LogisticRegression(random_state=0).fit(train_X, train_y)"
   ]
  },
  {
   "cell_type": "code",
   "execution_count": 69,
   "metadata": {
    "ExecuteTime": {
     "end_time": "2021-02-28T06:33:07.814782Z",
     "start_time": "2021-02-28T06:33:07.798661Z"
    }
   },
   "outputs": [],
   "source": [
    "from sklearn import metrics\n",
    "from sklearn.metrics import confusion_matrix"
   ]
  },
  {
   "cell_type": "code",
   "execution_count": 70,
   "metadata": {
    "ExecuteTime": {
     "end_time": "2021-02-28T06:33:08.008035Z",
     "start_time": "2021-02-28T06:33:07.815816Z"
    }
   },
   "outputs": [
    {
     "name": "stdout",
     "output_type": "stream",
     "text": [
      "The Gini Index for the model built on the Train Data is :  0.00255470319726836\n",
      "The Gini Index for the model built on the Test Data is :  -0.006505218170796412\n"
     ]
    }
   ],
   "source": [
    "train_gini = 2*metrics.roc_auc_score(train_y, log_model.predict(train_X)) - 1\n",
    "print(\"The Gini Index for the model built on the Train Data is : \", train_gini)\n",
    "\n",
    "test_gini = 2*metrics.roc_auc_score(test_y, log_model.predict(test_X)) - 1\n",
    "print(\"The Gini Index for the model built on the Test Data is : \", test_gini)"
   ]
  },
  {
   "cell_type": "code",
   "execution_count": 71,
   "metadata": {
    "ExecuteTime": {
     "end_time": "2021-02-28T06:33:08.104880Z",
     "start_time": "2021-02-28T06:33:08.012115Z"
    }
   },
   "outputs": [
    {
     "name": "stdout",
     "output_type": "stream",
     "text": [
      "Train accuracy 0.5003509290384545\n",
      "Test accuracy 0.49887950353387345\n"
     ]
    }
   ],
   "source": [
    "print('Train accuracy',log_model.score(train_X, train_y))\n",
    "print('Test accuracy',log_model.score(test_X, test_y))"
   ]
  },
  {
   "cell_type": "code",
   "execution_count": 72,
   "metadata": {
    "ExecuteTime": {
     "end_time": "2021-02-28T06:33:08.158658Z",
     "start_time": "2021-02-28T06:33:08.106897Z"
    }
   },
   "outputs": [],
   "source": [
    "logm_train_pred = pd.DataFrame( { 'actual':  train_y,\n",
    "                            'predicted': log_model.predict( train_X ) } )"
   ]
  },
  {
   "cell_type": "code",
   "execution_count": 73,
   "metadata": {
    "ExecuteTime": {
     "end_time": "2021-02-28T06:33:08.263472Z",
     "start_time": "2021-02-28T06:33:08.158658Z"
    }
   },
   "outputs": [],
   "source": [
    "logm_test_pred = pd.DataFrame( { 'actual':  test_y,\n",
    "                            'predicted': log_model.predict( test_X ) } )"
   ]
  },
  {
   "cell_type": "code",
   "execution_count": 74,
   "metadata": {
    "ExecuteTime": {
     "end_time": "2021-02-28T06:33:08.437907Z",
     "start_time": "2021-02-28T06:33:08.265961Z"
    }
   },
   "outputs": [],
   "source": [
    "tn, fp, fn, tp = metrics.confusion_matrix( logm_train_pred.actual,logm_train_pred.predicted).ravel()"
   ]
  },
  {
   "cell_type": "code",
   "execution_count": 75,
   "metadata": {
    "ExecuteTime": {
     "end_time": "2021-02-28T06:33:08.882411Z",
     "start_time": "2021-02-28T06:33:08.437907Z"
    }
   },
   "outputs": [
    {
     "data": {
      "text/plain": [
       "Text(0.5, 15.0, 'Predicted label')"
      ]
     },
     "execution_count": 75,
     "metadata": {},
     "output_type": "execute_result"
    },
    {
     "data": {
      "image/png": "[encoded data removed]",
      "text/plain": [
       "<Figure size 432x288 with 2 Axes>"
      ]
     },
     "metadata": {
      "needs_background": "light"
     },
     "output_type": "display_data"
    }
   ],
   "source": [
    "log_cm_train = metrics.confusion_matrix( logm_train_pred.actual,\n",
    "                                 logm_train_pred.predicted)\n",
    "sns.heatmap(log_cm_train, annot=True,\n",
    "         fmt='.2f',\n",
    "         xticklabels = [\"No Response\", \"Response\"] , yticklabels = [\"No Response\", \"Response\"] )\n",
    "\n",
    "plt.ylabel('True label')\n",
    "plt.xlabel('Predicted label')"
   ]
  },
  {
   "cell_type": "code",
   "execution_count": 76,
   "metadata": {
    "ExecuteTime": {
     "end_time": "2021-02-28T06:33:08.895292Z",
     "start_time": "2021-02-28T06:33:08.885576Z"
    }
   },
   "outputs": [
    {
     "name": "stdout",
     "output_type": "stream",
     "text": [
      "The Senstivity for train is : 0.6766562685680333\n",
      "The Specificity for train is : 0.32589843462923496\n"
     ]
    }
   ],
   "source": [
    "# For train\n",
    "Sens_train = tp/(tp+fn)\n",
    "Spec_train = tn/(tn+fp)\n",
    "print(\"The Senstivity for train is :\",Sens_train)\n",
    "print(\"The Specificity for train is :\",Spec_train)\n"
   ]
  },
  {
   "cell_type": "code",
   "execution_count": 77,
   "metadata": {
    "ExecuteTime": {
     "end_time": "2021-02-28T06:33:09.104069Z",
     "start_time": "2021-02-28T06:33:08.896291Z"
    }
   },
   "outputs": [],
   "source": [
    "from sklearn.ensemble import RandomForestClassifier"
   ]
  },
  {
   "cell_type": "code",
   "execution_count": 78,
   "metadata": {
    "ExecuteTime": {
     "end_time": "2021-02-28T06:33:35.829498Z",
     "start_time": "2021-02-28T06:33:09.104069Z"
    }
   },
   "outputs": [
    {
     "data": {
      "text/plain": [
       "RandomForestClassifier()"
      ]
     },
     "execution_count": 78,
     "metadata": {},
     "output_type": "execute_result"
    }
   ],
   "source": [
    "radm_reg = RandomForestClassifier()\n",
    "radm_reg.fit( train_X, train_y )"
   ]
  },
  {
   "cell_type": "code",
   "execution_count": 79,
   "metadata": {
    "ExecuteTime": {
     "end_time": "2021-02-28T06:33:39.988202Z",
     "start_time": "2021-02-28T06:33:35.830723Z"
    }
   },
   "outputs": [],
   "source": [
    "radm_train_pred = pd.DataFrame( { 'actual':  train_y,\n",
    "                            'predicted': radm_reg.predict( train_X ) } )\n"
   ]
  },
  {
   "cell_type": "code",
   "execution_count": 80,
   "metadata": {
    "ExecuteTime": {
     "end_time": "2021-02-28T06:33:41.803175Z",
     "start_time": "2021-02-28T06:33:39.992027Z"
    }
   },
   "outputs": [],
   "source": [
    "radm_test_pred = pd.DataFrame( { 'actual':  test_y,\n",
    "                            'predicted': radm_reg.predict( test_X ) } )"
   ]
  },
  {
   "cell_type": "code",
   "execution_count": 81,
   "metadata": {
    "ExecuteTime": {
     "end_time": "2021-02-28T06:33:47.146251Z",
     "start_time": "2021-02-28T06:33:41.803175Z"
    }
   },
   "outputs": [
    {
     "name": "stdout",
     "output_type": "stream",
     "text": [
      "The Gini Index for the model built on the Train Data is :  1.0\n",
      "The Gini Index for the model built on the Test Data is :  0.7870466870038557\n"
     ]
    }
   ],
   "source": [
    "train_gini = 2*metrics.roc_auc_score(train_y, radm_reg.predict(train_X)) - 1\n",
    "print(\"The Gini Index for the model built on the Train Data is : \", train_gini)\n",
    "\n",
    "test_gini = 2*metrics.roc_auc_score(test_y, radm_reg.predict(test_X)) - 1\n",
    "print(\"The Gini Index for the model built on the Test Data is : \", test_gini)"
   ]
  },
  {
   "cell_type": "code",
   "execution_count": 82,
   "metadata": {
    "ExecuteTime": {
     "end_time": "2021-02-28T06:33:47.592375Z",
     "start_time": "2021-02-28T06:33:47.150951Z"
    }
   },
   "outputs": [
    {
     "data": {
      "text/plain": [
       "Text(0.5, 15.0, 'Predicted label')"
      ]
     },
     "execution_count": 82,
     "metadata": {},
     "output_type": "execute_result"
    },
    {
     "data": {
      "image/png": "[encoded data removed]",
      "text/plain": [
       "<Figure size 432x288 with 2 Axes>"
      ]
     },
     "metadata": {
      "needs_background": "light"
     },
     "output_type": "display_data"
    }
   ],
   "source": [
    "rdf_cm_train = metrics.confusion_matrix( radm_train_pred.actual,\n",
    "                                 radm_train_pred.predicted)\n",
    "sns.heatmap(rdf_cm_train, annot=True,\n",
    "         fmt='.2f',\n",
    "         xticklabels = [\"No Response\", \"Response\"] , yticklabels = [\"No Response\", \"Response\"] )\n",
    "\n",
    "plt.ylabel('True label')\n",
    "plt.xlabel('Predicted label')"
   ]
  },
  {
   "cell_type": "code",
   "execution_count": 83,
   "metadata": {
    "ExecuteTime": {
     "end_time": "2021-02-28T06:33:47.946129Z",
     "start_time": "2021-02-28T06:33:47.596255Z"
    }
   },
   "outputs": [
    {
     "data": {
      "text/plain": [
       "Text(0.5, 15.0, 'Predicted label')"
      ]
     },
     "execution_count": 83,
     "metadata": {},
     "output_type": "execute_result"
    },
    {
     "data": {
      "image/png": "[encoded data removed]",
      "text/plain": [
       "<Figure size 432x288 with 2 Axes>"
      ]
     },
     "metadata": {
      "needs_background": "light"
     },
     "output_type": "display_data"
    }
   ],
   "source": [
    "radm_cm_test = metrics.confusion_matrix( radm_test_pred.actual,\n",
    "                                 radm_test_pred.predicted)\n",
    "sns.heatmap(radm_cm_test, annot=True,\n",
    "         fmt='.2f',\n",
    "         xticklabels = [\"No Response\", \"Response\"] , yticklabels = [\"No Response\", \"Response\"] )\n",
    "\n",
    "plt.ylabel('True label')\n",
    "plt.xlabel('Predicted label')"
   ]
  },
  {
   "cell_type": "code",
   "execution_count": 84,
   "metadata": {
    "ExecuteTime": {
     "end_time": "2021-02-28T06:33:49.756360Z",
     "start_time": "2021-02-28T06:33:47.946129Z"
    }
   },
   "outputs": [
    {
     "data": {
      "text/html": [
       "<div>\n",
       "<style scoped>\n",
       "    .dataframe tbody tr th:only-of-type {\n",
       "        vertical-align: middle;\n",
       "    }\n",
       "\n",
       "    .dataframe tbody tr th {\n",
       "        vertical-align: top;\n",
       "    }\n",
       "\n",
       "    .dataframe thead th {\n",
       "        text-align: right;\n",
       "    }\n",
       "</style>\n",
       "<table border=\"1\" class=\"dataframe\">\n",
       "  <thead>\n",
       "    <tr style=\"text-align: right;\">\n",
       "      <th></th>\n",
       "      <th>actual</th>\n",
       "      <th>predicted</th>\n",
       "    </tr>\n",
       "  </thead>\n",
       "  <tbody>\n",
       "    <tr>\n",
       "      <th>17581</th>\n",
       "      <td>0</td>\n",
       "      <td>0.41</td>\n",
       "    </tr>\n",
       "    <tr>\n",
       "      <th>6443</th>\n",
       "      <td>0</td>\n",
       "      <td>0.48</td>\n",
       "    </tr>\n",
       "    <tr>\n",
       "      <th>30131</th>\n",
       "      <td>1</td>\n",
       "      <td>0.97</td>\n",
       "    </tr>\n",
       "    <tr>\n",
       "      <th>4026</th>\n",
       "      <td>1</td>\n",
       "      <td>0.98</td>\n",
       "    </tr>\n",
       "    <tr>\n",
       "      <th>19758</th>\n",
       "      <td>0</td>\n",
       "      <td>0.36</td>\n",
       "    </tr>\n",
       "  </tbody>\n",
       "</table>\n",
       "</div>"
      ],
      "text/plain": [
       "       actual  predicted\n",
       "17581       0       0.41\n",
       "6443        0       0.48\n",
       "30131       1       0.97\n",
       "4026        1       0.98\n",
       "19758       0       0.36"
      ]
     },
     "execution_count": 84,
     "metadata": {},
     "output_type": "execute_result"
    }
   ],
   "source": [
    "radm_test_pred_prob = pd.DataFrame( { 'actual':  test_y,\n",
    "                            'predicted': radm_reg.predict_proba(test_X)[:,1]  } )\n",
    "radm_test_pred_prob.head()\n"
   ]
  },
  {
   "cell_type": "code",
   "execution_count": 85,
   "metadata": {
    "ExecuteTime": {
     "end_time": "2021-02-28T06:37:12.722491Z",
     "start_time": "2021-02-28T06:33:49.756360Z"
    }
   },
   "outputs": [
    {
     "data": {
      "text/plain": [
       "actual             11745.00\n",
       "predicted          13620.49\n",
       "predicted_value     1229.00\n",
       "tp                  1229.00\n",
       "fp                     0.00\n",
       "tn                 11459.00\n",
       "fn                 10516.00\n",
       "dtype: float64"
      ]
     },
     "execution_count": 85,
     "metadata": {},
     "output_type": "execute_result"
    }
   ],
   "source": [
    "## Intuition behind ROC curve - confusion matrix for each different cut-off shows trade off in sensitivity and specificity\n",
    "roc_like_df = pd.DataFrame()\n",
    "\n",
    "for cut_off in np.linspace(0,1,50):\n",
    "    radm_test_pred_prob['predicted_value'] = radm_test_pred_prob['predicted'].apply(lambda x: 0 if x < cut_off else 1)\n",
    "    radm_test_pred_prob['tp'] = radm_test_pred_prob.apply(lambda x: 1 if x['actual']==1 and x['predicted_value']==1 else 0, axis=1)\n",
    "    radm_test_pred_prob['fp'] = radm_test_pred_prob.apply(lambda x: 1 if x['actual']==0 and x['predicted_value']==1 else 0, axis=1)\n",
    "    radm_test_pred_prob['tn'] = radm_test_pred_prob.apply(lambda x: 1 if x['actual']==0 and x['predicted_value']==0 else 0, axis=1)\n",
    "    radm_test_pred_prob['fn'] = radm_test_pred_prob.apply(lambda x: 1 if x['actual']==1 and x['predicted_value']==0 else 0, axis=1)\n",
    "    sensitivity = radm_test_pred_prob['tp'].sum() / (radm_test_pred_prob['tp'].sum() + radm_test_pred_prob['fn'].sum())\n",
    "    specificity = radm_test_pred_prob['tn'].sum() / (radm_test_pred_prob['tn'].sum() + radm_test_pred_prob['fp'].sum())\n",
    "    roc_like_table = pd.DataFrame([cut_off, sensitivity, specificity]).T\n",
    "    roc_like_table.columns = ['cutoff', 'sensitivity', 'specificity']\n",
    "    roc_like_df = pd.concat([roc_like_df, roc_like_table], axis=0)\n",
    "\n",
    "radm_test_pred_prob.sum()"
   ]
  },
  {
   "cell_type": "code",
   "execution_count": 86,
   "metadata": {
    "ExecuteTime": {
     "end_time": "2021-02-28T06:37:12.731732Z",
     "start_time": "2021-02-28T06:37:12.723488Z"
    }
   },
   "outputs": [],
   "source": [
    "## Finding ideal cut-off for checking if this remains same in OOS validation\n",
    "roc_like_df['total'] = roc_like_df['sensitivity'] + roc_like_df['specificity']"
   ]
  },
  {
   "cell_type": "code",
   "execution_count": 87,
   "metadata": {
    "ExecuteTime": {
     "end_time": "2021-02-28T06:37:13.166573Z",
     "start_time": "2021-02-28T06:37:12.733709Z"
    }
   },
   "outputs": [
    {
     "data": {
      "text/html": [
       "<div>\n",
       "<style scoped>\n",
       "    .dataframe tbody tr th:only-of-type {\n",
       "        vertical-align: middle;\n",
       "    }\n",
       "\n",
       "    .dataframe tbody tr th {\n",
       "        vertical-align: top;\n",
       "    }\n",
       "\n",
       "    .dataframe thead th {\n",
       "        text-align: right;\n",
       "    }\n",
       "</style>\n",
       "<table border=\"1\" class=\"dataframe\">\n",
       "  <thead>\n",
       "    <tr style=\"text-align: right;\">\n",
       "      <th></th>\n",
       "      <th>cutoff</th>\n",
       "      <th>sensitivity</th>\n",
       "      <th>specificity</th>\n",
       "      <th>total</th>\n",
       "    </tr>\n",
       "  </thead>\n",
       "  <tbody>\n",
       "    <tr>\n",
       "      <th>0</th>\n",
       "      <td>0.000000</td>\n",
       "      <td>1.000000</td>\n",
       "      <td>0.000000</td>\n",
       "      <td>1.000000</td>\n",
       "    </tr>\n",
       "    <tr>\n",
       "      <th>0</th>\n",
       "      <td>0.020408</td>\n",
       "      <td>0.999915</td>\n",
       "      <td>0.007330</td>\n",
       "      <td>1.007245</td>\n",
       "    </tr>\n",
       "    <tr>\n",
       "      <th>0</th>\n",
       "      <td>0.040816</td>\n",
       "      <td>0.999234</td>\n",
       "      <td>0.015970</td>\n",
       "      <td>1.015204</td>\n",
       "    </tr>\n",
       "    <tr>\n",
       "      <th>0</th>\n",
       "      <td>0.061224</td>\n",
       "      <td>0.998553</td>\n",
       "      <td>0.030980</td>\n",
       "      <td>1.029533</td>\n",
       "    </tr>\n",
       "    <tr>\n",
       "      <th>0</th>\n",
       "      <td>0.081633</td>\n",
       "      <td>0.997361</td>\n",
       "      <td>0.053059</td>\n",
       "      <td>1.050419</td>\n",
       "    </tr>\n",
       "    <tr>\n",
       "      <th>0</th>\n",
       "      <td>0.102041</td>\n",
       "      <td>0.996424</td>\n",
       "      <td>0.081683</td>\n",
       "      <td>1.078107</td>\n",
       "    </tr>\n",
       "    <tr>\n",
       "      <th>0</th>\n",
       "      <td>0.122449</td>\n",
       "      <td>0.995062</td>\n",
       "      <td>0.113797</td>\n",
       "      <td>1.108859</td>\n",
       "    </tr>\n",
       "    <tr>\n",
       "      <th>0</th>\n",
       "      <td>0.142857</td>\n",
       "      <td>0.993529</td>\n",
       "      <td>0.149053</td>\n",
       "      <td>1.142582</td>\n",
       "    </tr>\n",
       "    <tr>\n",
       "      <th>0</th>\n",
       "      <td>0.163265</td>\n",
       "      <td>0.991826</td>\n",
       "      <td>0.190680</td>\n",
       "      <td>1.182506</td>\n",
       "    </tr>\n",
       "    <tr>\n",
       "      <th>0</th>\n",
       "      <td>0.183673</td>\n",
       "      <td>0.989357</td>\n",
       "      <td>0.233703</td>\n",
       "      <td>1.223060</td>\n",
       "    </tr>\n",
       "    <tr>\n",
       "      <th>0</th>\n",
       "      <td>0.204082</td>\n",
       "      <td>0.987143</td>\n",
       "      <td>0.279606</td>\n",
       "      <td>1.266749</td>\n",
       "    </tr>\n",
       "    <tr>\n",
       "      <th>0</th>\n",
       "      <td>0.224490</td>\n",
       "      <td>0.985185</td>\n",
       "      <td>0.329261</td>\n",
       "      <td>1.314446</td>\n",
       "    </tr>\n",
       "    <tr>\n",
       "      <th>0</th>\n",
       "      <td>0.244898</td>\n",
       "      <td>0.982290</td>\n",
       "      <td>0.375600</td>\n",
       "      <td>1.357890</td>\n",
       "    </tr>\n",
       "    <tr>\n",
       "      <th>0</th>\n",
       "      <td>0.265306</td>\n",
       "      <td>0.978118</td>\n",
       "      <td>0.421852</td>\n",
       "      <td>1.399970</td>\n",
       "    </tr>\n",
       "    <tr>\n",
       "      <th>0</th>\n",
       "      <td>0.285714</td>\n",
       "      <td>0.973180</td>\n",
       "      <td>0.468365</td>\n",
       "      <td>1.441546</td>\n",
       "    </tr>\n",
       "    <tr>\n",
       "      <th>0</th>\n",
       "      <td>0.306122</td>\n",
       "      <td>0.969093</td>\n",
       "      <td>0.513919</td>\n",
       "      <td>1.483012</td>\n",
       "    </tr>\n",
       "    <tr>\n",
       "      <th>0</th>\n",
       "      <td>0.326531</td>\n",
       "      <td>0.962367</td>\n",
       "      <td>0.559909</td>\n",
       "      <td>1.522276</td>\n",
       "    </tr>\n",
       "    <tr>\n",
       "      <th>0</th>\n",
       "      <td>0.346939</td>\n",
       "      <td>0.956577</td>\n",
       "      <td>0.602845</td>\n",
       "      <td>1.559422</td>\n",
       "    </tr>\n",
       "    <tr>\n",
       "      <th>0</th>\n",
       "      <td>0.367347</td>\n",
       "      <td>0.952065</td>\n",
       "      <td>0.645955</td>\n",
       "      <td>1.598020</td>\n",
       "    </tr>\n",
       "    <tr>\n",
       "      <th>0</th>\n",
       "      <td>0.387755</td>\n",
       "      <td>0.948404</td>\n",
       "      <td>0.685487</td>\n",
       "      <td>1.633891</td>\n",
       "    </tr>\n",
       "    <tr>\n",
       "      <th>0</th>\n",
       "      <td>0.408163</td>\n",
       "      <td>0.943465</td>\n",
       "      <td>0.720744</td>\n",
       "      <td>1.664209</td>\n",
       "    </tr>\n",
       "    <tr>\n",
       "      <th>0</th>\n",
       "      <td>0.428571</td>\n",
       "      <td>0.936909</td>\n",
       "      <td>0.755476</td>\n",
       "      <td>1.692385</td>\n",
       "    </tr>\n",
       "    <tr>\n",
       "      <th>0</th>\n",
       "      <td>0.448980</td>\n",
       "      <td>0.933248</td>\n",
       "      <td>0.787940</td>\n",
       "      <td>1.721188</td>\n",
       "    </tr>\n",
       "    <tr>\n",
       "      <th>0</th>\n",
       "      <td>0.469388</td>\n",
       "      <td>0.929161</td>\n",
       "      <td>0.817349</td>\n",
       "      <td>1.746510</td>\n",
       "    </tr>\n",
       "    <tr>\n",
       "      <th>0</th>\n",
       "      <td>0.489796</td>\n",
       "      <td>0.924053</td>\n",
       "      <td>0.844751</td>\n",
       "      <td>1.768804</td>\n",
       "    </tr>\n",
       "    <tr>\n",
       "      <th>0</th>\n",
       "      <td>0.510204</td>\n",
       "      <td>0.917156</td>\n",
       "      <td>0.876778</td>\n",
       "      <td>1.793934</td>\n",
       "    </tr>\n",
       "    <tr>\n",
       "      <th>0</th>\n",
       "      <td>0.530612</td>\n",
       "      <td>0.914176</td>\n",
       "      <td>0.896239</td>\n",
       "      <td>1.810415</td>\n",
       "    </tr>\n",
       "    <tr>\n",
       "      <th>0</th>\n",
       "      <td>0.551020</td>\n",
       "      <td>0.909153</td>\n",
       "      <td>0.914478</td>\n",
       "      <td>1.823631</td>\n",
       "    </tr>\n",
       "    <tr>\n",
       "      <th>0</th>\n",
       "      <td>0.571429</td>\n",
       "      <td>0.905917</td>\n",
       "      <td>0.930360</td>\n",
       "      <td>1.836278</td>\n",
       "    </tr>\n",
       "    <tr>\n",
       "      <th>0</th>\n",
       "      <td>0.591837</td>\n",
       "      <td>0.902171</td>\n",
       "      <td>0.942316</td>\n",
       "      <td>1.844487</td>\n",
       "    </tr>\n",
       "    <tr>\n",
       "      <th>0</th>\n",
       "      <td>0.612245</td>\n",
       "      <td>0.898595</td>\n",
       "      <td>0.953835</td>\n",
       "      <td>1.852431</td>\n",
       "    </tr>\n",
       "    <tr>\n",
       "      <th>0</th>\n",
       "      <td>0.632653</td>\n",
       "      <td>0.893231</td>\n",
       "      <td>0.963784</td>\n",
       "      <td>1.857015</td>\n",
       "    </tr>\n",
       "    <tr>\n",
       "      <th>0</th>\n",
       "      <td>0.653061</td>\n",
       "      <td>0.887867</td>\n",
       "      <td>0.970853</td>\n",
       "      <td>1.858720</td>\n",
       "    </tr>\n",
       "    <tr>\n",
       "      <th>0</th>\n",
       "      <td>0.673469</td>\n",
       "      <td>0.879693</td>\n",
       "      <td>0.976961</td>\n",
       "      <td>1.856655</td>\n",
       "    </tr>\n",
       "    <tr>\n",
       "      <th>0</th>\n",
       "      <td>0.693878</td>\n",
       "      <td>0.868029</td>\n",
       "      <td>0.982721</td>\n",
       "      <td>1.850750</td>\n",
       "    </tr>\n",
       "    <tr>\n",
       "      <th>0</th>\n",
       "      <td>0.714286</td>\n",
       "      <td>0.851256</td>\n",
       "      <td>0.986823</td>\n",
       "      <td>1.838078</td>\n",
       "    </tr>\n",
       "    <tr>\n",
       "      <th>0</th>\n",
       "      <td>0.734694</td>\n",
       "      <td>0.827756</td>\n",
       "      <td>0.990488</td>\n",
       "      <td>1.818244</td>\n",
       "    </tr>\n",
       "    <tr>\n",
       "      <th>0</th>\n",
       "      <td>0.755102</td>\n",
       "      <td>0.805449</td>\n",
       "      <td>0.992757</td>\n",
       "      <td>1.798206</td>\n",
       "    </tr>\n",
       "    <tr>\n",
       "      <th>0</th>\n",
       "      <td>0.775510</td>\n",
       "      <td>0.779651</td>\n",
       "      <td>0.994240</td>\n",
       "      <td>1.773891</td>\n",
       "    </tr>\n",
       "    <tr>\n",
       "      <th>0</th>\n",
       "      <td>0.795918</td>\n",
       "      <td>0.749340</td>\n",
       "      <td>0.995898</td>\n",
       "      <td>1.745239</td>\n",
       "    </tr>\n",
       "    <tr>\n",
       "      <th>0</th>\n",
       "      <td>0.816327</td>\n",
       "      <td>0.720732</td>\n",
       "      <td>0.996684</td>\n",
       "      <td>1.717416</td>\n",
       "    </tr>\n",
       "    <tr>\n",
       "      <th>0</th>\n",
       "      <td>0.836735</td>\n",
       "      <td>0.697744</td>\n",
       "      <td>0.997906</td>\n",
       "      <td>1.695649</td>\n",
       "    </tr>\n",
       "    <tr>\n",
       "      <th>0</th>\n",
       "      <td>0.857143</td>\n",
       "      <td>0.674159</td>\n",
       "      <td>0.998342</td>\n",
       "      <td>1.672501</td>\n",
       "    </tr>\n",
       "    <tr>\n",
       "      <th>0</th>\n",
       "      <td>0.877551</td>\n",
       "      <td>0.640613</td>\n",
       "      <td>0.999215</td>\n",
       "      <td>1.639828</td>\n",
       "    </tr>\n",
       "    <tr>\n",
       "      <th>0</th>\n",
       "      <td>0.897959</td>\n",
       "      <td>0.596083</td>\n",
       "      <td>0.999564</td>\n",
       "      <td>1.595647</td>\n",
       "    </tr>\n",
       "    <tr>\n",
       "      <th>0</th>\n",
       "      <td>0.918367</td>\n",
       "      <td>0.539974</td>\n",
       "      <td>0.999825</td>\n",
       "      <td>1.539800</td>\n",
       "    </tr>\n",
       "    <tr>\n",
       "      <th>0</th>\n",
       "      <td>0.938776</td>\n",
       "      <td>0.468114</td>\n",
       "      <td>0.999913</td>\n",
       "      <td>1.468027</td>\n",
       "    </tr>\n",
       "    <tr>\n",
       "      <th>0</th>\n",
       "      <td>0.959184</td>\n",
       "      <td>0.378459</td>\n",
       "      <td>1.000000</td>\n",
       "      <td>1.378459</td>\n",
       "    </tr>\n",
       "    <tr>\n",
       "      <th>0</th>\n",
       "      <td>0.979592</td>\n",
       "      <td>0.265390</td>\n",
       "      <td>1.000000</td>\n",
       "      <td>1.265390</td>\n",
       "    </tr>\n",
       "    <tr>\n",
       "      <th>0</th>\n",
       "      <td>1.000000</td>\n",
       "      <td>0.104640</td>\n",
       "      <td>1.000000</td>\n",
       "      <td>1.104640</td>\n",
       "    </tr>\n",
       "  </tbody>\n",
       "</table>\n",
       "</div>"
      ],
      "text/plain": [
       "     cutoff  sensitivity  specificity     total\n",
       "0  0.000000     1.000000     0.000000  1.000000\n",
       "0  0.020408     0.999915     0.007330  1.007245\n",
       "0  0.040816     0.999234     0.015970  1.015204\n",
       "0  0.061224     0.998553     0.030980  1.029533\n",
       "0  0.081633     0.997361     0.053059  1.050419\n",
       "0  0.102041     0.996424     0.081683  1.078107\n",
       "0  0.122449     0.995062     0.113797  1.108859\n",
       "0  0.142857     0.993529     0.149053  1.142582\n",
       "0  0.163265     0.991826     0.190680  1.182506\n",
       "0  0.183673     0.989357     0.233703  1.223060\n",
       "0  0.204082     0.987143     0.279606  1.266749\n",
       "0  0.224490     0.985185     0.329261  1.314446\n",
       "0  0.244898     0.982290     0.375600  1.357890\n",
       "0  0.265306     0.978118     0.421852  1.399970\n",
       "0  0.285714     0.973180     0.468365  1.441546\n",
       "0  0.306122     0.969093     0.513919  1.483012\n",
       "0  0.326531     0.962367     0.559909  1.522276\n",
       "0  0.346939     0.956577     0.602845  1.559422\n",
       "0  0.367347     0.952065     0.645955  1.598020\n",
       "0  0.387755     0.948404     0.685487  1.633891\n",
       "0  0.408163     0.943465     0.720744  1.664209\n",
       "0  0.428571     0.936909     0.755476  1.692385\n",
       "0  0.448980     0.933248     0.787940  1.721188\n",
       "0  0.469388     0.929161     0.817349  1.746510\n",
       "0  0.489796     0.924053     0.844751  1.768804\n",
       "0  0.510204     0.917156     0.876778  1.793934\n",
       "0  0.530612     0.914176     0.896239  1.810415\n",
       "0  0.551020     0.909153     0.914478  1.823631\n",
       "0  0.571429     0.905917     0.930360  1.836278\n",
       "0  0.591837     0.902171     0.942316  1.844487\n",
       "0  0.612245     0.898595     0.953835  1.852431\n",
       "0  0.632653     0.893231     0.963784  1.857015\n",
       "0  0.653061     0.887867     0.970853  1.858720\n",
       "0  0.673469     0.879693     0.976961  1.856655\n",
       "0  0.693878     0.868029     0.982721  1.850750\n",
       "0  0.714286     0.851256     0.986823  1.838078\n",
       "0  0.734694     0.827756     0.990488  1.818244\n",
       "0  0.755102     0.805449     0.992757  1.798206\n",
       "0  0.775510     0.779651     0.994240  1.773891\n",
       "0  0.795918     0.749340     0.995898  1.745239\n",
       "0  0.816327     0.720732     0.996684  1.717416\n",
       "0  0.836735     0.697744     0.997906  1.695649\n",
       "0  0.857143     0.674159     0.998342  1.672501\n",
       "0  0.877551     0.640613     0.999215  1.639828\n",
       "0  0.897959     0.596083     0.999564  1.595647\n",
       "0  0.918367     0.539974     0.999825  1.539800\n",
       "0  0.938776     0.468114     0.999913  1.468027\n",
       "0  0.959184     0.378459     1.000000  1.378459\n",
       "0  0.979592     0.265390     1.000000  1.265390\n",
       "0  1.000000     0.104640     1.000000  1.104640"
      ]
     },
     "execution_count": 87,
     "metadata": {},
     "output_type": "execute_result"
    }
   ],
   "source": [
    "roc_like_df"
   ]
  },
  {
   "cell_type": "code",
   "execution_count": 88,
   "metadata": {
    "ExecuteTime": {
     "end_time": "2021-02-28T06:37:17.250887Z",
     "start_time": "2021-02-28T06:37:13.170696Z"
    }
   },
   "outputs": [],
   "source": [
    "radm_train_pred = pd.DataFrame( { 'actual':  train_y,\n",
    "                            'prob': radm_reg.predict_proba(train_X)[:,1] } )\n",
    "radm_train_pred['predicted'] = radm_train_pred['prob'].apply(lambda x: 1 if x > 0.551020 else 0)"
   ]
  },
  {
   "cell_type": "code",
   "execution_count": 89,
   "metadata": {
    "ExecuteTime": {
     "end_time": "2021-02-28T06:37:18.992773Z",
     "start_time": "2021-02-28T06:37:17.252913Z"
    }
   },
   "outputs": [],
   "source": [
    "radm_test_pred = pd.DataFrame( { 'actual':  test_y,\n",
    "                            'prob': radm_reg.predict_proba(test_X)[:,1] } )\n",
    "radm_test_pred['predicted'] = radm_test_pred['prob'].apply(lambda x: 1 if x > 0.551020 else 0)\n"
   ]
  },
  {
   "cell_type": "code",
   "execution_count": 90,
   "metadata": {
    "ExecuteTime": {
     "end_time": "2021-02-28T06:37:19.412995Z",
     "start_time": "2021-02-28T06:37:18.996446Z"
    }
   },
   "outputs": [
    {
     "data": {
      "text/plain": [
       "Text(0.5, 15.0, 'Predicted label')"
      ]
     },
     "execution_count": 90,
     "metadata": {},
     "output_type": "execute_result"
    },
    {
     "data": {
      "image/png": "[encoded data removed]",
      "text/plain": [
       "<Figure size 432x288 with 2 Axes>"
      ]
     },
     "metadata": {
      "needs_background": "light"
     },
     "output_type": "display_data"
    }
   ],
   "source": [
    "rdf_cm_train = metrics.confusion_matrix( radm_train_pred.actual,\n",
    "                                 radm_train_pred.predicted)\n",
    "sns.heatmap(rdf_cm_train, annot=True,\n",
    "         fmt='.2f',\n",
    "         xticklabels = [\"No Response\",\"Response\"] , yticklabels = [\"No Response\",\"Response\"] )\n",
    "\n",
    "plt.ylabel('True label')\n",
    "plt.xlabel('Predicted label')"
   ]
  },
  {
   "cell_type": "code",
   "execution_count": 91,
   "metadata": {
    "ExecuteTime": {
     "end_time": "2021-02-28T06:37:19.525247Z",
     "start_time": "2021-02-28T06:37:19.417724Z"
    }
   },
   "outputs": [],
   "source": [
    "tn, fp, fn, tp =  metrics.confusion_matrix( radm_train_pred.actual,radm_train_pred.predicted).ravel()"
   ]
  },
  {
   "cell_type": "code",
   "execution_count": 92,
   "metadata": {
    "ExecuteTime": {
     "end_time": "2021-02-28T06:37:19.545554Z",
     "start_time": "2021-02-28T06:37:19.525247Z"
    }
   },
   "outputs": [
    {
     "name": "stdout",
     "output_type": "stream",
     "text": [
      "The Senstivity for train is : 0.9999628639334521\n",
      "The Specificity for train is : 1.0\n"
     ]
    }
   ],
   "source": [
    "# For train\n",
    "Sens_train = tp/(tp+fn)\n",
    "Spec_train = tn/(tn+fp)\n",
    "print(\"The Senstivity for train is :\",Sens_train)\n",
    "print(\"The Specificity for train is :\",Spec_train)"
   ]
  },
  {
   "cell_type": "code",
   "execution_count": 93,
   "metadata": {
    "ExecuteTime": {
     "end_time": "2021-02-28T06:37:19.963556Z",
     "start_time": "2021-02-28T06:37:19.549466Z"
    }
   },
   "outputs": [
    {
     "data": {
      "text/plain": [
       "Text(0.5, 15.0, 'Predicted label')"
      ]
     },
     "execution_count": 93,
     "metadata": {},
     "output_type": "execute_result"
    },
    {
     "data": {
      "image/png": "[encoded data removed]",
      "text/plain": [
       "<Figure size 432x288 with 2 Axes>"
      ]
     },
     "metadata": {
      "needs_background": "light"
     },
     "output_type": "display_data"
    }
   ],
   "source": [
    "radm_cm_test = metrics.confusion_matrix( radm_test_pred.actual,\n",
    "                                 radm_test_pred.predicted)\n",
    "sns.heatmap(radm_cm_test, annot=True,\n",
    "         fmt='.2f',\n",
    "         xticklabels = [\"No Response\",\"Response\"] , yticklabels = [\"No Response\",\"Response\"] )\n",
    "\n",
    "plt.ylabel('True label')\n",
    "plt.xlabel('Predicted label')"
   ]
  },
  {
   "cell_type": "code",
   "execution_count": 94,
   "metadata": {
    "ExecuteTime": {
     "end_time": "2021-02-28T06:37:20.026364Z",
     "start_time": "2021-02-28T06:37:19.968415Z"
    }
   },
   "outputs": [],
   "source": [
    "tn, fp, fn, tp =  metrics.confusion_matrix( radm_test_pred.actual,radm_test_pred.predicted).ravel()"
   ]
  },
  {
   "cell_type": "code",
   "execution_count": 95,
   "metadata": {
    "ExecuteTime": {
     "end_time": "2021-02-28T06:37:20.069704Z",
     "start_time": "2021-02-28T06:37:20.029972Z"
    }
   },
   "outputs": [
    {
     "name": "stdout",
     "output_type": "stream",
     "text": [
      "The Senstivity for train is : 0.9091528309919115\n",
      "The Specificity for train is : 0.9144777031154551\n"
     ]
    }
   ],
   "source": [
    "# For test\n",
    "Sens_test = tp/(tp+fn)\n",
    "Spec_test = tn/(tn+fp)\n",
    "print(\"The Senstivity for train is :\",Sens_test)\n",
    "print(\"The Specificity for train is :\",Spec_test)\n"
   ]
  },
  {
   "cell_type": "code",
   "execution_count": 96,
   "metadata": {
    "ExecuteTime": {
     "end_time": "2021-02-28T06:37:20.145678Z",
     "start_time": "2021-02-28T06:37:20.074204Z"
    }
   },
   "outputs": [],
   "source": [
    "from sklearn.model_selection import GridSearchCV"
   ]
  },
  {
   "cell_type": "code",
   "execution_count": 97,
   "metadata": {
    "ExecuteTime": {
     "end_time": "2021-02-28T06:37:20.261163Z",
     "start_time": "2021-02-28T06:37:20.151290Z"
    }
   },
   "outputs": [],
   "source": [
    "from sklearn.neighbors import KNeighborsClassifier"
   ]
  },
  {
   "cell_type": "code",
   "execution_count": 98,
   "metadata": {
    "ExecuteTime": {
     "end_time": "2021-02-28T06:39:54.478341Z",
     "start_time": "2021-02-28T06:37:20.266588Z"
    }
   },
   "outputs": [
    {
     "data": {
      "text/plain": [
       "GridSearchCV(cv=5, estimator=KNeighborsClassifier(),\n",
       "             param_grid=[{'n_neighbors': [3, 5, 7, 9, 11, 13]}])"
      ]
     },
     "execution_count": 98,
     "metadata": {},
     "output_type": "execute_result"
    }
   ],
   "source": [
    "tuned_parameters = [{'n_neighbors': [3,5, 7, 9,11,13]}]\n",
    "\n",
    "knn_clf = GridSearchCV(KNeighborsClassifier(),\n",
    "                   tuned_parameters,\n",
    "                   cv=5)\n",
    "knn_clf.fit(train_X,train_y)"
   ]
  },
  {
   "cell_type": "code",
   "execution_count": 99,
   "metadata": {
    "ExecuteTime": {
     "end_time": "2021-02-28T06:39:54.499347Z",
     "start_time": "2021-02-28T06:39:54.482176Z"
    }
   },
   "outputs": [
    {
     "data": {
      "text/plain": [
       "{'n_neighbors': 3}"
      ]
     },
     "execution_count": 99,
     "metadata": {},
     "output_type": "execute_result"
    }
   ],
   "source": [
    "knn_clf.best_params_"
   ]
  },
  {
   "cell_type": "code",
   "execution_count": 100,
   "metadata": {
    "ExecuteTime": {
     "end_time": "2021-02-28T06:39:58.907042Z",
     "start_time": "2021-02-28T06:39:54.501342Z"
    }
   },
   "outputs": [
    {
     "data": {
      "text/plain": [
       "KNeighborsClassifier(n_neighbors=3)"
      ]
     },
     "execution_count": 100,
     "metadata": {},
     "output_type": "execute_result"
    }
   ],
   "source": [
    "knn_clf = KNeighborsClassifier(n_neighbors=3)\n",
    "knn_clf.fit(train_X,train_y )\n"
   ]
  },
  {
   "cell_type": "code",
   "execution_count": 101,
   "metadata": {
    "ExecuteTime": {
     "end_time": "2021-02-28T06:39:58.973631Z",
     "start_time": "2021-02-28T06:39:58.911475Z"
    }
   },
   "outputs": [
    {
     "data": {
      "text/html": [
       "<div>\n",
       "<style scoped>\n",
       "    .dataframe tbody tr th:only-of-type {\n",
       "        vertical-align: middle;\n",
       "    }\n",
       "\n",
       "    .dataframe tbody tr th {\n",
       "        vertical-align: top;\n",
       "    }\n",
       "\n",
       "    .dataframe thead th {\n",
       "        text-align: right;\n",
       "    }\n",
       "</style>\n",
       "<table border=\"1\" class=\"dataframe\">\n",
       "  <thead>\n",
       "    <tr style=\"text-align: right;\">\n",
       "      <th></th>\n",
       "      <th>Reco_Policy_Premium</th>\n",
       "      <th>Mean_Age</th>\n",
       "      <th>Region_Code</th>\n",
       "      <th>City_Code_C10</th>\n",
       "      <th>City_Code_C11</th>\n",
       "      <th>City_Code_C12</th>\n",
       "      <th>City_Code_C13</th>\n",
       "      <th>City_Code_C14</th>\n",
       "      <th>City_Code_C15</th>\n",
       "      <th>City_Code_C16</th>\n",
       "      <th>...</th>\n",
       "      <th>Reco_Policy_Cat_13</th>\n",
       "      <th>Reco_Policy_Cat_14</th>\n",
       "      <th>Reco_Policy_Cat_15</th>\n",
       "      <th>Reco_Policy_Cat_16</th>\n",
       "      <th>Reco_Policy_Cat_17</th>\n",
       "      <th>Reco_Policy_Cat_18</th>\n",
       "      <th>Reco_Policy_Cat_19</th>\n",
       "      <th>Reco_Policy_Cat_20</th>\n",
       "      <th>Reco_Policy_Cat_21</th>\n",
       "      <th>Reco_Policy_Cat_22</th>\n",
       "    </tr>\n",
       "  </thead>\n",
       "  <tbody>\n",
       "    <tr>\n",
       "      <th>33412</th>\n",
       "      <td>9104.0</td>\n",
       "      <td>43.0</td>\n",
       "      <td>308</td>\n",
       "      <td>0</td>\n",
       "      <td>0</td>\n",
       "      <td>0</td>\n",
       "      <td>0</td>\n",
       "      <td>0</td>\n",
       "      <td>0</td>\n",
       "      <td>0</td>\n",
       "      <td>...</td>\n",
       "      <td>0</td>\n",
       "      <td>0</td>\n",
       "      <td>0</td>\n",
       "      <td>0</td>\n",
       "      <td>0</td>\n",
       "      <td>1</td>\n",
       "      <td>0</td>\n",
       "      <td>0</td>\n",
       "      <td>0</td>\n",
       "      <td>0</td>\n",
       "    </tr>\n",
       "    <tr>\n",
       "      <th>45809</th>\n",
       "      <td>5096.0</td>\n",
       "      <td>24.0</td>\n",
       "      <td>1939</td>\n",
       "      <td>0</td>\n",
       "      <td>0</td>\n",
       "      <td>0</td>\n",
       "      <td>0</td>\n",
       "      <td>0</td>\n",
       "      <td>0</td>\n",
       "      <td>0</td>\n",
       "      <td>...</td>\n",
       "      <td>0</td>\n",
       "      <td>0</td>\n",
       "      <td>0</td>\n",
       "      <td>0</td>\n",
       "      <td>1</td>\n",
       "      <td>0</td>\n",
       "      <td>0</td>\n",
       "      <td>0</td>\n",
       "      <td>0</td>\n",
       "      <td>0</td>\n",
       "    </tr>\n",
       "    <tr>\n",
       "      <th>21125</th>\n",
       "      <td>16172.0</td>\n",
       "      <td>59.0</td>\n",
       "      <td>70</td>\n",
       "      <td>0</td>\n",
       "      <td>0</td>\n",
       "      <td>0</td>\n",
       "      <td>0</td>\n",
       "      <td>0</td>\n",
       "      <td>0</td>\n",
       "      <td>0</td>\n",
       "      <td>...</td>\n",
       "      <td>0</td>\n",
       "      <td>0</td>\n",
       "      <td>0</td>\n",
       "      <td>0</td>\n",
       "      <td>0</td>\n",
       "      <td>0</td>\n",
       "      <td>0</td>\n",
       "      <td>0</td>\n",
       "      <td>0</td>\n",
       "      <td>1</td>\n",
       "    </tr>\n",
       "    <tr>\n",
       "      <th>23694</th>\n",
       "      <td>22458.8</td>\n",
       "      <td>63.0</td>\n",
       "      <td>1435</td>\n",
       "      <td>0</td>\n",
       "      <td>0</td>\n",
       "      <td>0</td>\n",
       "      <td>0</td>\n",
       "      <td>0</td>\n",
       "      <td>0</td>\n",
       "      <td>0</td>\n",
       "      <td>...</td>\n",
       "      <td>0</td>\n",
       "      <td>0</td>\n",
       "      <td>1</td>\n",
       "      <td>0</td>\n",
       "      <td>0</td>\n",
       "      <td>0</td>\n",
       "      <td>0</td>\n",
       "      <td>0</td>\n",
       "      <td>0</td>\n",
       "      <td>0</td>\n",
       "    </tr>\n",
       "    <tr>\n",
       "      <th>8020</th>\n",
       "      <td>13948.0</td>\n",
       "      <td>51.0</td>\n",
       "      <td>3101</td>\n",
       "      <td>0</td>\n",
       "      <td>0</td>\n",
       "      <td>0</td>\n",
       "      <td>0</td>\n",
       "      <td>0</td>\n",
       "      <td>0</td>\n",
       "      <td>0</td>\n",
       "      <td>...</td>\n",
       "      <td>0</td>\n",
       "      <td>0</td>\n",
       "      <td>0</td>\n",
       "      <td>1</td>\n",
       "      <td>0</td>\n",
       "      <td>0</td>\n",
       "      <td>0</td>\n",
       "      <td>0</td>\n",
       "      <td>0</td>\n",
       "      <td>0</td>\n",
       "    </tr>\n",
       "    <tr>\n",
       "      <th>...</th>\n",
       "      <td>...</td>\n",
       "      <td>...</td>\n",
       "      <td>...</td>\n",
       "      <td>...</td>\n",
       "      <td>...</td>\n",
       "      <td>...</td>\n",
       "      <td>...</td>\n",
       "      <td>...</td>\n",
       "      <td>...</td>\n",
       "      <td>...</td>\n",
       "      <td>...</td>\n",
       "      <td>...</td>\n",
       "      <td>...</td>\n",
       "      <td>...</td>\n",
       "      <td>...</td>\n",
       "      <td>...</td>\n",
       "      <td>...</td>\n",
       "      <td>...</td>\n",
       "      <td>...</td>\n",
       "      <td>...</td>\n",
       "      <td>...</td>\n",
       "    </tr>\n",
       "    <tr>\n",
       "      <th>17012</th>\n",
       "      <td>9600.0</td>\n",
       "      <td>45.0</td>\n",
       "      <td>2975</td>\n",
       "      <td>0</td>\n",
       "      <td>0</td>\n",
       "      <td>0</td>\n",
       "      <td>0</td>\n",
       "      <td>0</td>\n",
       "      <td>0</td>\n",
       "      <td>0</td>\n",
       "      <td>...</td>\n",
       "      <td>0</td>\n",
       "      <td>1</td>\n",
       "      <td>0</td>\n",
       "      <td>0</td>\n",
       "      <td>0</td>\n",
       "      <td>0</td>\n",
       "      <td>0</td>\n",
       "      <td>0</td>\n",
       "      <td>0</td>\n",
       "      <td>0</td>\n",
       "    </tr>\n",
       "    <tr>\n",
       "      <th>9455</th>\n",
       "      <td>3840.0</td>\n",
       "      <td>23.0</td>\n",
       "      <td>112</td>\n",
       "      <td>0</td>\n",
       "      <td>0</td>\n",
       "      <td>0</td>\n",
       "      <td>0</td>\n",
       "      <td>0</td>\n",
       "      <td>0</td>\n",
       "      <td>0</td>\n",
       "      <td>...</td>\n",
       "      <td>0</td>\n",
       "      <td>0</td>\n",
       "      <td>0</td>\n",
       "      <td>0</td>\n",
       "      <td>0</td>\n",
       "      <td>0</td>\n",
       "      <td>0</td>\n",
       "      <td>0</td>\n",
       "      <td>0</td>\n",
       "      <td>1</td>\n",
       "    </tr>\n",
       "    <tr>\n",
       "      <th>32719</th>\n",
       "      <td>9212.0</td>\n",
       "      <td>37.0</td>\n",
       "      <td>1403</td>\n",
       "      <td>0</td>\n",
       "      <td>0</td>\n",
       "      <td>0</td>\n",
       "      <td>0</td>\n",
       "      <td>0</td>\n",
       "      <td>0</td>\n",
       "      <td>0</td>\n",
       "      <td>...</td>\n",
       "      <td>0</td>\n",
       "      <td>0</td>\n",
       "      <td>1</td>\n",
       "      <td>0</td>\n",
       "      <td>0</td>\n",
       "      <td>0</td>\n",
       "      <td>0</td>\n",
       "      <td>0</td>\n",
       "      <td>0</td>\n",
       "      <td>0</td>\n",
       "    </tr>\n",
       "    <tr>\n",
       "      <th>42553</th>\n",
       "      <td>4374.0</td>\n",
       "      <td>19.0</td>\n",
       "      <td>2798</td>\n",
       "      <td>0</td>\n",
       "      <td>0</td>\n",
       "      <td>0</td>\n",
       "      <td>0</td>\n",
       "      <td>0</td>\n",
       "      <td>1</td>\n",
       "      <td>0</td>\n",
       "      <td>...</td>\n",
       "      <td>0</td>\n",
       "      <td>0</td>\n",
       "      <td>0</td>\n",
       "      <td>0</td>\n",
       "      <td>0</td>\n",
       "      <td>0</td>\n",
       "      <td>0</td>\n",
       "      <td>0</td>\n",
       "      <td>0</td>\n",
       "      <td>1</td>\n",
       "    </tr>\n",
       "    <tr>\n",
       "      <th>4520</th>\n",
       "      <td>16716.0</td>\n",
       "      <td>75.0</td>\n",
       "      <td>510</td>\n",
       "      <td>0</td>\n",
       "      <td>0</td>\n",
       "      <td>0</td>\n",
       "      <td>0</td>\n",
       "      <td>0</td>\n",
       "      <td>0</td>\n",
       "      <td>0</td>\n",
       "      <td>...</td>\n",
       "      <td>0</td>\n",
       "      <td>0</td>\n",
       "      <td>0</td>\n",
       "      <td>0</td>\n",
       "      <td>0</td>\n",
       "      <td>0</td>\n",
       "      <td>0</td>\n",
       "      <td>0</td>\n",
       "      <td>0</td>\n",
       "      <td>0</td>\n",
       "    </tr>\n",
       "  </tbody>\n",
       "</table>\n",
       "<p>54142 rows × 87 columns</p>\n",
       "</div>"
      ],
      "text/plain": [
       "       Reco_Policy_Premium  Mean_Age  Region_Code  City_Code_C10  \\\n",
       "33412               9104.0      43.0          308              0   \n",
       "45809               5096.0      24.0         1939              0   \n",
       "21125              16172.0      59.0           70              0   \n",
       "23694              22458.8      63.0         1435              0   \n",
       "8020               13948.0      51.0         3101              0   \n",
       "...                    ...       ...          ...            ...   \n",
       "17012               9600.0      45.0         2975              0   \n",
       "9455                3840.0      23.0          112              0   \n",
       "32719               9212.0      37.0         1403              0   \n",
       "42553               4374.0      19.0         2798              0   \n",
       "4520               16716.0      75.0          510              0   \n",
       "\n",
       "       City_Code_C11  City_Code_C12  City_Code_C13  City_Code_C14  \\\n",
       "33412              0              0              0              0   \n",
       "45809              0              0              0              0   \n",
       "21125              0              0              0              0   \n",
       "23694              0              0              0              0   \n",
       "8020               0              0              0              0   \n",
       "...              ...            ...            ...            ...   \n",
       "17012              0              0              0              0   \n",
       "9455               0              0              0              0   \n",
       "32719              0              0              0              0   \n",
       "42553              0              0              0              0   \n",
       "4520               0              0              0              0   \n",
       "\n",
       "       City_Code_C15  City_Code_C16  ...  Reco_Policy_Cat_13  \\\n",
       "33412              0              0  ...                   0   \n",
       "45809              0              0  ...                   0   \n",
       "21125              0              0  ...                   0   \n",
       "23694              0              0  ...                   0   \n",
       "8020               0              0  ...                   0   \n",
       "...              ...            ...  ...                 ...   \n",
       "17012              0              0  ...                   0   \n",
       "9455               0              0  ...                   0   \n",
       "32719              0              0  ...                   0   \n",
       "42553              1              0  ...                   0   \n",
       "4520               0              0  ...                   0   \n",
       "\n",
       "       Reco_Policy_Cat_14  Reco_Policy_Cat_15  Reco_Policy_Cat_16  \\\n",
       "33412                   0                   0                   0   \n",
       "45809                   0                   0                   0   \n",
       "21125                   0                   0                   0   \n",
       "23694                   0                   1                   0   \n",
       "8020                    0                   0                   1   \n",
       "...                   ...                 ...                 ...   \n",
       "17012                   1                   0                   0   \n",
       "9455                    0                   0                   0   \n",
       "32719                   0                   1                   0   \n",
       "42553                   0                   0                   0   \n",
       "4520                    0                   0                   0   \n",
       "\n",
       "       Reco_Policy_Cat_17  Reco_Policy_Cat_18  Reco_Policy_Cat_19  \\\n",
       "33412                   0                   1                   0   \n",
       "45809                   1                   0                   0   \n",
       "21125                   0                   0                   0   \n",
       "23694                   0                   0                   0   \n",
       "8020                    0                   0                   0   \n",
       "...                   ...                 ...                 ...   \n",
       "17012                   0                   0                   0   \n",
       "9455                    0                   0                   0   \n",
       "32719                   0                   0                   0   \n",
       "42553                   0                   0                   0   \n",
       "4520                    0                   0                   0   \n",
       "\n",
       "       Reco_Policy_Cat_20  Reco_Policy_Cat_21  Reco_Policy_Cat_22  \n",
       "33412                   0                   0                   0  \n",
       "45809                   0                   0                   0  \n",
       "21125                   0                   0                   1  \n",
       "23694                   0                   0                   0  \n",
       "8020                    0                   0                   0  \n",
       "...                   ...                 ...                 ...  \n",
       "17012                   0                   0                   0  \n",
       "9455                    0                   0                   1  \n",
       "32719                   0                   0                   0  \n",
       "42553                   0                   0                   1  \n",
       "4520                    0                   0                   0  \n",
       "\n",
       "[54142 rows x 87 columns]"
      ]
     },
     "execution_count": 101,
     "metadata": {},
     "output_type": "execute_result"
    }
   ],
   "source": [
    "train_X"
   ]
  },
  {
   "cell_type": "code",
   "execution_count": 102,
   "metadata": {
    "ExecuteTime": {
     "end_time": "2021-02-28T06:40:09.014632Z",
     "start_time": "2021-02-28T06:39:58.977401Z"
    }
   },
   "outputs": [
    {
     "name": "stdout",
     "output_type": "stream",
     "text": [
      "The Gini Index for the model built on the Train Data is :  0.7147476656814953\n",
      "The Gini Index for the model built on the Test Data is :  0.39095357312729995\n"
     ]
    }
   ],
   "source": [
    "train_gini = 2*metrics.roc_auc_score(train_y, knn_clf.predict(train_X)) - 1\n",
    "print(\"The Gini Index for the model built on the Train Data is : \", train_gini)\n",
    "\n",
    "test_gini = 2*metrics.roc_auc_score(test_y, knn_clf.predict(test_X)) - 1\n",
    "print(\"The Gini Index for the model built on the Test Data is : \", test_gini)"
   ]
  },
  {
   "cell_type": "code",
   "execution_count": 103,
   "metadata": {
    "ExecuteTime": {
     "end_time": "2021-02-28T06:40:09.983263Z",
     "start_time": "2021-02-28T06:40:09.020480Z"
    }
   },
   "outputs": [],
   "source": [
    "from xgboost import XGBClassifier"
   ]
  },
  {
   "cell_type": "code",
   "execution_count": 104,
   "metadata": {
    "ExecuteTime": {
     "end_time": "2021-02-28T06:40:10.028776Z",
     "start_time": "2021-02-28T06:40:09.990408Z"
    }
   },
   "outputs": [],
   "source": [
    "pargrid_adaxg = {'n_estimators': [100, 200, 400, 600, 800],\n",
    "               'learning_rate': [10 ** x for x in range(-3, 3)]}"
   ]
  },
  {
   "cell_type": "code",
   "execution_count": 105,
   "metadata": {
    "ExecuteTime": {
     "end_time": "2021-02-28T06:41:17.704193Z",
     "start_time": "2021-02-28T06:40:10.035176Z"
    }
   },
   "outputs": [
    {
     "name": "stderr",
     "output_type": "stream",
     "text": [
      "C:\\Users\\Anup w\\anaconda3\\lib\\site-packages\\xgboost\\sklearn.py:892: UserWarning: The use of label encoder in XGBClassifier is deprecated and will be removed in a future release. To remove this warning, do the following: 1) Pass option use_label_encoder=False when constructing XGBClassifier object; and 2) Encode your labels (y) as integers starting with 0, i.e. 0, 1, 2, ..., [num_class - 1].\n",
      "  warnings.warn(label_encoder_deprecation_msg, UserWarning)\n"
     ]
    },
    {
     "name": "stdout",
     "output_type": "stream",
     "text": [
      "[12:10:10] WARNING: C:/Users/Administrator/workspace/xgboost-win64_release_1.3.0/src/learner.cc:1061: Starting in XGBoost 1.3.0, the default evaluation metric used with the objective 'binary:logistic' was changed from 'error' to 'logloss'. Explicitly set eval_metric if you'd like to restore the old behavior.\n"
     ]
    },
    {
     "data": {
      "text/plain": [
       "XGBClassifier(base_score=0.5, booster='gbtree', colsample_bylevel=1,\n",
       "              colsample_bynode=1, colsample_bytree=1, gamma=0, gpu_id=-1,\n",
       "              importance_type='gain', interaction_constraints='',\n",
       "              learning_rate=1, max_delta_step=0, max_depth=6,\n",
       "              min_child_weight=1, missing=nan, monotone_constraints='()',\n",
       "              n_estimators=1000, n_jobs=8, num_parallel_tree=1, random_state=0,\n",
       "              reg_alpha=0, reg_lambda=1, scale_pos_weight=1, subsample=1,\n",
       "              tree_method='exact', validate_parameters=1, verbosity=None)"
      ]
     },
     "execution_count": 105,
     "metadata": {},
     "output_type": "execute_result"
    }
   ],
   "source": [
    "xgb_clf = XGBClassifier(learning_rate = 1,n_estimators = 1000) \n",
    "xgb_clf.fit(train_X, train_y)"
   ]
  },
  {
   "cell_type": "code",
   "execution_count": 106,
   "metadata": {
    "ExecuteTime": {
     "end_time": "2021-02-28T06:41:18.456471Z",
     "start_time": "2021-02-28T06:41:17.707114Z"
    }
   },
   "outputs": [
    {
     "name": "stdout",
     "output_type": "stream",
     "text": [
      "The Gini Index for the model built on the Train Data is :  1.0\n",
      "The Gini Index for the model built on the Test Data is :  0.7251722217225414\n"
     ]
    }
   ],
   "source": [
    "train_gini = 2*metrics.roc_auc_score(train_y, xgb_clf.predict(train_X)) - 1\n",
    "print(\"The Gini Index for the model built on the Train Data is : \", train_gini)\n",
    "\n",
    "test_gini = 2*metrics.roc_auc_score(test_y, xgb_clf.predict(test_X)) - 1\n",
    "print(\"The Gini Index for the model built on the Test Data is : \", test_gini)"
   ]
  },
  {
   "cell_type": "code",
   "execution_count": 107,
   "metadata": {
    "ExecuteTime": {
     "end_time": "2021-02-28T06:41:18.971360Z",
     "start_time": "2021-02-28T06:41:18.459689Z"
    }
   },
   "outputs": [],
   "source": [
    "xgb_train_pred = pd.DataFrame( { 'actual':  train_y,\n",
    "                            'predicted': xgb_clf.predict( train_X ) } )\n"
   ]
  },
  {
   "cell_type": "code",
   "execution_count": 108,
   "metadata": {
    "ExecuteTime": {
     "end_time": "2021-02-28T06:41:19.192407Z",
     "start_time": "2021-02-28T06:41:18.974353Z"
    }
   },
   "outputs": [],
   "source": [
    "\n",
    "xgb_test_pred = pd.DataFrame( { 'actual':  test_y,\n",
    "                            'predicted': xgb_clf.predict(test_X) } )"
   ]
  },
  {
   "cell_type": "code",
   "execution_count": 109,
   "metadata": {
    "ExecuteTime": {
     "end_time": "2021-02-28T06:41:19.602068Z",
     "start_time": "2021-02-28T06:41:19.194405Z"
    }
   },
   "outputs": [
    {
     "data": {
      "text/plain": [
       "Text(0.5, 15.0, 'Predicted label')"
      ]
     },
     "execution_count": 109,
     "metadata": {},
     "output_type": "execute_result"
    },
    {
     "data": {
      "image/png": "[encoded data removed]",
      "text/plain": [
       "<Figure size 432x288 with 2 Axes>"
      ]
     },
     "metadata": {
      "needs_background": "light"
     },
     "output_type": "display_data"
    }
   ],
   "source": [
    "log_cm_train = metrics.confusion_matrix( xgb_train_pred.actual,\n",
    "                                 xgb_train_pred.predicted)\n",
    "sns.heatmap(log_cm_train, annot=True,\n",
    "         fmt='.2f',\n",
    "         xticklabels = ['Response', \"No Response\"] , yticklabels = ['Response', \"No Response\"] )\n",
    "\n",
    "plt.ylabel('True label')\n",
    "plt.xlabel('Predicted label')"
   ]
  },
  {
   "cell_type": "code",
   "execution_count": 110,
   "metadata": {
    "ExecuteTime": {
     "end_time": "2021-02-28T06:41:19.958041Z",
     "start_time": "2021-02-28T06:41:19.607062Z"
    }
   },
   "outputs": [
    {
     "data": {
      "text/plain": [
       "Text(0.5, 15.0, 'Predicted label')"
      ]
     },
     "execution_count": 110,
     "metadata": {},
     "output_type": "execute_result"
    },
    {
     "data": {
      "image/png": "[encoded data removed]",
      "text/plain": [
       "<Figure size 432x288 with 2 Axes>"
      ]
     },
     "metadata": {
      "needs_background": "light"
     },
     "output_type": "display_data"
    }
   ],
   "source": [
    "log_cm_test = metrics.confusion_matrix( xgb_test_pred.actual,\n",
    "                                 xgb_test_pred.predicted)\n",
    "sns.heatmap(log_cm_test, annot=True,\n",
    "         fmt='.2f',\n",
    "         xticklabels = [\"No Response\",\"Response\"] , yticklabels = [\"No Response\",\"Response\"] )\n",
    "\n",
    "plt.ylabel('True label')\n",
    "plt.xlabel('Predicted label')"
   ]
  },
  {
   "cell_type": "code",
   "execution_count": 111,
   "metadata": {
    "ExecuteTime": {
     "end_time": "2021-02-28T06:41:20.246928Z",
     "start_time": "2021-02-28T06:41:19.961880Z"
    }
   },
   "outputs": [
    {
     "data": {
      "text/html": [
       "<div>\n",
       "<style scoped>\n",
       "    .dataframe tbody tr th:only-of-type {\n",
       "        vertical-align: middle;\n",
       "    }\n",
       "\n",
       "    .dataframe tbody tr th {\n",
       "        vertical-align: top;\n",
       "    }\n",
       "\n",
       "    .dataframe thead th {\n",
       "        text-align: right;\n",
       "    }\n",
       "</style>\n",
       "<table border=\"1\" class=\"dataframe\">\n",
       "  <thead>\n",
       "    <tr style=\"text-align: right;\">\n",
       "      <th></th>\n",
       "      <th>actual</th>\n",
       "      <th>predicted</th>\n",
       "    </tr>\n",
       "  </thead>\n",
       "  <tbody>\n",
       "    <tr>\n",
       "      <th>17581</th>\n",
       "      <td>0</td>\n",
       "      <td>0.694342</td>\n",
       "    </tr>\n",
       "    <tr>\n",
       "      <th>6443</th>\n",
       "      <td>0</td>\n",
       "      <td>0.155690</td>\n",
       "    </tr>\n",
       "    <tr>\n",
       "      <th>30131</th>\n",
       "      <td>1</td>\n",
       "      <td>0.984826</td>\n",
       "    </tr>\n",
       "    <tr>\n",
       "      <th>4026</th>\n",
       "      <td>1</td>\n",
       "      <td>0.983770</td>\n",
       "    </tr>\n",
       "    <tr>\n",
       "      <th>19758</th>\n",
       "      <td>0</td>\n",
       "      <td>0.247222</td>\n",
       "    </tr>\n",
       "  </tbody>\n",
       "</table>\n",
       "</div>"
      ],
      "text/plain": [
       "       actual  predicted\n",
       "17581       0   0.694342\n",
       "6443        0   0.155690\n",
       "30131       1   0.984826\n",
       "4026        1   0.983770\n",
       "19758       0   0.247222"
      ]
     },
     "execution_count": 111,
     "metadata": {},
     "output_type": "execute_result"
    }
   ],
   "source": [
    "xgb_test_pred_prob = pd.DataFrame( { 'actual':  test_y,\n",
    "                            'predicted': xgb_clf.predict_proba(test_X)[:,1]  } )\n",
    "xgb_test_pred_prob.head()"
   ]
  },
  {
   "cell_type": "code",
   "execution_count": 138,
   "metadata": {
    "ExecuteTime": {
     "end_time": "2021-02-28T07:07:42.540333Z",
     "start_time": "2021-02-28T07:07:42.529364Z"
    }
   },
   "outputs": [],
   "source": [
    "final = pd.DataFrame(xgb_test_pred_prob['predicted'])"
   ]
  },
  {
   "cell_type": "code",
   "execution_count": 139,
   "metadata": {
    "ExecuteTime": {
     "end_time": "2021-02-28T07:07:59.565504Z",
     "start_time": "2021-02-28T07:07:59.560518Z"
    }
   },
   "outputs": [
    {
     "data": {
      "text/plain": [
       "(23204, 1)"
      ]
     },
     "execution_count": 139,
     "metadata": {},
     "output_type": "execute_result"
    }
   ],
   "source": [
    "final.shape"
   ]
  },
  {
   "cell_type": "code",
   "execution_count": 140,
   "metadata": {
    "ExecuteTime": {
     "end_time": "2021-02-28T07:08:15.786628Z",
     "start_time": "2021-02-28T07:08:15.776654Z"
    }
   },
   "outputs": [
    {
     "data": {
      "text/html": [
       "<div>\n",
       "<style scoped>\n",
       "    .dataframe tbody tr th:only-of-type {\n",
       "        vertical-align: middle;\n",
       "    }\n",
       "\n",
       "    .dataframe tbody tr th {\n",
       "        vertical-align: top;\n",
       "    }\n",
       "\n",
       "    .dataframe thead th {\n",
       "        text-align: right;\n",
       "    }\n",
       "</style>\n",
       "<table border=\"1\" class=\"dataframe\">\n",
       "  <thead>\n",
       "    <tr style=\"text-align: right;\">\n",
       "      <th></th>\n",
       "      <th>predicted</th>\n",
       "    </tr>\n",
       "  </thead>\n",
       "  <tbody>\n",
       "    <tr>\n",
       "      <th>17581</th>\n",
       "      <td>0.694342</td>\n",
       "    </tr>\n",
       "    <tr>\n",
       "      <th>6443</th>\n",
       "      <td>0.155690</td>\n",
       "    </tr>\n",
       "    <tr>\n",
       "      <th>30131</th>\n",
       "      <td>0.984826</td>\n",
       "    </tr>\n",
       "    <tr>\n",
       "      <th>4026</th>\n",
       "      <td>0.983770</td>\n",
       "    </tr>\n",
       "    <tr>\n",
       "      <th>19758</th>\n",
       "      <td>0.247222</td>\n",
       "    </tr>\n",
       "  </tbody>\n",
       "</table>\n",
       "</div>"
      ],
      "text/plain": [
       "       predicted\n",
       "17581   0.694342\n",
       "6443    0.155690\n",
       "30131   0.984826\n",
       "4026    0.983770\n",
       "19758   0.247222"
      ]
     },
     "execution_count": 140,
     "metadata": {},
     "output_type": "execute_result"
    }
   ],
   "source": [
    "final.head()"
   ]
  },
  {
   "cell_type": "code",
   "execution_count": 112,
   "metadata": {
    "ExecuteTime": {
     "end_time": "2021-02-28T06:44:31.150405Z",
     "start_time": "2021-02-28T06:41:20.250481Z"
    }
   },
   "outputs": [
    {
     "data": {
      "text/plain": [
       "actual             11745.000000\n",
       "predicted          13235.794511\n",
       "predicted_value        0.000000\n",
       "tp                     0.000000\n",
       "fp                     0.000000\n",
       "tn                 11459.000000\n",
       "fn                 11745.000000\n",
       "dtype: float64"
      ]
     },
     "execution_count": 112,
     "metadata": {},
     "output_type": "execute_result"
    }
   ],
   "source": [
    "## Intuition behind ROC curve - confusion matrix for each different cut-off shows trade off in sensitivity and specificity\n",
    "roc_like_df = pd.DataFrame()\n",
    "\n",
    "for cut_off in np.linspace(0,1,50):\n",
    "    xgb_test_pred_prob['predicted_value'] = xgb_test_pred_prob['predicted'].apply(lambda x: 0 if x < cut_off else 1)\n",
    "    xgb_test_pred_prob['tp'] = xgb_test_pred_prob.apply(lambda x: 1 if x['actual']==1 and x['predicted_value']==1 else 0, axis=1)\n",
    "    xgb_test_pred_prob['fp'] = xgb_test_pred_prob.apply(lambda x: 1 if x['actual']==0 and x['predicted_value']==1 else 0, axis=1)\n",
    "    xgb_test_pred_prob['tn'] = xgb_test_pred_prob.apply(lambda x: 1 if x['actual']==0 and x['predicted_value']==0 else 0, axis=1)\n",
    "    xgb_test_pred_prob['fn'] = xgb_test_pred_prob.apply(lambda x: 1 if x['actual']==1 and x['predicted_value']==0 else 0, axis=1)\n",
    "    sensitivity = xgb_test_pred_prob['tp'].sum() / (xgb_test_pred_prob['tp'].sum() + xgb_test_pred_prob['fn'].sum())\n",
    "    specificity = xgb_test_pred_prob['tn'].sum() / (xgb_test_pred_prob['tn'].sum() + xgb_test_pred_prob['fp'].sum())\n",
    "    roc_like_table = pd.DataFrame([cut_off, sensitivity, specificity]).T\n",
    "    roc_like_table.columns = ['cutoff', 'sensitivity', 'specificity']\n",
    "    roc_like_df = pd.concat([roc_like_df, roc_like_table], axis=0)\n",
    "\n",
    "xgb_test_pred_prob.sum()"
   ]
  },
  {
   "cell_type": "code",
   "execution_count": 113,
   "metadata": {
    "ExecuteTime": {
     "end_time": "2021-02-28T06:44:31.167762Z",
     "start_time": "2021-02-28T06:44:31.155079Z"
    }
   },
   "outputs": [],
   "source": [
    "\n",
    "## Finding ideal cut-off for checking if this remains same in OOS validation\n",
    "roc_like_df['total'] = roc_like_df['sensitivity'] + roc_like_df['specificity']"
   ]
  },
  {
   "cell_type": "code",
   "execution_count": 114,
   "metadata": {
    "ExecuteTime": {
     "end_time": "2021-02-28T06:44:31.305977Z",
     "start_time": "2021-02-28T06:44:31.170991Z"
    }
   },
   "outputs": [
    {
     "data": {
      "text/html": [
       "<div>\n",
       "<style scoped>\n",
       "    .dataframe tbody tr th:only-of-type {\n",
       "        vertical-align: middle;\n",
       "    }\n",
       "\n",
       "    .dataframe tbody tr th {\n",
       "        vertical-align: top;\n",
       "    }\n",
       "\n",
       "    .dataframe thead th {\n",
       "        text-align: right;\n",
       "    }\n",
       "</style>\n",
       "<table border=\"1\" class=\"dataframe\">\n",
       "  <thead>\n",
       "    <tr style=\"text-align: right;\">\n",
       "      <th></th>\n",
       "      <th>cutoff</th>\n",
       "      <th>sensitivity</th>\n",
       "      <th>specificity</th>\n",
       "      <th>total</th>\n",
       "    </tr>\n",
       "  </thead>\n",
       "  <tbody>\n",
       "    <tr>\n",
       "      <th>0</th>\n",
       "      <td>0.000000</td>\n",
       "      <td>1.000000</td>\n",
       "      <td>0.000000</td>\n",
       "      <td>1.000000</td>\n",
       "    </tr>\n",
       "    <tr>\n",
       "      <th>0</th>\n",
       "      <td>0.020408</td>\n",
       "      <td>0.978459</td>\n",
       "      <td>0.391832</td>\n",
       "      <td>1.370291</td>\n",
       "    </tr>\n",
       "    <tr>\n",
       "      <th>0</th>\n",
       "      <td>0.040816</td>\n",
       "      <td>0.968327</td>\n",
       "      <td>0.468453</td>\n",
       "      <td>1.436780</td>\n",
       "    </tr>\n",
       "    <tr>\n",
       "      <th>0</th>\n",
       "      <td>0.061224</td>\n",
       "      <td>0.964070</td>\n",
       "      <td>0.515665</td>\n",
       "      <td>1.479734</td>\n",
       "    </tr>\n",
       "    <tr>\n",
       "      <th>0</th>\n",
       "      <td>0.081633</td>\n",
       "      <td>0.961345</td>\n",
       "      <td>0.553713</td>\n",
       "      <td>1.515058</td>\n",
       "    </tr>\n",
       "    <tr>\n",
       "      <th>0</th>\n",
       "      <td>0.102041</td>\n",
       "      <td>0.958365</td>\n",
       "      <td>0.580330</td>\n",
       "      <td>1.538695</td>\n",
       "    </tr>\n",
       "    <tr>\n",
       "      <th>0</th>\n",
       "      <td>0.122449</td>\n",
       "      <td>0.955556</td>\n",
       "      <td>0.603979</td>\n",
       "      <td>1.559535</td>\n",
       "    </tr>\n",
       "    <tr>\n",
       "      <th>0</th>\n",
       "      <td>0.142857</td>\n",
       "      <td>0.953257</td>\n",
       "      <td>0.623440</td>\n",
       "      <td>1.576697</td>\n",
       "    </tr>\n",
       "    <tr>\n",
       "      <th>0</th>\n",
       "      <td>0.163265</td>\n",
       "      <td>0.951043</td>\n",
       "      <td>0.637839</td>\n",
       "      <td>1.588882</td>\n",
       "    </tr>\n",
       "    <tr>\n",
       "      <th>0</th>\n",
       "      <td>0.183673</td>\n",
       "      <td>0.949085</td>\n",
       "      <td>0.654856</td>\n",
       "      <td>1.603941</td>\n",
       "    </tr>\n",
       "    <tr>\n",
       "      <th>0</th>\n",
       "      <td>0.204082</td>\n",
       "      <td>0.947126</td>\n",
       "      <td>0.667248</td>\n",
       "      <td>1.614375</td>\n",
       "    </tr>\n",
       "    <tr>\n",
       "      <th>0</th>\n",
       "      <td>0.224490</td>\n",
       "      <td>0.945849</td>\n",
       "      <td>0.680164</td>\n",
       "      <td>1.626013</td>\n",
       "    </tr>\n",
       "    <tr>\n",
       "      <th>0</th>\n",
       "      <td>0.244898</td>\n",
       "      <td>0.943976</td>\n",
       "      <td>0.692294</td>\n",
       "      <td>1.636270</td>\n",
       "    </tr>\n",
       "    <tr>\n",
       "      <th>0</th>\n",
       "      <td>0.265306</td>\n",
       "      <td>0.942444</td>\n",
       "      <td>0.702243</td>\n",
       "      <td>1.644686</td>\n",
       "    </tr>\n",
       "    <tr>\n",
       "      <th>0</th>\n",
       "      <td>0.285714</td>\n",
       "      <td>0.940826</td>\n",
       "      <td>0.711842</td>\n",
       "      <td>1.652668</td>\n",
       "    </tr>\n",
       "    <tr>\n",
       "      <th>0</th>\n",
       "      <td>0.306122</td>\n",
       "      <td>0.939293</td>\n",
       "      <td>0.721616</td>\n",
       "      <td>1.660910</td>\n",
       "    </tr>\n",
       "    <tr>\n",
       "      <th>0</th>\n",
       "      <td>0.326531</td>\n",
       "      <td>0.938101</td>\n",
       "      <td>0.730517</td>\n",
       "      <td>1.668619</td>\n",
       "    </tr>\n",
       "    <tr>\n",
       "      <th>0</th>\n",
       "      <td>0.346939</td>\n",
       "      <td>0.937335</td>\n",
       "      <td>0.738372</td>\n",
       "      <td>1.675707</td>\n",
       "    </tr>\n",
       "    <tr>\n",
       "      <th>0</th>\n",
       "      <td>0.367347</td>\n",
       "      <td>0.936909</td>\n",
       "      <td>0.746749</td>\n",
       "      <td>1.683659</td>\n",
       "    </tr>\n",
       "    <tr>\n",
       "      <th>0</th>\n",
       "      <td>0.387755</td>\n",
       "      <td>0.935973</td>\n",
       "      <td>0.755127</td>\n",
       "      <td>1.691100</td>\n",
       "    </tr>\n",
       "    <tr>\n",
       "      <th>0</th>\n",
       "      <td>0.408163</td>\n",
       "      <td>0.935206</td>\n",
       "      <td>0.762632</td>\n",
       "      <td>1.697838</td>\n",
       "    </tr>\n",
       "    <tr>\n",
       "      <th>0</th>\n",
       "      <td>0.428571</td>\n",
       "      <td>0.934355</td>\n",
       "      <td>0.770486</td>\n",
       "      <td>1.704841</td>\n",
       "    </tr>\n",
       "    <tr>\n",
       "      <th>0</th>\n",
       "      <td>0.448980</td>\n",
       "      <td>0.934014</td>\n",
       "      <td>0.778078</td>\n",
       "      <td>1.712093</td>\n",
       "    </tr>\n",
       "    <tr>\n",
       "      <th>0</th>\n",
       "      <td>0.469388</td>\n",
       "      <td>0.932652</td>\n",
       "      <td>0.784798</td>\n",
       "      <td>1.717450</td>\n",
       "    </tr>\n",
       "    <tr>\n",
       "      <th>0</th>\n",
       "      <td>0.489796</td>\n",
       "      <td>0.931460</td>\n",
       "      <td>0.791256</td>\n",
       "      <td>1.722716</td>\n",
       "    </tr>\n",
       "    <tr>\n",
       "      <th>0</th>\n",
       "      <td>0.510204</td>\n",
       "      <td>0.930438</td>\n",
       "      <td>0.796928</td>\n",
       "      <td>1.727367</td>\n",
       "    </tr>\n",
       "    <tr>\n",
       "      <th>0</th>\n",
       "      <td>0.530612</td>\n",
       "      <td>0.930268</td>\n",
       "      <td>0.804084</td>\n",
       "      <td>1.734352</td>\n",
       "    </tr>\n",
       "    <tr>\n",
       "      <th>0</th>\n",
       "      <td>0.551020</td>\n",
       "      <td>0.929502</td>\n",
       "      <td>0.810804</td>\n",
       "      <td>1.740306</td>\n",
       "    </tr>\n",
       "    <tr>\n",
       "      <th>0</th>\n",
       "      <td>0.571429</td>\n",
       "      <td>0.928991</td>\n",
       "      <td>0.817349</td>\n",
       "      <td>1.746340</td>\n",
       "    </tr>\n",
       "    <tr>\n",
       "      <th>0</th>\n",
       "      <td>0.591837</td>\n",
       "      <td>0.928140</td>\n",
       "      <td>0.824068</td>\n",
       "      <td>1.752208</td>\n",
       "    </tr>\n",
       "    <tr>\n",
       "      <th>0</th>\n",
       "      <td>0.612245</td>\n",
       "      <td>0.926862</td>\n",
       "      <td>0.829566</td>\n",
       "      <td>1.756429</td>\n",
       "    </tr>\n",
       "    <tr>\n",
       "      <th>0</th>\n",
       "      <td>0.632653</td>\n",
       "      <td>0.926181</td>\n",
       "      <td>0.836199</td>\n",
       "      <td>1.762380</td>\n",
       "    </tr>\n",
       "    <tr>\n",
       "      <th>0</th>\n",
       "      <td>0.653061</td>\n",
       "      <td>0.924308</td>\n",
       "      <td>0.843267</td>\n",
       "      <td>1.767576</td>\n",
       "    </tr>\n",
       "    <tr>\n",
       "      <th>0</th>\n",
       "      <td>0.673469</td>\n",
       "      <td>0.923542</td>\n",
       "      <td>0.849027</td>\n",
       "      <td>1.772569</td>\n",
       "    </tr>\n",
       "    <tr>\n",
       "      <th>0</th>\n",
       "      <td>0.693878</td>\n",
       "      <td>0.921754</td>\n",
       "      <td>0.855921</td>\n",
       "      <td>1.777675</td>\n",
       "    </tr>\n",
       "    <tr>\n",
       "      <th>0</th>\n",
       "      <td>0.714286</td>\n",
       "      <td>0.920988</td>\n",
       "      <td>0.863077</td>\n",
       "      <td>1.784065</td>\n",
       "    </tr>\n",
       "    <tr>\n",
       "      <th>0</th>\n",
       "      <td>0.734694</td>\n",
       "      <td>0.918859</td>\n",
       "      <td>0.868837</td>\n",
       "      <td>1.787696</td>\n",
       "    </tr>\n",
       "    <tr>\n",
       "      <th>0</th>\n",
       "      <td>0.755102</td>\n",
       "      <td>0.916731</td>\n",
       "      <td>0.875120</td>\n",
       "      <td>1.791851</td>\n",
       "    </tr>\n",
       "    <tr>\n",
       "      <th>0</th>\n",
       "      <td>0.775510</td>\n",
       "      <td>0.913836</td>\n",
       "      <td>0.882450</td>\n",
       "      <td>1.796286</td>\n",
       "    </tr>\n",
       "    <tr>\n",
       "      <th>0</th>\n",
       "      <td>0.795918</td>\n",
       "      <td>0.910430</td>\n",
       "      <td>0.888385</td>\n",
       "      <td>1.798815</td>\n",
       "    </tr>\n",
       "    <tr>\n",
       "      <th>0</th>\n",
       "      <td>0.816327</td>\n",
       "      <td>0.905492</td>\n",
       "      <td>0.895541</td>\n",
       "      <td>1.801032</td>\n",
       "    </tr>\n",
       "    <tr>\n",
       "      <th>0</th>\n",
       "      <td>0.836735</td>\n",
       "      <td>0.898765</td>\n",
       "      <td>0.902522</td>\n",
       "      <td>1.801287</td>\n",
       "    </tr>\n",
       "    <tr>\n",
       "      <th>0</th>\n",
       "      <td>0.857143</td>\n",
       "      <td>0.891613</td>\n",
       "      <td>0.910027</td>\n",
       "      <td>1.801641</td>\n",
       "    </tr>\n",
       "    <tr>\n",
       "      <th>0</th>\n",
       "      <td>0.877551</td>\n",
       "      <td>0.880375</td>\n",
       "      <td>0.918317</td>\n",
       "      <td>1.798692</td>\n",
       "    </tr>\n",
       "    <tr>\n",
       "      <th>0</th>\n",
       "      <td>0.897959</td>\n",
       "      <td>0.858323</td>\n",
       "      <td>0.926695</td>\n",
       "      <td>1.785018</td>\n",
       "    </tr>\n",
       "    <tr>\n",
       "      <th>0</th>\n",
       "      <td>0.918367</td>\n",
       "      <td>0.820434</td>\n",
       "      <td>0.935684</td>\n",
       "      <td>1.756118</td>\n",
       "    </tr>\n",
       "    <tr>\n",
       "      <th>0</th>\n",
       "      <td>0.938776</td>\n",
       "      <td>0.756748</td>\n",
       "      <td>0.946156</td>\n",
       "      <td>1.702903</td>\n",
       "    </tr>\n",
       "    <tr>\n",
       "      <th>0</th>\n",
       "      <td>0.959184</td>\n",
       "      <td>0.646488</td>\n",
       "      <td>0.958897</td>\n",
       "      <td>1.605385</td>\n",
       "    </tr>\n",
       "    <tr>\n",
       "      <th>0</th>\n",
       "      <td>0.979592</td>\n",
       "      <td>0.423244</td>\n",
       "      <td>0.973383</td>\n",
       "      <td>1.396627</td>\n",
       "    </tr>\n",
       "    <tr>\n",
       "      <th>0</th>\n",
       "      <td>1.000000</td>\n",
       "      <td>0.000000</td>\n",
       "      <td>1.000000</td>\n",
       "      <td>1.000000</td>\n",
       "    </tr>\n",
       "  </tbody>\n",
       "</table>\n",
       "</div>"
      ],
      "text/plain": [
       "     cutoff  sensitivity  specificity     total\n",
       "0  0.000000     1.000000     0.000000  1.000000\n",
       "0  0.020408     0.978459     0.391832  1.370291\n",
       "0  0.040816     0.968327     0.468453  1.436780\n",
       "0  0.061224     0.964070     0.515665  1.479734\n",
       "0  0.081633     0.961345     0.553713  1.515058\n",
       "0  0.102041     0.958365     0.580330  1.538695\n",
       "0  0.122449     0.955556     0.603979  1.559535\n",
       "0  0.142857     0.953257     0.623440  1.576697\n",
       "0  0.163265     0.951043     0.637839  1.588882\n",
       "0  0.183673     0.949085     0.654856  1.603941\n",
       "0  0.204082     0.947126     0.667248  1.614375\n",
       "0  0.224490     0.945849     0.680164  1.626013\n",
       "0  0.244898     0.943976     0.692294  1.636270\n",
       "0  0.265306     0.942444     0.702243  1.644686\n",
       "0  0.285714     0.940826     0.711842  1.652668\n",
       "0  0.306122     0.939293     0.721616  1.660910\n",
       "0  0.326531     0.938101     0.730517  1.668619\n",
       "0  0.346939     0.937335     0.738372  1.675707\n",
       "0  0.367347     0.936909     0.746749  1.683659\n",
       "0  0.387755     0.935973     0.755127  1.691100\n",
       "0  0.408163     0.935206     0.762632  1.697838\n",
       "0  0.428571     0.934355     0.770486  1.704841\n",
       "0  0.448980     0.934014     0.778078  1.712093\n",
       "0  0.469388     0.932652     0.784798  1.717450\n",
       "0  0.489796     0.931460     0.791256  1.722716\n",
       "0  0.510204     0.930438     0.796928  1.727367\n",
       "0  0.530612     0.930268     0.804084  1.734352\n",
       "0  0.551020     0.929502     0.810804  1.740306\n",
       "0  0.571429     0.928991     0.817349  1.746340\n",
       "0  0.591837     0.928140     0.824068  1.752208\n",
       "0  0.612245     0.926862     0.829566  1.756429\n",
       "0  0.632653     0.926181     0.836199  1.762380\n",
       "0  0.653061     0.924308     0.843267  1.767576\n",
       "0  0.673469     0.923542     0.849027  1.772569\n",
       "0  0.693878     0.921754     0.855921  1.777675\n",
       "0  0.714286     0.920988     0.863077  1.784065\n",
       "0  0.734694     0.918859     0.868837  1.787696\n",
       "0  0.755102     0.916731     0.875120  1.791851\n",
       "0  0.775510     0.913836     0.882450  1.796286\n",
       "0  0.795918     0.910430     0.888385  1.798815\n",
       "0  0.816327     0.905492     0.895541  1.801032\n",
       "0  0.836735     0.898765     0.902522  1.801287\n",
       "0  0.857143     0.891613     0.910027  1.801641\n",
       "0  0.877551     0.880375     0.918317  1.798692\n",
       "0  0.897959     0.858323     0.926695  1.785018\n",
       "0  0.918367     0.820434     0.935684  1.756118\n",
       "0  0.938776     0.756748     0.946156  1.702903\n",
       "0  0.959184     0.646488     0.958897  1.605385\n",
       "0  0.979592     0.423244     0.973383  1.396627\n",
       "0  1.000000     0.000000     1.000000  1.000000"
      ]
     },
     "execution_count": 114,
     "metadata": {},
     "output_type": "execute_result"
    }
   ],
   "source": [
    "roc_like_df\n"
   ]
  },
  {
   "cell_type": "code",
   "execution_count": 115,
   "metadata": {
    "ExecuteTime": {
     "end_time": "2021-02-28T06:44:32.052513Z",
     "start_time": "2021-02-28T06:44:31.310501Z"
    }
   },
   "outputs": [],
   "source": [
    "xgb_train_pred = pd.DataFrame( { 'actual':  train_y,\n",
    "                            'prob': xgb_clf.predict_proba(train_X)[:,1] } )\n",
    "xgb_train_pred['predicted'] = xgb_train_pred['prob'].apply(lambda x: 1 if x > 0.836735 else 0)"
   ]
  },
  {
   "cell_type": "code",
   "execution_count": 116,
   "metadata": {
    "ExecuteTime": {
     "end_time": "2021-02-28T06:44:32.311962Z",
     "start_time": "2021-02-28T06:44:32.054509Z"
    }
   },
   "outputs": [],
   "source": [
    "xgb_test_pred = pd.DataFrame( { 'actual':  test_y,\n",
    "                            'prob':  xgb_clf.predict_proba(test_X)[:,1] } )\n",
    "xgb_test_pred['predicted'] = xgb_test_pred['prob'].apply(lambda x: 1 if x > 0.836735 else 0)"
   ]
  },
  {
   "cell_type": "code",
   "execution_count": 117,
   "metadata": {
    "ExecuteTime": {
     "end_time": "2021-02-28T06:44:32.743905Z",
     "start_time": "2021-02-28T06:44:32.313879Z"
    }
   },
   "outputs": [
    {
     "data": {
      "text/plain": [
       "Text(0.5, 15.0, 'Predicted label')"
      ]
     },
     "execution_count": 117,
     "metadata": {},
     "output_type": "execute_result"
    },
    {
     "data": {
      "image/png": "[encoded data removed]",
      "text/plain": [
       "<Figure size 432x288 with 2 Axes>"
      ]
     },
     "metadata": {
      "needs_background": "light"
     },
     "output_type": "display_data"
    }
   ],
   "source": [
    "log_cm_train = metrics.confusion_matrix( xgb_train_pred.actual,\n",
    "                                 xgb_train_pred.predicted)\n",
    "sns.heatmap(log_cm_train, annot=True,\n",
    "         fmt='.2f',\n",
    "         xticklabels = [\"No Response\",\"Response\"] , yticklabels = [\"No Response\",\"Response\"] )\n",
    "\n",
    "plt.ylabel('True label')\n",
    "plt.xlabel('Predicted label')"
   ]
  },
  {
   "cell_type": "code",
   "execution_count": 118,
   "metadata": {
    "ExecuteTime": {
     "end_time": "2021-02-28T06:44:32.861340Z",
     "start_time": "2021-02-28T06:44:32.748743Z"
    }
   },
   "outputs": [],
   "source": [
    "tn, fp, fn, tp =  metrics.confusion_matrix( xgb_train_pred.actual,xgb_train_pred.predicted).ravel()"
   ]
  },
  {
   "cell_type": "code",
   "execution_count": 119,
   "metadata": {
    "ExecuteTime": {
     "end_time": "2021-02-28T06:44:32.882267Z",
     "start_time": "2021-02-28T06:44:32.865330Z"
    }
   },
   "outputs": [
    {
     "name": "stdout",
     "output_type": "stream",
     "text": [
      "The Senstivity for train is : 0.9937611408199644\n",
      "The Specificity for train is : 1.0\n"
     ]
    }
   ],
   "source": [
    "# For train\n",
    "Sens_train = tp/(tp+fn)\n",
    "Spec_train = tn/(tn+fp)\n",
    "print(\"The Senstivity for train is :\",Sens_train)\n",
    "print(\"The Specificity for train is :\",Spec_train)"
   ]
  },
  {
   "cell_type": "code",
   "execution_count": 120,
   "metadata": {
    "ExecuteTime": {
     "end_time": "2021-02-28T06:44:33.472074Z",
     "start_time": "2021-02-28T06:44:32.886169Z"
    }
   },
   "outputs": [
    {
     "data": {
      "text/plain": [
       "Text(0.5, 15.0, 'Predicted label')"
      ]
     },
     "execution_count": 120,
     "metadata": {},
     "output_type": "execute_result"
    },
    {
     "data": {
      "image/png": "[encoded data removed]",
      "text/plain": [
       "<Figure size 432x288 with 2 Axes>"
      ]
     },
     "metadata": {
      "needs_background": "light"
     },
     "output_type": "display_data"
    }
   ],
   "source": [
    "log_cm_test = metrics.confusion_matrix( xgb_test_pred.actual,\n",
    "                                 xgb_test_pred.predicted)\n",
    "sns.heatmap(log_cm_test, annot=True,\n",
    "         fmt='.2f',\n",
    "         xticklabels = [\"No Response\",\"Response\"] , yticklabels = [\"No Response\",\"Response\"] )\n",
    "\n",
    "plt.ylabel('True label')\n",
    "plt.xlabel('Predicted label')"
   ]
  },
  {
   "cell_type": "code",
   "execution_count": 121,
   "metadata": {
    "ExecuteTime": {
     "end_time": "2021-02-28T06:44:33.526516Z",
     "start_time": "2021-02-28T06:44:33.474069Z"
    }
   },
   "outputs": [],
   "source": [
    "\n",
    "tn, fp, fn, tp =  metrics.confusion_matrix( xgb_test_pred.actual,xgb_test_pred.predicted).ravel()"
   ]
  },
  {
   "cell_type": "code",
   "execution_count": 122,
   "metadata": {
    "ExecuteTime": {
     "end_time": "2021-02-28T06:44:33.583957Z",
     "start_time": "2021-02-28T06:44:33.529949Z"
    }
   },
   "outputs": [
    {
     "name": "stdout",
     "output_type": "stream",
     "text": [
      "The Senstivity for train is : 0.8987654320987655\n",
      "The Specificity for train is : 0.9025220350815952\n"
     ]
    }
   ],
   "source": [
    "# For train\n",
    "Sens_test = tp/(tp+fn)\n",
    "Spec_test = tn/(tn+fp)\n",
    "print(\"The Senstivity for train is :\",Sens_test)\n",
    "print(\"The Specificity for train is :\",Spec_test)"
   ]
  },
  {
   "cell_type": "code",
   "execution_count": 123,
   "metadata": {
    "ExecuteTime": {
     "end_time": "2021-02-28T06:44:33.659385Z",
     "start_time": "2021-02-28T06:44:33.588350Z"
    }
   },
   "outputs": [],
   "source": [
    "from sklearn.model_selection import RandomizedSearchCV"
   ]
  },
  {
   "cell_type": "code",
   "execution_count": 124,
   "metadata": {
    "ExecuteTime": {
     "end_time": "2021-02-28T06:44:33.747299Z",
     "start_time": "2021-02-28T06:44:33.663297Z"
    }
   },
   "outputs": [],
   "source": [
    "# define search space\n",
    "space = dict()\n",
    "space['learning_rate'] = [0.1,1,10]\n",
    "space[ 'n_estimators'] = [400,600,800]"
   ]
  },
  {
   "cell_type": "code",
   "execution_count": 125,
   "metadata": {
    "ExecuteTime": {
     "end_time": "2021-02-28T06:44:33.826031Z",
     "start_time": "2021-02-28T06:44:33.750247Z"
    }
   },
   "outputs": [],
   "source": [
    "from sklearn.ensemble import AdaBoostClassifier"
   ]
  },
  {
   "cell_type": "code",
   "execution_count": 126,
   "metadata": {
    "ExecuteTime": {
     "end_time": "2021-02-28T06:44:33.908736Z",
     "start_time": "2021-02-28T06:44:33.829644Z"
    }
   },
   "outputs": [],
   "source": [
    "gscv_ada = AdaBoostClassifier()\n"
   ]
  },
  {
   "cell_type": "code",
   "execution_count": 127,
   "metadata": {
    "ExecuteTime": {
     "end_time": "2021-02-28T06:44:34.009323Z",
     "start_time": "2021-02-28T06:44:33.911732Z"
    }
   },
   "outputs": [],
   "source": [
    "search_ada = RandomizedSearchCV(gscv_ada, space, n_jobs=-1, cv=5, random_state=1)"
   ]
  },
  {
   "cell_type": "code",
   "execution_count": 128,
   "metadata": {
    "ExecuteTime": {
     "end_time": "2021-02-28T06:59:16.784260Z",
     "start_time": "2021-02-28T06:44:34.011350Z"
    }
   },
   "outputs": [
    {
     "name": "stderr",
     "output_type": "stream",
     "text": [
      "C:\\Users\\Anup w\\anaconda3\\lib\\site-packages\\sklearn\\model_selection\\_search.py:278: UserWarning: The total space of parameters 9 is smaller than n_iter=10. Running 9 iterations. For exhaustive searches, use GridSearchCV.\n",
      "  warnings.warn(\n"
     ]
    }
   ],
   "source": [
    "# execute search\n",
    "result_ada = search_ada.fit(train_X, train_y)"
   ]
  },
  {
   "cell_type": "code",
   "execution_count": 129,
   "metadata": {
    "ExecuteTime": {
     "end_time": "2021-02-28T06:59:16.799490Z",
     "start_time": "2021-02-28T06:59:16.784260Z"
    }
   },
   "outputs": [
    {
     "name": "stdout",
     "output_type": "stream",
     "text": [
      "Best Score: 0.5839645135994781\n",
      "Best Hyperparameters: {'n_estimators': 800, 'learning_rate': 1}\n"
     ]
    }
   ],
   "source": [
    "# summarize result\n",
    "print('Best Score: %s' % result_ada.best_score_)\n",
    "print('Best Hyperparameters: %s' % result_ada.best_params_)"
   ]
  },
  {
   "cell_type": "code",
   "execution_count": 130,
   "metadata": {
    "ExecuteTime": {
     "end_time": "2021-02-28T06:59:49.382571Z",
     "start_time": "2021-02-28T06:59:16.805481Z"
    }
   },
   "outputs": [
    {
     "data": {
      "text/plain": [
       "AdaBoostClassifier(learning_rate=1, n_estimators=400)"
      ]
     },
     "execution_count": 130,
     "metadata": {},
     "output_type": "execute_result"
    }
   ],
   "source": [
    "gscv_ada = AdaBoostClassifier(learning_rate=1, n_estimators=400)\n",
    "gscv_ada.fit(train_X, train_y)"
   ]
  },
  {
   "cell_type": "code",
   "execution_count": 131,
   "metadata": {
    "ExecuteTime": {
     "end_time": "2021-02-28T07:00:00.694074Z",
     "start_time": "2021-02-28T06:59:49.384678Z"
    }
   },
   "outputs": [
    {
     "name": "stdout",
     "output_type": "stream",
     "text": [
      "The Gini Index for the model built on the Train Data is :  0.1797158061186308\n",
      "The Gini Index for the model built on the Test Data is :  0.17332026956304625\n"
     ]
    }
   ],
   "source": [
    "\n",
    "train_gini = 2*metrics.roc_auc_score(train_y, gscv_ada.predict(train_X)) - 1\n",
    "print(\"The Gini Index for the model built on the Train Data is : \", train_gini)\n",
    "\n",
    "test_gini = 2*metrics.roc_auc_score(test_y, gscv_ada.predict(test_X)) - 1\n",
    "print(\"The Gini Index for the model built on the Test Data is : \", test_gini)"
   ]
  },
  {
   "cell_type": "code",
   "execution_count": 141,
   "metadata": {
    "ExecuteTime": {
     "end_time": "2021-02-28T07:08:42.524036Z",
     "start_time": "2021-02-28T07:08:42.458204Z"
    }
   },
   "outputs": [],
   "source": [
    "finalsub= pd.DataFrame(final, columns=['predicted']).to_csv('finalsubmission.csv')"
   ]
  },
  {
   "cell_type": "code",
   "execution_count": 144,
   "metadata": {
    "ExecuteTime": {
     "end_time": "2021-02-28T07:14:03.115454Z",
     "start_time": "2021-02-28T07:14:03.067570Z"
    }
   },
   "outputs": [],
   "source": [
    "sub=pd.read_csv(\"sample_submission_QrCyCoT.csv\")"
   ]
  },
  {
   "cell_type": "code",
   "execution_count": 147,
   "metadata": {
    "ExecuteTime": {
     "end_time": "2021-02-28T07:14:49.746080Z",
     "start_time": "2021-02-28T07:14:49.738069Z"
    }
   },
   "outputs": [
    {
     "data": {
      "text/html": [
       "<div>\n",
       "<style scoped>\n",
       "    .dataframe tbody tr th:only-of-type {\n",
       "        vertical-align: middle;\n",
       "    }\n",
       "\n",
       "    .dataframe tbody tr th {\n",
       "        vertical-align: top;\n",
       "    }\n",
       "\n",
       "    .dataframe thead th {\n",
       "        text-align: right;\n",
       "    }\n",
       "</style>\n",
       "<table border=\"1\" class=\"dataframe\">\n",
       "  <thead>\n",
       "    <tr style=\"text-align: right;\">\n",
       "      <th></th>\n",
       "      <th>ID</th>\n",
       "      <th>Response</th>\n",
       "    </tr>\n",
       "  </thead>\n",
       "  <tbody>\n",
       "    <tr>\n",
       "      <th>0</th>\n",
       "      <td>50883</td>\n",
       "      <td>0</td>\n",
       "    </tr>\n",
       "    <tr>\n",
       "      <th>1</th>\n",
       "      <td>50884</td>\n",
       "      <td>0</td>\n",
       "    </tr>\n",
       "    <tr>\n",
       "      <th>2</th>\n",
       "      <td>50885</td>\n",
       "      <td>0</td>\n",
       "    </tr>\n",
       "    <tr>\n",
       "      <th>3</th>\n",
       "      <td>50886</td>\n",
       "      <td>0</td>\n",
       "    </tr>\n",
       "    <tr>\n",
       "      <th>4</th>\n",
       "      <td>50887</td>\n",
       "      <td>0</td>\n",
       "    </tr>\n",
       "  </tbody>\n",
       "</table>\n",
       "</div>"
      ],
      "text/plain": [
       "      ID  Response\n",
       "0  50883         0\n",
       "1  50884         0\n",
       "2  50885         0\n",
       "3  50886         0\n",
       "4  50887         0"
      ]
     },
     "execution_count": 147,
     "metadata": {},
     "output_type": "execute_result"
    }
   ],
   "source": [
    "sub.head()"
   ]
  },
  {
   "cell_type": "code",
   "execution_count": null,
   "metadata": {},
   "outputs": [],
   "source": []
  },
  {
   "cell_type": "code",
   "execution_count": 148,
   "metadata": {
    "ExecuteTime": {
     "end_time": "2021-02-28T07:15:42.140746Z",
     "start_time": "2021-02-28T07:15:26.034241Z"
    }
   },
   "outputs": [],
   "source": [
    "data = pd.DataFrame(sub['ID'],final.predicted)"
   ]
  },
  {
   "cell_type": "code",
   "execution_count": 149,
   "metadata": {
    "ExecuteTime": {
     "end_time": "2021-02-28T07:15:44.174951Z",
     "start_time": "2021-02-28T07:15:44.162937Z"
    }
   },
   "outputs": [
    {
     "data": {
      "text/html": [
       "<div>\n",
       "<style scoped>\n",
       "    .dataframe tbody tr th:only-of-type {\n",
       "        vertical-align: middle;\n",
       "    }\n",
       "\n",
       "    .dataframe tbody tr th {\n",
       "        vertical-align: top;\n",
       "    }\n",
       "\n",
       "    .dataframe thead th {\n",
       "        text-align: right;\n",
       "    }\n",
       "</style>\n",
       "<table border=\"1\" class=\"dataframe\">\n",
       "  <thead>\n",
       "    <tr style=\"text-align: right;\">\n",
       "      <th></th>\n",
       "      <th>ID</th>\n",
       "    </tr>\n",
       "    <tr>\n",
       "      <th>predicted</th>\n",
       "      <th></th>\n",
       "    </tr>\n",
       "  </thead>\n",
       "  <tbody>\n",
       "    <tr>\n",
       "      <th>0.694342</th>\n",
       "      <td>NaN</td>\n",
       "    </tr>\n",
       "    <tr>\n",
       "      <th>0.155690</th>\n",
       "      <td>NaN</td>\n",
       "    </tr>\n",
       "    <tr>\n",
       "      <th>0.984826</th>\n",
       "      <td>NaN</td>\n",
       "    </tr>\n",
       "    <tr>\n",
       "      <th>0.983770</th>\n",
       "      <td>NaN</td>\n",
       "    </tr>\n",
       "    <tr>\n",
       "      <th>0.247222</th>\n",
       "      <td>NaN</td>\n",
       "    </tr>\n",
       "  </tbody>\n",
       "</table>\n",
       "</div>"
      ],
      "text/plain": [
       "           ID\n",
       "predicted    \n",
       "0.694342  NaN\n",
       "0.155690  NaN\n",
       "0.984826  NaN\n",
       "0.983770  NaN\n",
       "0.247222  NaN"
      ]
     },
     "execution_count": 149,
     "metadata": {},
     "output_type": "execute_result"
    }
   ],
   "source": [
    "data.head()"
   ]
  },
  {
   "cell_type": "code",
   "execution_count": 150,
   "metadata": {
    "ExecuteTime": {
     "end_time": "2021-02-28T07:16:54.389555Z",
     "start_time": "2021-02-28T07:16:54.301788Z"
    }
   },
   "outputs": [],
   "source": [
    "finalsub1= pd.DataFrame(data, columns=['predicted']).to_csv('finalsubmission1.csv')"
   ]
  },
  {
   "cell_type": "code",
   "execution_count": null,
   "metadata": {},
   "outputs": [],
   "source": []
  }
 ],
 "metadata": {
  "kernelspec": {
   "display_name": "Python 3",
   "language": "python",
   "name": "python3"
  },
  "language_info": {
   "codemirror_mode": {
    "name": "ipython",
    "version": 3
   },
   "file_extension": ".py",
   "mimetype": "text/x-python",
   "name": "python",
   "nbconvert_exporter": "python",
   "pygments_lexer": "ipython3",
   "version": "3.8.3"
  },
  "varInspector": {
   "cols": {
    "lenName": 16,
    "lenType": 16,
    "lenVar": 40
   },
   "kernels_config": {
    "python": {
     "delete_cmd_postfix": "",
     "delete_cmd_prefix": "del ",
     "library": "var_list.py",
     "varRefreshCmd": "print(var_dic_list())"
    },
    "r": {
     "delete_cmd_postfix": ") ",
     "delete_cmd_prefix": "rm(",
     "library": "var_list.r",
     "varRefreshCmd": "cat(var_dic_list()) "
    }
   },
   "types_to_exclude": [
    "module",
    "function",
    "builtin_function_or_method",
    "instance",
    "_Feature"
   ],
   "window_display": false
  }
 },
 "nbformat": 4,
 "nbformat_minor": 4
}
